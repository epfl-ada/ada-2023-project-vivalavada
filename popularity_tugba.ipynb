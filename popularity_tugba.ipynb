{
 "cells": [
  {
   "cell_type": "code",
   "execution_count": 119,
   "id": "initial_id",
   "metadata": {
    "collapsed": true,
    "ExecuteTime": {
     "end_time": "2023-11-09T23:24:36.892105600Z",
     "start_time": "2023-11-09T23:24:36.731213800Z"
    }
   },
   "outputs": [
    {
     "name": "stdout",
     "output_type": "stream",
     "text": [
      "The autoreload extension is already loaded. To reload it, use:\n",
      "  %reload_ext autoreload\n"
     ]
    }
   ],
   "source": [
    "from helpers import *\n",
    "import pickle\n",
    "import pandas as pd\n",
    "import numpy as np\n",
    "%load_ext autoreload\n",
    "%autoreload 2"
   ]
  },
  {
   "cell_type": "code",
   "execution_count": 116,
   "outputs": [],
   "source": [
    "with open(\"dataset/RateBeer/ratings_reviews.pickle\", 'rb') as file:\n",
    "    ratings = pickle.load(file)"
   ],
   "metadata": {
    "collapsed": false,
    "ExecuteTime": {
     "end_time": "2023-11-09T22:39:40.522790500Z",
     "start_time": "2023-11-09T22:39:19.870479Z"
    }
   },
   "id": "7de37dd683bfbb05"
  },
  {
   "cell_type": "code",
   "execution_count": 95,
   "outputs": [],
   "source": [
    "breweries = pd.read_csv(\"dataset/RateBeer/breweries.csv\")\n",
    "users = pd.read_csv(\"dataset/RateBeer/users.csv\")"
   ],
   "metadata": {
    "collapsed": false,
    "ExecuteTime": {
     "end_time": "2023-11-09T22:14:21.959362300Z",
     "start_time": "2023-11-09T22:14:21.763122400Z"
    }
   },
   "id": "d194cf35b6b8fdd9"
  },
  {
   "cell_type": "code",
   "execution_count": 104,
   "outputs": [
    {
     "data": {
      "text/plain": "       location           brewery_location  number  total_loc_number  \\\n0     Australia                    Albania       5              6255   \n2     Australia                  Australia    1967              6255   \n3     Australia                    Austria     106              6255   \n5     Australia                    Belgium     704              6255   \n7     Australia                     Brazil      16              6255   \n...         ...                        ...     ...               ...   \n6495  Venezuela  United States, California      15               397   \n6497  Venezuela      United States, Hawaii       7               397   \n6499  Venezuela    United States, Michigan       6               397   \n6500  Venezuela    United States, New York       8               397   \n6502  Venezuela      United States, Oregon      25               397   \n\n      popularity_percentage  mean_rating  location_mean  location_std  \\\n0                  0.079936     1.800000       3.164796      0.706110   \n2                 31.446843     3.006406       3.164796      0.706110   \n3                  1.694644     2.933019       3.164796      0.706110   \n5                 11.254996     3.419318       3.164796      0.706110   \n7                  0.255795     2.500000       3.164796      0.706110   \n...                     ...          ...            ...           ...   \n6495               3.778338     3.773333       3.021914      0.748263   \n6497               1.763224     3.157143       3.021914      0.748263   \n6499               1.511335     3.866667       3.021914      0.748263   \n6500               2.015113     3.900000       3.021914      0.748263   \n6502               6.297229     3.244000       3.021914      0.748263   \n\n       z_score  \n0    -1.932839  \n2    -0.224314  \n3    -0.328245  \n5     0.360457  \n7    -0.941491  \n...        ...  \n6495  1.004218  \n6497  0.180723  \n6499  1.128951  \n6500  1.173499  \n6502  0.296802  \n\n[3622 rows x 9 columns]",
      "text/html": "<div>\n<style scoped>\n    .dataframe tbody tr th:only-of-type {\n        vertical-align: middle;\n    }\n\n    .dataframe tbody tr th {\n        vertical-align: top;\n    }\n\n    .dataframe thead th {\n        text-align: right;\n    }\n</style>\n<table border=\"1\" class=\"dataframe\">\n  <thead>\n    <tr style=\"text-align: right;\">\n      <th></th>\n      <th>location</th>\n      <th>brewery_location</th>\n      <th>number</th>\n      <th>total_loc_number</th>\n      <th>popularity_percentage</th>\n      <th>mean_rating</th>\n      <th>location_mean</th>\n      <th>location_std</th>\n      <th>z_score</th>\n    </tr>\n  </thead>\n  <tbody>\n    <tr>\n      <th>0</th>\n      <td>Australia</td>\n      <td>Albania</td>\n      <td>5</td>\n      <td>6255</td>\n      <td>0.079936</td>\n      <td>1.800000</td>\n      <td>3.164796</td>\n      <td>0.706110</td>\n      <td>-1.932839</td>\n    </tr>\n    <tr>\n      <th>2</th>\n      <td>Australia</td>\n      <td>Australia</td>\n      <td>1967</td>\n      <td>6255</td>\n      <td>31.446843</td>\n      <td>3.006406</td>\n      <td>3.164796</td>\n      <td>0.706110</td>\n      <td>-0.224314</td>\n    </tr>\n    <tr>\n      <th>3</th>\n      <td>Australia</td>\n      <td>Austria</td>\n      <td>106</td>\n      <td>6255</td>\n      <td>1.694644</td>\n      <td>2.933019</td>\n      <td>3.164796</td>\n      <td>0.706110</td>\n      <td>-0.328245</td>\n    </tr>\n    <tr>\n      <th>5</th>\n      <td>Australia</td>\n      <td>Belgium</td>\n      <td>704</td>\n      <td>6255</td>\n      <td>11.254996</td>\n      <td>3.419318</td>\n      <td>3.164796</td>\n      <td>0.706110</td>\n      <td>0.360457</td>\n    </tr>\n    <tr>\n      <th>7</th>\n      <td>Australia</td>\n      <td>Brazil</td>\n      <td>16</td>\n      <td>6255</td>\n      <td>0.255795</td>\n      <td>2.500000</td>\n      <td>3.164796</td>\n      <td>0.706110</td>\n      <td>-0.941491</td>\n    </tr>\n    <tr>\n      <th>...</th>\n      <td>...</td>\n      <td>...</td>\n      <td>...</td>\n      <td>...</td>\n      <td>...</td>\n      <td>...</td>\n      <td>...</td>\n      <td>...</td>\n      <td>...</td>\n    </tr>\n    <tr>\n      <th>6495</th>\n      <td>Venezuela</td>\n      <td>United States, California</td>\n      <td>15</td>\n      <td>397</td>\n      <td>3.778338</td>\n      <td>3.773333</td>\n      <td>3.021914</td>\n      <td>0.748263</td>\n      <td>1.004218</td>\n    </tr>\n    <tr>\n      <th>6497</th>\n      <td>Venezuela</td>\n      <td>United States, Hawaii</td>\n      <td>7</td>\n      <td>397</td>\n      <td>1.763224</td>\n      <td>3.157143</td>\n      <td>3.021914</td>\n      <td>0.748263</td>\n      <td>0.180723</td>\n    </tr>\n    <tr>\n      <th>6499</th>\n      <td>Venezuela</td>\n      <td>United States, Michigan</td>\n      <td>6</td>\n      <td>397</td>\n      <td>1.511335</td>\n      <td>3.866667</td>\n      <td>3.021914</td>\n      <td>0.748263</td>\n      <td>1.128951</td>\n    </tr>\n    <tr>\n      <th>6500</th>\n      <td>Venezuela</td>\n      <td>United States, New York</td>\n      <td>8</td>\n      <td>397</td>\n      <td>2.015113</td>\n      <td>3.900000</td>\n      <td>3.021914</td>\n      <td>0.748263</td>\n      <td>1.173499</td>\n    </tr>\n    <tr>\n      <th>6502</th>\n      <td>Venezuela</td>\n      <td>United States, Oregon</td>\n      <td>25</td>\n      <td>397</td>\n      <td>6.297229</td>\n      <td>3.244000</td>\n      <td>3.021914</td>\n      <td>0.748263</td>\n      <td>0.296802</td>\n    </tr>\n  </tbody>\n</table>\n<p>3622 rows × 9 columns</p>\n</div>"
     },
     "execution_count": 104,
     "metadata": {},
     "output_type": "execute_result"
    }
   ],
   "source": [
    "location_brewery_country_stats(ratings.copy(), users.copy(), breweries.copy(), 2010, 100, 5)"
   ],
   "metadata": {
    "collapsed": false,
    "ExecuteTime": {
     "end_time": "2023-11-09T22:25:06.940429600Z",
     "start_time": "2023-11-09T22:24:57.738478300Z"
    }
   },
   "id": "dfae8dccae6e75e3"
  },
  {
   "cell_type": "code",
   "execution_count": 121,
   "outputs": [],
   "source": [
    "years = np.arange(2001,2018)\n",
    "location_list = ['England', 'Canada', 'United States, California', 'United States, Minnesota', 'United States, New Jersey']\n",
    "bc_popularities_by_year = pd.DataFrame()\n",
    "for year in years:\n",
    "    location_bc = location_brewery_country_stats(ratings.copy(), users.copy(), breweries.copy(), year, 100, 5)\n",
    "    location_bc = location_bc.loc[location_bc['location'].isin(location_list)]\n",
    "    location_bc_gb_loc = location_bc.groupby('location')\n",
    "    idx_most_popular = location_bc_gb_loc['number'].idxmax()\n",
    "    most_popular_bc_by_location = location_bc.loc[idx_most_popular]\n",
    "    most_popular_bc_by_location = most_popular_bc_by_location[['location', 'brewery_location']]\n",
    "    most_popular_bc_by_location.set_index('location', inplace = True)\n",
    "    most_popular_bc_by_location = most_popular_bc_by_location.rename(columns = {'brewery_location': str(year)})\n",
    "    bc_popularities_by_year = pd.concat([bc_popularities_by_year, most_popular_bc_by_location], axis = 1)"
   ],
   "metadata": {
    "collapsed": false,
    "ExecuteTime": {
     "end_time": "2023-11-09T23:31:33.540912Z",
     "start_time": "2023-11-09T23:29:01.423155100Z"
    }
   },
   "id": "e7559db143c5919c"
  },
  {
   "cell_type": "code",
   "execution_count": 122,
   "outputs": [],
   "source": [
    "location_brewery_country_stats(ratings.copy(), users.copy(), breweries.copy(), 2010, 100, 5)\n",
    "years = np.arange(2001, 2018)\n",
    "location_list = ['England', 'Canada', 'United States, California', 'United States, Minnesota',\n",
    "                 'United States, New Jersey']\n",
    "bc_ratings_by_year = pd.DataFrame()\n",
    "for year in years:\n",
    "    location_bc = location_brewery_country_stats(ratings.copy(), users.copy(), breweries.copy(), year, 100, 5)\n",
    "    location_bc = location_bc.loc[location_bc['location'].isin(location_list)]\n",
    "    location_bc_gb_loc = location_bc.groupby('location')\n",
    "    idx_highest_rated = location_bc_gb_loc['z_score'].idxmax()\n",
    "    highest_rated_bc_by_location = location_bc.loc[idx_highest_rated]\n",
    "    highest_rated_bc_by_location = highest_rated_bc_by_location[['location', 'brewery_location']]\n",
    "    highest_rated_bc_by_location.set_index('location', inplace=True)\n",
    "    highest_rated_bc_by_location = highest_rated_bc_by_location.rename(columns={'brewery_location': str(year)})\n",
    "    bc_ratings_by_year = pd.concat([bc_ratings_by_year, highest_rated_bc_by_location], axis=1)"
   ],
   "metadata": {
    "collapsed": false,
    "ExecuteTime": {
     "end_time": "2023-11-09T23:34:18.866155700Z",
     "start_time": "2023-11-09T23:31:33.542897200Z"
    }
   },
   "id": "44b9bf2bee9f1f79"
  },
  {
   "cell_type": "code",
   "execution_count": 123,
   "outputs": [
    {
     "data": {
      "text/plain": "                                                2001  \\\nlocation                                               \nCanada                                        Canada   \nEngland                                      England   \nUnited States, California  United States, California   \nUnited States, Minnesota    United States, Minnesota   \nUnited States, New Jersey                    Germany   \n\n                                                2002  \\\nlocation                                               \nCanada                                        Canada   \nEngland                                      England   \nUnited States, California  United States, California   \nUnited States, Minnesota    United States, Wisconsin   \nUnited States, New Jersey                    Belgium   \n\n                                                2003  \\\nlocation                                               \nCanada                                        Canada   \nEngland                                      England   \nUnited States, California  United States, California   \nUnited States, Minnesota    United States, Wisconsin   \nUnited States, New Jersey                    Belgium   \n\n                                                2004  \\\nlocation                                               \nCanada                                        Canada   \nEngland                                      England   \nUnited States, California  United States, California   \nUnited States, Minnesota    United States, Wisconsin   \nUnited States, New Jersey                    Belgium   \n\n                                                2005  \\\nlocation                                               \nCanada                                        Canada   \nEngland                                      England   \nUnited States, California  United States, California   \nUnited States, Minnesota    United States, Wisconsin   \nUnited States, New Jersey                    Belgium   \n\n                                                2006  \\\nlocation                                               \nCanada                                        Canada   \nEngland                                      England   \nUnited States, California  United States, California   \nUnited States, Minnesota    United States, Wisconsin   \nUnited States, New Jersey                    Germany   \n\n                                                2007  \\\nlocation                                               \nCanada                                        Canada   \nEngland                                      England   \nUnited States, California  United States, California   \nUnited States, Minnesota    United States, Wisconsin   \nUnited States, New Jersey    United States, New York   \n\n                                                2008  \\\nlocation                                               \nCanada                                        Canada   \nEngland                                      England   \nUnited States, California  United States, California   \nUnited States, Minnesota    United States, Wisconsin   \nUnited States, New Jersey  United States, California   \n\n                                                2009  \\\nlocation                                               \nCanada                                        Canada   \nEngland                                      England   \nUnited States, California  United States, California   \nUnited States, Minnesota    United States, Wisconsin   \nUnited States, New Jersey    United States, New York   \n\n                                                2010  \\\nlocation                                               \nCanada                                        Canada   \nEngland                                      England   \nUnited States, California  United States, California   \nUnited States, Minnesota    United States, Wisconsin   \nUnited States, New Jersey  United States, California   \n\n                                                2011  \\\nlocation                                               \nCanada                                        Canada   \nEngland                                      England   \nUnited States, California  United States, California   \nUnited States, Minnesota    United States, Minnesota   \nUnited States, New Jersey  United States, California   \n\n                                                2012  \\\nlocation                                               \nCanada                                        Canada   \nEngland                                      England   \nUnited States, California  United States, California   \nUnited States, Minnesota    United States, Minnesota   \nUnited States, New Jersey                    Germany   \n\n                                                2013  \\\nlocation                                               \nCanada                                        Canada   \nEngland                                      England   \nUnited States, California  United States, California   \nUnited States, Minnesota    United States, Minnesota   \nUnited States, New Jersey    United States, New York   \n\n                                                2014  \\\nlocation                                               \nCanada                                        Canada   \nEngland                                      England   \nUnited States, California  United States, California   \nUnited States, Minnesota    United States, Minnesota   \nUnited States, New Jersey    United States, New York   \n\n                                                2015  \\\nlocation                                               \nCanada                                        Canada   \nEngland                                      England   \nUnited States, California  United States, California   \nUnited States, Minnesota    United States, Minnesota   \nUnited States, New Jersey    United States, New York   \n\n                                                2016  \\\nlocation                                               \nCanada                                        Canada   \nEngland                                      England   \nUnited States, California  United States, California   \nUnited States, Minnesota    United States, Minnesota   \nUnited States, New Jersey  United States, New Jersey   \n\n                                                2017  \nlocation                                              \nCanada                                        Canada  \nEngland                                      England  \nUnited States, California  United States, California  \nUnited States, Minnesota    United States, Minnesota  \nUnited States, New Jersey  United States, New Jersey  ",
      "text/html": "<div>\n<style scoped>\n    .dataframe tbody tr th:only-of-type {\n        vertical-align: middle;\n    }\n\n    .dataframe tbody tr th {\n        vertical-align: top;\n    }\n\n    .dataframe thead th {\n        text-align: right;\n    }\n</style>\n<table border=\"1\" class=\"dataframe\">\n  <thead>\n    <tr style=\"text-align: right;\">\n      <th></th>\n      <th>2001</th>\n      <th>2002</th>\n      <th>2003</th>\n      <th>2004</th>\n      <th>2005</th>\n      <th>2006</th>\n      <th>2007</th>\n      <th>2008</th>\n      <th>2009</th>\n      <th>2010</th>\n      <th>2011</th>\n      <th>2012</th>\n      <th>2013</th>\n      <th>2014</th>\n      <th>2015</th>\n      <th>2016</th>\n      <th>2017</th>\n    </tr>\n    <tr>\n      <th>location</th>\n      <th></th>\n      <th></th>\n      <th></th>\n      <th></th>\n      <th></th>\n      <th></th>\n      <th></th>\n      <th></th>\n      <th></th>\n      <th></th>\n      <th></th>\n      <th></th>\n      <th></th>\n      <th></th>\n      <th></th>\n      <th></th>\n      <th></th>\n    </tr>\n  </thead>\n  <tbody>\n    <tr>\n      <th>Canada</th>\n      <td>Canada</td>\n      <td>Canada</td>\n      <td>Canada</td>\n      <td>Canada</td>\n      <td>Canada</td>\n      <td>Canada</td>\n      <td>Canada</td>\n      <td>Canada</td>\n      <td>Canada</td>\n      <td>Canada</td>\n      <td>Canada</td>\n      <td>Canada</td>\n      <td>Canada</td>\n      <td>Canada</td>\n      <td>Canada</td>\n      <td>Canada</td>\n      <td>Canada</td>\n    </tr>\n    <tr>\n      <th>England</th>\n      <td>England</td>\n      <td>England</td>\n      <td>England</td>\n      <td>England</td>\n      <td>England</td>\n      <td>England</td>\n      <td>England</td>\n      <td>England</td>\n      <td>England</td>\n      <td>England</td>\n      <td>England</td>\n      <td>England</td>\n      <td>England</td>\n      <td>England</td>\n      <td>England</td>\n      <td>England</td>\n      <td>England</td>\n    </tr>\n    <tr>\n      <th>United States, California</th>\n      <td>United States, California</td>\n      <td>United States, California</td>\n      <td>United States, California</td>\n      <td>United States, California</td>\n      <td>United States, California</td>\n      <td>United States, California</td>\n      <td>United States, California</td>\n      <td>United States, California</td>\n      <td>United States, California</td>\n      <td>United States, California</td>\n      <td>United States, California</td>\n      <td>United States, California</td>\n      <td>United States, California</td>\n      <td>United States, California</td>\n      <td>United States, California</td>\n      <td>United States, California</td>\n      <td>United States, California</td>\n    </tr>\n    <tr>\n      <th>United States, Minnesota</th>\n      <td>United States, Minnesota</td>\n      <td>United States, Wisconsin</td>\n      <td>United States, Wisconsin</td>\n      <td>United States, Wisconsin</td>\n      <td>United States, Wisconsin</td>\n      <td>United States, Wisconsin</td>\n      <td>United States, Wisconsin</td>\n      <td>United States, Wisconsin</td>\n      <td>United States, Wisconsin</td>\n      <td>United States, Wisconsin</td>\n      <td>United States, Minnesota</td>\n      <td>United States, Minnesota</td>\n      <td>United States, Minnesota</td>\n      <td>United States, Minnesota</td>\n      <td>United States, Minnesota</td>\n      <td>United States, Minnesota</td>\n      <td>United States, Minnesota</td>\n    </tr>\n    <tr>\n      <th>United States, New Jersey</th>\n      <td>Germany</td>\n      <td>Belgium</td>\n      <td>Belgium</td>\n      <td>Belgium</td>\n      <td>Belgium</td>\n      <td>Germany</td>\n      <td>United States, New York</td>\n      <td>United States, California</td>\n      <td>United States, New York</td>\n      <td>United States, California</td>\n      <td>United States, California</td>\n      <td>Germany</td>\n      <td>United States, New York</td>\n      <td>United States, New York</td>\n      <td>United States, New York</td>\n      <td>United States, New Jersey</td>\n      <td>United States, New Jersey</td>\n    </tr>\n  </tbody>\n</table>\n</div>"
     },
     "execution_count": 123,
     "metadata": {},
     "output_type": "execute_result"
    }
   ],
   "source": [
    "bc_popularities_by_year"
   ],
   "metadata": {
    "collapsed": false,
    "ExecuteTime": {
     "end_time": "2023-11-09T23:34:24.740542100Z",
     "start_time": "2023-11-09T23:34:24.622857800Z"
    }
   },
   "id": "9c7b107ca3f6dd1e"
  },
  {
   "cell_type": "code",
   "execution_count": 124,
   "outputs": [
    {
     "data": {
      "text/plain": "                                             2001  \\\nlocation                                            \nCanada                                    Ireland   \nEngland                            Czech Republic   \nUnited States, California   United States, Alaska   \nUnited States, Minnesota           Czech Republic   \nUnited States, New Jersey  United States, Vermont   \n\n                                                   2002  \\\nlocation                                                  \nCanada                     United States, New Hampshire   \nEngland                    United States, New Hampshire   \nUnited States, California                       Finland   \nUnited States, Minnesota           United States, Maine   \nUnited States, New Jersey         United States, Oregon   \n\n                                              2003                       2004  \\\nlocation                                                                        \nCanada                                   Sri Lanka        United States, Ohio   \nEngland                      United States, Oregon  United States, Washington   \nUnited States, California    United States, Kansas                    Ukraine   \nUnited States, Minnesota   United States, Kentucky                    Finland   \nUnited States, New Jersey                   Sweden      United States, Alaska   \n\n                                                   2005  \\\nlocation                                                  \nCanada                            United States, Kansas   \nEngland                            United States, Maine   \nUnited States, California         United States, Kansas   \nUnited States, Minnesota   United States, New Hampshire   \nUnited States, New Jersey         United States, Alaska   \n\n                                                   2006  \\\nlocation                                                  \nCanada                            United States, Alaska   \nEngland                                        Slovenia   \nUnited States, California                     Sri Lanka   \nUnited States, Minnesota   United States, New Hampshire   \nUnited States, New Jersey                   Switzerland   \n\n                                                2007  \\\nlocation                                               \nCanada                     United States, California   \nEngland                        United States, Alaska   \nUnited States, California                     Norway   \nUnited States, Minnesota                      Norway   \nUnited States, New Jersey      United States, Kansas   \n\n                                                2008                 2009  \\\nlocation                                                                    \nCanada                       United States, Nebraska               Norway   \nEngland                    United States, California  United States, Ohio   \nUnited States, California      United States, Kansas               Norway   \nUnited States, Minnesota       United States, Alaska               Norway   \nUnited States, New Jersey                     Norway               Norway   \n\n                                                    2010         2011  \\\nlocation                                                                \nCanada                                            Norway       Norway   \nEngland                              United States, Ohio       Norway   \nUnited States, California  United States, South Carolina       Norway   \nUnited States, Minnesota           United States, Hawaii  Switzerland   \nUnited States, New Jersey                         Norway       Norway   \n\n                                             2012                     2013  \\\nlocation                                                                     \nCanada                     United States, Indiana  United States, Oklahoma   \nEngland                    United States, Vermont   United States, Alabama   \nUnited States, California                  Norway                   Norway   \nUnited States, Minnesota                  Belgium                   Norway   \nUnited States, New Jersey                 Iceland                   Norway   \n\n                                             2014                     2015  \\\nlocation                                                                     \nCanada                     United States, Vermont  United States, Oklahoma   \nEngland                       United States, Ohio  United States, Oklahoma   \nUnited States, California                  Israel                  Belgium   \nUnited States, Minnesota   United States, Wyoming                   Norway   \nUnited States, New Jersey                  Norway                   Norway   \n\n                                                   2016  \\\nlocation                                                  \nCanada                           United States, Vermont   \nEngland                          United States, Vermont   \nUnited States, California  United States, Massachusetts   \nUnited States, Minnesota        United States, Oklahoma   \nUnited States, New Jersey       United States, Oklahoma   \n\n                                                  2017  \nlocation                                                \nCanada                                        Bulgaria  \nEngland                      United States, New Jersey  \nUnited States, California  United States, Rhode Island  \nUnited States, Minnesota       United States, Oklahoma  \nUnited States, New Jersey      United States, Oklahoma  ",
      "text/html": "<div>\n<style scoped>\n    .dataframe tbody tr th:only-of-type {\n        vertical-align: middle;\n    }\n\n    .dataframe tbody tr th {\n        vertical-align: top;\n    }\n\n    .dataframe thead th {\n        text-align: right;\n    }\n</style>\n<table border=\"1\" class=\"dataframe\">\n  <thead>\n    <tr style=\"text-align: right;\">\n      <th></th>\n      <th>2001</th>\n      <th>2002</th>\n      <th>2003</th>\n      <th>2004</th>\n      <th>2005</th>\n      <th>2006</th>\n      <th>2007</th>\n      <th>2008</th>\n      <th>2009</th>\n      <th>2010</th>\n      <th>2011</th>\n      <th>2012</th>\n      <th>2013</th>\n      <th>2014</th>\n      <th>2015</th>\n      <th>2016</th>\n      <th>2017</th>\n    </tr>\n    <tr>\n      <th>location</th>\n      <th></th>\n      <th></th>\n      <th></th>\n      <th></th>\n      <th></th>\n      <th></th>\n      <th></th>\n      <th></th>\n      <th></th>\n      <th></th>\n      <th></th>\n      <th></th>\n      <th></th>\n      <th></th>\n      <th></th>\n      <th></th>\n      <th></th>\n    </tr>\n  </thead>\n  <tbody>\n    <tr>\n      <th>Canada</th>\n      <td>Ireland</td>\n      <td>United States, New Hampshire</td>\n      <td>Sri Lanka</td>\n      <td>United States, Ohio</td>\n      <td>United States, Kansas</td>\n      <td>United States, Alaska</td>\n      <td>United States, California</td>\n      <td>United States, Nebraska</td>\n      <td>Norway</td>\n      <td>Norway</td>\n      <td>Norway</td>\n      <td>United States, Indiana</td>\n      <td>United States, Oklahoma</td>\n      <td>United States, Vermont</td>\n      <td>United States, Oklahoma</td>\n      <td>United States, Vermont</td>\n      <td>Bulgaria</td>\n    </tr>\n    <tr>\n      <th>England</th>\n      <td>Czech Republic</td>\n      <td>United States, New Hampshire</td>\n      <td>United States, Oregon</td>\n      <td>United States, Washington</td>\n      <td>United States, Maine</td>\n      <td>Slovenia</td>\n      <td>United States, Alaska</td>\n      <td>United States, California</td>\n      <td>United States, Ohio</td>\n      <td>United States, Ohio</td>\n      <td>Norway</td>\n      <td>United States, Vermont</td>\n      <td>United States, Alabama</td>\n      <td>United States, Ohio</td>\n      <td>United States, Oklahoma</td>\n      <td>United States, Vermont</td>\n      <td>United States, New Jersey</td>\n    </tr>\n    <tr>\n      <th>United States, California</th>\n      <td>United States, Alaska</td>\n      <td>Finland</td>\n      <td>United States, Kansas</td>\n      <td>Ukraine</td>\n      <td>United States, Kansas</td>\n      <td>Sri Lanka</td>\n      <td>Norway</td>\n      <td>United States, Kansas</td>\n      <td>Norway</td>\n      <td>United States, South Carolina</td>\n      <td>Norway</td>\n      <td>Norway</td>\n      <td>Norway</td>\n      <td>Israel</td>\n      <td>Belgium</td>\n      <td>United States, Massachusetts</td>\n      <td>United States, Rhode Island</td>\n    </tr>\n    <tr>\n      <th>United States, Minnesota</th>\n      <td>Czech Republic</td>\n      <td>United States, Maine</td>\n      <td>United States, Kentucky</td>\n      <td>Finland</td>\n      <td>United States, New Hampshire</td>\n      <td>United States, New Hampshire</td>\n      <td>Norway</td>\n      <td>United States, Alaska</td>\n      <td>Norway</td>\n      <td>United States, Hawaii</td>\n      <td>Switzerland</td>\n      <td>Belgium</td>\n      <td>Norway</td>\n      <td>United States, Wyoming</td>\n      <td>Norway</td>\n      <td>United States, Oklahoma</td>\n      <td>United States, Oklahoma</td>\n    </tr>\n    <tr>\n      <th>United States, New Jersey</th>\n      <td>United States, Vermont</td>\n      <td>United States, Oregon</td>\n      <td>Sweden</td>\n      <td>United States, Alaska</td>\n      <td>United States, Alaska</td>\n      <td>Switzerland</td>\n      <td>United States, Kansas</td>\n      <td>Norway</td>\n      <td>Norway</td>\n      <td>Norway</td>\n      <td>Norway</td>\n      <td>Iceland</td>\n      <td>Norway</td>\n      <td>Norway</td>\n      <td>Norway</td>\n      <td>United States, Oklahoma</td>\n      <td>United States, Oklahoma</td>\n    </tr>\n  </tbody>\n</table>\n</div>"
     },
     "execution_count": 124,
     "metadata": {},
     "output_type": "execute_result"
    }
   ],
   "source": [
    "bc_ratings_by_year"
   ],
   "metadata": {
    "collapsed": false,
    "ExecuteTime": {
     "end_time": "2023-11-09T23:35:14.989676Z",
     "start_time": "2023-11-09T23:35:14.868233800Z"
    }
   },
   "id": "81cffe70cd0ea023"
  },
  {
   "cell_type": "code",
   "execution_count": null,
   "outputs": [],
   "source": [],
   "metadata": {
    "collapsed": false
   },
   "id": "77c81b8407501706"
  }
 ],
 "metadata": {
  "kernelspec": {
   "display_name": "Python 3",
   "language": "python",
   "name": "python3"
  },
  "language_info": {
   "codemirror_mode": {
    "name": "ipython",
    "version": 2
   },
   "file_extension": ".py",
   "mimetype": "text/x-python",
   "name": "python",
   "nbconvert_exporter": "python",
   "pygments_lexer": "ipython2",
   "version": "2.7.6"
  }
 },
 "nbformat": 4,
 "nbformat_minor": 5
}
