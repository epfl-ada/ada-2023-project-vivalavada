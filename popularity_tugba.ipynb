{
 "cells": [
  {
   "cell_type": "code",
   "execution_count": 14,
   "id": "initial_id",
   "metadata": {
    "collapsed": true,
    "ExecuteTime": {
     "end_time": "2023-11-09T15:14:28.540102100Z",
     "start_time": "2023-11-09T15:14:28.395379900Z"
    }
   },
   "outputs": [
    {
     "name": "stdout",
     "output_type": "stream",
     "text": [
      "The autoreload extension is already loaded. To reload it, use:\n",
      "  %reload_ext autoreload\n"
     ]
    }
   ],
   "source": [
    "from helpers import *\n",
    "import pickle\n",
    "import pandas as pd\n",
    "%load_ext autoreload\n",
    "%autoreload 2"
   ]
  },
  {
   "cell_type": "code",
   "execution_count": 2,
   "outputs": [],
   "source": [
    "with open(\"dataset/RateBeer/ratings_reviews.pickle\", 'rb') as file:\n",
    "    ratings = pickle.load(file)"
   ],
   "metadata": {
    "collapsed": false,
    "ExecuteTime": {
     "end_time": "2023-11-09T14:59:48.291283300Z",
     "start_time": "2023-11-09T14:59:40.958084800Z"
    }
   },
   "id": "7de37dd683bfbb05"
  },
  {
   "cell_type": "code",
   "execution_count": 61,
   "outputs": [],
   "source": [
    "breweries = pd.read_csv(\"dataset/RateBeer/breweries.csv\")\n",
    "users = pd.read_csv(\"dataset/RateBeer/users.csv\")"
   ],
   "metadata": {
    "collapsed": false,
    "ExecuteTime": {
     "end_time": "2023-11-09T16:13:53.382092Z",
     "start_time": "2023-11-09T16:13:53.162338600Z"
    }
   },
   "id": "d194cf35b6b8fdd9"
  },
  {
   "cell_type": "code",
   "execution_count": 8,
   "outputs": [],
   "source": [
    "ratings['date'] = ratings['date'].apply(convert_unix_timestamp)"
   ],
   "metadata": {
    "collapsed": false,
    "ExecuteTime": {
     "end_time": "2023-11-09T15:01:47.300268300Z",
     "start_time": "2023-11-09T15:01:40.576218200Z"
    }
   },
   "id": "67c2fe3d6f2978ea"
  },
  {
   "cell_type": "code",
   "execution_count": 56,
   "outputs": [],
   "source": [
    "year_filter = ratings['date'].dt.year.isin([2010, 2011, 2012])\n",
    "ratings_reviews_2010_2012 = ratings.loc[year_filter]"
   ],
   "metadata": {
    "collapsed": false,
    "ExecuteTime": {
     "end_time": "2023-11-09T16:12:55.263896900Z",
     "start_time": "2023-11-09T16:12:53.362143400Z"
    }
   },
   "id": "604fc1cbf3215d0b"
  },
  {
   "cell_type": "code",
   "execution_count": 62,
   "outputs": [],
   "source": [
    "ratings_with_user_location = pd.merge(ratings_reviews_2010_2012, \n",
    "                                              users[['user_id', 'location']], on='user_id')"
   ],
   "metadata": {
    "collapsed": false,
    "ExecuteTime": {
     "end_time": "2023-11-09T16:13:58.462647700Z",
     "start_time": "2023-11-09T16:13:56.635498600Z"
    }
   },
   "id": "9542dca364af5209"
  },
  {
   "cell_type": "code",
   "execution_count": 63,
   "outputs": [],
   "source": [
    "breweries = breweries.rename(columns={'location': 'brewery_location'})\n",
    "ratings_with_user_brewery_location = pd.merge(ratings_with_user_location, breweries[['brewery_location', 'id']], left_on='brewery_id', right_on='id')"
   ],
   "metadata": {
    "collapsed": false,
    "ExecuteTime": {
     "end_time": "2023-11-09T16:13:59.533789600Z",
     "start_time": "2023-11-09T16:13:58.465640200Z"
    }
   },
   "id": "a2ed1a427ae7b084"
  },
  {
   "cell_type": "code",
   "execution_count": 64,
   "outputs": [
    {
     "data": {
      "text/plain": "                           beer_name  beer_id  \\\n0                              Régab    19445   \n1                              Régab    19445   \n2                              Régab    19445   \n3                              Régab    19445   \n4                              Régab    19445   \n...                              ...      ...   \n1436910         Holy Cow Pumpkin Ale     5274   \n1436911  Cyclers 55-11 Imperial Red   191802   \n1436912  Grand Union One Hop: Magnum    65135   \n1436913        Bridgetown Albert Ale    92104   \n1436914              Gasconha Blonde   187871   \n\n                                    brewery_name  brewery_id  \\\n0                                        Sobraga        3198   \n1                                        Sobraga        3198   \n2                                        Sobraga        3198   \n3                                        Sobraga        3198   \n4                                        Sobraga        3198   \n...                                          ...         ...   \n1436910  Holy Cow&#033; Casino, Cafe and Brewery         575   \n1436911                 Cyclers Brewing Company       15561   \n1436912                              Grand Union        2894   \n1436913                               Bridgetown        9820   \n1436914                                 Gasconha       15355   \n\n                        style  abv                date     user_name  user_id  \\\n0                  Pale Lager  4.5 2012-11-12 11:00:00       fonefan    38926   \n1                  Pale Lager  4.5 2012-09-17 10:00:00       Kingink   217452   \n2                  Pale Lager  4.5 2012-09-06 10:00:00          Zita    98909   \n3                  Pale Lager  4.5 2012-09-06 10:00:00        Hansen     5986   \n4                  Pale Lager  4.5 2012-09-06 10:00:00      onystrom    26684   \n...                       ...  ...                 ...           ...      ...   \n1436910  Spice/Herb/Vegetable  NaN 2010-11-22 11:00:00   Rnippoldt13   117691   \n1436911  American Strong Ale   7.9 2012-11-26 11:00:00         cmatt   226054   \n1436912                Bitter  4.5 2010-12-31 11:00:00      bluekuma    33112   \n1436913                Bitter  3.8 2011-08-24 10:00:00  cellargenius   134182   \n1436914       Traditional Ale  5.5 2012-10-07 10:00:00    jerome1564   221393   \n\n         appearance  aroma  palate  taste  overall  rating  \\\n0                 2      3       2      4        7     1.8   \n1                 4      5       3      6        7     2.5   \n2                 3      3       2      2        5     1.5   \n3                 2      3       2      4        7     1.8   \n4                 2      4       1      4        5     1.6   \n...             ...    ...     ...    ...      ...     ...   \n1436910           4     10       5      8       17     4.4   \n1436911           4      8       4      8       18     4.2   \n1436912           3      4       4      7       17     3.5   \n1436913           5      8       5      8       19     4.5   \n1436914           4      7       4      4       11     3.0   \n\n                                                      text  \\\n0        Bottle. [ As my country rating # 134 on ratebe...   \n1        As lagers go, very drinkable, especially in eq...   \n2        light sweet aroma,yellow,clear, white foam, li...   \n3        Yellow coloured and almost clear. Has a white ...   \n4        Clear yellow color with small head. Some bitte...   \n...                                                    ...   \n1436910  I tasted this beer many years ago and now Holy...   \n1436911  Awesome imperial red taste!  Murky, but well b...   \n1436912  Cask conditioned, gravity dispense at St. Alba...   \n1436913  fantastic rustic traditional beer, drunk 20 me...   \n1436914  BiÃ¨re artisanale, intÃ©ressante, couleur asse...   \n\n                     location       brewery_location     id  \n0                     Denmark                  Gabon   3198  \n1                    Scotland                  Gabon   3198  \n2                     Denmark                  Gabon   3198  \n3                     Denmark                  Gabon   3198  \n4                     Denmark                  Gabon   3198  \n...                       ...                    ...    ...  \n1436910                   NaN  United States, Nevada    575  \n1436911  United States, Texas   United States, Texas  15561  \n1436912               England                England   2894  \n1436913               England                England   9820  \n1436914                France                 France  15355  \n\n[1436915 rows x 19 columns]",
      "text/html": "<div>\n<style scoped>\n    .dataframe tbody tr th:only-of-type {\n        vertical-align: middle;\n    }\n\n    .dataframe tbody tr th {\n        vertical-align: top;\n    }\n\n    .dataframe thead th {\n        text-align: right;\n    }\n</style>\n<table border=\"1\" class=\"dataframe\">\n  <thead>\n    <tr style=\"text-align: right;\">\n      <th></th>\n      <th>beer_name</th>\n      <th>beer_id</th>\n      <th>brewery_name</th>\n      <th>brewery_id</th>\n      <th>style</th>\n      <th>abv</th>\n      <th>date</th>\n      <th>user_name</th>\n      <th>user_id</th>\n      <th>appearance</th>\n      <th>aroma</th>\n      <th>palate</th>\n      <th>taste</th>\n      <th>overall</th>\n      <th>rating</th>\n      <th>text</th>\n      <th>location</th>\n      <th>brewery_location</th>\n      <th>id</th>\n    </tr>\n  </thead>\n  <tbody>\n    <tr>\n      <th>0</th>\n      <td>Régab</td>\n      <td>19445</td>\n      <td>Sobraga</td>\n      <td>3198</td>\n      <td>Pale Lager</td>\n      <td>4.5</td>\n      <td>2012-11-12 11:00:00</td>\n      <td>fonefan</td>\n      <td>38926</td>\n      <td>2</td>\n      <td>3</td>\n      <td>2</td>\n      <td>4</td>\n      <td>7</td>\n      <td>1.8</td>\n      <td>Bottle. [ As my country rating # 134 on ratebe...</td>\n      <td>Denmark</td>\n      <td>Gabon</td>\n      <td>3198</td>\n    </tr>\n    <tr>\n      <th>1</th>\n      <td>Régab</td>\n      <td>19445</td>\n      <td>Sobraga</td>\n      <td>3198</td>\n      <td>Pale Lager</td>\n      <td>4.5</td>\n      <td>2012-09-17 10:00:00</td>\n      <td>Kingink</td>\n      <td>217452</td>\n      <td>4</td>\n      <td>5</td>\n      <td>3</td>\n      <td>6</td>\n      <td>7</td>\n      <td>2.5</td>\n      <td>As lagers go, very drinkable, especially in eq...</td>\n      <td>Scotland</td>\n      <td>Gabon</td>\n      <td>3198</td>\n    </tr>\n    <tr>\n      <th>2</th>\n      <td>Régab</td>\n      <td>19445</td>\n      <td>Sobraga</td>\n      <td>3198</td>\n      <td>Pale Lager</td>\n      <td>4.5</td>\n      <td>2012-09-06 10:00:00</td>\n      <td>Zita</td>\n      <td>98909</td>\n      <td>3</td>\n      <td>3</td>\n      <td>2</td>\n      <td>2</td>\n      <td>5</td>\n      <td>1.5</td>\n      <td>light sweet aroma,yellow,clear, white foam, li...</td>\n      <td>Denmark</td>\n      <td>Gabon</td>\n      <td>3198</td>\n    </tr>\n    <tr>\n      <th>3</th>\n      <td>Régab</td>\n      <td>19445</td>\n      <td>Sobraga</td>\n      <td>3198</td>\n      <td>Pale Lager</td>\n      <td>4.5</td>\n      <td>2012-09-06 10:00:00</td>\n      <td>Hansen</td>\n      <td>5986</td>\n      <td>2</td>\n      <td>3</td>\n      <td>2</td>\n      <td>4</td>\n      <td>7</td>\n      <td>1.8</td>\n      <td>Yellow coloured and almost clear. Has a white ...</td>\n      <td>Denmark</td>\n      <td>Gabon</td>\n      <td>3198</td>\n    </tr>\n    <tr>\n      <th>4</th>\n      <td>Régab</td>\n      <td>19445</td>\n      <td>Sobraga</td>\n      <td>3198</td>\n      <td>Pale Lager</td>\n      <td>4.5</td>\n      <td>2012-09-06 10:00:00</td>\n      <td>onystrom</td>\n      <td>26684</td>\n      <td>2</td>\n      <td>4</td>\n      <td>1</td>\n      <td>4</td>\n      <td>5</td>\n      <td>1.6</td>\n      <td>Clear yellow color with small head. Some bitte...</td>\n      <td>Denmark</td>\n      <td>Gabon</td>\n      <td>3198</td>\n    </tr>\n    <tr>\n      <th>...</th>\n      <td>...</td>\n      <td>...</td>\n      <td>...</td>\n      <td>...</td>\n      <td>...</td>\n      <td>...</td>\n      <td>...</td>\n      <td>...</td>\n      <td>...</td>\n      <td>...</td>\n      <td>...</td>\n      <td>...</td>\n      <td>...</td>\n      <td>...</td>\n      <td>...</td>\n      <td>...</td>\n      <td>...</td>\n      <td>...</td>\n      <td>...</td>\n    </tr>\n    <tr>\n      <th>1436910</th>\n      <td>Holy Cow Pumpkin Ale</td>\n      <td>5274</td>\n      <td>Holy Cow&amp;#033; Casino, Cafe and Brewery</td>\n      <td>575</td>\n      <td>Spice/Herb/Vegetable</td>\n      <td>NaN</td>\n      <td>2010-11-22 11:00:00</td>\n      <td>Rnippoldt13</td>\n      <td>117691</td>\n      <td>4</td>\n      <td>10</td>\n      <td>5</td>\n      <td>8</td>\n      <td>17</td>\n      <td>4.4</td>\n      <td>I tasted this beer many years ago and now Holy...</td>\n      <td>NaN</td>\n      <td>United States, Nevada</td>\n      <td>575</td>\n    </tr>\n    <tr>\n      <th>1436911</th>\n      <td>Cyclers 55-11 Imperial Red</td>\n      <td>191802</td>\n      <td>Cyclers Brewing Company</td>\n      <td>15561</td>\n      <td>American Strong Ale</td>\n      <td>7.9</td>\n      <td>2012-11-26 11:00:00</td>\n      <td>cmatt</td>\n      <td>226054</td>\n      <td>4</td>\n      <td>8</td>\n      <td>4</td>\n      <td>8</td>\n      <td>18</td>\n      <td>4.2</td>\n      <td>Awesome imperial red taste!  Murky, but well b...</td>\n      <td>United States, Texas</td>\n      <td>United States, Texas</td>\n      <td>15561</td>\n    </tr>\n    <tr>\n      <th>1436912</th>\n      <td>Grand Union One Hop: Magnum</td>\n      <td>65135</td>\n      <td>Grand Union</td>\n      <td>2894</td>\n      <td>Bitter</td>\n      <td>4.5</td>\n      <td>2010-12-31 11:00:00</td>\n      <td>bluekuma</td>\n      <td>33112</td>\n      <td>3</td>\n      <td>4</td>\n      <td>4</td>\n      <td>7</td>\n      <td>17</td>\n      <td>3.5</td>\n      <td>Cask conditioned, gravity dispense at St. Alba...</td>\n      <td>England</td>\n      <td>England</td>\n      <td>2894</td>\n    </tr>\n    <tr>\n      <th>1436913</th>\n      <td>Bridgetown Albert Ale</td>\n      <td>92104</td>\n      <td>Bridgetown</td>\n      <td>9820</td>\n      <td>Bitter</td>\n      <td>3.8</td>\n      <td>2011-08-24 10:00:00</td>\n      <td>cellargenius</td>\n      <td>134182</td>\n      <td>5</td>\n      <td>8</td>\n      <td>5</td>\n      <td>8</td>\n      <td>19</td>\n      <td>4.5</td>\n      <td>fantastic rustic traditional beer, drunk 20 me...</td>\n      <td>England</td>\n      <td>England</td>\n      <td>9820</td>\n    </tr>\n    <tr>\n      <th>1436914</th>\n      <td>Gasconha Blonde</td>\n      <td>187871</td>\n      <td>Gasconha</td>\n      <td>15355</td>\n      <td>Traditional Ale</td>\n      <td>5.5</td>\n      <td>2012-10-07 10:00:00</td>\n      <td>jerome1564</td>\n      <td>221393</td>\n      <td>4</td>\n      <td>7</td>\n      <td>4</td>\n      <td>4</td>\n      <td>11</td>\n      <td>3.0</td>\n      <td>BiÃ¨re artisanale, intÃ©ressante, couleur asse...</td>\n      <td>France</td>\n      <td>France</td>\n      <td>15355</td>\n    </tr>\n  </tbody>\n</table>\n<p>1436915 rows × 19 columns</p>\n</div>"
     },
     "execution_count": 64,
     "metadata": {},
     "output_type": "execute_result"
    }
   ],
   "source": [
    "ratings_with_user_brewery_location"
   ],
   "metadata": {
    "collapsed": false,
    "ExecuteTime": {
     "end_time": "2023-11-09T16:13:59.641491300Z",
     "start_time": "2023-11-09T16:13:59.534777200Z"
    }
   },
   "id": "e04cac9b3489e032"
  },
  {
   "cell_type": "code",
   "execution_count": 65,
   "outputs": [],
   "source": [
    "ratings_with_brewery_location_country_population = ratings_with_user_brewery_location.groupby(['location', 'brewery_location'])\n",
    "beer_country_location = ratings_with_brewery_location_country_population.size().reset_index(name = 'number')"
   ],
   "metadata": {
    "collapsed": false,
    "ExecuteTime": {
     "end_time": "2023-11-09T16:14:41.013902900Z",
     "start_time": "2023-11-09T16:14:40.591911800Z"
    }
   },
   "id": "77fe5e1a2db8b064"
  },
  {
   "cell_type": "code",
   "execution_count": 68,
   "outputs": [
    {
     "data": {
      "text/plain": "          location           brewery_location  number\n0         Abkhazia                    Germany       2\n1      Afghanistan                    Belgium       1\n2      Afghanistan                      Italy       1\n3      Afghanistan  United States, California       1\n4          Albania                    England       1\n...            ...                        ...     ...\n10563        Wales    United States, Illinois       1\n10564        Wales    United States, Maryland       1\n10565        Wales    United States, Missouri       1\n10566        Wales                    Vietnam       1\n10567        Wales                      Wales      41\n\n[10568 rows x 3 columns]",
      "text/html": "<div>\n<style scoped>\n    .dataframe tbody tr th:only-of-type {\n        vertical-align: middle;\n    }\n\n    .dataframe tbody tr th {\n        vertical-align: top;\n    }\n\n    .dataframe thead th {\n        text-align: right;\n    }\n</style>\n<table border=\"1\" class=\"dataframe\">\n  <thead>\n    <tr style=\"text-align: right;\">\n      <th></th>\n      <th>location</th>\n      <th>brewery_location</th>\n      <th>number</th>\n    </tr>\n  </thead>\n  <tbody>\n    <tr>\n      <th>0</th>\n      <td>Abkhazia</td>\n      <td>Germany</td>\n      <td>2</td>\n    </tr>\n    <tr>\n      <th>1</th>\n      <td>Afghanistan</td>\n      <td>Belgium</td>\n      <td>1</td>\n    </tr>\n    <tr>\n      <th>2</th>\n      <td>Afghanistan</td>\n      <td>Italy</td>\n      <td>1</td>\n    </tr>\n    <tr>\n      <th>3</th>\n      <td>Afghanistan</td>\n      <td>United States, California</td>\n      <td>1</td>\n    </tr>\n    <tr>\n      <th>4</th>\n      <td>Albania</td>\n      <td>England</td>\n      <td>1</td>\n    </tr>\n    <tr>\n      <th>...</th>\n      <td>...</td>\n      <td>...</td>\n      <td>...</td>\n    </tr>\n    <tr>\n      <th>10563</th>\n      <td>Wales</td>\n      <td>United States, Illinois</td>\n      <td>1</td>\n    </tr>\n    <tr>\n      <th>10564</th>\n      <td>Wales</td>\n      <td>United States, Maryland</td>\n      <td>1</td>\n    </tr>\n    <tr>\n      <th>10565</th>\n      <td>Wales</td>\n      <td>United States, Missouri</td>\n      <td>1</td>\n    </tr>\n    <tr>\n      <th>10566</th>\n      <td>Wales</td>\n      <td>Vietnam</td>\n      <td>1</td>\n    </tr>\n    <tr>\n      <th>10567</th>\n      <td>Wales</td>\n      <td>Wales</td>\n      <td>41</td>\n    </tr>\n  </tbody>\n</table>\n<p>10568 rows × 3 columns</p>\n</div>"
     },
     "execution_count": 68,
     "metadata": {},
     "output_type": "execute_result"
    }
   ],
   "source": [
    "beer_country_location"
   ],
   "metadata": {
    "collapsed": false,
    "ExecuteTime": {
     "end_time": "2023-11-09T16:16:17.833108600Z",
     "start_time": "2023-11-09T16:16:17.717808400Z"
    }
   },
   "id": "9841a564f9d17c36"
  },
  {
   "cell_type": "code",
   "execution_count": 67,
   "outputs": [
    {
     "data": {
      "text/plain": "                  location  total_loc_number\n0                 Abkhazia                 2\n1              Afghanistan                 3\n2                  Albania                 1\n3                  Andorra                25\n4                Argentina                83\n..                     ...               ...\n164                Uruguay                81\n165              Venezuela              1156\n166                Vietnam                13\n167  Virgin Islands (U.S.)                 5\n168                  Wales               325\n\n[169 rows x 2 columns]",
      "text/html": "<div>\n<style scoped>\n    .dataframe tbody tr th:only-of-type {\n        vertical-align: middle;\n    }\n\n    .dataframe tbody tr th {\n        vertical-align: top;\n    }\n\n    .dataframe thead th {\n        text-align: right;\n    }\n</style>\n<table border=\"1\" class=\"dataframe\">\n  <thead>\n    <tr style=\"text-align: right;\">\n      <th></th>\n      <th>location</th>\n      <th>total_loc_number</th>\n    </tr>\n  </thead>\n  <tbody>\n    <tr>\n      <th>0</th>\n      <td>Abkhazia</td>\n      <td>2</td>\n    </tr>\n    <tr>\n      <th>1</th>\n      <td>Afghanistan</td>\n      <td>3</td>\n    </tr>\n    <tr>\n      <th>2</th>\n      <td>Albania</td>\n      <td>1</td>\n    </tr>\n    <tr>\n      <th>3</th>\n      <td>Andorra</td>\n      <td>25</td>\n    </tr>\n    <tr>\n      <th>4</th>\n      <td>Argentina</td>\n      <td>83</td>\n    </tr>\n    <tr>\n      <th>...</th>\n      <td>...</td>\n      <td>...</td>\n    </tr>\n    <tr>\n      <th>164</th>\n      <td>Uruguay</td>\n      <td>81</td>\n    </tr>\n    <tr>\n      <th>165</th>\n      <td>Venezuela</td>\n      <td>1156</td>\n    </tr>\n    <tr>\n      <th>166</th>\n      <td>Vietnam</td>\n      <td>13</td>\n    </tr>\n    <tr>\n      <th>167</th>\n      <td>Virgin Islands (U.S.)</td>\n      <td>5</td>\n    </tr>\n    <tr>\n      <th>168</th>\n      <td>Wales</td>\n      <td>325</td>\n    </tr>\n  </tbody>\n</table>\n<p>169 rows × 2 columns</p>\n</div>"
     },
     "execution_count": 67,
     "metadata": {},
     "output_type": "execute_result"
    }
   ],
   "source": [
    "ratings_reviews_groupedby_loc = ratings_with_user_location.groupby('location').size().reset_index(name = 'total_loc_number')\n",
    "ratings_reviews_groupedby_loc"
   ],
   "metadata": {
    "collapsed": false,
    "ExecuteTime": {
     "end_time": "2023-11-09T16:15:06.677529700Z",
     "start_time": "2023-11-09T16:15:06.482038Z"
    }
   },
   "id": "c93fba9ddbb1d21b"
  },
  {
   "cell_type": "code",
   "execution_count": 69,
   "outputs": [],
   "source": [
    "location_country = pd.merge(beer_country_location, ratings_reviews_groupedby_loc, on = 'location', how = 'inner')"
   ],
   "metadata": {
    "collapsed": false,
    "ExecuteTime": {
     "end_time": "2023-11-09T16:16:59.661018400Z",
     "start_time": "2023-11-09T16:16:59.565840500Z"
    }
   },
   "id": "41b058c9226c693d"
  },
  {
   "cell_type": "code",
   "execution_count": 70,
   "outputs": [],
   "source": [
    "location_country['popularity_percentage'] = 100* (location_country['number'] / location_country['total_loc_number'])"
   ],
   "metadata": {
    "collapsed": false,
    "ExecuteTime": {
     "end_time": "2023-11-09T16:17:22.233435500Z",
     "start_time": "2023-11-09T16:17:22.135658700Z"
    }
   },
   "id": "8acdf13b96aac12c"
  },
  {
   "cell_type": "code",
   "execution_count": 71,
   "outputs": [
    {
     "data": {
      "text/plain": "          location           brewery_location  number  total_loc_number  \\\n0         Abkhazia                    Germany       2                 2   \n1      Afghanistan                    Belgium       1                 3   \n2      Afghanistan                      Italy       1                 3   \n3      Afghanistan  United States, California       1                 3   \n4          Albania                    England       1                 1   \n...            ...                        ...     ...               ...   \n10563        Wales    United States, Illinois       1               325   \n10564        Wales    United States, Maryland       1               325   \n10565        Wales    United States, Missouri       1               325   \n10566        Wales                    Vietnam       1               325   \n10567        Wales                      Wales      41               325   \n\n       popularity_percentage  \n0                 100.000000  \n1                  33.333333  \n2                  33.333333  \n3                  33.333333  \n4                 100.000000  \n...                      ...  \n10563               0.307692  \n10564               0.307692  \n10565               0.307692  \n10566               0.307692  \n10567              12.615385  \n\n[10568 rows x 5 columns]",
      "text/html": "<div>\n<style scoped>\n    .dataframe tbody tr th:only-of-type {\n        vertical-align: middle;\n    }\n\n    .dataframe tbody tr th {\n        vertical-align: top;\n    }\n\n    .dataframe thead th {\n        text-align: right;\n    }\n</style>\n<table border=\"1\" class=\"dataframe\">\n  <thead>\n    <tr style=\"text-align: right;\">\n      <th></th>\n      <th>location</th>\n      <th>brewery_location</th>\n      <th>number</th>\n      <th>total_loc_number</th>\n      <th>popularity_percentage</th>\n    </tr>\n  </thead>\n  <tbody>\n    <tr>\n      <th>0</th>\n      <td>Abkhazia</td>\n      <td>Germany</td>\n      <td>2</td>\n      <td>2</td>\n      <td>100.000000</td>\n    </tr>\n    <tr>\n      <th>1</th>\n      <td>Afghanistan</td>\n      <td>Belgium</td>\n      <td>1</td>\n      <td>3</td>\n      <td>33.333333</td>\n    </tr>\n    <tr>\n      <th>2</th>\n      <td>Afghanistan</td>\n      <td>Italy</td>\n      <td>1</td>\n      <td>3</td>\n      <td>33.333333</td>\n    </tr>\n    <tr>\n      <th>3</th>\n      <td>Afghanistan</td>\n      <td>United States, California</td>\n      <td>1</td>\n      <td>3</td>\n      <td>33.333333</td>\n    </tr>\n    <tr>\n      <th>4</th>\n      <td>Albania</td>\n      <td>England</td>\n      <td>1</td>\n      <td>1</td>\n      <td>100.000000</td>\n    </tr>\n    <tr>\n      <th>...</th>\n      <td>...</td>\n      <td>...</td>\n      <td>...</td>\n      <td>...</td>\n      <td>...</td>\n    </tr>\n    <tr>\n      <th>10563</th>\n      <td>Wales</td>\n      <td>United States, Illinois</td>\n      <td>1</td>\n      <td>325</td>\n      <td>0.307692</td>\n    </tr>\n    <tr>\n      <th>10564</th>\n      <td>Wales</td>\n      <td>United States, Maryland</td>\n      <td>1</td>\n      <td>325</td>\n      <td>0.307692</td>\n    </tr>\n    <tr>\n      <th>10565</th>\n      <td>Wales</td>\n      <td>United States, Missouri</td>\n      <td>1</td>\n      <td>325</td>\n      <td>0.307692</td>\n    </tr>\n    <tr>\n      <th>10566</th>\n      <td>Wales</td>\n      <td>Vietnam</td>\n      <td>1</td>\n      <td>325</td>\n      <td>0.307692</td>\n    </tr>\n    <tr>\n      <th>10567</th>\n      <td>Wales</td>\n      <td>Wales</td>\n      <td>41</td>\n      <td>325</td>\n      <td>12.615385</td>\n    </tr>\n  </tbody>\n</table>\n<p>10568 rows × 5 columns</p>\n</div>"
     },
     "execution_count": 71,
     "metadata": {},
     "output_type": "execute_result"
    }
   ],
   "source": [
    "location_country"
   ],
   "metadata": {
    "collapsed": false,
    "ExecuteTime": {
     "end_time": "2023-11-09T16:17:25.362097800Z",
     "start_time": "2023-11-09T16:17:25.256384900Z"
    }
   },
   "id": "8ac3195a12d4245a"
  },
  {
   "cell_type": "code",
   "execution_count": null,
   "outputs": [],
   "source": [],
   "metadata": {
    "collapsed": false
   },
   "id": "5a28a53323879a82"
  }
 ],
 "metadata": {
  "kernelspec": {
   "display_name": "Python 3",
   "language": "python",
   "name": "python3"
  },
  "language_info": {
   "codemirror_mode": {
    "name": "ipython",
    "version": 2
   },
   "file_extension": ".py",
   "mimetype": "text/x-python",
   "name": "python",
   "nbconvert_exporter": "python",
   "pygments_lexer": "ipython2",
   "version": "2.7.6"
  }
 },
 "nbformat": 4,
 "nbformat_minor": 5
}
