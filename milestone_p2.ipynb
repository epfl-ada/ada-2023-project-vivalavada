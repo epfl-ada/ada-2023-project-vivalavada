{
 "cells": [
  {
   "cell_type": "markdown",
   "source": [
    "PART 1: Merging (instead of matching) the data from the two websites into one."
   ],
   "metadata": {
    "collapsed": false
   },
   "id": "6840575b4ff911db"
  },
  {
   "cell_type": "code",
   "execution_count": 55,
   "id": "initial_id",
   "metadata": {
    "collapsed": true,
    "ExecuteTime": {
     "end_time": "2023-11-17T10:48:09.737666400Z",
     "start_time": "2023-11-17T10:48:09.593178600Z"
    }
   },
   "outputs": [
    {
     "name": "stdout",
     "output_type": "stream",
     "text": [
      "The autoreload extension is already loaded. To reload it, use:\n",
      "  %reload_ext autoreload\n"
     ]
    }
   ],
   "source": [
    "import pandas as pd\n",
    "import numpy as np\n",
    "from helpers import *\n",
    "import seaborn as sns\n",
    "import matplotlib.pyplot as plt\n",
    "%matplotlib inline\n",
    "from matplotlib.ticker import MaxNLocator\n",
    "from geopy.geocoders import Nominatim\n",
    "import folium\n",
    "from folium.plugins import HeatMap\n",
    "from IPython.display import display\n",
    "from geopy.distance import geodesic\n",
    "import math\n",
    "from statsmodels.stats import diagnostic\n",
    "from scipy import stats\n",
    "import statsmodels.api as sm\n",
    "import statsmodels.formula.api as smf\n",
    "%load_ext autoreload\n",
    "%autoreload 2"
   ]
  },
  {
   "cell_type": "code",
   "execution_count": 2,
   "outputs": [
    {
     "name": "stderr",
     "output_type": "stream",
     "text": [
      "C:\\Users\\korki\\AppData\\Local\\Temp\\ipykernel_16392\\3015418705.py:3: DtypeWarning: Columns (0,1,2,3,4,5,8,10,11,12,13,15,16,17,18,19,20,23,25,26,27,29,30,31,32) have mixed types. Specify dtype option on import or set low_memory=False.\n",
      "  beers_matched = pd.read_csv(\"dataset/MatchedData/beers.csv\")\n"
     ]
    }
   ],
   "source": [
    "beers_rb = pd.read_csv(\"dataset/RateBeer/beers.csv\")\n",
    "beers_ba = pd.read_csv(\"dataset/BeerAdvocate/beers.csv\")\n",
    "beers_matched = pd.read_csv(\"dataset/MatchedData/beers.csv\")"
   ],
   "metadata": {
    "collapsed": false,
    "ExecuteTime": {
     "end_time": "2023-11-17T04:07:10.286390900Z",
     "start_time": "2023-11-17T04:07:07.108437100Z"
    }
   },
   "id": "f434393123b0c09c"
  },
  {
   "cell_type": "code",
   "execution_count": 3,
   "outputs": [],
   "source": [
    "users_rb = pd.read_csv(\"dataset/RateBeer/users.csv\")\n",
    "users_ba = pd.read_csv(\"dataset/BeerAdvocate/users.csv\")\n",
    "users_matched = pd.read_csv(\"dataset/MatchedData/users.csv\")"
   ],
   "metadata": {
    "collapsed": false,
    "ExecuteTime": {
     "end_time": "2023-11-17T04:07:10.678211200Z",
     "start_time": "2023-11-17T04:07:10.286390900Z"
    }
   },
   "id": "3c22286c46677d8f"
  },
  {
   "cell_type": "code",
   "execution_count": 4,
   "outputs": [
    {
     "name": "stderr",
     "output_type": "stream",
     "text": [
      "C:\\Users\\korki\\AppData\\Local\\Temp\\ipykernel_16392\\2933915513.py:3: DtypeWarning: Columns (0,1,2,3,5,7,8,9,10,11,13,17,18,19,20,22,24,25,26,27,29,31) have mixed types. Specify dtype option on import or set low_memory=False.\n",
      "  ratings_matched = pd.read_csv(\"dataset/MatchedData/ratings.csv\")\n"
     ]
    }
   ],
   "source": [
    "ratings_rb = pd.read_csv(\"dataset/RateBeer/ratings-reviews.csv\")\n",
    "ratings_ba = pd.read_csv(\"dataset/BeerAdvocate/ratings.csv\")\n",
    "ratings_matched = pd.read_csv(\"dataset/MatchedData/ratings.csv\")"
   ],
   "metadata": {
    "collapsed": false,
    "ExecuteTime": {
     "end_time": "2023-11-17T04:08:44.376947600Z",
     "start_time": "2023-11-17T04:07:10.678211200Z"
    }
   },
   "id": "a5ef51f08d503665"
  },
  {
   "cell_type": "code",
   "execution_count": 5,
   "outputs": [],
   "source": [
    "brewery_rb = pd.read_csv(\"dataset/RateBeer/breweries.csv\")\n",
    "brewery_ba = pd.read_csv(\"dataset/BeerAdvocate/breweries.csv\")\n",
    "brewery_matched = pd.read_csv(\"dataset/MatchedData/breweries.csv\")"
   ],
   "metadata": {
    "collapsed": false,
    "ExecuteTime": {
     "end_time": "2023-11-17T04:08:44.775091300Z",
     "start_time": "2023-11-17T04:08:44.361326200Z"
    }
   },
   "id": "32e836f966ded56f"
  },
  {
   "cell_type": "code",
   "execution_count": 6,
   "outputs": [],
   "source": [
    "# ID's of the beers coming from the two websites should be unique. However, there are intersections for now, which would cause problems after merging. That's why we add 1000000 to id's of the BeerAdvocate beers.\n",
    "\n",
    "ba_id = beers_ba['beer_id'].values\n",
    "rb_id = beers_rb['beer_id'].values\n",
    "ba_id = ba_id + 1000000\n",
    "\n",
    "#Checking whether the overlapping problem is solved:\n",
    "if np.intersect1d(ba_id, rb_id).size > 0:\n",
    "    print(np.intersect1d(ba_id, rb_id).size)\n",
    "    \n",
    "beers_ba['beer_id'] = beers_ba['beer_id'] + 1000000\n",
    "ratings_ba['beer_id'] = ratings_ba['beer_id'] + 1000000\n",
    "beers_matched['ba.5'][1:] = beers_matched['ba.5'][1:].astype(int) + 1000000\n",
    "beers_matched['rb.4'][1:] = beers_matched['rb.4'][1:].astype(int)\n",
    "\n",
    "#Finding the dictionary that maps the beers from BeerAdvocate to RateBeer (for the beers that are the same) by the help of matched data provided:\n",
    "ba_to_rb_beer_id_dict = dict(zip(beers_matched['ba.5'], beers_matched['rb.4']))"
   ],
   "metadata": {
    "collapsed": false,
    "ExecuteTime": {
     "end_time": "2023-11-17T04:08:45.064724200Z",
     "start_time": "2023-11-17T04:08:44.775091300Z"
    }
   },
   "id": "b1f2ce4373c6ff8c"
  },
  {
   "cell_type": "code",
   "execution_count": 7,
   "outputs": [],
   "source": [
    "# ID's of the breweries coming from the two websites should be unique. However, there are intersections for now, which would cause problems after merging. That's why we add 1000000 to id's of the BeerAdvocate breweries, again.\n",
    "\n",
    "ba_id = brewery_ba['id'].values\n",
    "rb_id = brewery_rb['id'].values\n",
    "ba_id = ba_id + 1000000\n",
    "\n",
    "#Checking whether the overlapping problem is solved:\n",
    "if np.intersect1d(ba_id, rb_id).size > 0:\n",
    "    print(np.intersect1d(ba_id, rb_id).size)\n",
    "\n",
    "brewery_ba['id'] = brewery_ba['id'] + 1000000\n",
    "beers_ba['brewery_id'] = beers_ba['brewery_id'] + 1000000\n",
    "ratings_ba['brewery_id'] = ratings_ba['brewery_id'] + 1000000\n",
    "brewery_matched['ba'][1:] = brewery_matched['ba'][1:].astype(int) + 1000000\n",
    "brewery_matched['rb'][1:] = brewery_matched['rb'][1:].astype(int)\n",
    "\n",
    "#Finding the dictionary that maps the breweries from BeerAdvocate to RateBeer (for the breweries that are the same) by the help of matched data provided:\n",
    "ba_to_rb_brewery_id_dict = dict(zip(brewery_matched['ba'], brewery_matched['rb']))"
   ],
   "metadata": {
    "collapsed": false,
    "ExecuteTime": {
     "end_time": "2023-11-17T04:08:45.236481900Z",
     "start_time": "2023-11-17T04:08:45.064724200Z"
    }
   },
   "id": "425e50b5920fab4b"
  },
  {
   "cell_type": "code",
   "execution_count": 8,
   "outputs": [],
   "source": [
    "ba_id = users_ba['user_id'].values\n",
    "rb_id = users_rb['user_id'].astype(str).values\n",
    "\n",
    "#Checking if there is the same ID overlap problem for the users as well:\n",
    "if np.intersect1d(ba_id, rb_id).size > 0:\n",
    "    print(np.intersect1d(ba_id, rb_id).size)\n",
    "\n",
    "#Finding the dictionary that maps the users from BeerAdvocate to RateBeer (for the users that are the same) by the help of matched data provided:  \n",
    "ba_to_rb_user_id_dict = dict(zip(users_matched['ba.4'], users_matched['rb.3']))"
   ],
   "metadata": {
    "collapsed": false,
    "ExecuteTime": {
     "end_time": "2023-11-17T04:08:45.878200800Z",
     "start_time": "2023-11-17T04:08:45.236481900Z"
    }
   },
   "id": "e92dbeba7b321f37"
  },
  {
   "cell_type": "code",
   "execution_count": 9,
   "outputs": [],
   "source": [
    "#Finding the style of beers present in the matched data and RateBeer data separately:\n",
    "matched_rb_beers = beers_matched['rb.12'].unique()\n",
    "all_rb_beers = beers_rb['style'].unique()\n",
    "\n",
    "#Finding the styles that are in RateBeer but not in the matched data:\n",
    "elements_not_in_matched = [element for element in all_rb_beers if element not in matched_rb_beers]\n",
    "\n",
    "#The styles that are in RateBeer but not in the matched data have received very few ratings. Furthermore, we will map the styles of BeerAdvocate to the styles of RateBeer using the matched data. Since no BeerAdvocate beers will be mapped to this set of beers, they will appear even less popular in the results. Therefore, we eliminate these styles here.\n",
    "beers_rb = beers_rb[~beers_rb['style'].isin(elements_not_in_matched)]\n",
    "ratings_rb = ratings_rb[~ratings_rb['style'].isin(elements_not_in_matched)]"
   ],
   "metadata": {
    "collapsed": false,
    "ExecuteTime": {
     "end_time": "2023-11-17T04:09:01.918869800Z",
     "start_time": "2023-11-17T04:08:45.878200800Z"
    }
   },
   "id": "994ad78132e53f68"
  },
  {
   "cell_type": "code",
   "execution_count": 10,
   "outputs": [],
   "source": [
    "#Inspecting the matched data we realize that there is no one to one matched between the \"style\" labels of the two websites. For example: a beer with style label of \"English Pale Ale\" on BeerAdvocate is labeled as having the style \"Golden Ale/Blond Ale\" in RateBeer. But another beer, whose style is also \"English Pale Ale\" on BeerAdvocate has this time style label of \"Amber Ale\" in RateBeer. \n",
    "\n",
    "# In order to match the BeerAdvocate styles to the RateBeer styles, we look at all the instances of each unique beer in BeerAdvocate and find its most frequent corresponding style in RateBeer. We then collect each unique style in BeerAdvocate, its most frequent match and the most frequent match count in a dataframe.\n",
    "\n",
    "ba_to_rb = []\n",
    "for style_value in beers_matched['ba.14'].unique():\n",
    "    # Filter the DataFrame for rows where 'style_column1' matches the current value\n",
    "    filtered_rows = beers_matched[beers_matched['ba.14'] == style_value]\n",
    "    \n",
    "    # Find the most frequent match in 'style_column2'\n",
    "    most_frequent_match = filtered_rows['rb.12'].mode().iloc[0]\n",
    "    \n",
    "    # Count the occurrences of the most frequent match\n",
    "    match_count = filtered_rows[filtered_rows['rb.12'] == most_frequent_match].shape[0]\n",
    "    \n",
    "    # Append the results to the result DataFrame\n",
    "    # \n",
    "    ba_to_rb.append({'style_column1': style_value,\n",
    "                                  'most_frequent_match': most_frequent_match,\n",
    "                                  'match_count': match_count})\n",
    "ba_to_rb.pop(0)\n",
    "ba_to_rb_df = pd.DataFrame(ba_to_rb)"
   ],
   "metadata": {
    "collapsed": false,
    "ExecuteTime": {
     "end_time": "2023-11-17T04:09:02.641196600Z",
     "start_time": "2023-11-17T04:09:01.918869800Z"
    }
   },
   "id": "7a0ff370e25970b3"
  },
  {
   "cell_type": "code",
   "execution_count": 11,
   "outputs": [],
   "source": [
    "#We see that all the styles of the BeerAdvocate are mapped to 71 different beer styles in RateBeer using the above-explained procedure. We would like to have one-to-one mapping between the styles of two websites such that not only all the styles of BeerAdvocate are mapped to a style of RateBeer, all styles of RateBeer are also mapped to a BeerAdvocate style.\n",
    "\n",
    "#For this, we first find which styles of RateBeer are not mapped to a BeerAdvocate beer in the previous cell.\n",
    "rb_to_ba_styles = ba_to_rb_df.most_frequent_match.unique()\n",
    "matched_rb_styles = beers_matched['rb.12'].unique()\n",
    "elements_not_in_ba = [element for element in matched_rb_styles if element not in rb_to_ba_styles]"
   ],
   "metadata": {
    "collapsed": false,
    "ExecuteTime": {
     "end_time": "2023-11-17T04:09:02.781671200Z",
     "start_time": "2023-11-17T04:09:02.641196600Z"
    }
   },
   "id": "f0603ef900b530e7"
  },
  {
   "cell_type": "code",
   "execution_count": 12,
   "outputs": [],
   "source": [
    "#For the RateBeer styles that are not mapped, we first find their most frequent match in BeerAdvocate, and then map it back to one of the RateBeer styles as done before. By doing this, we make sure that all the BeerAdvocate styles are mapped to a RateBeer style and vice versa.\n",
    "\n",
    "rb_to_ba_df = []\n",
    "for style_value in elements_not_in_ba:\n",
    "    # Filter the DataFrame for rows where 'style_column1' matches the current value\n",
    "    filtered_rows = beers_matched[beers_matched['rb.12'] == style_value]\n",
    "    \n",
    "    # Find the most frequent match in 'style_column2'\n",
    "    most_frequent_match = filtered_rows['ba.14'].mode().iloc[0]\n",
    "    \n",
    "    # Count the occurrences of the most frequent match\n",
    "    match_count = filtered_rows[filtered_rows['ba.14'] == most_frequent_match].shape[0]\n",
    "    \n",
    "    # Append the results to the result DataFrame\n",
    "    rb_to_ba_df.append({'style_column1': style_value,\n",
    "                                  'most_frequent_match': most_frequent_match,\n",
    "                                  'match_count': match_count})\n",
    "rb_to_ba_df = pd.DataFrame(rb_to_ba_df)"
   ],
   "metadata": {
    "collapsed": false,
    "ExecuteTime": {
     "end_time": "2023-11-17T04:09:02.943974400Z",
     "start_time": "2023-11-17T04:09:02.781671200Z"
    }
   },
   "id": "107882c51c50ca40"
  },
  {
   "cell_type": "code",
   "execution_count": 13,
   "outputs": [],
   "source": [
    "#Finding the dictionary that maps the \"unmapped\" RateBeer styles to one of the BeerAdvocate styles:\n",
    "\n",
    "rb_to_ba_dict = dict(zip(rb_to_ba_df['style_column1'], rb_to_ba_df['most_frequent_match']))\n",
    "beers_matched['rb.12'] = beers_matched['rb.12'].replace(rb_to_ba_dict)\n",
    "beers_rb['style'] = beers_rb['style'].replace(rb_to_ba_dict)\n",
    "ratings_rb['style'] = ratings_rb['style'].replace(rb_to_ba_dict)"
   ],
   "metadata": {
    "collapsed": false,
    "ExecuteTime": {
     "end_time": "2023-11-17T04:09:05.863413800Z",
     "start_time": "2023-11-17T04:09:02.943974400Z"
    }
   },
   "id": "159a4dd6278015e7"
  },
  {
   "cell_type": "code",
   "execution_count": 14,
   "outputs": [],
   "source": [
    "#Mapping these styles back to one of the 71 RateBeer styles:\n",
    "\n",
    "ba_to_rb_dict = dict(zip(ba_to_rb_df['style_column1'], ba_to_rb_df['most_frequent_match']))\n",
    "beers_ba['style'] = beers_ba['style'].replace(ba_to_rb_dict)\n",
    "beers_matched['rb.12'] = beers_matched['rb.12'].replace(ba_to_rb_dict)\n",
    "beers_rb['style'] = beers_rb['style'].replace(ba_to_rb_dict)\n",
    "ratings_rb['style'] = ratings_rb['style'].replace(ba_to_rb_dict)"
   ],
   "metadata": {
    "collapsed": false,
    "ExecuteTime": {
     "end_time": "2023-11-17T04:09:28.661139200Z",
     "start_time": "2023-11-17T04:09:05.972749300Z"
    }
   },
   "id": "88db5533dbfd3813"
  },
  {
   "cell_type": "code",
   "execution_count": 15,
   "outputs": [],
   "source": [
    "matched_rb_ids = beers_matched['rb.4'][1:]\n",
    "matched_ba_ids = beers_matched['ba.5'][1:]"
   ],
   "metadata": {
    "collapsed": false,
    "ExecuteTime": {
     "end_time": "2023-11-17T04:09:28.784361900Z",
     "start_time": "2023-11-17T04:09:28.675021Z"
    }
   },
   "id": "a516e6c6976da5df"
  },
  {
   "cell_type": "code",
   "execution_count": 16,
   "outputs": [],
   "source": [
    "#Removing the matched beers from the two websites before merging:\n",
    "\n",
    "rb_without_matched = beers_rb[~beers_rb['beer_id'].isin(matched_rb_ids)]\n",
    "ba_without_matched = beers_ba[~beers_ba['beer_id'].isin(matched_ba_ids)]"
   ],
   "metadata": {
    "collapsed": false,
    "ExecuteTime": {
     "end_time": "2023-11-17T04:09:29.081662900Z",
     "start_time": "2023-11-17T04:09:28.784361900Z"
    }
   },
   "id": "946efe9e6ed43b2f"
  },
  {
   "cell_type": "code",
   "execution_count": 17,
   "outputs": [],
   "source": [
    "#First, we take only the necessary columns of beer datasets and rename them conveniently. \n",
    "\n",
    "columns_to_take = ['beer_id', 'beer_name', 'brewery_id', 'brewery_name', 'style', 'abv']\n",
    "column_name_mapping = {'rb.4': 'beer_id', 'rb.5': 'beer_name', 'rb.7': 'brewery_id', 'rb.8': 'brewery_name', 'rb.12': 'style', 'rb': 'abv'}\n",
    "beers_matched.rename(columns = column_name_mapping, inplace = True)\n",
    "\n",
    "#We first merge the beer datasets from the two websites. Note that the matched beers were eliminated from these datasets beforehand.\n",
    "merged_beers = pd.concat([rb_without_matched[columns_to_take], ba_without_matched[columns_to_take]], axis=0, ignore_index = True)\n",
    "\n",
    "#Now we include the matched beers in the merged datasets, making sure that the matched beers are not repeated but included only once.\n",
    "merged_beers = pd.concat([merged_beers, beers_matched.iloc[1:][columns_to_take]], axis=0, ignore_index = True)"
   ],
   "metadata": {
    "collapsed": false,
    "ExecuteTime": {
     "end_time": "2023-11-17T04:09:29.348542700Z",
     "start_time": "2023-11-17T04:09:29.081662900Z"
    }
   },
   "id": "856a1992d2ddba7b"
  },
  {
   "cell_type": "code",
   "execution_count": 18,
   "outputs": [],
   "source": [
    "#Before merging the breweries, removing the matched breweries from BeerAdvocate and then merging this directly with the original brewery data of RateBeer:\n",
    "\n",
    "matched_ba_ids = brewery_matched['ba'][1:]\n",
    "ba_without_matched = brewery_ba[~brewery_ba['id'].isin(matched_ba_ids)]\n",
    "merged_breweries = pd.concat([brewery_rb, ba_without_matched], axis = 0, ignore_index = True)"
   ],
   "metadata": {
    "collapsed": false,
    "ExecuteTime": {
     "end_time": "2023-11-17T04:09:29.473376800Z",
     "start_time": "2023-11-17T04:09:29.348542700Z"
    }
   },
   "id": "529ae795ab13f6cc"
  },
  {
   "cell_type": "code",
   "execution_count": 19,
   "outputs": [],
   "source": [
    "#Before merging the users, removing the matched users from BeerAdvocate and then merging this directly with the original user data of RateBeer:\n",
    "\n",
    "matched_ba_ids = users_matched['ba.4'][1:]\n",
    "ba_without_matched = users_ba[~users_ba['user_id'].isin(matched_ba_ids)]\n",
    "merged_users = pd.concat([users_rb, ba_without_matched], axis = 0, ignore_index = True)\n",
    "merged_users['user_id'] = merged_users['user_id'].astype(str)"
   ],
   "metadata": {
    "collapsed": false,
    "ExecuteTime": {
     "end_time": "2023-11-17T04:09:29.676368500Z",
     "start_time": "2023-11-17T04:09:29.473376800Z"
    }
   },
   "id": "2ea49d18ba1e4d8e"
  },
  {
   "cell_type": "code",
   "execution_count": 20,
   "outputs": [],
   "source": [
    "#Since the user_id's, beer_id's and brewery_id's of the matched beer are only kept in the RateBeer dataset and style names are picked based on RateBeer for merging, before merging the ratings data of the two websites we update the corresponding columns of the BeerAdvocate datasets using the dictionaries calculated beforehand. \n",
    "\n",
    "ratings_ba['style'] = ratings_ba['style'].replace(ba_to_rb_dict)\n",
    "ratings_ba['user_id'] = ratings_ba['user_id'].replace(ba_to_rb_user_id_dict)\n",
    "ratings_ba['beer_id'] = ratings_ba['beer_id'].replace(ba_to_rb_beer_id_dict)\n",
    "ratings_ba['brewery_id'] = ratings_ba['brewery_id'].replace(ba_to_rb_brewery_id_dict)"
   ],
   "metadata": {
    "collapsed": false,
    "ExecuteTime": {
     "end_time": "2023-11-17T04:52:36.873247300Z",
     "start_time": "2023-11-17T04:09:29.676368500Z"
    }
   },
   "id": "9794733fceb481f6"
  },
  {
   "cell_type": "code",
   "execution_count": null,
   "outputs": [],
   "source": [
    "#Adjusting the data types:\n",
    "\n",
    "ratings_matched = ratings_matched.iloc[1:]\n",
    "\n",
    "ratings_matched['ba.15'] = ratings_matched['ba.15'].astype(str)\n",
    "ratings_matched['ba.7'] = ratings_matched['ba.7'].astype(np.int64)\n",
    "ratings_matched['ba.3'] = ratings_matched['ba.3'].astype(np.int64)\n",
    "\n",
    "ratings_matched['rb.14'] = ratings_matched['rb.14'].astype(str)\n",
    "ratings_matched['rb.7'] = ratings_matched['rb.7'].astype(np.int64)\n",
    "ratings_matched['rb.3'] = ratings_matched['rb.3'].astype(np.int64)\n",
    "\n",
    "# List of usernames present in both websites, using BA information:\n",
    "listed_ba_user = list(ratings_matched['ba.15'])\n",
    "listed_ba_date = list(ratings_matched['ba.7'])\n",
    "listed_ba_beer = list(ratings_matched['ba.3'])\n",
    "\n",
    "# List of usernames present in both websites, using RB information:\n",
    "listed_rb_user=list(ratings_matched['rb.14'])\n",
    "listed_rb_date = list(ratings_matched['rb.7'])\n",
    "listed_rb_beer = list(ratings_matched['rb.3'])\n",
    "\n",
    "# Creating triples to be able to uniquely identify the matched ratings (ratings that are given for the same beer in the two websites by the same user) in each of the websites:\n",
    "couple_ba = list(zip(listed_rb_user, listed_ba_date, listed_rb_beer))\n",
    "couple_rb = list(zip(listed_rb_user, listed_rb_date, listed_rb_beer))\n",
    "\n",
    "# Selecting only the rows that do not match the triples for BeerAdvocate, dropping review column and adding a new column to indicate the website for the future z-score calculations:\n",
    "ratings_ba['user_id'] = ratings_ba['user_id'].astype(str)\n",
    "ratings_ba['date'] = ratings_ba['date'].astype(np.int64)\n",
    "ratings_ba['beer_id'] = ratings_ba['beer_id'].astype(np.int64)\n",
    "df_ba_removed = ratings_ba[~ratings_ba.set_index(['user_id', 'date', 'beer_id']).index.isin(couple_ba)]\n",
    "df_ba_removed = df_ba_removed.drop('review', axis = 1)\n",
    "df_ba_removed['website'] = 1\n",
    "\n",
    "# Selecting only the rows that do not match the triples for RateBeer and adding a new column to \n",
    "# indicate the website for the future z-score calculations:\n",
    "ratings_rb['user_id'] = ratings_rb['user_id'].astype(str)\n",
    "ratings_rb['date'] = ratings_rb['date'].astype(np.int64)\n",
    "ratings_rb['beer_id'] = ratings_rb['beer_id'].astype(np.int64)\n",
    "df_rb_removed = ratings_rb[~ratings_rb.set_index(['user_id', 'date', 'beer_id']).index.isin(couple_rb)]\n",
    "df_rb_removed['website'] = 0\n",
    "\n",
    "merged_ratings = pd.concat([df_ba_removed, df_rb_removed], axis = 0, ignore_index=True)\n",
    "\n",
    "merged_ratings['date'] = merged_ratings['date'].apply(convert_unix_timestamp)\n",
    "merged_ratings['year'] = merged_ratings['date'].dt.year"
   ],
   "metadata": {
    "collapsed": false
   },
   "id": "2d9024eb80654814"
  },
  {
   "cell_type": "code",
   "execution_count": 25,
   "outputs": [],
   "source": [
    "#Recalculating the number of ratings:\n",
    "\n",
    "rating_counts_by_user = merged_ratings.groupby('user_id')['beer_id'].count()\n",
    "rating_counts_by_user_dict = rating_counts_by_user.to_dict()\n",
    "merged_users['nbr_ratings'] = merged_users['nbr_ratings'].replace(rating_counts_by_user_dict)"
   ],
   "metadata": {
    "collapsed": false,
    "ExecuteTime": {
     "end_time": "2023-11-17T09:58:20.367934300Z",
     "start_time": "2023-11-17T09:58:11.326448600Z"
    }
   },
   "id": "e7d27bb878ebdb4b"
  },
  {
   "cell_type": "code",
   "execution_count": 26,
   "outputs": [],
   "source": [
    "merged_beers.to_csv(\"dataset/MergedData/beers.csv\", index = False)\n",
    "merged_breweries.to_csv(\"dataset/MergedData/breweries.csv\", index = False)\n",
    "merged_users.to_csv(\"dataset/MergedData/users.csv\", index = False)\n",
    "merged_ratings.to_csv(\"dataset/MergedData/ratings.csv\", index = False)"
   ],
   "metadata": {
    "collapsed": false,
    "ExecuteTime": {
     "end_time": "2023-11-17T10:05:22.137822100Z",
     "start_time": "2023-11-17T09:58:20.336625700Z"
    }
   },
   "id": "3f7d8e581e07e867"
  },
  {
   "cell_type": "code",
   "execution_count": 27,
   "outputs": [],
   "source": [
    "beers = pd.read_csv('dataset/MergedData/beers.csv')\n",
    "breweries = pd.read_csv('dataset/MergedData/breweries.csv')\n",
    "ratings = pd.read_csv('dataset/MergedData/ratings.csv', dtype = {'user_id': str})\n",
    "users = pd.read_csv('dataset/MergedData/users.csv', dtype = {'user_id': str})"
   ],
   "metadata": {
    "collapsed": false,
    "ExecuteTime": {
     "end_time": "2023-11-17T10:08:01.520763900Z",
     "start_time": "2023-11-17T10:05:22.120971400Z"
    }
   },
   "id": "b14db6909a698bf2"
  },
  {
   "cell_type": "markdown",
   "source": [
    "PART 2: Preprocessing of the merged data before initial analysis"
   ],
   "metadata": {
    "collapsed": false
   },
   "id": "d3a261f951aa7449"
  },
  {
   "cell_type": "code",
   "execution_count": 28,
   "outputs": [],
   "source": [
    "#Calculating z-scores for all types of ratings by normalizing with respect to the mean and standard deviation of the corresponding website's ratings of that year:\n",
    "\n",
    "ratings['rating'] = (ratings['rating'] - ratings.groupby(['year', 'website'])['rating'].transform('mean')) / ratings.groupby(['year', 'website'])['rating'].transform('std')\n",
    "\n",
    "ratings['appearance'] = (ratings['appearance'] - ratings.groupby(['year', 'website'])['appearance'].transform('mean')) / ratings.groupby(['year', 'website'])['appearance'].transform('std')\n",
    "\n",
    "ratings['aroma'] = (ratings['aroma'] - ratings.groupby(['year', 'website'])['aroma'].transform('mean')) / ratings.groupby(['year', 'website'])['aroma'].transform('std')\n",
    "\n",
    "ratings['palate'] = (ratings['palate'] - ratings.groupby(['year', 'website'])['palate'].transform('mean')) / ratings.groupby(['year', 'website'])['palate'].transform('std')\n",
    "\n",
    "ratings['taste'] = (ratings['taste'] - ratings.groupby(['year', 'website'])['taste'].transform('mean')) / ratings.groupby(['year', 'website'])['taste'].transform('std')\n",
    "\n",
    "ratings['overall'] = (ratings['overall'] - ratings.groupby(['year', 'website'])['overall'].transform('mean')) / ratings.groupby(['year', 'website'])['overall'].transform('std')"
   ],
   "metadata": {
    "collapsed": false,
    "ExecuteTime": {
     "end_time": "2023-11-17T10:08:17.709981300Z",
     "start_time": "2023-11-17T10:08:01.583248600Z"
    }
   },
   "id": "6e92408d1f149ec5"
  },
  {
   "cell_type": "code",
   "execution_count": 29,
   "outputs": [
    {
     "data": {
      "text/plain": "       beer_name  beer_id                               brewery_name  \\\n0          Régab  1142544  Societe des Brasseries du Gabon (SOBRAGA)   \n1  Barelegs Brew  1019590       Strangford Lough Brewing Company Ltd   \n2  Barelegs Brew  1019590       Strangford Lough Brewing Company Ltd   \n3  Barelegs Brew  1019590       Strangford Lough Brewing Company Ltd   \n4  Barelegs Brew  1019590       Strangford Lough Brewing Company Ltd   \n\n   brewery_id                 style  abv                 date  \\\n0     1037262            Pale Lager  4.5  2015-08-20 10:00:00   \n1        4959  Golden Ale/Blond Ale  4.5  2009-02-20 11:00:00   \n2        4959  Golden Ale/Blond Ale  4.5  2006-03-13 11:00:00   \n3        4959  Golden Ale/Blond Ale  4.5  2004-12-01 11:00:00   \n4        4959  Golden Ale/Blond Ale  4.5  2004-08-30 10:00:00   \n\n         user_name                user_id  appearance     aroma    palate  \\\n0          nmann08                 101495   -1.393976 -2.057290 -1.199632   \n1      StJamesGate     stjamesgate.163714   -1.462793 -0.396151 -0.421158   \n2          mdagnew          mdagnew.19527    0.310025 -0.265126 -0.279445   \n3  helloloser12345  helloloser12345.10867    0.318086 -0.246417  0.436833   \n4       cypressbob        cypressbob.3708    0.318086  0.437153  0.436833   \n\n      taste   overall    rating  \\\n0 -2.042947 -1.698431 -1.970329   \n1  0.249223 -0.499760 -0.240900   \n2  0.339157 -0.381048 -0.013315   \n3  0.332241  0.951909  0.369234   \n4  0.332241  0.290417  0.399252   \n\n                                                text  website  year  \n0  From a bottle, pours a piss yellow color with ...        1  2015  \n1  Pours pale copper with a thin head that quickl...        1  2009  \n2  500ml Bottle bought from The Vintage, Antrim.....        1  2006  \n3  Serving: 500ml brown bottlePour: Good head wit...        1  2004  \n4  500ml bottlePours with a light, slightly hazy ...        1  2004  ",
      "text/html": "<div>\n<style scoped>\n    .dataframe tbody tr th:only-of-type {\n        vertical-align: middle;\n    }\n\n    .dataframe tbody tr th {\n        vertical-align: top;\n    }\n\n    .dataframe thead th {\n        text-align: right;\n    }\n</style>\n<table border=\"1\" class=\"dataframe\">\n  <thead>\n    <tr style=\"text-align: right;\">\n      <th></th>\n      <th>beer_name</th>\n      <th>beer_id</th>\n      <th>brewery_name</th>\n      <th>brewery_id</th>\n      <th>style</th>\n      <th>abv</th>\n      <th>date</th>\n      <th>user_name</th>\n      <th>user_id</th>\n      <th>appearance</th>\n      <th>aroma</th>\n      <th>palate</th>\n      <th>taste</th>\n      <th>overall</th>\n      <th>rating</th>\n      <th>text</th>\n      <th>website</th>\n      <th>year</th>\n    </tr>\n  </thead>\n  <tbody>\n    <tr>\n      <th>0</th>\n      <td>Régab</td>\n      <td>1142544</td>\n      <td>Societe des Brasseries du Gabon (SOBRAGA)</td>\n      <td>1037262</td>\n      <td>Pale Lager</td>\n      <td>4.5</td>\n      <td>2015-08-20 10:00:00</td>\n      <td>nmann08</td>\n      <td>101495</td>\n      <td>-1.393976</td>\n      <td>-2.057290</td>\n      <td>-1.199632</td>\n      <td>-2.042947</td>\n      <td>-1.698431</td>\n      <td>-1.970329</td>\n      <td>From a bottle, pours a piss yellow color with ...</td>\n      <td>1</td>\n      <td>2015</td>\n    </tr>\n    <tr>\n      <th>1</th>\n      <td>Barelegs Brew</td>\n      <td>1019590</td>\n      <td>Strangford Lough Brewing Company Ltd</td>\n      <td>4959</td>\n      <td>Golden Ale/Blond Ale</td>\n      <td>4.5</td>\n      <td>2009-02-20 11:00:00</td>\n      <td>StJamesGate</td>\n      <td>stjamesgate.163714</td>\n      <td>-1.462793</td>\n      <td>-0.396151</td>\n      <td>-0.421158</td>\n      <td>0.249223</td>\n      <td>-0.499760</td>\n      <td>-0.240900</td>\n      <td>Pours pale copper with a thin head that quickl...</td>\n      <td>1</td>\n      <td>2009</td>\n    </tr>\n    <tr>\n      <th>2</th>\n      <td>Barelegs Brew</td>\n      <td>1019590</td>\n      <td>Strangford Lough Brewing Company Ltd</td>\n      <td>4959</td>\n      <td>Golden Ale/Blond Ale</td>\n      <td>4.5</td>\n      <td>2006-03-13 11:00:00</td>\n      <td>mdagnew</td>\n      <td>mdagnew.19527</td>\n      <td>0.310025</td>\n      <td>-0.265126</td>\n      <td>-0.279445</td>\n      <td>0.339157</td>\n      <td>-0.381048</td>\n      <td>-0.013315</td>\n      <td>500ml Bottle bought from The Vintage, Antrim.....</td>\n      <td>1</td>\n      <td>2006</td>\n    </tr>\n    <tr>\n      <th>3</th>\n      <td>Barelegs Brew</td>\n      <td>1019590</td>\n      <td>Strangford Lough Brewing Company Ltd</td>\n      <td>4959</td>\n      <td>Golden Ale/Blond Ale</td>\n      <td>4.5</td>\n      <td>2004-12-01 11:00:00</td>\n      <td>helloloser12345</td>\n      <td>helloloser12345.10867</td>\n      <td>0.318086</td>\n      <td>-0.246417</td>\n      <td>0.436833</td>\n      <td>0.332241</td>\n      <td>0.951909</td>\n      <td>0.369234</td>\n      <td>Serving: 500ml brown bottlePour: Good head wit...</td>\n      <td>1</td>\n      <td>2004</td>\n    </tr>\n    <tr>\n      <th>4</th>\n      <td>Barelegs Brew</td>\n      <td>1019590</td>\n      <td>Strangford Lough Brewing Company Ltd</td>\n      <td>4959</td>\n      <td>Golden Ale/Blond Ale</td>\n      <td>4.5</td>\n      <td>2004-08-30 10:00:00</td>\n      <td>cypressbob</td>\n      <td>cypressbob.3708</td>\n      <td>0.318086</td>\n      <td>0.437153</td>\n      <td>0.436833</td>\n      <td>0.332241</td>\n      <td>0.290417</td>\n      <td>0.399252</td>\n      <td>500ml bottlePours with a light, slightly hazy ...</td>\n      <td>1</td>\n      <td>2004</td>\n    </tr>\n  </tbody>\n</table>\n</div>"
     },
     "execution_count": 29,
     "metadata": {},
     "output_type": "execute_result"
    }
   ],
   "source": [
    "#Visualizing the ratings dataframe as a sanity check:\n",
    "\n",
    "ratings.head()"
   ],
   "metadata": {
    "collapsed": false,
    "ExecuteTime": {
     "end_time": "2023-11-17T10:08:17.944686200Z",
     "start_time": "2023-11-17T10:08:17.709981300Z"
    }
   },
   "id": "b25626f2699cc529"
  },
  {
   "cell_type": "code",
   "execution_count": 30,
   "outputs": [
    {
     "name": "stdout",
     "output_type": "stream",
     "text": [
      "Number of unique beers: 676988\n",
      "Number of beers with ratings: 606006\n",
      "\n",
      "Number of unique beer styles: 71\n",
      "\n",
      "Number of unique breweries: 32666\n",
      "Number of breweries with ratings: 28464\n",
      "\n",
      "Number of unique users: 220804\n",
      "Number of users with ratings: 220782\n",
      "\n",
      "Total number of ratings: 15468484\n"
     ]
    },
    {
     "data": {
      "text/plain": "beer_name             0\nbeer_id               0\nbrewery_name          0\nbrewery_id            0\nstyle                 0\nabv              346266\ndate                  0\nuser_name            31\nuser_id               0\nappearance      3620689\naroma           3620689\npalate          3620689\ntaste           3620689\noverall         3620689\nrating                1\ntext            5673637\nwebsite               0\nyear                  0\ndtype: int64"
     },
     "execution_count": 30,
     "metadata": {},
     "output_type": "execute_result"
    }
   ],
   "source": [
    "#Inspecting some statistics of our dataset:\n",
    "\n",
    "print(f\"Number of unique beers: {len(beers['beer_id'].unique())}\")\n",
    "print(f\"Number of beers with ratings: {len(ratings['beer_id'].unique())}\\n\")\n",
    "\n",
    "print(f\"Number of unique beer styles: {len(beers['style'].unique())}\\n\")\n",
    "\n",
    "print(f\"Number of unique breweries: {len(breweries['id'].unique())}\")\n",
    "print(f\"Number of breweries with ratings: {len(ratings['brewery_id'].unique())}\\n\")\n",
    "\n",
    "print(f\"Number of unique users: {len(users['user_id'].unique())}\")\n",
    "print(f\"Number of users with ratings: {len(ratings['user_id'].unique())}\\n\")\n",
    "\n",
    "print(f\"Total number of ratings: {len(ratings)}\")\n",
    "\n",
    "ratings.isna().sum()"
   ],
   "metadata": {
    "collapsed": false,
    "ExecuteTime": {
     "end_time": "2023-11-17T10:08:30.318739400Z",
     "start_time": "2023-11-17T10:08:17.897823400Z"
    }
   },
   "id": "4a8a46d354467a68"
  },
  {
   "cell_type": "code",
   "execution_count": 31,
   "outputs": [
    {
     "data": {
      "text/plain": "<Figure size 640x480 with 1 Axes>",
      "image/png": "[encoded data removed]"
     },
     "metadata": {},
     "output_type": "display_data"
    }
   ],
   "source": [
    "#Looking at the distribution of the alcohol by volume of beers:\n",
    "sns.boxplot(beers, x = \"abv\")\n",
    "\n",
    "plt.title('Distribution of Alcohol by Volume', fontsize = 12)\n",
    "plt.xlabel('Alcohol by Volume', fontsize = 11)\n",
    "plt.show()"
   ],
   "metadata": {
    "collapsed": false,
    "ExecuteTime": {
     "end_time": "2023-11-17T10:08:31.069821900Z",
     "start_time": "2023-11-17T10:08:30.303114800Z"
    }
   },
   "id": "e0233b7a5c114cb9"
  },
  {
   "cell_type": "markdown",
   "source": [
    "We see that there are some beers with unrealisticly high alcohol percentages. After a research, we concluded that data coming from these beers are unreliable and we decided to eliminate the beers with more that 50 percent of alcohol by volume."
   ],
   "metadata": {
    "collapsed": false
   },
   "id": "676783499e3731da"
  },
  {
   "cell_type": "code",
   "execution_count": 32,
   "outputs": [],
   "source": [
    "beers = beers[beers['abv'] < 50]\n",
    "ratings = ratings[ratings['abv'] < 50]"
   ],
   "metadata": {
    "collapsed": false,
    "ExecuteTime": {
     "end_time": "2023-11-17T10:08:34.789598700Z",
     "start_time": "2023-11-17T10:08:31.054182300Z"
    }
   },
   "id": "605e99092d44a690"
  },
  {
   "cell_type": "code",
   "execution_count": 33,
   "outputs": [
    {
     "data": {
      "text/plain": "<Figure size 640x480 with 1 Axes>",
      "image/png": "[encoded data removed]"
     },
     "metadata": {},
     "output_type": "display_data"
    }
   ],
   "source": [
    "ax = sns.histplot(users['nbr_ratings'], bins = 50, log_scale=(False, True))\n",
    "\n",
    "ax.set_title('Histogram of Number of Ratings per User', fontsize = 12)\n",
    "ax.set_xlabel('Number of Ratings', fontsize = 11)\n",
    "ax.set_ylabel('Count', fontsize = 11)\n",
    "plt.show()"
   ],
   "metadata": {
    "collapsed": false,
    "ExecuteTime": {
     "end_time": "2023-11-17T10:08:37.938788300Z",
     "start_time": "2023-11-17T10:08:34.805220300Z"
    }
   },
   "id": "f501fa1e78fbe54e"
  },
  {
   "cell_type": "markdown",
   "source": [
    "We see that there are some users with unrealistic number of rated beers. Looking at the plot, we identify users with more than 20,000 ratings as outliers and both eliminate them as users and also eliminate their ratings."
   ],
   "metadata": {
    "collapsed": false
   },
   "id": "830fd226ffd4c909"
  },
  {
   "cell_type": "code",
   "execution_count": 34,
   "outputs": [],
   "source": [
    "outlier_user_ids = users[users['nbr_ratings'] >= 20000]['user_id'].values\n",
    "users = users[~users['user_id'].isin(outlier_user_ids)]\n",
    "ratings = ratings[~ratings['user_id'].isin(outlier_user_ids)]"
   ],
   "metadata": {
    "collapsed": false,
    "ExecuteTime": {
     "end_time": "2023-11-17T10:08:49.224295400Z",
     "start_time": "2023-11-17T10:08:37.954410Z"
    }
   },
   "id": "9a5dd0721f73c5cd"
  },
  {
   "cell_type": "code",
   "execution_count": 35,
   "outputs": [
    {
     "data": {
      "text/plain": "                      states      2010\n0     United States, Alabama   4785514\n1      United States, Alaska    713982\n2     United States, Arizona   6407342\n3    United States, Arkansas   2915918\n4  United States, California  37319550",
      "text/html": "<div>\n<style scoped>\n    .dataframe tbody tr th:only-of-type {\n        vertical-align: middle;\n    }\n\n    .dataframe tbody tr th {\n        vertical-align: top;\n    }\n\n    .dataframe thead th {\n        text-align: right;\n    }\n</style>\n<table border=\"1\" class=\"dataframe\">\n  <thead>\n    <tr style=\"text-align: right;\">\n      <th></th>\n      <th>states</th>\n      <th>2010</th>\n    </tr>\n  </thead>\n  <tbody>\n    <tr>\n      <th>0</th>\n      <td>United States, Alabama</td>\n      <td>4785514</td>\n    </tr>\n    <tr>\n      <th>1</th>\n      <td>United States, Alaska</td>\n      <td>713982</td>\n    </tr>\n    <tr>\n      <th>2</th>\n      <td>United States, Arizona</td>\n      <td>6407342</td>\n    </tr>\n    <tr>\n      <th>3</th>\n      <td>United States, Arkansas</td>\n      <td>2915918</td>\n    </tr>\n    <tr>\n      <th>4</th>\n      <td>United States, California</td>\n      <td>37319550</td>\n    </tr>\n  </tbody>\n</table>\n</div>"
     },
     "metadata": {},
     "output_type": "display_data"
    },
    {
     "data": {
      "text/plain": "         location      2010\n0     Afghanistan  28189672\n1         Albania   2913399\n2         Algeria  35856344\n3  American Samoa     54849\n4         Andorra     71519",
      "text/html": "<div>\n<style scoped>\n    .dataframe tbody tr th:only-of-type {\n        vertical-align: middle;\n    }\n\n    .dataframe tbody tr th {\n        vertical-align: top;\n    }\n\n    .dataframe thead th {\n        text-align: right;\n    }\n</style>\n<table border=\"1\" class=\"dataframe\">\n  <thead>\n    <tr style=\"text-align: right;\">\n      <th></th>\n      <th>location</th>\n      <th>2010</th>\n    </tr>\n  </thead>\n  <tbody>\n    <tr>\n      <th>0</th>\n      <td>Afghanistan</td>\n      <td>28189672</td>\n    </tr>\n    <tr>\n      <th>1</th>\n      <td>Albania</td>\n      <td>2913399</td>\n    </tr>\n    <tr>\n      <th>2</th>\n      <td>Algeria</td>\n      <td>35856344</td>\n    </tr>\n    <tr>\n      <th>3</th>\n      <td>American Samoa</td>\n      <td>54849</td>\n    </tr>\n    <tr>\n      <th>4</th>\n      <td>Andorra</td>\n      <td>71519</td>\n    </tr>\n  </tbody>\n</table>\n</div>"
     },
     "metadata": {},
     "output_type": "display_data"
    }
   ],
   "source": [
    "#Reading additional population datasets that will be useful for location filtering. The datasets are showing populations of all the relevant locations for 2010, which is a suitable year for our year range.\n",
    "\n",
    "us_state_populations = pd.read_csv('dataset/AdditionalData/US_state_populations.csv')\n",
    "world_population = pd.read_csv(\"dataset/AdditionalData/world_population.csv\")\n",
    "\n",
    "\n",
    "display(us_state_populations.head(5))\n",
    "display(world_population.head(5))"
   ],
   "metadata": {
    "collapsed": false,
    "ExecuteTime": {
     "end_time": "2023-11-17T10:08:49.505477800Z",
     "start_time": "2023-11-17T10:08:49.224295400Z"
    }
   },
   "id": "dfe238bd9025bac7"
  },
  {
   "cell_type": "code",
   "execution_count": 36,
   "outputs": [],
   "source": [
    "#Contacenating the two datasets into one and creating a location-population dictionary:\n",
    "\n",
    "us_state_populations.rename(columns = {'states': 'location'}, inplace = True)\n",
    "populations_by_location = pd.concat([us_state_populations, world_population], ignore_index = True)\n",
    "populations_by_location_dict = dict(zip(populations_by_location['location'], populations_by_location['2010']))"
   ],
   "metadata": {
    "collapsed": false,
    "ExecuteTime": {
     "end_time": "2023-11-17T10:08:50.132412500Z",
     "start_time": "2023-11-17T10:08:49.505477800Z"
    }
   },
   "id": "b6169a769af15292"
  },
  {
   "cell_type": "code",
   "execution_count": 37,
   "outputs": [
    {
     "name": "stdout",
     "output_type": "stream",
     "text": [
      "                         location  percentage  population  users\n",
      "0       United States, California    0.038018    37319550  14188\n",
      "1     United States, Pennsylvania    0.079865    12711406  10152\n",
      "2         United States, New York    0.044577    19399956   8648\n",
      "3         United States, Illinois    0.063190    12840545   8114\n",
      "4    United States, Massachusetts    0.110364     6566440   7247\n",
      "..                            ...         ...         ...    ...\n",
      "222                          Iran    0.000001    75373855      1\n",
      "223                       Jamaica    0.000037     2733896      1\n",
      "224                          Cuba    0.000009    11290417      1\n",
      "225                   Saint Lucia    0.000585      170935      1\n",
      "226                    Micronesia    0.000929      107588      1\n",
      "\n",
      "[227 rows x 4 columns]\n",
      "['Aotearoa', 'Virgin Islands (U.S.)', 'Antarctica', 'Ascension Island', 'Abkhazia', 'Svalbard and Jan Mayen Islands', 'Bouvet Island', 'Fiji Islands', 'Hawaii', 'Dem Rep of Congo', 'Kosovo', 'Saint Helena', 'Norfolk Island', 'Heard and McDonald Islands', 'East Timor', 'South Georgia and South Sandwich Islands', 'Christmas Island', 'Malvinas', 'Tibet', 'Nagorno-Karabakh', 'Saint Vincent and The Grenadines', 'Virgin Islands (British)', 'British Indian Ocean Territory']\n"
     ]
    }
   ],
   "source": [
    "#Finding the portion (as percentage) of population for each location that are users in either of the websites. Then, we print the list of locations that are not present in the additional datasets. We see that all the locations are very small countries, so that exclusion of them will not be significant for our future analysis.\n",
    "\n",
    "num_users_by_location = users['location'].value_counts().reset_index()\n",
    "percentage_users_by_location = []\n",
    "missing_locations = []\n",
    "for index, row in num_users_by_location.iterrows():\n",
    "    location = row['location']\n",
    "    if location in populations_by_location_dict:\n",
    "        percentage_users_by_location.append({'location': location, 'percentage': 100 * row['count'] / populations_by_location_dict[location], 'population': populations_by_location_dict[location], 'users': row['count']})\n",
    "    else:\n",
    "        missing_locations.append(location)\n",
    "\n",
    "percentage_users_by_location = pd.DataFrame(percentage_users_by_location)\n",
    "\n",
    "print(percentage_users_by_location)  \n",
    "print(missing_locations)"
   ],
   "metadata": {
    "collapsed": false,
    "ExecuteTime": {
     "end_time": "2023-11-17T10:08:50.149793100Z",
     "start_time": "2023-11-17T10:08:49.663772500Z"
    }
   },
   "id": "e835b0d7d046790"
  },
  {
   "cell_type": "code",
   "execution_count": 38,
   "outputs": [
    {
     "data": {
      "text/plain": "                         location  percentage  population  users\n162                  Vatican City    0.503356         596      3\n44         United States, Vermont    0.141240      625886    884\n4    United States, Massachusetts    0.110364     6566440   7247\n32   United States, New Hampshire    0.100850     1316807   1328\n19     United States, Connecticut    0.085243     3579173   3051\n..                            ...         ...         ...    ...\n160                       Nigeria    0.000002   160952853      4\n181                      Ethiopia    0.000002    89237791      2\n151                      Pakistan    0.000002   194454498      4\n192                    Bangladesh    0.000001   148391139      2\n222                          Iran    0.000001    75373855      1\n\n[227 rows x 4 columns]",
      "text/html": "<div>\n<style scoped>\n    .dataframe tbody tr th:only-of-type {\n        vertical-align: middle;\n    }\n\n    .dataframe tbody tr th {\n        vertical-align: top;\n    }\n\n    .dataframe thead th {\n        text-align: right;\n    }\n</style>\n<table border=\"1\" class=\"dataframe\">\n  <thead>\n    <tr style=\"text-align: right;\">\n      <th></th>\n      <th>location</th>\n      <th>percentage</th>\n      <th>population</th>\n      <th>users</th>\n    </tr>\n  </thead>\n  <tbody>\n    <tr>\n      <th>162</th>\n      <td>Vatican City</td>\n      <td>0.503356</td>\n      <td>596</td>\n      <td>3</td>\n    </tr>\n    <tr>\n      <th>44</th>\n      <td>United States, Vermont</td>\n      <td>0.141240</td>\n      <td>625886</td>\n      <td>884</td>\n    </tr>\n    <tr>\n      <th>4</th>\n      <td>United States, Massachusetts</td>\n      <td>0.110364</td>\n      <td>6566440</td>\n      <td>7247</td>\n    </tr>\n    <tr>\n      <th>32</th>\n      <td>United States, New Hampshire</td>\n      <td>0.100850</td>\n      <td>1316807</td>\n      <td>1328</td>\n    </tr>\n    <tr>\n      <th>19</th>\n      <td>United States, Connecticut</td>\n      <td>0.085243</td>\n      <td>3579173</td>\n      <td>3051</td>\n    </tr>\n    <tr>\n      <th>...</th>\n      <td>...</td>\n      <td>...</td>\n      <td>...</td>\n      <td>...</td>\n    </tr>\n    <tr>\n      <th>160</th>\n      <td>Nigeria</td>\n      <td>0.000002</td>\n      <td>160952853</td>\n      <td>4</td>\n    </tr>\n    <tr>\n      <th>181</th>\n      <td>Ethiopia</td>\n      <td>0.000002</td>\n      <td>89237791</td>\n      <td>2</td>\n    </tr>\n    <tr>\n      <th>151</th>\n      <td>Pakistan</td>\n      <td>0.000002</td>\n      <td>194454498</td>\n      <td>4</td>\n    </tr>\n    <tr>\n      <th>192</th>\n      <td>Bangladesh</td>\n      <td>0.000001</td>\n      <td>148391139</td>\n      <td>2</td>\n    </tr>\n    <tr>\n      <th>222</th>\n      <td>Iran</td>\n      <td>0.000001</td>\n      <td>75373855</td>\n      <td>1</td>\n    </tr>\n  </tbody>\n</table>\n<p>227 rows × 4 columns</p>\n</div>"
     },
     "execution_count": 38,
     "metadata": {},
     "output_type": "execute_result"
    }
   ],
   "source": [
    "percentage_users_by_location.sort_values(by = 'percentage', ascending = False, inplace = True)\n",
    "percentage_users_by_location"
   ],
   "metadata": {
    "collapsed": false,
    "ExecuteTime": {
     "end_time": "2023-11-17T10:08:50.416233400Z",
     "start_time": "2023-11-17T10:08:49.851228Z"
    }
   },
   "id": "da889cec06c8dd19"
  },
  {
   "cell_type": "code",
   "execution_count": 39,
   "outputs": [
    {
     "data": {
      "text/plain": "<Figure size 640x480 with 1 Axes>",
      "image/png": "[encoded data removed]"
     },
     "metadata": {},
     "output_type": "display_data"
    }
   ],
   "source": [
    "#Histogram of the populations\n",
    "\n",
    "ax = sns.histplot(percentage_users_by_location['population'], bins = 50, log_scale=(True, True))\n",
    "ax.set_title('Histogram of Number of Populations', fontsize = 12)\n",
    "ax.set_xlabel('Population', fontsize = 11)\n",
    "ax.set_ylabel('Count', fontsize = 11)\n",
    "plt.show()"
   ],
   "metadata": {
    "collapsed": false,
    "ExecuteTime": {
     "end_time": "2023-11-17T10:08:53.429689800Z",
     "start_time": "2023-11-17T10:08:49.991821100Z"
    }
   },
   "id": "314cc6323f7466da"
  },
  {
   "cell_type": "markdown",
   "source": [
    "Looking at the histogram, we identify locations (countries) that have a population smaller than 100,000 as outliers and eliminate them."
   ],
   "metadata": {
    "collapsed": false
   },
   "id": "a217926552782fed"
  },
  {
   "cell_type": "code",
   "execution_count": 40,
   "outputs": [],
   "source": [
    "percentage_users_by_location = percentage_users_by_location[percentage_users_by_location['population'] > 1e5]"
   ],
   "metadata": {
    "collapsed": false,
    "ExecuteTime": {
     "end_time": "2023-11-17T10:08:53.632766800Z",
     "start_time": "2023-11-17T10:08:53.429689800Z"
    }
   },
   "id": "329a5d954bebb927"
  },
  {
   "cell_type": "code",
   "execution_count": 41,
   "outputs": [
    {
     "name": "stdout",
     "output_type": "stream",
     "text": [
      "                          location  percentage  population  users\n",
      "44          United States, Vermont    0.141240      625886    884\n",
      "4     United States, Massachusetts    0.110364     6566440   7247\n",
      "32    United States, New Hampshire    0.100850     1316807   1328\n",
      "19      United States, Connecticut    0.085243     3579173   3051\n",
      "46     United States, Rhode Island    0.082164     1053994    866\n",
      "1      United States, Pennsylvania    0.079865    12711406  10152\n",
      "40            United States, Maine    0.076074     1327651   1010\n",
      "14        United States, Minnesota    0.066768     5310934   3546\n",
      "3          United States, Illinois    0.063190    12840545   8114\n",
      "20         United States, Colorado    0.060346     5047539   3046\n",
      "52         United States, Delaware    0.058356      899647    525\n",
      "13       United States, Washington    0.056281     6743009   3795\n",
      "23           United States, Oregon    0.056103     3837614   2153\n",
      "18        United States, Wisconsin    0.055267     5690538   3145\n",
      "9          United States, Michigan    0.053070     9877597   5242\n",
      "11         United States, Virginia    0.053066     8024004   4258\n",
      "10       United States, New Jersey    0.050719     8799451   4463\n",
      "7              United States, Ohio    0.050540    11539449   5832\n",
      "17          United States, Indiana    0.049379     6490555   3205\n",
      "21         United States, Maryland    0.048577     5788784   2812\n",
      "2          United States, New York    0.044577    19399956   8648\n",
      "65           United States, Alaska    0.042718      713982    305\n",
      "12   United States, North Carolina    0.042320     9574586   4052\n",
      "33             United States, Iowa    0.042054     3050819   1283\n",
      "25          United States, Alabama    0.038261     4785514   1831\n",
      "0        United States, California    0.038018    37319550  14188\n",
      "22         United States, Missouri    0.035957     5996089   2156\n",
      "42           United States, Kansas    0.034287     2858266    980\n",
      "16          United States, Georgia    0.033926     9712209   3295\n",
      "30         United States, Kentucky    0.033736     4348464   1467\n",
      "49         United States, Nebraska    0.033723     1829591    617\n",
      "29   United States, South Carolina    0.033241     4635846   1541\n",
      "64          United States, Montana    0.032905      990730    326\n",
      "72     United States, North Dakota    0.030974      674752    209\n",
      "8           United States, Florida    0.030569    18846143   5761\n",
      "5             United States, Texas    0.028461    25241897   7184\n",
      "26          United States, Arizona    0.027905     6407342   1788\n",
      "70     United States, South Dakota    0.025729      816193    210\n",
      "28        United States, Tennessee    0.025411     6355518   1615\n",
      "54    United States, West Virginia    0.025347     1854265    470\n",
      "62            United States, Idaho    0.024700     1570819    388\n",
      "43         United States, Oklahoma    0.024521     3760014    922\n",
      "83          United States, Wyoming    0.023205      564531    131\n",
      "50           United States, Nevada    0.022609     2702483    611\n",
      "58       United States, New Mexico    0.021505     2064614    444\n",
      "98                         Iceland    0.021361      318333     68\n",
      "51         United States, Arkansas    0.020577     2915918    600\n",
      "37                         Denmark    0.019637     5550849   1090\n",
      "45        United States, Louisiana    0.019165     4544635    871\n",
      "67           United States, Hawaii    0.019062     1364004    260\n",
      "6                           Canada    0.018867    33963412   6408\n",
      "47                          Norway    0.015850     4889741    775\n",
      "61             United States, Utah    0.014304     2775413    397\n",
      "59      United States, Mississippi    0.013836     2970615    411\n",
      "34                          Sweden    0.013548     9381729   1271\n",
      "36                         Belgium    0.011353    10877947   1235\n",
      "79                         Estonia    0.011340     1331535    151\n",
      "57                     New Zealand    0.010423     4346338    453\n",
      "56                         Ireland    0.010211     4524585    462\n",
      "53                         Finland    0.009621     5363271    516\n",
      "55                        Scotland    0.008932     5262200    470\n",
      "24                       Australia    0.008879    22019168   1955\n",
      "31                     Netherlands    0.008052    16617116   1338\n",
      "80                        Slovenia    0.007048     2057286    145\n",
      "109                     Luxembourg    0.006705      507070     34\n",
      "131                           Guam    0.006671      164905     11\n",
      "15                         England    0.006632    52642500   3491\n",
      "76                           Wales    0.005410     3050000    165\n",
      "27                          Poland    0.004555    38597353   1758\n",
      "74                         Croatia    0.004486     4368682    196\n",
      "96                Northern Ireland    0.004377     1804800     79\n",
      "123                        Bahamas    0.004019      373272     15\n",
      "94                          Latvia    0.003997     2101530     84\n",
      "159                          Aruba    0.003986      100341      4\n",
      "69                     Switzerland    0.003222     7822435    252\n",
      "126                          Malta    0.003104      418755     13\n",
      "108                         Cyprus    0.003098     1129686     35\n",
      "88                     Puerto Rico    0.002878     3717922    107\n",
      "66                         Hungary    0.002603     9986825    260\n",
      "97                       Lithuania    0.002294     3139019     72\n",
      "41                           Spain    0.002109    46572772    982\n",
      "91                       Singapore    0.001956     5163590    101\n",
      "89                 Slovak Republic    0.001943     5402680    105\n",
      "75                  Czech Republic    0.001835    10464749    192\n",
      "73                          Greece    0.001822    11033783    201\n",
      "78                         Austria    0.001806     8362829    151\n",
      "38                           Italy    0.001769    59822450   1058\n",
      "156                        Vanuatu    0.001630      245453      4\n",
      "84                          Serbia    0.001568     7653748    120\n",
      "35                         Germany    0.001530    81325090   1244\n",
      "87                          Israel    0.001460     7328445    107\n",
      "157                       Barbados    0.001456      274711      4\n",
      "81                        Portugal    0.001360    10588401    144\n",
      "105                         Panama    0.001131     3623617     41\n",
      "48                          France    0.001062    62444567    663\n",
      "106         Bosnia and Herzegovina    0.001050     3811088     40\n",
      "141                     Montenegro    0.000951      631044      6\n",
      "171                         Belize    0.000931      322106      3\n",
      "226                     Micronesia    0.000929      107588      1\n",
      "117                      Macedonia    0.000860     2093828     18\n",
      "102                      Hong Kong    0.000827     7132438     59\n",
      "107                     Costa Rica    0.000822     4622252     38\n",
      "101                       Bulgaria    0.000803     7592273     61\n",
      "180                  New Caledonia    0.000765      261426      2\n",
      "77                         Romania    0.000762    20335211    155\n",
      "85                           Chile    0.000676    17004162    115\n",
      "114                        Moldova    0.000598     3678186     22\n",
      "225                    Saint Lucia    0.000585      170935      1\n",
      "39                          Brazil    0.000535   196353492   1051\n",
      "122                        Uruguay    0.000477     3352651     16\n",
      "112                    El Salvador    0.000458     6114034     28\n",
      "209                  French Guiana    0.000438      228453      1\n",
      "71                    South Africa    0.000404    51784921    209\n",
      "60                          Mexico    0.000363   112532401    409\n",
      "95                          Taiwan    0.000360    23083083     83\n",
      "147            Trinidad and Tobago    0.000355     1410296      5\n",
      "110             Dominican Republic    0.000327     9775755     32\n",
      "121                        Lebanon    0.000320     4995800     16\n",
      "111                        Belarus    0.000319     9731427     31\n",
      "119                       Paraguay    0.000295     5768613     17\n",
      "175                         Bhutan    0.000283      705516      2\n",
      "63                          Russia    0.000267   143242599    383\n",
      "90                       Argentina    0.000246    41100123    101\n",
      "149                       Botswana    0.000239     2091664      5\n",
      "170                      Mauritius    0.000234     1283330      3\n",
      "68                           Japan    0.000200   128105431    256\n",
      "200                Solomon Islands    0.000185      540394      1\n",
      "82                          Turkey    0.000184    73195345    135\n",
      "93                         Ukraine    0.000184    45683020     84\n",
      "220                          Macau    0.000179      557297      1\n",
      "142                        Albania    0.000172     2913399      5\n",
      "165                        Namibia    0.000143     2099271      3\n",
      "115                      Guatemala    0.000138    14543121     20\n",
      "116                        Ecuador    0.000133    14989585     20\n",
      "92                        Thailand    0.000132    68270489     90\n",
      "99                     South Korea    0.000129    48813042     63\n",
      "133           United Arab Emirates    0.000118     8481771     10\n",
      "167                        Armenia    0.000102     2946293      3\n",
      "189                        Lesotho    0.000099     2022747      2\n",
      "104                       Colombia    0.000098    44816108     44\n",
      "198              Equatorial Guinea    0.000091     1094524      1\n",
      "128                       Cambodia    0.000084    14363532     12\n",
      "113                           Peru    0.000079    29229572     23\n",
      "161                      Palestine    0.000075     3992278      3\n",
      "139                       Honduras    0.000071     8450933      6\n",
      "135                        Bolivia    0.000068    10223270      7\n",
      "153                      Nicaragua    0.000068     5855734      4\n",
      "146                     Tajikistan    0.000066     7621779      5\n",
      "118                      Venezuela    0.000063    28715022     18\n",
      "103                    Philippines    0.000058    94636700     55\n",
      "154                         Jordan    0.000058     6931258      4\n",
      "120                       Malaysia    0.000056    28717731     16\n",
      "150                     Azerbaijan    0.000054     9237202      5\n",
      "127                    Afghanistan    0.000046    28189672     13\n",
      "144                        Tunisia    0.000046    10895063      5\n",
      "166               Papua New Guinea    0.000040     7583269      3\n",
      "148                       Zimbabwe    0.000039    12839771      5\n",
      "184                       Slovakia    0.000037     5396424      2\n",
      "217                       Mongolia    0.000037     2702520      1\n",
      "223                        Jamaica    0.000037     2733896      1\n",
      "178                     Kyrgyzstan    0.000036     5483774      2\n",
      "212                           Oman    0.000035     2881914      1\n",
      "191                           Laos    0.000032     6323418      2\n",
      "205                     Mauritania    0.000029     3419461      1\n",
      "202                        Liberia    0.000025     4019956      1\n",
      "132                          Kenya    0.000024    41517895     10\n",
      "176                          Haiti    0.000020     9842880      2\n",
      "203                   Turkmenistan    0.000019     5267970      1\n",
      "163                   Burkina Faso    0.000019    16116845      3\n",
      "155                     Mozambique    0.000017    23073723      4\n",
      "125                        Vietnam    0.000016    87411012     14\n",
      "143                         Uganda    0.000015    32341728      5\n",
      "201                           Togo    0.000015     6571855      1\n",
      "183                         Zambia    0.000015    13792086      2\n",
      "152                     Uzbekistan    0.000014    28614227      4\n",
      "138                       Tanzania    0.000013    45110527      6\n",
      "185                     Kazakhstan    0.000012    16627837      2\n",
      "169                          Nepal    0.000011    27161567      3\n",
      "199                        Burundi    0.000011     9126605      1\n",
      "197                         Rwanda    0.000010    10309031      1\n",
      "164                        Morocco    0.000009    32464865      3\n",
      "187                          Syria    0.000009    22337563      2\n",
      "224                           Cuba    0.000009    11290417      1\n",
      "86                           China    0.000008  1348191368    110\n",
      "206                        Senegal    0.000008    12530121      1\n",
      "179                          Ghana    0.000008    25574719      2\n",
      "140                          Egypt    0.000007    87252413      6\n",
      "177                           Iraq    0.000006    31264875      2\n",
      "124                      Indonesia    0.000006   244016173     15\n",
      "173                        Algeria    0.000006    35856344      2\n",
      "100                          India    0.000005  1240613620     62\n",
      "196                      Sri Lanka    0.000005    20668557      1\n",
      "208                    Ivory Coast    0.000005    21120042      1\n",
      "207                         Angola    0.000004    23364185      1\n",
      "221                    North Korea    0.000004    24686435      1\n",
      "219                          Yemen    0.000004    24743946      1\n",
      "213                   Saudi Arabia    0.000003    29411929      1\n",
      "214                          Sudan    0.000003    33739933      1\n",
      "160                        Nigeria    0.000002   160952853      4\n",
      "181                       Ethiopia    0.000002    89237791      2\n",
      "151                       Pakistan    0.000002   194454498      4\n",
      "192                     Bangladesh    0.000001   148391139      2\n",
      "222                           Iran    0.000001    75373855      1\n"
     ]
    }
   ],
   "source": [
    "print(percentage_users_by_location.to_string())"
   ],
   "metadata": {
    "collapsed": false,
    "ExecuteTime": {
     "end_time": "2023-11-17T10:08:53.781269Z",
     "start_time": "2023-11-17T10:08:53.617146Z"
    }
   },
   "id": "d62eee5a893481d5"
  },
  {
   "cell_type": "code",
   "execution_count": 42,
   "outputs": [
    {
     "data": {
      "text/plain": "<Figure size 640x480 with 1 Axes>",
      "image/png": "[encoded data removed]"
     },
     "metadata": {},
     "output_type": "display_data"
    }
   ],
   "source": [
    "#Line plot of number of ratings by year:\n",
    "\n",
    "rating_counts_by_year = ratings['year'].value_counts().reset_index().sort_values(by = 'year')\n",
    "plt.plot(rating_counts_by_year['year'], rating_counts_by_year['count'], marker = 'o')\n",
    "\n",
    "plt.title('Histogram of Number of Populations', fontsize = 12)\n",
    "plt.xlabel('Population', fontsize = 11)\n",
    "plt.ylabel('Count', fontsize = 11)\n",
    "plt.show()"
   ],
   "metadata": {
    "collapsed": false,
    "ExecuteTime": {
     "end_time": "2023-11-17T10:08:54.427770700Z",
     "start_time": "2023-11-17T10:08:53.781269Z"
    }
   },
   "id": "caeaeff1ce73c54c"
  },
  {
   "cell_type": "markdown",
   "source": [
    "We need to decide on a set of years for our future analysis based on the presence of sufficient amount of data. However, looking at this line plot alone is not enough to make a decision."
   ],
   "metadata": {
    "collapsed": false
   },
   "id": "fd466a545fdf6d9d"
  },
  {
   "cell_type": "code",
   "execution_count": 43,
   "outputs": [],
   "source": [
    "ratings_users = pd.merge(ratings, users[['user_id', 'nbr_ratings', 'location']], on='user_id',how='inner')"
   ],
   "metadata": {
    "collapsed": false,
    "ExecuteTime": {
     "end_time": "2023-11-17T10:09:20.970302700Z",
     "start_time": "2023-11-17T10:08:54.396526800Z"
    }
   },
   "id": "7850f8ee8e44776e"
  },
  {
   "cell_type": "code",
   "execution_count": 44,
   "outputs": [],
   "source": [
    "#Creating a dataframe that gives the rating counts of each year and location pair:\n",
    "year_location_counts = ratings_users.groupby(['year', 'location'])['user_id'].count().reset_index()"
   ],
   "metadata": {
    "collapsed": false,
    "ExecuteTime": {
     "end_time": "2023-11-17T10:09:23.827960900Z",
     "start_time": "2023-11-17T10:09:20.970302700Z"
    }
   },
   "id": "9b877799c64608f7"
  },
  {
   "cell_type": "code",
   "execution_count": 45,
   "outputs": [
    {
     "data": {
      "text/plain": "<Figure size 640x480 with 1 Axes>",
      "image/png": "[encoded data removed]"
     },
     "metadata": {},
     "output_type": "display_data"
    }
   ],
   "source": [
    "year_location_counts_filtered = year_location_counts[year_location_counts['user_id'] >= 50]['year'].value_counts().reset_index().sort_values(by = 'year')\n",
    "plt.plot(year_location_counts_filtered['year'], year_location_counts_filtered['count'], marker = 'o')\n",
    "\n",
    "\n",
    "ax = plt.gca()\n",
    "ax.xaxis.set_major_locator(MaxNLocator(integer=True))\n",
    "plt.axhline(y = 90, color='red', linestyle='--', label = 'Horizontal Line at y = 90')\n",
    "plt.title('Number of Locations with at least 50 Ratings, by Year', fontsize = 12)\n",
    "plt.xlabel('Year', fontsize = 11)\n",
    "plt.ylabel('# of Locations', fontsize = 11)\n",
    "plt.legend()\n",
    "plt.show()"
   ],
   "metadata": {
    "collapsed": false,
    "ExecuteTime": {
     "end_time": "2023-11-17T10:09:24.389986800Z",
     "start_time": "2023-11-17T10:09:23.843583200Z"
    }
   },
   "id": "22e56311d529a645"
  },
  {
   "cell_type": "markdown",
   "source": [
    "We see that beginning from the year 2006, the number of locations satisfying the threshold of at least 50 ratings more or less stabilizes after crossing the number of 90 locations. Due to lack of data to conclude reliable results for the earlier years, we decide to consider only the years after and including 2006."
   ],
   "metadata": {
    "collapsed": false
   },
   "id": "618ef5cf1db7b0dc"
  },
  {
   "cell_type": "code",
   "execution_count": 46,
   "outputs": [],
   "source": [
    "ratings = ratings[ratings['year'] >= 2006]"
   ],
   "metadata": {
    "collapsed": false,
    "ExecuteTime": {
     "end_time": "2023-11-17T10:09:36.716691100Z",
     "start_time": "2023-11-17T10:09:24.389986800Z"
    }
   },
   "id": "b187c6bde3d76394"
  },
  {
   "cell_type": "code",
   "execution_count": 47,
   "outputs": [],
   "source": [
    "year_location_counts = year_location_counts[year_location_counts['user_id'] >= 50]\n",
    "year_location_counts = year_location_counts[year_location_counts['year'] >= 2006]"
   ],
   "metadata": {
    "collapsed": false,
    "ExecuteTime": {
     "end_time": "2023-11-17T10:09:36.872906500Z",
     "start_time": "2023-11-17T10:09:36.716691100Z"
    }
   },
   "id": "a21c7deab9f74158"
  },
  {
   "cell_type": "code",
   "execution_count": 48,
   "outputs": [
    {
     "data": {
      "text/plain": "array(['United States, North Carolina', 'United States, Nebraska',\n       'United States, Missouri', 'United States, Mississippi',\n       'United States, Minnesota', 'United States, Michigan',\n       'United States, Massachusetts', 'United States, Maryland',\n       'United States, Maine', 'United States, Louisiana',\n       'United States, Kentucky', 'United States, Kansas',\n       'United States, Iowa', 'United States, Indiana',\n       'United States, Illinois', 'United States, Idaho',\n       'United States, Hawaii', 'United States, Georgia',\n       'United States, Florida', 'United States, Delaware',\n       'United States, Connecticut', 'United States, Montana',\n       'United States, New Hampshire', 'United States, California',\n       'United States, New Jersey', 'United States, Wyoming',\n       'United States, Wisconsin', 'United States, West Virginia',\n       'United States, Washington', 'United States, Virginia',\n       'United States, Vermont', 'United States, Utah',\n       'United States, Texas', 'United States, Tennessee',\n       'United States, South Carolina', 'United States, Rhode Island',\n       'United States, Pennsylvania', 'United States, Oregon',\n       'United States, Oklahoma', 'United States, Ohio',\n       'United States, North Dakota', 'Australia',\n       'United States, New York', 'United States, New Mexico',\n       'United States, Colorado', 'United States, Nevada',\n       'United States, Arkansas', 'England', 'Italy', 'Israel', 'Ireland',\n       'Iceland', 'France', 'Finland', 'Faroe Islands', 'Denmark',\n       'Luxembourg', 'Czech Republic', 'Croatia', 'Canada', 'Brazil',\n       'Belgium', 'Austria', 'United States, Arizona', 'Japan', 'Germany',\n       'Mexico', 'Switzerland', 'Sweden', 'Spain', 'Thailand', 'Scotland',\n       'United States, Alabama', 'Portugal', 'Poland',\n       'United States, Alaska', 'Norway', 'Northern Ireland',\n       'New Zealand', 'Netherlands'], dtype=object)"
     },
     "execution_count": 48,
     "metadata": {},
     "output_type": "execute_result"
    }
   ],
   "source": [
    "#Finding the set of locations that satisfy the at least 50 ratings limit for each year after and including 2006. These locations are identified as \"valid\".\n",
    "\n",
    "valid_year_num_by_location = year_location_counts['location'].value_counts().reset_index()\n",
    "valid_locations = valid_year_num_by_location[valid_year_num_by_location['count'] == 12]['location'].values\n",
    "valid_locations"
   ],
   "metadata": {
    "collapsed": false,
    "ExecuteTime": {
     "end_time": "2023-11-17T10:09:37.024689700Z",
     "start_time": "2023-11-17T10:09:36.872906500Z"
    }
   },
   "id": "4ef4de3392b2eb12"
  },
  {
   "cell_type": "code",
   "execution_count": 49,
   "outputs": [
    {
     "data": {
      "text/plain": "44          United States, Vermont\n4     United States, Massachusetts\n32    United States, New Hampshire\n19      United States, Connecticut\n46     United States, Rhode Island\n                  ...             \n41                           Spain\n38                           Italy\n35                         Germany\n48                          France\n39                          Brazil\nName: location, Length: 71, dtype: object"
     },
     "execution_count": 49,
     "metadata": {},
     "output_type": "execute_result"
    }
   ],
   "source": [
    "#We decided that a sensible condition to decide the final set of locations of interest is the following: The location should be in the \"valid locations\" (at least 50 ratings for every year) AND [the percentage of users should be greater than or equal to 0.004 OR the number of users from that location should be at least 500]. This ensures that there are enough data in each year and it is representative of the whole population of the location.\n",
    "\n",
    "final_locations = percentage_users_by_location[percentage_users_by_location['location'].isin(valid_locations) & ((percentage_users_by_location['percentage'] >= 0.004) | (percentage_users_by_location['users'] >= 500))]['location']\n",
    "\n",
    "all_locations = final_locations.tolist()\n",
    "\n",
    "final_locations"
   ],
   "metadata": {
    "collapsed": false,
    "ExecuteTime": {
     "end_time": "2023-11-17T10:09:37.178755700Z",
     "start_time": "2023-11-17T10:09:37.024689700Z"
    }
   },
   "id": "468874b66c792997"
  },
  {
   "cell_type": "code",
   "execution_count": 50,
   "outputs": [],
   "source": [
    "#Saving the filtered data:\n",
    "\n",
    "users = users[users['location'].isin(all_locations)]\n",
    "ratings = ratings[ratings['user_id'].isin(users['user_id'].unique())]\n",
    "\n",
    "beers.to_csv(\"dataset/FilteredData/beers.csv\", index = False)\n",
    "breweries.to_csv(\"dataset/FilteredData/breweries.csv\", index = False)\n",
    "users.to_csv(\"dataset/FilteredData/users.csv\", index = False)\n",
    "ratings.to_csv(\"dataset/FilteredData/ratings.csv\", index = False)"
   ],
   "metadata": {
    "collapsed": false,
    "ExecuteTime": {
     "end_time": "2023-11-17T10:15:39.203754500Z",
     "start_time": "2023-11-17T10:09:37.178755700Z"
    }
   },
   "id": "e7d850f72ea6bf2c"
  },
  {
   "cell_type": "markdown",
   "source": [
    "PART 3: Initial Analysis"
   ],
   "metadata": {
    "collapsed": false
   },
   "id": "dc4dd128ee17ffe3"
  },
  {
   "cell_type": "markdown",
   "source": [
    "PART 3.1: Visualizations on the World Map"
   ],
   "metadata": {
    "collapsed": false
   },
   "id": "6df67938a0c30cda"
  },
  {
   "cell_type": "code",
   "execution_count": 51,
   "outputs": [],
   "source": [
    "#Using a function that returns the corresponding latitude and longitude of the input location name, we put all our final location set on the world map to visualize their geographical distribution.\n",
    "\n",
    "def geocode_location(location_name):\n",
    "    geolocator = Nominatim(user_agent=\"my_geocoder\")\n",
    "    location = geolocator.geocode(location_name)\n",
    "    if location:\n",
    "        return location.latitude, location.longitude\n",
    "    else:\n",
    "        return None\n",
    "\n",
    "location_latitudes_longitudes = []\n",
    "location_latitudes_longitudes_tuples = []\n",
    "for location in all_locations:\n",
    "    res = geocode_location(location)\n",
    "    if res:\n",
    "        lat,long = res\n",
    "        location_latitudes_longitudes.append([lat, long])\n",
    "        location_latitudes_longitudes_tuples.append(res)"
   ],
   "metadata": {
    "collapsed": false,
    "ExecuteTime": {
     "end_time": "2023-11-17T10:16:16.057580100Z",
     "start_time": "2023-11-17T10:15:39.219346600Z"
    }
   },
   "id": "9a94b0e8f1b42967"
  },
  {
   "cell_type": "code",
   "execution_count": 52,
   "outputs": [
    {
     "data": {
      "text/plain": "<folium.folium.Map at 0x1aae075a4f0>",
      "text/html": "<div style=\"width:100%;\"><div style=\"position:relative;width:100%;height:0;padding-bottom:60%;\"><span style=\"color:#565656\">Make this Notebook Trusted to load map: File -> Trust Notebook</span><iframe srcdoc=\"&lt;!DOCTYPE html&gt;\n&lt;html&gt;\n&lt;head&gt;\n    \n    &lt;meta http-equiv=&quot;content-type&quot; content=&quot;text/html; charset=UTF-8&quot; /&gt;\n    \n        &lt;script&gt;\n            L_NO_TOUCH = false;\n            L_DISABLE_3D = false;\n        &lt;/script&gt;\n    \n    &lt;style&gt;html, body {width: 100%;height: 100%;margin: 0;padding: 0;}&lt;/style&gt;\n    &lt;style&gt;#map {position:absolute;top:0;bottom:0;right:0;left:0;}&lt;/style&gt;\n    &lt;script src=&quot;https://cdn.jsdelivr.net/npm/leaflet@1.9.3/dist/leaflet.js&quot;&gt;&lt;/script&gt;\n    &lt;script src=&quot;https://code.jquery.com/jquery-3.7.1.min.js&quot;&gt;&lt;/script&gt;\n    &lt;script src=&quot;https://cdn.jsdelivr.net/npm/bootstrap@5.2.2/dist/js/bootstrap.bundle.min.js&quot;&gt;&lt;/script&gt;\n    &lt;script src=&quot;https://cdnjs.cloudflare.com/ajax/libs/Leaflet.awesome-markers/2.0.2/leaflet.awesome-markers.js&quot;&gt;&lt;/script&gt;\n    &lt;link rel=&quot;stylesheet&quot; href=&quot;https://cdn.jsdelivr.net/npm/leaflet@1.9.3/dist/leaflet.css&quot;/&gt;\n    &lt;link rel=&quot;stylesheet&quot; href=&quot;https://cdn.jsdelivr.net/npm/bootstrap@5.2.2/dist/css/bootstrap.min.css&quot;/&gt;\n    &lt;link rel=&quot;stylesheet&quot; href=&quot;https://netdna.bootstrapcdn.com/bootstrap/3.0.0/css/bootstrap.min.css&quot;/&gt;\n    &lt;link rel=&quot;stylesheet&quot; href=&quot;https://cdn.jsdelivr.net/npm/@fortawesome/fontawesome-free@6.2.0/css/all.min.css&quot;/&gt;\n    &lt;link rel=&quot;stylesheet&quot; href=&quot;https://cdnjs.cloudflare.com/ajax/libs/Leaflet.awesome-markers/2.0.2/leaflet.awesome-markers.css&quot;/&gt;\n    &lt;link rel=&quot;stylesheet&quot; href=&quot;https://cdn.jsdelivr.net/gh/python-visualization/folium/folium/templates/leaflet.awesome.rotate.min.css&quot;/&gt;\n    \n            &lt;meta name=&quot;viewport&quot; content=&quot;width=device-width,\n                initial-scale=1.0, maximum-scale=1.0, user-scalable=no&quot; /&gt;\n            &lt;style&gt;\n                #map_d4a0b3d6eb593dcc038ea13fe61b5139 {\n                    position: relative;\n                    width: 100.0%;\n                    height: 100.0%;\n                    left: 0.0%;\n                    top: 0.0%;\n                }\n                .leaflet-container { font-size: 1rem; }\n            &lt;/style&gt;\n        \n&lt;/head&gt;\n&lt;body&gt;\n    \n    \n            &lt;div class=&quot;folium-map&quot; id=&quot;map_d4a0b3d6eb593dcc038ea13fe61b5139&quot; &gt;&lt;/div&gt;\n        \n&lt;/body&gt;\n&lt;script&gt;\n    \n    \n            var map_d4a0b3d6eb593dcc038ea13fe61b5139 = L.map(\n                &quot;map_d4a0b3d6eb593dcc038ea13fe61b5139&quot;,\n                {\n                    center: [20.0, 0.0],\n                    crs: L.CRS.EPSG3857,\n                    zoom: 1,\n                    zoomControl: true,\n                    preferCanvas: false,\n                }\n            );\n\n            \n\n        \n    \n            var tile_layer_ee3d4b83752b52637f2ea1c22ae26c5c = L.tileLayer(\n                &quot;https://{s}.tile.openstreetmap.org/{z}/{x}/{y}.png&quot;,\n                {&quot;attribution&quot;: &quot;Data by \\u0026copy; \\u003ca target=\\&quot;_blank\\&quot; href=\\&quot;http://openstreetmap.org\\&quot;\\u003eOpenStreetMap\\u003c/a\\u003e, under \\u003ca target=\\&quot;_blank\\&quot; href=\\&quot;http://www.openstreetmap.org/copyright\\&quot;\\u003eODbL\\u003c/a\\u003e.&quot;, &quot;detectRetina&quot;: false, &quot;maxNativeZoom&quot;: 18, &quot;maxZoom&quot;: 18, &quot;minZoom&quot;: 0, &quot;noWrap&quot;: false, &quot;opacity&quot;: 1, &quot;subdomains&quot;: &quot;abc&quot;, &quot;tms&quot;: false}\n            );\n        \n    \n                tile_layer_ee3d4b83752b52637f2ea1c22ae26c5c.addTo(map_d4a0b3d6eb593dcc038ea13fe61b5139);\n    \n            var circle_marker_604d3802723e3f3b85a352365f8c4fbc = L.circleMarker(\n                [44.5990718, -72.5002608],\n                {&quot;bubblingMouseEvents&quot;: true, &quot;color&quot;: &quot;blue&quot;, &quot;dashArray&quot;: null, &quot;dashOffset&quot;: null, &quot;fill&quot;: true, &quot;fillColor&quot;: &quot;blue&quot;, &quot;fillOpacity&quot;: 0.7, &quot;fillRule&quot;: &quot;evenodd&quot;, &quot;lineCap&quot;: &quot;round&quot;, &quot;lineJoin&quot;: &quot;round&quot;, &quot;opacity&quot;: 1.0, &quot;radius&quot;: 5, &quot;stroke&quot;: true, &quot;weight&quot;: 3}\n            ).addTo(map_d4a0b3d6eb593dcc038ea13fe61b5139);\n        \n    \n        var popup_77ed72ef83667a9437476864544ea987 = L.popup({&quot;maxWidth&quot;: &quot;100%&quot;});\n\n        \n            \n                var html_7d9627332f2f5748c8319899ccd2016a = $(`&lt;div id=&quot;html_7d9627332f2f5748c8319899ccd2016a&quot; style=&quot;width: 100.0%; height: 100.0%;&quot;&gt;United States, Vermont&lt;/div&gt;`)[0];\n                popup_77ed72ef83667a9437476864544ea987.setContent(html_7d9627332f2f5748c8319899ccd2016a);\n            \n        \n\n        circle_marker_604d3802723e3f3b85a352365f8c4fbc.bindPopup(popup_77ed72ef83667a9437476864544ea987)\n        ;\n\n        \n    \n    \n            var circle_marker_0a0cdba4595f589f2455925192e16124 = L.circleMarker(\n                [42.3788774, -72.032366],\n                {&quot;bubblingMouseEvents&quot;: true, &quot;color&quot;: &quot;blue&quot;, &quot;dashArray&quot;: null, &quot;dashOffset&quot;: null, &quot;fill&quot;: true, &quot;fillColor&quot;: &quot;blue&quot;, &quot;fillOpacity&quot;: 0.7, &quot;fillRule&quot;: &quot;evenodd&quot;, &quot;lineCap&quot;: &quot;round&quot;, &quot;lineJoin&quot;: &quot;round&quot;, &quot;opacity&quot;: 1.0, &quot;radius&quot;: 5, &quot;stroke&quot;: true, &quot;weight&quot;: 3}\n            ).addTo(map_d4a0b3d6eb593dcc038ea13fe61b5139);\n        \n    \n        var popup_ce27d2c682f35e58fb5767138f899687 = L.popup({&quot;maxWidth&quot;: &quot;100%&quot;});\n\n        \n            \n                var html_335426f2480373adc19c77d286716884 = $(`&lt;div id=&quot;html_335426f2480373adc19c77d286716884&quot; style=&quot;width: 100.0%; height: 100.0%;&quot;&gt;United States, Massachusetts&lt;/div&gt;`)[0];\n                popup_ce27d2c682f35e58fb5767138f899687.setContent(html_335426f2480373adc19c77d286716884);\n            \n        \n\n        circle_marker_0a0cdba4595f589f2455925192e16124.bindPopup(popup_ce27d2c682f35e58fb5767138f899687)\n        ;\n\n        \n    \n    \n            var circle_marker_600e2ab77bd3f55edc8884f999dc94b9 = L.circleMarker(\n                [43.4849133, -71.6553992],\n                {&quot;bubblingMouseEvents&quot;: true, &quot;color&quot;: &quot;blue&quot;, &quot;dashArray&quot;: null, &quot;dashOffset&quot;: null, &quot;fill&quot;: true, &quot;fillColor&quot;: &quot;blue&quot;, &quot;fillOpacity&quot;: 0.7, &quot;fillRule&quot;: &quot;evenodd&quot;, &quot;lineCap&quot;: &quot;round&quot;, &quot;lineJoin&quot;: &quot;round&quot;, &quot;opacity&quot;: 1.0, &quot;radius&quot;: 5, &quot;stroke&quot;: true, &quot;weight&quot;: 3}\n            ).addTo(map_d4a0b3d6eb593dcc038ea13fe61b5139);\n        \n    \n        var popup_d9c6479d1fb86ceb8427c0c781c73bec = L.popup({&quot;maxWidth&quot;: &quot;100%&quot;});\n\n        \n            \n                var html_c5aa690894e2e1d870e4e3a083753240 = $(`&lt;div id=&quot;html_c5aa690894e2e1d870e4e3a083753240&quot; style=&quot;width: 100.0%; height: 100.0%;&quot;&gt;United States, New Hampshire&lt;/div&gt;`)[0];\n                popup_d9c6479d1fb86ceb8427c0c781c73bec.setContent(html_c5aa690894e2e1d870e4e3a083753240);\n            \n        \n\n        circle_marker_600e2ab77bd3f55edc8884f999dc94b9.bindPopup(popup_d9c6479d1fb86ceb8427c0c781c73bec)\n        ;\n\n        \n    \n    \n            var circle_marker_7b62d9ffc5d60dc8c5d1c6b43687db45 = L.circleMarker(\n                [41.6500201, -72.7342163],\n                {&quot;bubblingMouseEvents&quot;: true, &quot;color&quot;: &quot;blue&quot;, &quot;dashArray&quot;: null, &quot;dashOffset&quot;: null, &quot;fill&quot;: true, &quot;fillColor&quot;: &quot;blue&quot;, &quot;fillOpacity&quot;: 0.7, &quot;fillRule&quot;: &quot;evenodd&quot;, &quot;lineCap&quot;: &quot;round&quot;, &quot;lineJoin&quot;: &quot;round&quot;, &quot;opacity&quot;: 1.0, &quot;radius&quot;: 5, &quot;stroke&quot;: true, &quot;weight&quot;: 3}\n            ).addTo(map_d4a0b3d6eb593dcc038ea13fe61b5139);\n        \n    \n        var popup_1b14be088a1c38ba985ab598f3913cec = L.popup({&quot;maxWidth&quot;: &quot;100%&quot;});\n\n        \n            \n                var html_35c33cfba475d9467293c9722678f778 = $(`&lt;div id=&quot;html_35c33cfba475d9467293c9722678f778&quot; style=&quot;width: 100.0%; height: 100.0%;&quot;&gt;United States, Connecticut&lt;/div&gt;`)[0];\n                popup_1b14be088a1c38ba985ab598f3913cec.setContent(html_35c33cfba475d9467293c9722678f778);\n            \n        \n\n        circle_marker_7b62d9ffc5d60dc8c5d1c6b43687db45.bindPopup(popup_1b14be088a1c38ba985ab598f3913cec)\n        ;\n\n        \n    \n    \n            var circle_marker_2e7e9fb1092ca1a19ca2e8d56c954038 = L.circleMarker(\n                [41.7962409, -71.5992372],\n                {&quot;bubblingMouseEvents&quot;: true, &quot;color&quot;: &quot;blue&quot;, &quot;dashArray&quot;: null, &quot;dashOffset&quot;: null, &quot;fill&quot;: true, &quot;fillColor&quot;: &quot;blue&quot;, &quot;fillOpacity&quot;: 0.7, &quot;fillRule&quot;: &quot;evenodd&quot;, &quot;lineCap&quot;: &quot;round&quot;, &quot;lineJoin&quot;: &quot;round&quot;, &quot;opacity&quot;: 1.0, &quot;radius&quot;: 5, &quot;stroke&quot;: true, &quot;weight&quot;: 3}\n            ).addTo(map_d4a0b3d6eb593dcc038ea13fe61b5139);\n        \n    \n        var popup_142d7966f9d35c17a28c5f0041cfd266 = L.popup({&quot;maxWidth&quot;: &quot;100%&quot;});\n\n        \n            \n                var html_3a84fa11b907796670a3f4c2a70be929 = $(`&lt;div id=&quot;html_3a84fa11b907796670a3f4c2a70be929&quot; style=&quot;width: 100.0%; height: 100.0%;&quot;&gt;United States, Rhode Island&lt;/div&gt;`)[0];\n                popup_142d7966f9d35c17a28c5f0041cfd266.setContent(html_3a84fa11b907796670a3f4c2a70be929);\n            \n        \n\n        circle_marker_2e7e9fb1092ca1a19ca2e8d56c954038.bindPopup(popup_142d7966f9d35c17a28c5f0041cfd266)\n        ;\n\n        \n    \n    \n            var circle_marker_0f2d0d54bc6246843cb12f5a37c7b31a = L.circleMarker(\n                [40.9699889, -77.7278831],\n                {&quot;bubblingMouseEvents&quot;: true, &quot;color&quot;: &quot;blue&quot;, &quot;dashArray&quot;: null, &quot;dashOffset&quot;: null, &quot;fill&quot;: true, &quot;fillColor&quot;: &quot;blue&quot;, &quot;fillOpacity&quot;: 0.7, &quot;fillRule&quot;: &quot;evenodd&quot;, &quot;lineCap&quot;: &quot;round&quot;, &quot;lineJoin&quot;: &quot;round&quot;, &quot;opacity&quot;: 1.0, &quot;radius&quot;: 5, &quot;stroke&quot;: true, &quot;weight&quot;: 3}\n            ).addTo(map_d4a0b3d6eb593dcc038ea13fe61b5139);\n        \n    \n        var popup_9cc63752ebcfc8bd44a5f0ece060a172 = L.popup({&quot;maxWidth&quot;: &quot;100%&quot;});\n\n        \n            \n                var html_83605d6ab6b5003321a17be7c9046dc8 = $(`&lt;div id=&quot;html_83605d6ab6b5003321a17be7c9046dc8&quot; style=&quot;width: 100.0%; height: 100.0%;&quot;&gt;United States, Pennsylvania&lt;/div&gt;`)[0];\n                popup_9cc63752ebcfc8bd44a5f0ece060a172.setContent(html_83605d6ab6b5003321a17be7c9046dc8);\n            \n        \n\n        circle_marker_0f2d0d54bc6246843cb12f5a37c7b31a.bindPopup(popup_9cc63752ebcfc8bd44a5f0ece060a172)\n        ;\n\n        \n    \n    \n            var circle_marker_c3db8d743b49ed6004f7b96a6019458d = L.circleMarker(\n                [45.709097, -68.8590201],\n                {&quot;bubblingMouseEvents&quot;: true, &quot;color&quot;: &quot;blue&quot;, &quot;dashArray&quot;: null, &quot;dashOffset&quot;: null, &quot;fill&quot;: true, &quot;fillColor&quot;: &quot;blue&quot;, &quot;fillOpacity&quot;: 0.7, &quot;fillRule&quot;: &quot;evenodd&quot;, &quot;lineCap&quot;: &quot;round&quot;, &quot;lineJoin&quot;: &quot;round&quot;, &quot;opacity&quot;: 1.0, &quot;radius&quot;: 5, &quot;stroke&quot;: true, &quot;weight&quot;: 3}\n            ).addTo(map_d4a0b3d6eb593dcc038ea13fe61b5139);\n        \n    \n        var popup_d9baff8eddcfcd74f4abab3d3bc4fc57 = L.popup({&quot;maxWidth&quot;: &quot;100%&quot;});\n\n        \n            \n                var html_887730d83e8470737ec90d5ba78a6b12 = $(`&lt;div id=&quot;html_887730d83e8470737ec90d5ba78a6b12&quot; style=&quot;width: 100.0%; height: 100.0%;&quot;&gt;United States, Maine&lt;/div&gt;`)[0];\n                popup_d9baff8eddcfcd74f4abab3d3bc4fc57.setContent(html_887730d83e8470737ec90d5ba78a6b12);\n            \n        \n\n        circle_marker_c3db8d743b49ed6004f7b96a6019458d.bindPopup(popup_d9baff8eddcfcd74f4abab3d3bc4fc57)\n        ;\n\n        \n    \n    \n            var circle_marker_a46e02218d948ca2069163874e1c1bd9 = L.circleMarker(\n                [45.9896587, -94.6113288],\n                {&quot;bubblingMouseEvents&quot;: true, &quot;color&quot;: &quot;blue&quot;, &quot;dashArray&quot;: null, &quot;dashOffset&quot;: null, &quot;fill&quot;: true, &quot;fillColor&quot;: &quot;blue&quot;, &quot;fillOpacity&quot;: 0.7, &quot;fillRule&quot;: &quot;evenodd&quot;, &quot;lineCap&quot;: &quot;round&quot;, &quot;lineJoin&quot;: &quot;round&quot;, &quot;opacity&quot;: 1.0, &quot;radius&quot;: 5, &quot;stroke&quot;: true, &quot;weight&quot;: 3}\n            ).addTo(map_d4a0b3d6eb593dcc038ea13fe61b5139);\n        \n    \n        var popup_3480c89ac23b7f914cd6b6879d07fd16 = L.popup({&quot;maxWidth&quot;: &quot;100%&quot;});\n\n        \n            \n                var html_a2153339d5387a47270488d904556041 = $(`&lt;div id=&quot;html_a2153339d5387a47270488d904556041&quot; style=&quot;width: 100.0%; height: 100.0%;&quot;&gt;United States, Minnesota&lt;/div&gt;`)[0];\n                popup_3480c89ac23b7f914cd6b6879d07fd16.setContent(html_a2153339d5387a47270488d904556041);\n            \n        \n\n        circle_marker_a46e02218d948ca2069163874e1c1bd9.bindPopup(popup_3480c89ac23b7f914cd6b6879d07fd16)\n        ;\n\n        \n    \n    \n            var circle_marker_8c26101ebc04b16518a042b310ca591b = L.circleMarker(\n                [40.0796606, -89.4337288],\n                {&quot;bubblingMouseEvents&quot;: true, &quot;color&quot;: &quot;blue&quot;, &quot;dashArray&quot;: null, &quot;dashOffset&quot;: null, &quot;fill&quot;: true, &quot;fillColor&quot;: &quot;blue&quot;, &quot;fillOpacity&quot;: 0.7, &quot;fillRule&quot;: &quot;evenodd&quot;, &quot;lineCap&quot;: &quot;round&quot;, &quot;lineJoin&quot;: &quot;round&quot;, &quot;opacity&quot;: 1.0, &quot;radius&quot;: 5, &quot;stroke&quot;: true, &quot;weight&quot;: 3}\n            ).addTo(map_d4a0b3d6eb593dcc038ea13fe61b5139);\n        \n    \n        var popup_7630b3aa0b2f29b89eeb1e09aeda3eb8 = L.popup({&quot;maxWidth&quot;: &quot;100%&quot;});\n\n        \n            \n                var html_226f0edec883057949d3091c70c264cf = $(`&lt;div id=&quot;html_226f0edec883057949d3091c70c264cf&quot; style=&quot;width: 100.0%; height: 100.0%;&quot;&gt;United States, Illinois&lt;/div&gt;`)[0];\n                popup_7630b3aa0b2f29b89eeb1e09aeda3eb8.setContent(html_226f0edec883057949d3091c70c264cf);\n            \n        \n\n        circle_marker_8c26101ebc04b16518a042b310ca591b.bindPopup(popup_7630b3aa0b2f29b89eeb1e09aeda3eb8)\n        ;\n\n        \n    \n    \n            var circle_marker_33a22ff9e648ef82da5f651449d3f3fe = L.circleMarker(\n                [38.7251776, -105.607716],\n                {&quot;bubblingMouseEvents&quot;: true, &quot;color&quot;: &quot;blue&quot;, &quot;dashArray&quot;: null, &quot;dashOffset&quot;: null, &quot;fill&quot;: true, &quot;fillColor&quot;: &quot;blue&quot;, &quot;fillOpacity&quot;: 0.7, &quot;fillRule&quot;: &quot;evenodd&quot;, &quot;lineCap&quot;: &quot;round&quot;, &quot;lineJoin&quot;: &quot;round&quot;, &quot;opacity&quot;: 1.0, &quot;radius&quot;: 5, &quot;stroke&quot;: true, &quot;weight&quot;: 3}\n            ).addTo(map_d4a0b3d6eb593dcc038ea13fe61b5139);\n        \n    \n        var popup_e67ea94ad722071097dd28b7621020ed = L.popup({&quot;maxWidth&quot;: &quot;100%&quot;});\n\n        \n            \n                var html_be9a4a6bbb66ca1bb0a454b89374ecd2 = $(`&lt;div id=&quot;html_be9a4a6bbb66ca1bb0a454b89374ecd2&quot; style=&quot;width: 100.0%; height: 100.0%;&quot;&gt;United States, Colorado&lt;/div&gt;`)[0];\n                popup_e67ea94ad722071097dd28b7621020ed.setContent(html_be9a4a6bbb66ca1bb0a454b89374ecd2);\n            \n        \n\n        circle_marker_33a22ff9e648ef82da5f651449d3f3fe.bindPopup(popup_e67ea94ad722071097dd28b7621020ed)\n        ;\n\n        \n    \n    \n            var circle_marker_bf686d18a1100dddfff0e45f5aed657c = L.circleMarker(\n                [38.6920451, -75.4013315],\n                {&quot;bubblingMouseEvents&quot;: true, &quot;color&quot;: &quot;blue&quot;, &quot;dashArray&quot;: null, &quot;dashOffset&quot;: null, &quot;fill&quot;: true, &quot;fillColor&quot;: &quot;blue&quot;, &quot;fillOpacity&quot;: 0.7, &quot;fillRule&quot;: &quot;evenodd&quot;, &quot;lineCap&quot;: &quot;round&quot;, &quot;lineJoin&quot;: &quot;round&quot;, &quot;opacity&quot;: 1.0, &quot;radius&quot;: 5, &quot;stroke&quot;: true, &quot;weight&quot;: 3}\n            ).addTo(map_d4a0b3d6eb593dcc038ea13fe61b5139);\n        \n    \n        var popup_93445d47a8ee0c6d5e14cf82db54c44d = L.popup({&quot;maxWidth&quot;: &quot;100%&quot;});\n\n        \n            \n                var html_413d60a7af1887aecc71b185b7f1757f = $(`&lt;div id=&quot;html_413d60a7af1887aecc71b185b7f1757f&quot; style=&quot;width: 100.0%; height: 100.0%;&quot;&gt;United States, Delaware&lt;/div&gt;`)[0];\n                popup_93445d47a8ee0c6d5e14cf82db54c44d.setContent(html_413d60a7af1887aecc71b185b7f1757f);\n            \n        \n\n        circle_marker_bf686d18a1100dddfff0e45f5aed657c.bindPopup(popup_93445d47a8ee0c6d5e14cf82db54c44d)\n        ;\n\n        \n    \n    \n            var circle_marker_061b63163038aae08aab4bf9aa1690cc = L.circleMarker(\n                [38.8950368, -77.0365427],\n                {&quot;bubblingMouseEvents&quot;: true, &quot;color&quot;: &quot;blue&quot;, &quot;dashArray&quot;: null, &quot;dashOffset&quot;: null, &quot;fill&quot;: true, &quot;fillColor&quot;: &quot;blue&quot;, &quot;fillOpacity&quot;: 0.7, &quot;fillRule&quot;: &quot;evenodd&quot;, &quot;lineCap&quot;: &quot;round&quot;, &quot;lineJoin&quot;: &quot;round&quot;, &quot;opacity&quot;: 1.0, &quot;radius&quot;: 5, &quot;stroke&quot;: true, &quot;weight&quot;: 3}\n            ).addTo(map_d4a0b3d6eb593dcc038ea13fe61b5139);\n        \n    \n        var popup_54f2682d9faaeb118b37cfdbcab4b022 = L.popup({&quot;maxWidth&quot;: &quot;100%&quot;});\n\n        \n            \n                var html_c3877d0a9aed27a0025d99a3a1b8a105 = $(`&lt;div id=&quot;html_c3877d0a9aed27a0025d99a3a1b8a105&quot; style=&quot;width: 100.0%; height: 100.0%;&quot;&gt;United States, Washington&lt;/div&gt;`)[0];\n                popup_54f2682d9faaeb118b37cfdbcab4b022.setContent(html_c3877d0a9aed27a0025d99a3a1b8a105);\n            \n        \n\n        circle_marker_061b63163038aae08aab4bf9aa1690cc.bindPopup(popup_54f2682d9faaeb118b37cfdbcab4b022)\n        ;\n\n        \n    \n    \n            var circle_marker_32d1e5cf0f57ed34f8328a0d42fbb3bc = L.circleMarker(\n                [43.9792797, -120.737257],\n                {&quot;bubblingMouseEvents&quot;: true, &quot;color&quot;: &quot;blue&quot;, &quot;dashArray&quot;: null, &quot;dashOffset&quot;: null, &quot;fill&quot;: true, &quot;fillColor&quot;: &quot;blue&quot;, &quot;fillOpacity&quot;: 0.7, &quot;fillRule&quot;: &quot;evenodd&quot;, &quot;lineCap&quot;: &quot;round&quot;, &quot;lineJoin&quot;: &quot;round&quot;, &quot;opacity&quot;: 1.0, &quot;radius&quot;: 5, &quot;stroke&quot;: true, &quot;weight&quot;: 3}\n            ).addTo(map_d4a0b3d6eb593dcc038ea13fe61b5139);\n        \n    \n        var popup_dd7479e61201e7cd9b0e850a3576e7ee = L.popup({&quot;maxWidth&quot;: &quot;100%&quot;});\n\n        \n            \n                var html_bb26b23c48d5918dda60a6aa79aeb2d7 = $(`&lt;div id=&quot;html_bb26b23c48d5918dda60a6aa79aeb2d7&quot; style=&quot;width: 100.0%; height: 100.0%;&quot;&gt;United States, Oregon&lt;/div&gt;`)[0];\n                popup_dd7479e61201e7cd9b0e850a3576e7ee.setContent(html_bb26b23c48d5918dda60a6aa79aeb2d7);\n            \n        \n\n        circle_marker_32d1e5cf0f57ed34f8328a0d42fbb3bc.bindPopup(popup_dd7479e61201e7cd9b0e850a3576e7ee)\n        ;\n\n        \n    \n    \n            var circle_marker_c825041f29c51b96d99afa97e7312750 = L.circleMarker(\n                [44.4308975, -89.6884637],\n                {&quot;bubblingMouseEvents&quot;: true, &quot;color&quot;: &quot;blue&quot;, &quot;dashArray&quot;: null, &quot;dashOffset&quot;: null, &quot;fill&quot;: true, &quot;fillColor&quot;: &quot;blue&quot;, &quot;fillOpacity&quot;: 0.7, &quot;fillRule&quot;: &quot;evenodd&quot;, &quot;lineCap&quot;: &quot;round&quot;, &quot;lineJoin&quot;: &quot;round&quot;, &quot;opacity&quot;: 1.0, &quot;radius&quot;: 5, &quot;stroke&quot;: true, &quot;weight&quot;: 3}\n            ).addTo(map_d4a0b3d6eb593dcc038ea13fe61b5139);\n        \n    \n        var popup_de39088803be396c6da58639d8f0f18e = L.popup({&quot;maxWidth&quot;: &quot;100%&quot;});\n\n        \n            \n                var html_8effa73b8378d26376f7d90f874e1483 = $(`&lt;div id=&quot;html_8effa73b8378d26376f7d90f874e1483&quot; style=&quot;width: 100.0%; height: 100.0%;&quot;&gt;United States, Wisconsin&lt;/div&gt;`)[0];\n                popup_de39088803be396c6da58639d8f0f18e.setContent(html_8effa73b8378d26376f7d90f874e1483);\n            \n        \n\n        circle_marker_c825041f29c51b96d99afa97e7312750.bindPopup(popup_de39088803be396c6da58639d8f0f18e)\n        ;\n\n        \n    \n    \n            var circle_marker_ae5b247c1e62acf8f270cddcee203f14 = L.circleMarker(\n                [43.6211955, -84.6824346],\n                {&quot;bubblingMouseEvents&quot;: true, &quot;color&quot;: &quot;blue&quot;, &quot;dashArray&quot;: null, &quot;dashOffset&quot;: null, &quot;fill&quot;: true, &quot;fillColor&quot;: &quot;blue&quot;, &quot;fillOpacity&quot;: 0.7, &quot;fillRule&quot;: &quot;evenodd&quot;, &quot;lineCap&quot;: &quot;round&quot;, &quot;lineJoin&quot;: &quot;round&quot;, &quot;opacity&quot;: 1.0, &quot;radius&quot;: 5, &quot;stroke&quot;: true, &quot;weight&quot;: 3}\n            ).addTo(map_d4a0b3d6eb593dcc038ea13fe61b5139);\n        \n    \n        var popup_88770180cd8d6907b32feaa7e213e5e1 = L.popup({&quot;maxWidth&quot;: &quot;100%&quot;});\n\n        \n            \n                var html_9c011788ba731b5666e4fe3ce5b7553b = $(`&lt;div id=&quot;html_9c011788ba731b5666e4fe3ce5b7553b&quot; style=&quot;width: 100.0%; height: 100.0%;&quot;&gt;United States, Michigan&lt;/div&gt;`)[0];\n                popup_88770180cd8d6907b32feaa7e213e5e1.setContent(html_9c011788ba731b5666e4fe3ce5b7553b);\n            \n        \n\n        circle_marker_ae5b247c1e62acf8f270cddcee203f14.bindPopup(popup_88770180cd8d6907b32feaa7e213e5e1)\n        ;\n\n        \n    \n    \n            var circle_marker_4c4f377b5ea847b7356e0ab2d2b79d43 = L.circleMarker(\n                [37.1232245, -78.4927721],\n                {&quot;bubblingMouseEvents&quot;: true, &quot;color&quot;: &quot;blue&quot;, &quot;dashArray&quot;: null, &quot;dashOffset&quot;: null, &quot;fill&quot;: true, &quot;fillColor&quot;: &quot;blue&quot;, &quot;fillOpacity&quot;: 0.7, &quot;fillRule&quot;: &quot;evenodd&quot;, &quot;lineCap&quot;: &quot;round&quot;, &quot;lineJoin&quot;: &quot;round&quot;, &quot;opacity&quot;: 1.0, &quot;radius&quot;: 5, &quot;stroke&quot;: true, &quot;weight&quot;: 3}\n            ).addTo(map_d4a0b3d6eb593dcc038ea13fe61b5139);\n        \n    \n        var popup_81014cf663d7c038b2b0b258294a3ae5 = L.popup({&quot;maxWidth&quot;: &quot;100%&quot;});\n\n        \n            \n                var html_ea6457aa48b147cff70dd414d06b8c33 = $(`&lt;div id=&quot;html_ea6457aa48b147cff70dd414d06b8c33&quot; style=&quot;width: 100.0%; height: 100.0%;&quot;&gt;United States, Virginia&lt;/div&gt;`)[0];\n                popup_81014cf663d7c038b2b0b258294a3ae5.setContent(html_ea6457aa48b147cff70dd414d06b8c33);\n            \n        \n\n        circle_marker_4c4f377b5ea847b7356e0ab2d2b79d43.bindPopup(popup_81014cf663d7c038b2b0b258294a3ae5)\n        ;\n\n        \n    \n    \n            var circle_marker_172cc2b018d15e987a7e9f7727288f7f = L.circleMarker(\n                [40.0757384, -74.4041622],\n                {&quot;bubblingMouseEvents&quot;: true, &quot;color&quot;: &quot;blue&quot;, &quot;dashArray&quot;: null, &quot;dashOffset&quot;: null, &quot;fill&quot;: true, &quot;fillColor&quot;: &quot;blue&quot;, &quot;fillOpacity&quot;: 0.7, &quot;fillRule&quot;: &quot;evenodd&quot;, &quot;lineCap&quot;: &quot;round&quot;, &quot;lineJoin&quot;: &quot;round&quot;, &quot;opacity&quot;: 1.0, &quot;radius&quot;: 5, &quot;stroke&quot;: true, &quot;weight&quot;: 3}\n            ).addTo(map_d4a0b3d6eb593dcc038ea13fe61b5139);\n        \n    \n        var popup_ce62d09d3a30ed2ea2de191674c803f7 = L.popup({&quot;maxWidth&quot;: &quot;100%&quot;});\n\n        \n            \n                var html_e26368ae4abe068b6513e3749b110c61 = $(`&lt;div id=&quot;html_e26368ae4abe068b6513e3749b110c61&quot; style=&quot;width: 100.0%; height: 100.0%;&quot;&gt;United States, New Jersey&lt;/div&gt;`)[0];\n                popup_ce62d09d3a30ed2ea2de191674c803f7.setContent(html_e26368ae4abe068b6513e3749b110c61);\n            \n        \n\n        circle_marker_172cc2b018d15e987a7e9f7727288f7f.bindPopup(popup_ce62d09d3a30ed2ea2de191674c803f7)\n        ;\n\n        \n    \n    \n            var circle_marker_d1f0db18c33054f04e2acff4bb21f8e8 = L.circleMarker(\n                [40.2253569, -82.6881395],\n                {&quot;bubblingMouseEvents&quot;: true, &quot;color&quot;: &quot;blue&quot;, &quot;dashArray&quot;: null, &quot;dashOffset&quot;: null, &quot;fill&quot;: true, &quot;fillColor&quot;: &quot;blue&quot;, &quot;fillOpacity&quot;: 0.7, &quot;fillRule&quot;: &quot;evenodd&quot;, &quot;lineCap&quot;: &quot;round&quot;, &quot;lineJoin&quot;: &quot;round&quot;, &quot;opacity&quot;: 1.0, &quot;radius&quot;: 5, &quot;stroke&quot;: true, &quot;weight&quot;: 3}\n            ).addTo(map_d4a0b3d6eb593dcc038ea13fe61b5139);\n        \n    \n        var popup_d657090f401a8ad52741ff9b272e23d6 = L.popup({&quot;maxWidth&quot;: &quot;100%&quot;});\n\n        \n            \n                var html_2b3e33b273a60e696d1e8878367052ac = $(`&lt;div id=&quot;html_2b3e33b273a60e696d1e8878367052ac&quot; style=&quot;width: 100.0%; height: 100.0%;&quot;&gt;United States, Ohio&lt;/div&gt;`)[0];\n                popup_d657090f401a8ad52741ff9b272e23d6.setContent(html_2b3e33b273a60e696d1e8878367052ac);\n            \n        \n\n        circle_marker_d1f0db18c33054f04e2acff4bb21f8e8.bindPopup(popup_d657090f401a8ad52741ff9b272e23d6)\n        ;\n\n        \n    \n    \n            var circle_marker_210dd454e3f4ce35c09436ee4d93cffc = L.circleMarker(\n                [40.3270127, -86.1746933],\n                {&quot;bubblingMouseEvents&quot;: true, &quot;color&quot;: &quot;blue&quot;, &quot;dashArray&quot;: null, &quot;dashOffset&quot;: null, &quot;fill&quot;: true, &quot;fillColor&quot;: &quot;blue&quot;, &quot;fillOpacity&quot;: 0.7, &quot;fillRule&quot;: &quot;evenodd&quot;, &quot;lineCap&quot;: &quot;round&quot;, &quot;lineJoin&quot;: &quot;round&quot;, &quot;opacity&quot;: 1.0, &quot;radius&quot;: 5, &quot;stroke&quot;: true, &quot;weight&quot;: 3}\n            ).addTo(map_d4a0b3d6eb593dcc038ea13fe61b5139);\n        \n    \n        var popup_9f743b42f38d639208e8429b6a6eecd2 = L.popup({&quot;maxWidth&quot;: &quot;100%&quot;});\n\n        \n            \n                var html_a13c011f6aab670cd5d90b52f547edf8 = $(`&lt;div id=&quot;html_a13c011f6aab670cd5d90b52f547edf8&quot; style=&quot;width: 100.0%; height: 100.0%;&quot;&gt;United States, Indiana&lt;/div&gt;`)[0];\n                popup_9f743b42f38d639208e8429b6a6eecd2.setContent(html_a13c011f6aab670cd5d90b52f547edf8);\n            \n        \n\n        circle_marker_210dd454e3f4ce35c09436ee4d93cffc.bindPopup(popup_9f743b42f38d639208e8429b6a6eecd2)\n        ;\n\n        \n    \n    \n            var circle_marker_bd7f71ea63fd5cd7ceebf2defb4c4797 = L.circleMarker(\n                [39.5162401, -76.9382069],\n                {&quot;bubblingMouseEvents&quot;: true, &quot;color&quot;: &quot;blue&quot;, &quot;dashArray&quot;: null, &quot;dashOffset&quot;: null, &quot;fill&quot;: true, &quot;fillColor&quot;: &quot;blue&quot;, &quot;fillOpacity&quot;: 0.7, &quot;fillRule&quot;: &quot;evenodd&quot;, &quot;lineCap&quot;: &quot;round&quot;, &quot;lineJoin&quot;: &quot;round&quot;, &quot;opacity&quot;: 1.0, &quot;radius&quot;: 5, &quot;stroke&quot;: true, &quot;weight&quot;: 3}\n            ).addTo(map_d4a0b3d6eb593dcc038ea13fe61b5139);\n        \n    \n        var popup_835f9e0ae5d2f749ae0cf7ce8f287b62 = L.popup({&quot;maxWidth&quot;: &quot;100%&quot;});\n\n        \n            \n                var html_78d308dbf59247029c30a61ba9167226 = $(`&lt;div id=&quot;html_78d308dbf59247029c30a61ba9167226&quot; style=&quot;width: 100.0%; height: 100.0%;&quot;&gt;United States, Maryland&lt;/div&gt;`)[0];\n                popup_835f9e0ae5d2f749ae0cf7ce8f287b62.setContent(html_78d308dbf59247029c30a61ba9167226);\n            \n        \n\n        circle_marker_bd7f71ea63fd5cd7ceebf2defb4c4797.bindPopup(popup_835f9e0ae5d2f749ae0cf7ce8f287b62)\n        ;\n\n        \n    \n    \n            var circle_marker_1ca352ec3ff18c9c4baf85d0fe946d17 = L.circleMarker(\n                [40.7127281, -74.0060152],\n                {&quot;bubblingMouseEvents&quot;: true, &quot;color&quot;: &quot;blue&quot;, &quot;dashArray&quot;: null, &quot;dashOffset&quot;: null, &quot;fill&quot;: true, &quot;fillColor&quot;: &quot;blue&quot;, &quot;fillOpacity&quot;: 0.7, &quot;fillRule&quot;: &quot;evenodd&quot;, &quot;lineCap&quot;: &quot;round&quot;, &quot;lineJoin&quot;: &quot;round&quot;, &quot;opacity&quot;: 1.0, &quot;radius&quot;: 5, &quot;stroke&quot;: true, &quot;weight&quot;: 3}\n            ).addTo(map_d4a0b3d6eb593dcc038ea13fe61b5139);\n        \n    \n        var popup_956d6383f715e409dab198bd6473da0d = L.popup({&quot;maxWidth&quot;: &quot;100%&quot;});\n\n        \n            \n                var html_f63f7cc05db83502608dbe0aaf2452c7 = $(`&lt;div id=&quot;html_f63f7cc05db83502608dbe0aaf2452c7&quot; style=&quot;width: 100.0%; height: 100.0%;&quot;&gt;United States, New York&lt;/div&gt;`)[0];\n                popup_956d6383f715e409dab198bd6473da0d.setContent(html_f63f7cc05db83502608dbe0aaf2452c7);\n            \n        \n\n        circle_marker_1ca352ec3ff18c9c4baf85d0fe946d17.bindPopup(popup_956d6383f715e409dab198bd6473da0d)\n        ;\n\n        \n    \n    \n            var circle_marker_6153f436e2b3f63d95e840f72e4385a5 = L.circleMarker(\n                [64.4459613, -149.680909],\n                {&quot;bubblingMouseEvents&quot;: true, &quot;color&quot;: &quot;blue&quot;, &quot;dashArray&quot;: null, &quot;dashOffset&quot;: null, &quot;fill&quot;: true, &quot;fillColor&quot;: &quot;blue&quot;, &quot;fillOpacity&quot;: 0.7, &quot;fillRule&quot;: &quot;evenodd&quot;, &quot;lineCap&quot;: &quot;round&quot;, &quot;lineJoin&quot;: &quot;round&quot;, &quot;opacity&quot;: 1.0, &quot;radius&quot;: 5, &quot;stroke&quot;: true, &quot;weight&quot;: 3}\n            ).addTo(map_d4a0b3d6eb593dcc038ea13fe61b5139);\n        \n    \n        var popup_a35e5996c2b7f18d44b6f2ec9faf520e = L.popup({&quot;maxWidth&quot;: &quot;100%&quot;});\n\n        \n            \n                var html_6d2a7b2f9054cd28e59ee9cd1d3989f5 = $(`&lt;div id=&quot;html_6d2a7b2f9054cd28e59ee9cd1d3989f5&quot; style=&quot;width: 100.0%; height: 100.0%;&quot;&gt;United States, Alaska&lt;/div&gt;`)[0];\n                popup_a35e5996c2b7f18d44b6f2ec9faf520e.setContent(html_6d2a7b2f9054cd28e59ee9cd1d3989f5);\n            \n        \n\n        circle_marker_6153f436e2b3f63d95e840f72e4385a5.bindPopup(popup_a35e5996c2b7f18d44b6f2ec9faf520e)\n        ;\n\n        \n    \n    \n            var circle_marker_0ad743b11941160972f581adefd07d08 = L.circleMarker(\n                [35.6729639, -79.0392919],\n                {&quot;bubblingMouseEvents&quot;: true, &quot;color&quot;: &quot;blue&quot;, &quot;dashArray&quot;: null, &quot;dashOffset&quot;: null, &quot;fill&quot;: true, &quot;fillColor&quot;: &quot;blue&quot;, &quot;fillOpacity&quot;: 0.7, &quot;fillRule&quot;: &quot;evenodd&quot;, &quot;lineCap&quot;: &quot;round&quot;, &quot;lineJoin&quot;: &quot;round&quot;, &quot;opacity&quot;: 1.0, &quot;radius&quot;: 5, &quot;stroke&quot;: true, &quot;weight&quot;: 3}\n            ).addTo(map_d4a0b3d6eb593dcc038ea13fe61b5139);\n        \n    \n        var popup_81b845637970be00d192e24cd45dd930 = L.popup({&quot;maxWidth&quot;: &quot;100%&quot;});\n\n        \n            \n                var html_bf4a8f5bd9fe5fba7a06ef180ab84e99 = $(`&lt;div id=&quot;html_bf4a8f5bd9fe5fba7a06ef180ab84e99&quot; style=&quot;width: 100.0%; height: 100.0%;&quot;&gt;United States, North Carolina&lt;/div&gt;`)[0];\n                popup_81b845637970be00d192e24cd45dd930.setContent(html_bf4a8f5bd9fe5fba7a06ef180ab84e99);\n            \n        \n\n        circle_marker_0ad743b11941160972f581adefd07d08.bindPopup(popup_81b845637970be00d192e24cd45dd930)\n        ;\n\n        \n    \n    \n            var circle_marker_7790709808cc8ac8d035dcbb9f3e9095 = L.circleMarker(\n                [41.9216734, -93.3122705],\n                {&quot;bubblingMouseEvents&quot;: true, &quot;color&quot;: &quot;blue&quot;, &quot;dashArray&quot;: null, &quot;dashOffset&quot;: null, &quot;fill&quot;: true, &quot;fillColor&quot;: &quot;blue&quot;, &quot;fillOpacity&quot;: 0.7, &quot;fillRule&quot;: &quot;evenodd&quot;, &quot;lineCap&quot;: &quot;round&quot;, &quot;lineJoin&quot;: &quot;round&quot;, &quot;opacity&quot;: 1.0, &quot;radius&quot;: 5, &quot;stroke&quot;: true, &quot;weight&quot;: 3}\n            ).addTo(map_d4a0b3d6eb593dcc038ea13fe61b5139);\n        \n    \n        var popup_ddfbe266f9adb4fe1d24d84d88dbf6c0 = L.popup({&quot;maxWidth&quot;: &quot;100%&quot;});\n\n        \n            \n                var html_d4e95a14366123041e1161e549e67dd1 = $(`&lt;div id=&quot;html_d4e95a14366123041e1161e549e67dd1&quot; style=&quot;width: 100.0%; height: 100.0%;&quot;&gt;United States, Iowa&lt;/div&gt;`)[0];\n                popup_ddfbe266f9adb4fe1d24d84d88dbf6c0.setContent(html_d4e95a14366123041e1161e549e67dd1);\n            \n        \n\n        circle_marker_7790709808cc8ac8d035dcbb9f3e9095.bindPopup(popup_ddfbe266f9adb4fe1d24d84d88dbf6c0)\n        ;\n\n        \n    \n    \n            var circle_marker_b1e824aa82d24e599b4e42919a208c57 = L.circleMarker(\n                [33.2588817, -86.8295337],\n                {&quot;bubblingMouseEvents&quot;: true, &quot;color&quot;: &quot;blue&quot;, &quot;dashArray&quot;: null, &quot;dashOffset&quot;: null, &quot;fill&quot;: true, &quot;fillColor&quot;: &quot;blue&quot;, &quot;fillOpacity&quot;: 0.7, &quot;fillRule&quot;: &quot;evenodd&quot;, &quot;lineCap&quot;: &quot;round&quot;, &quot;lineJoin&quot;: &quot;round&quot;, &quot;opacity&quot;: 1.0, &quot;radius&quot;: 5, &quot;stroke&quot;: true, &quot;weight&quot;: 3}\n            ).addTo(map_d4a0b3d6eb593dcc038ea13fe61b5139);\n        \n    \n        var popup_5618e139774eb8ada3cc80d915f29872 = L.popup({&quot;maxWidth&quot;: &quot;100%&quot;});\n\n        \n            \n                var html_7a496cbb67d540eeded8998394a0cb4a = $(`&lt;div id=&quot;html_7a496cbb67d540eeded8998394a0cb4a&quot; style=&quot;width: 100.0%; height: 100.0%;&quot;&gt;United States, Alabama&lt;/div&gt;`)[0];\n                popup_5618e139774eb8ada3cc80d915f29872.setContent(html_7a496cbb67d540eeded8998394a0cb4a);\n            \n        \n\n        circle_marker_b1e824aa82d24e599b4e42919a208c57.bindPopup(popup_5618e139774eb8ada3cc80d915f29872)\n        ;\n\n        \n    \n    \n            var circle_marker_ed8b409f97c5b5f5cc7443a87c1c73c6 = L.circleMarker(\n                [36.7014631, -118.755997],\n                {&quot;bubblingMouseEvents&quot;: true, &quot;color&quot;: &quot;blue&quot;, &quot;dashArray&quot;: null, &quot;dashOffset&quot;: null, &quot;fill&quot;: true, &quot;fillColor&quot;: &quot;blue&quot;, &quot;fillOpacity&quot;: 0.7, &quot;fillRule&quot;: &quot;evenodd&quot;, &quot;lineCap&quot;: &quot;round&quot;, &quot;lineJoin&quot;: &quot;round&quot;, &quot;opacity&quot;: 1.0, &quot;radius&quot;: 5, &quot;stroke&quot;: true, &quot;weight&quot;: 3}\n            ).addTo(map_d4a0b3d6eb593dcc038ea13fe61b5139);\n        \n    \n        var popup_6652575aa9df90be201233cc0f1390ae = L.popup({&quot;maxWidth&quot;: &quot;100%&quot;});\n\n        \n            \n                var html_30aec2ad4e36df2580fc5f167892da0a = $(`&lt;div id=&quot;html_30aec2ad4e36df2580fc5f167892da0a&quot; style=&quot;width: 100.0%; height: 100.0%;&quot;&gt;United States, California&lt;/div&gt;`)[0];\n                popup_6652575aa9df90be201233cc0f1390ae.setContent(html_30aec2ad4e36df2580fc5f167892da0a);\n            \n        \n\n        circle_marker_ed8b409f97c5b5f5cc7443a87c1c73c6.bindPopup(popup_6652575aa9df90be201233cc0f1390ae)\n        ;\n\n        \n    \n    \n            var circle_marker_38dc17835170b996731a65eb9a164f32 = L.circleMarker(\n                [38.7604815, -92.5617875],\n                {&quot;bubblingMouseEvents&quot;: true, &quot;color&quot;: &quot;blue&quot;, &quot;dashArray&quot;: null, &quot;dashOffset&quot;: null, &quot;fill&quot;: true, &quot;fillColor&quot;: &quot;blue&quot;, &quot;fillOpacity&quot;: 0.7, &quot;fillRule&quot;: &quot;evenodd&quot;, &quot;lineCap&quot;: &quot;round&quot;, &quot;lineJoin&quot;: &quot;round&quot;, &quot;opacity&quot;: 1.0, &quot;radius&quot;: 5, &quot;stroke&quot;: true, &quot;weight&quot;: 3}\n            ).addTo(map_d4a0b3d6eb593dcc038ea13fe61b5139);\n        \n    \n        var popup_e4b2b18337d2272c4e25723822b05905 = L.popup({&quot;maxWidth&quot;: &quot;100%&quot;});\n\n        \n            \n                var html_d602282fc19aa19f0ef233b80c117ecb = $(`&lt;div id=&quot;html_d602282fc19aa19f0ef233b80c117ecb&quot; style=&quot;width: 100.0%; height: 100.0%;&quot;&gt;United States, Missouri&lt;/div&gt;`)[0];\n                popup_e4b2b18337d2272c4e25723822b05905.setContent(html_d602282fc19aa19f0ef233b80c117ecb);\n            \n        \n\n        circle_marker_38dc17835170b996731a65eb9a164f32.bindPopup(popup_e4b2b18337d2272c4e25723822b05905)\n        ;\n\n        \n    \n    \n            var circle_marker_5b01a342ccf9dab61b0315fec7ec47b5 = L.circleMarker(\n                [38.27312, -98.5821872],\n                {&quot;bubblingMouseEvents&quot;: true, &quot;color&quot;: &quot;blue&quot;, &quot;dashArray&quot;: null, &quot;dashOffset&quot;: null, &quot;fill&quot;: true, &quot;fillColor&quot;: &quot;blue&quot;, &quot;fillOpacity&quot;: 0.7, &quot;fillRule&quot;: &quot;evenodd&quot;, &quot;lineCap&quot;: &quot;round&quot;, &quot;lineJoin&quot;: &quot;round&quot;, &quot;opacity&quot;: 1.0, &quot;radius&quot;: 5, &quot;stroke&quot;: true, &quot;weight&quot;: 3}\n            ).addTo(map_d4a0b3d6eb593dcc038ea13fe61b5139);\n        \n    \n        var popup_c38d0663c6a174fc780c3550f6813055 = L.popup({&quot;maxWidth&quot;: &quot;100%&quot;});\n\n        \n            \n                var html_9f221007a221e797bac3d1ac53f8ef40 = $(`&lt;div id=&quot;html_9f221007a221e797bac3d1ac53f8ef40&quot; style=&quot;width: 100.0%; height: 100.0%;&quot;&gt;United States, Kansas&lt;/div&gt;`)[0];\n                popup_c38d0663c6a174fc780c3550f6813055.setContent(html_9f221007a221e797bac3d1ac53f8ef40);\n            \n        \n\n        circle_marker_5b01a342ccf9dab61b0315fec7ec47b5.bindPopup(popup_c38d0663c6a174fc780c3550f6813055)\n        ;\n\n        \n    \n    \n            var circle_marker_3de9248756c0fca2f58ad81287586141 = L.circleMarker(\n                [32.3293809, -83.1137366],\n                {&quot;bubblingMouseEvents&quot;: true, &quot;color&quot;: &quot;blue&quot;, &quot;dashArray&quot;: null, &quot;dashOffset&quot;: null, &quot;fill&quot;: true, &quot;fillColor&quot;: &quot;blue&quot;, &quot;fillOpacity&quot;: 0.7, &quot;fillRule&quot;: &quot;evenodd&quot;, &quot;lineCap&quot;: &quot;round&quot;, &quot;lineJoin&quot;: &quot;round&quot;, &quot;opacity&quot;: 1.0, &quot;radius&quot;: 5, &quot;stroke&quot;: true, &quot;weight&quot;: 3}\n            ).addTo(map_d4a0b3d6eb593dcc038ea13fe61b5139);\n        \n    \n        var popup_473423d6a500d78c2c16e249eb518597 = L.popup({&quot;maxWidth&quot;: &quot;100%&quot;});\n\n        \n            \n                var html_0344ea4933b1e521e757927e775696c1 = $(`&lt;div id=&quot;html_0344ea4933b1e521e757927e775696c1&quot; style=&quot;width: 100.0%; height: 100.0%;&quot;&gt;United States, Georgia&lt;/div&gt;`)[0];\n                popup_473423d6a500d78c2c16e249eb518597.setContent(html_0344ea4933b1e521e757927e775696c1);\n            \n        \n\n        circle_marker_3de9248756c0fca2f58ad81287586141.bindPopup(popup_473423d6a500d78c2c16e249eb518597)\n        ;\n\n        \n    \n    \n            var circle_marker_27fed3d2842e9413507a9669b659229e = L.circleMarker(\n                [37.5726028, -85.1551411],\n                {&quot;bubblingMouseEvents&quot;: true, &quot;color&quot;: &quot;blue&quot;, &quot;dashArray&quot;: null, &quot;dashOffset&quot;: null, &quot;fill&quot;: true, &quot;fillColor&quot;: &quot;blue&quot;, &quot;fillOpacity&quot;: 0.7, &quot;fillRule&quot;: &quot;evenodd&quot;, &quot;lineCap&quot;: &quot;round&quot;, &quot;lineJoin&quot;: &quot;round&quot;, &quot;opacity&quot;: 1.0, &quot;radius&quot;: 5, &quot;stroke&quot;: true, &quot;weight&quot;: 3}\n            ).addTo(map_d4a0b3d6eb593dcc038ea13fe61b5139);\n        \n    \n        var popup_fa479c8fd2e6ee5563942dc533a40313 = L.popup({&quot;maxWidth&quot;: &quot;100%&quot;});\n\n        \n            \n                var html_23ea7823f80f019efedd9b61e9c15b69 = $(`&lt;div id=&quot;html_23ea7823f80f019efedd9b61e9c15b69&quot; style=&quot;width: 100.0%; height: 100.0%;&quot;&gt;United States, Kentucky&lt;/div&gt;`)[0];\n                popup_fa479c8fd2e6ee5563942dc533a40313.setContent(html_23ea7823f80f019efedd9b61e9c15b69);\n            \n        \n\n        circle_marker_27fed3d2842e9413507a9669b659229e.bindPopup(popup_fa479c8fd2e6ee5563942dc533a40313)\n        ;\n\n        \n    \n    \n            var circle_marker_fa57848e5837b9b5457558242ee941b6 = L.circleMarker(\n                [41.7370229, -99.5873816],\n                {&quot;bubblingMouseEvents&quot;: true, &quot;color&quot;: &quot;blue&quot;, &quot;dashArray&quot;: null, &quot;dashOffset&quot;: null, &quot;fill&quot;: true, &quot;fillColor&quot;: &quot;blue&quot;, &quot;fillOpacity&quot;: 0.7, &quot;fillRule&quot;: &quot;evenodd&quot;, &quot;lineCap&quot;: &quot;round&quot;, &quot;lineJoin&quot;: &quot;round&quot;, &quot;opacity&quot;: 1.0, &quot;radius&quot;: 5, &quot;stroke&quot;: true, &quot;weight&quot;: 3}\n            ).addTo(map_d4a0b3d6eb593dcc038ea13fe61b5139);\n        \n    \n        var popup_5cb5c1140e6808b1596dc801d0b4bf99 = L.popup({&quot;maxWidth&quot;: &quot;100%&quot;});\n\n        \n            \n                var html_16daa5eaecd9b0cfc3a7173ad9f0b8c3 = $(`&lt;div id=&quot;html_16daa5eaecd9b0cfc3a7173ad9f0b8c3&quot; style=&quot;width: 100.0%; height: 100.0%;&quot;&gt;United States, Nebraska&lt;/div&gt;`)[0];\n                popup_5cb5c1140e6808b1596dc801d0b4bf99.setContent(html_16daa5eaecd9b0cfc3a7173ad9f0b8c3);\n            \n        \n\n        circle_marker_fa57848e5837b9b5457558242ee941b6.bindPopup(popup_5cb5c1140e6808b1596dc801d0b4bf99)\n        ;\n\n        \n    \n    \n            var circle_marker_d0b932c6b94b8045af0707ad2a2d275a = L.circleMarker(\n                [33.6874388, -80.4363743],\n                {&quot;bubblingMouseEvents&quot;: true, &quot;color&quot;: &quot;blue&quot;, &quot;dashArray&quot;: null, &quot;dashOffset&quot;: null, &quot;fill&quot;: true, &quot;fillColor&quot;: &quot;blue&quot;, &quot;fillOpacity&quot;: 0.7, &quot;fillRule&quot;: &quot;evenodd&quot;, &quot;lineCap&quot;: &quot;round&quot;, &quot;lineJoin&quot;: &quot;round&quot;, &quot;opacity&quot;: 1.0, &quot;radius&quot;: 5, &quot;stroke&quot;: true, &quot;weight&quot;: 3}\n            ).addTo(map_d4a0b3d6eb593dcc038ea13fe61b5139);\n        \n    \n        var popup_070eea643ff8eb5d467418181c0559c2 = L.popup({&quot;maxWidth&quot;: &quot;100%&quot;});\n\n        \n            \n                var html_357827dc5f9513b7e68f7a4d67728862 = $(`&lt;div id=&quot;html_357827dc5f9513b7e68f7a4d67728862&quot; style=&quot;width: 100.0%; height: 100.0%;&quot;&gt;United States, South Carolina&lt;/div&gt;`)[0];\n                popup_070eea643ff8eb5d467418181c0559c2.setContent(html_357827dc5f9513b7e68f7a4d67728862);\n            \n        \n\n        circle_marker_d0b932c6b94b8045af0707ad2a2d275a.bindPopup(popup_070eea643ff8eb5d467418181c0559c2)\n        ;\n\n        \n    \n    \n            var circle_marker_e004c2b6565d77db3abd501ed790403c = L.circleMarker(\n                [47.3752671, -109.638757],\n                {&quot;bubblingMouseEvents&quot;: true, &quot;color&quot;: &quot;blue&quot;, &quot;dashArray&quot;: null, &quot;dashOffset&quot;: null, &quot;fill&quot;: true, &quot;fillColor&quot;: &quot;blue&quot;, &quot;fillOpacity&quot;: 0.7, &quot;fillRule&quot;: &quot;evenodd&quot;, &quot;lineCap&quot;: &quot;round&quot;, &quot;lineJoin&quot;: &quot;round&quot;, &quot;opacity&quot;: 1.0, &quot;radius&quot;: 5, &quot;stroke&quot;: true, &quot;weight&quot;: 3}\n            ).addTo(map_d4a0b3d6eb593dcc038ea13fe61b5139);\n        \n    \n        var popup_5752150859b93a7cb38b5954595e6692 = L.popup({&quot;maxWidth&quot;: &quot;100%&quot;});\n\n        \n            \n                var html_8dc3d88714c494353a0a7eede409aeef = $(`&lt;div id=&quot;html_8dc3d88714c494353a0a7eede409aeef&quot; style=&quot;width: 100.0%; height: 100.0%;&quot;&gt;United States, Montana&lt;/div&gt;`)[0];\n                popup_5752150859b93a7cb38b5954595e6692.setContent(html_8dc3d88714c494353a0a7eede409aeef);\n            \n        \n\n        circle_marker_e004c2b6565d77db3abd501ed790403c.bindPopup(popup_5752150859b93a7cb38b5954595e6692)\n        ;\n\n        \n    \n    \n            var circle_marker_028d44cb53e582f658a3bbeb89fadea1 = L.circleMarker(\n                [47.6201461, -100.540737],\n                {&quot;bubblingMouseEvents&quot;: true, &quot;color&quot;: &quot;blue&quot;, &quot;dashArray&quot;: null, &quot;dashOffset&quot;: null, &quot;fill&quot;: true, &quot;fillColor&quot;: &quot;blue&quot;, &quot;fillOpacity&quot;: 0.7, &quot;fillRule&quot;: &quot;evenodd&quot;, &quot;lineCap&quot;: &quot;round&quot;, &quot;lineJoin&quot;: &quot;round&quot;, &quot;opacity&quot;: 1.0, &quot;radius&quot;: 5, &quot;stroke&quot;: true, &quot;weight&quot;: 3}\n            ).addTo(map_d4a0b3d6eb593dcc038ea13fe61b5139);\n        \n    \n        var popup_1d23e544931db47c7e47e41e90ea82e5 = L.popup({&quot;maxWidth&quot;: &quot;100%&quot;});\n\n        \n            \n                var html_815aa09ea7cfa9b8e5800cbbc12105f8 = $(`&lt;div id=&quot;html_815aa09ea7cfa9b8e5800cbbc12105f8&quot; style=&quot;width: 100.0%; height: 100.0%;&quot;&gt;United States, North Dakota&lt;/div&gt;`)[0];\n                popup_1d23e544931db47c7e47e41e90ea82e5.setContent(html_815aa09ea7cfa9b8e5800cbbc12105f8);\n            \n        \n\n        circle_marker_028d44cb53e582f658a3bbeb89fadea1.bindPopup(popup_1d23e544931db47c7e47e41e90ea82e5)\n        ;\n\n        \n    \n    \n            var circle_marker_703a46483887e4a44f9492756dfa808b = L.circleMarker(\n                [27.7567667, -81.4639835],\n                {&quot;bubblingMouseEvents&quot;: true, &quot;color&quot;: &quot;blue&quot;, &quot;dashArray&quot;: null, &quot;dashOffset&quot;: null, &quot;fill&quot;: true, &quot;fillColor&quot;: &quot;blue&quot;, &quot;fillOpacity&quot;: 0.7, &quot;fillRule&quot;: &quot;evenodd&quot;, &quot;lineCap&quot;: &quot;round&quot;, &quot;lineJoin&quot;: &quot;round&quot;, &quot;opacity&quot;: 1.0, &quot;radius&quot;: 5, &quot;stroke&quot;: true, &quot;weight&quot;: 3}\n            ).addTo(map_d4a0b3d6eb593dcc038ea13fe61b5139);\n        \n    \n        var popup_4580007f104d7e28e713d327df3ae94c = L.popup({&quot;maxWidth&quot;: &quot;100%&quot;});\n\n        \n            \n                var html_b7c047842d79dee4929cd4ed3bb58efc = $(`&lt;div id=&quot;html_b7c047842d79dee4929cd4ed3bb58efc&quot; style=&quot;width: 100.0%; height: 100.0%;&quot;&gt;United States, Florida&lt;/div&gt;`)[0];\n                popup_4580007f104d7e28e713d327df3ae94c.setContent(html_b7c047842d79dee4929cd4ed3bb58efc);\n            \n        \n\n        circle_marker_703a46483887e4a44f9492756dfa808b.bindPopup(popup_4580007f104d7e28e713d327df3ae94c)\n        ;\n\n        \n    \n    \n            var circle_marker_4fd3ec5ec283298564e42a0cc3c4d9d8 = L.circleMarker(\n                [31.2638905, -98.5456116],\n                {&quot;bubblingMouseEvents&quot;: true, &quot;color&quot;: &quot;blue&quot;, &quot;dashArray&quot;: null, &quot;dashOffset&quot;: null, &quot;fill&quot;: true, &quot;fillColor&quot;: &quot;blue&quot;, &quot;fillOpacity&quot;: 0.7, &quot;fillRule&quot;: &quot;evenodd&quot;, &quot;lineCap&quot;: &quot;round&quot;, &quot;lineJoin&quot;: &quot;round&quot;, &quot;opacity&quot;: 1.0, &quot;radius&quot;: 5, &quot;stroke&quot;: true, &quot;weight&quot;: 3}\n            ).addTo(map_d4a0b3d6eb593dcc038ea13fe61b5139);\n        \n    \n        var popup_e63e438a3f606fa130ddfa9d39af6602 = L.popup({&quot;maxWidth&quot;: &quot;100%&quot;});\n\n        \n            \n                var html_8d3f62578a09e367874340b9909fd585 = $(`&lt;div id=&quot;html_8d3f62578a09e367874340b9909fd585&quot; style=&quot;width: 100.0%; height: 100.0%;&quot;&gt;United States, Texas&lt;/div&gt;`)[0];\n                popup_e63e438a3f606fa130ddfa9d39af6602.setContent(html_8d3f62578a09e367874340b9909fd585);\n            \n        \n\n        circle_marker_4fd3ec5ec283298564e42a0cc3c4d9d8.bindPopup(popup_e63e438a3f606fa130ddfa9d39af6602)\n        ;\n\n        \n    \n    \n            var circle_marker_633a2673cbd6064b687bfdea3c960197 = L.circleMarker(\n                [34.395342, -111.763275],\n                {&quot;bubblingMouseEvents&quot;: true, &quot;color&quot;: &quot;blue&quot;, &quot;dashArray&quot;: null, &quot;dashOffset&quot;: null, &quot;fill&quot;: true, &quot;fillColor&quot;: &quot;blue&quot;, &quot;fillOpacity&quot;: 0.7, &quot;fillRule&quot;: &quot;evenodd&quot;, &quot;lineCap&quot;: &quot;round&quot;, &quot;lineJoin&quot;: &quot;round&quot;, &quot;opacity&quot;: 1.0, &quot;radius&quot;: 5, &quot;stroke&quot;: true, &quot;weight&quot;: 3}\n            ).addTo(map_d4a0b3d6eb593dcc038ea13fe61b5139);\n        \n    \n        var popup_2b8891fee033544aa4eb9c94611f0786 = L.popup({&quot;maxWidth&quot;: &quot;100%&quot;});\n\n        \n            \n                var html_a983264844a193a771e0a8e6d635a589 = $(`&lt;div id=&quot;html_a983264844a193a771e0a8e6d635a589&quot; style=&quot;width: 100.0%; height: 100.0%;&quot;&gt;United States, Arizona&lt;/div&gt;`)[0];\n                popup_2b8891fee033544aa4eb9c94611f0786.setContent(html_a983264844a193a771e0a8e6d635a589);\n            \n        \n\n        circle_marker_633a2673cbd6064b687bfdea3c960197.bindPopup(popup_2b8891fee033544aa4eb9c94611f0786)\n        ;\n\n        \n    \n    \n            var circle_marker_bc5ea2b907441c635a8e3b341b2e605f = L.circleMarker(\n                [35.7730076, -86.2820081],\n                {&quot;bubblingMouseEvents&quot;: true, &quot;color&quot;: &quot;blue&quot;, &quot;dashArray&quot;: null, &quot;dashOffset&quot;: null, &quot;fill&quot;: true, &quot;fillColor&quot;: &quot;blue&quot;, &quot;fillOpacity&quot;: 0.7, &quot;fillRule&quot;: &quot;evenodd&quot;, &quot;lineCap&quot;: &quot;round&quot;, &quot;lineJoin&quot;: &quot;round&quot;, &quot;opacity&quot;: 1.0, &quot;radius&quot;: 5, &quot;stroke&quot;: true, &quot;weight&quot;: 3}\n            ).addTo(map_d4a0b3d6eb593dcc038ea13fe61b5139);\n        \n    \n        var popup_b225b6ecc382b8f3f9daf17c4ca726b9 = L.popup({&quot;maxWidth&quot;: &quot;100%&quot;});\n\n        \n            \n                var html_1b2e2b83f85e50c7981163c39a05d7f9 = $(`&lt;div id=&quot;html_1b2e2b83f85e50c7981163c39a05d7f9&quot; style=&quot;width: 100.0%; height: 100.0%;&quot;&gt;United States, Tennessee&lt;/div&gt;`)[0];\n                popup_b225b6ecc382b8f3f9daf17c4ca726b9.setContent(html_1b2e2b83f85e50c7981163c39a05d7f9);\n            \n        \n\n        circle_marker_bc5ea2b907441c635a8e3b341b2e605f.bindPopup(popup_b225b6ecc382b8f3f9daf17c4ca726b9)\n        ;\n\n        \n    \n    \n            var circle_marker_2475393e09f62e805cc80af243e73210 = L.circleMarker(\n                [38.4758406, -80.8408415],\n                {&quot;bubblingMouseEvents&quot;: true, &quot;color&quot;: &quot;blue&quot;, &quot;dashArray&quot;: null, &quot;dashOffset&quot;: null, &quot;fill&quot;: true, &quot;fillColor&quot;: &quot;blue&quot;, &quot;fillOpacity&quot;: 0.7, &quot;fillRule&quot;: &quot;evenodd&quot;, &quot;lineCap&quot;: &quot;round&quot;, &quot;lineJoin&quot;: &quot;round&quot;, &quot;opacity&quot;: 1.0, &quot;radius&quot;: 5, &quot;stroke&quot;: true, &quot;weight&quot;: 3}\n            ).addTo(map_d4a0b3d6eb593dcc038ea13fe61b5139);\n        \n    \n        var popup_8fc856aecec4c995d7116fef41e0a5c3 = L.popup({&quot;maxWidth&quot;: &quot;100%&quot;});\n\n        \n            \n                var html_405a5a22bb537f5ae238fdf366773403 = $(`&lt;div id=&quot;html_405a5a22bb537f5ae238fdf366773403&quot; style=&quot;width: 100.0%; height: 100.0%;&quot;&gt;United States, West Virginia&lt;/div&gt;`)[0];\n                popup_8fc856aecec4c995d7116fef41e0a5c3.setContent(html_405a5a22bb537f5ae238fdf366773403);\n            \n        \n\n        circle_marker_2475393e09f62e805cc80af243e73210.bindPopup(popup_8fc856aecec4c995d7116fef41e0a5c3)\n        ;\n\n        \n    \n    \n            var circle_marker_18c68d197ad5ae9ab6267fd10592b608 = L.circleMarker(\n                [43.6447642, -114.015407],\n                {&quot;bubblingMouseEvents&quot;: true, &quot;color&quot;: &quot;blue&quot;, &quot;dashArray&quot;: null, &quot;dashOffset&quot;: null, &quot;fill&quot;: true, &quot;fillColor&quot;: &quot;blue&quot;, &quot;fillOpacity&quot;: 0.7, &quot;fillRule&quot;: &quot;evenodd&quot;, &quot;lineCap&quot;: &quot;round&quot;, &quot;lineJoin&quot;: &quot;round&quot;, &quot;opacity&quot;: 1.0, &quot;radius&quot;: 5, &quot;stroke&quot;: true, &quot;weight&quot;: 3}\n            ).addTo(map_d4a0b3d6eb593dcc038ea13fe61b5139);\n        \n    \n        var popup_bd6bce0794b9e6848d006741b83b5603 = L.popup({&quot;maxWidth&quot;: &quot;100%&quot;});\n\n        \n            \n                var html_aa2b6d546a651423bc9611eb2be05765 = $(`&lt;div id=&quot;html_aa2b6d546a651423bc9611eb2be05765&quot; style=&quot;width: 100.0%; height: 100.0%;&quot;&gt;United States, Idaho&lt;/div&gt;`)[0];\n                popup_bd6bce0794b9e6848d006741b83b5603.setContent(html_aa2b6d546a651423bc9611eb2be05765);\n            \n        \n\n        circle_marker_18c68d197ad5ae9ab6267fd10592b608.bindPopup(popup_bd6bce0794b9e6848d006741b83b5603)\n        ;\n\n        \n    \n    \n            var circle_marker_9211c76b63e4ae2df1da3b633a221f35 = L.circleMarker(\n                [34.9550817, -97.2684063],\n                {&quot;bubblingMouseEvents&quot;: true, &quot;color&quot;: &quot;blue&quot;, &quot;dashArray&quot;: null, &quot;dashOffset&quot;: null, &quot;fill&quot;: true, &quot;fillColor&quot;: &quot;blue&quot;, &quot;fillOpacity&quot;: 0.7, &quot;fillRule&quot;: &quot;evenodd&quot;, &quot;lineCap&quot;: &quot;round&quot;, &quot;lineJoin&quot;: &quot;round&quot;, &quot;opacity&quot;: 1.0, &quot;radius&quot;: 5, &quot;stroke&quot;: true, &quot;weight&quot;: 3}\n            ).addTo(map_d4a0b3d6eb593dcc038ea13fe61b5139);\n        \n    \n        var popup_a715e88322696bcb9ea12eac65dbc4f8 = L.popup({&quot;maxWidth&quot;: &quot;100%&quot;});\n\n        \n            \n                var html_2f20cef8688997eb013f344950bf4176 = $(`&lt;div id=&quot;html_2f20cef8688997eb013f344950bf4176&quot; style=&quot;width: 100.0%; height: 100.0%;&quot;&gt;United States, Oklahoma&lt;/div&gt;`)[0];\n                popup_a715e88322696bcb9ea12eac65dbc4f8.setContent(html_2f20cef8688997eb013f344950bf4176);\n            \n        \n\n        circle_marker_9211c76b63e4ae2df1da3b633a221f35.bindPopup(popup_a715e88322696bcb9ea12eac65dbc4f8)\n        ;\n\n        \n    \n    \n            var circle_marker_f8153aafccbd921b00f6be8cdc6a146f = L.circleMarker(\n                [43.1700264, -107.568534],\n                {&quot;bubblingMouseEvents&quot;: true, &quot;color&quot;: &quot;blue&quot;, &quot;dashArray&quot;: null, &quot;dashOffset&quot;: null, &quot;fill&quot;: true, &quot;fillColor&quot;: &quot;blue&quot;, &quot;fillOpacity&quot;: 0.7, &quot;fillRule&quot;: &quot;evenodd&quot;, &quot;lineCap&quot;: &quot;round&quot;, &quot;lineJoin&quot;: &quot;round&quot;, &quot;opacity&quot;: 1.0, &quot;radius&quot;: 5, &quot;stroke&quot;: true, &quot;weight&quot;: 3}\n            ).addTo(map_d4a0b3d6eb593dcc038ea13fe61b5139);\n        \n    \n        var popup_de7e28f47947a75e1e437506ab157a21 = L.popup({&quot;maxWidth&quot;: &quot;100%&quot;});\n\n        \n            \n                var html_ac29fc86cb55859fab4289a00c0c7abb = $(`&lt;div id=&quot;html_ac29fc86cb55859fab4289a00c0c7abb&quot; style=&quot;width: 100.0%; height: 100.0%;&quot;&gt;United States, Wyoming&lt;/div&gt;`)[0];\n                popup_de7e28f47947a75e1e437506ab157a21.setContent(html_ac29fc86cb55859fab4289a00c0c7abb);\n            \n        \n\n        circle_marker_f8153aafccbd921b00f6be8cdc6a146f.bindPopup(popup_de7e28f47947a75e1e437506ab157a21)\n        ;\n\n        \n    \n    \n            var circle_marker_d26418547e3d3dd7a1b0b2d31419c19b = L.circleMarker(\n                [39.5158825, -116.853722],\n                {&quot;bubblingMouseEvents&quot;: true, &quot;color&quot;: &quot;blue&quot;, &quot;dashArray&quot;: null, &quot;dashOffset&quot;: null, &quot;fill&quot;: true, &quot;fillColor&quot;: &quot;blue&quot;, &quot;fillOpacity&quot;: 0.7, &quot;fillRule&quot;: &quot;evenodd&quot;, &quot;lineCap&quot;: &quot;round&quot;, &quot;lineJoin&quot;: &quot;round&quot;, &quot;opacity&quot;: 1.0, &quot;radius&quot;: 5, &quot;stroke&quot;: true, &quot;weight&quot;: 3}\n            ).addTo(map_d4a0b3d6eb593dcc038ea13fe61b5139);\n        \n    \n        var popup_926182af5eb4751caba579dbd57f1718 = L.popup({&quot;maxWidth&quot;: &quot;100%&quot;});\n\n        \n            \n                var html_d5208b498339d68d8dd2c7550b6ed2d6 = $(`&lt;div id=&quot;html_d5208b498339d68d8dd2c7550b6ed2d6&quot; style=&quot;width: 100.0%; height: 100.0%;&quot;&gt;United States, Nevada&lt;/div&gt;`)[0];\n                popup_926182af5eb4751caba579dbd57f1718.setContent(html_d5208b498339d68d8dd2c7550b6ed2d6);\n            \n        \n\n        circle_marker_d26418547e3d3dd7a1b0b2d31419c19b.bindPopup(popup_926182af5eb4751caba579dbd57f1718)\n        ;\n\n        \n    \n    \n            var circle_marker_566117ab0a17bad17fed31edbe85773f = L.circleMarker(\n                [34.5802074, -105.9960475],\n                {&quot;bubblingMouseEvents&quot;: true, &quot;color&quot;: &quot;blue&quot;, &quot;dashArray&quot;: null, &quot;dashOffset&quot;: null, &quot;fill&quot;: true, &quot;fillColor&quot;: &quot;blue&quot;, &quot;fillOpacity&quot;: 0.7, &quot;fillRule&quot;: &quot;evenodd&quot;, &quot;lineCap&quot;: &quot;round&quot;, &quot;lineJoin&quot;: &quot;round&quot;, &quot;opacity&quot;: 1.0, &quot;radius&quot;: 5, &quot;stroke&quot;: true, &quot;weight&quot;: 3}\n            ).addTo(map_d4a0b3d6eb593dcc038ea13fe61b5139);\n        \n    \n        var popup_49806745bf629f2421e8b2b562454682 = L.popup({&quot;maxWidth&quot;: &quot;100%&quot;});\n\n        \n            \n                var html_15761e9bd1b67fe575be5823794aa845 = $(`&lt;div id=&quot;html_15761e9bd1b67fe575be5823794aa845&quot; style=&quot;width: 100.0%; height: 100.0%;&quot;&gt;United States, New Mexico&lt;/div&gt;`)[0];\n                popup_49806745bf629f2421e8b2b562454682.setContent(html_15761e9bd1b67fe575be5823794aa845);\n            \n        \n\n        circle_marker_566117ab0a17bad17fed31edbe85773f.bindPopup(popup_49806745bf629f2421e8b2b562454682)\n        ;\n\n        \n    \n    \n            var circle_marker_13cb5d2143918c546c19b00947aa7c04 = L.circleMarker(\n                [64.9841821, -18.1059013],\n                {&quot;bubblingMouseEvents&quot;: true, &quot;color&quot;: &quot;blue&quot;, &quot;dashArray&quot;: null, &quot;dashOffset&quot;: null, &quot;fill&quot;: true, &quot;fillColor&quot;: &quot;blue&quot;, &quot;fillOpacity&quot;: 0.7, &quot;fillRule&quot;: &quot;evenodd&quot;, &quot;lineCap&quot;: &quot;round&quot;, &quot;lineJoin&quot;: &quot;round&quot;, &quot;opacity&quot;: 1.0, &quot;radius&quot;: 5, &quot;stroke&quot;: true, &quot;weight&quot;: 3}\n            ).addTo(map_d4a0b3d6eb593dcc038ea13fe61b5139);\n        \n    \n        var popup_03bde932cf7fe3e5587507ed725e8bfc = L.popup({&quot;maxWidth&quot;: &quot;100%&quot;});\n\n        \n            \n                var html_6465851da219159489b4de2e51ebde3f = $(`&lt;div id=&quot;html_6465851da219159489b4de2e51ebde3f&quot; style=&quot;width: 100.0%; height: 100.0%;&quot;&gt;Iceland&lt;/div&gt;`)[0];\n                popup_03bde932cf7fe3e5587507ed725e8bfc.setContent(html_6465851da219159489b4de2e51ebde3f);\n            \n        \n\n        circle_marker_13cb5d2143918c546c19b00947aa7c04.bindPopup(popup_03bde932cf7fe3e5587507ed725e8bfc)\n        ;\n\n        \n    \n    \n            var circle_marker_415ce1a873c39606a6454ad1d3d191cd = L.circleMarker(\n                [35.2048883, -92.4479108],\n                {&quot;bubblingMouseEvents&quot;: true, &quot;color&quot;: &quot;blue&quot;, &quot;dashArray&quot;: null, &quot;dashOffset&quot;: null, &quot;fill&quot;: true, &quot;fillColor&quot;: &quot;blue&quot;, &quot;fillOpacity&quot;: 0.7, &quot;fillRule&quot;: &quot;evenodd&quot;, &quot;lineCap&quot;: &quot;round&quot;, &quot;lineJoin&quot;: &quot;round&quot;, &quot;opacity&quot;: 1.0, &quot;radius&quot;: 5, &quot;stroke&quot;: true, &quot;weight&quot;: 3}\n            ).addTo(map_d4a0b3d6eb593dcc038ea13fe61b5139);\n        \n    \n        var popup_0afbde00af05b3d4a6560edf3c2fed15 = L.popup({&quot;maxWidth&quot;: &quot;100%&quot;});\n\n        \n            \n                var html_e4152f3625351f218a3336b8a78e3ccd = $(`&lt;div id=&quot;html_e4152f3625351f218a3336b8a78e3ccd&quot; style=&quot;width: 100.0%; height: 100.0%;&quot;&gt;United States, Arkansas&lt;/div&gt;`)[0];\n                popup_0afbde00af05b3d4a6560edf3c2fed15.setContent(html_e4152f3625351f218a3336b8a78e3ccd);\n            \n        \n\n        circle_marker_415ce1a873c39606a6454ad1d3d191cd.bindPopup(popup_0afbde00af05b3d4a6560edf3c2fed15)\n        ;\n\n        \n    \n    \n            var circle_marker_074685df432b71ff71e386309335fa60 = L.circleMarker(\n                [55.670249, 10.3333283],\n                {&quot;bubblingMouseEvents&quot;: true, &quot;color&quot;: &quot;blue&quot;, &quot;dashArray&quot;: null, &quot;dashOffset&quot;: null, &quot;fill&quot;: true, &quot;fillColor&quot;: &quot;blue&quot;, &quot;fillOpacity&quot;: 0.7, &quot;fillRule&quot;: &quot;evenodd&quot;, &quot;lineCap&quot;: &quot;round&quot;, &quot;lineJoin&quot;: &quot;round&quot;, &quot;opacity&quot;: 1.0, &quot;radius&quot;: 5, &quot;stroke&quot;: true, &quot;weight&quot;: 3}\n            ).addTo(map_d4a0b3d6eb593dcc038ea13fe61b5139);\n        \n    \n        var popup_fb694de81deb519feaac58a495c4f234 = L.popup({&quot;maxWidth&quot;: &quot;100%&quot;});\n\n        \n            \n                var html_4576e8993eef0f3d3189a5f78d649173 = $(`&lt;div id=&quot;html_4576e8993eef0f3d3189a5f78d649173&quot; style=&quot;width: 100.0%; height: 100.0%;&quot;&gt;Denmark&lt;/div&gt;`)[0];\n                popup_fb694de81deb519feaac58a495c4f234.setContent(html_4576e8993eef0f3d3189a5f78d649173);\n            \n        \n\n        circle_marker_074685df432b71ff71e386309335fa60.bindPopup(popup_fb694de81deb519feaac58a495c4f234)\n        ;\n\n        \n    \n    \n            var circle_marker_5c8c63899708893968029b63ac8d874b = L.circleMarker(\n                [30.8703881, -92.007126],\n                {&quot;bubblingMouseEvents&quot;: true, &quot;color&quot;: &quot;blue&quot;, &quot;dashArray&quot;: null, &quot;dashOffset&quot;: null, &quot;fill&quot;: true, &quot;fillColor&quot;: &quot;blue&quot;, &quot;fillOpacity&quot;: 0.7, &quot;fillRule&quot;: &quot;evenodd&quot;, &quot;lineCap&quot;: &quot;round&quot;, &quot;lineJoin&quot;: &quot;round&quot;, &quot;opacity&quot;: 1.0, &quot;radius&quot;: 5, &quot;stroke&quot;: true, &quot;weight&quot;: 3}\n            ).addTo(map_d4a0b3d6eb593dcc038ea13fe61b5139);\n        \n    \n        var popup_365d3ce8448bebcd845e5da50d39a818 = L.popup({&quot;maxWidth&quot;: &quot;100%&quot;});\n\n        \n            \n                var html_c9e005e8538bffe1f1c79b0eef10edce = $(`&lt;div id=&quot;html_c9e005e8538bffe1f1c79b0eef10edce&quot; style=&quot;width: 100.0%; height: 100.0%;&quot;&gt;United States, Louisiana&lt;/div&gt;`)[0];\n                popup_365d3ce8448bebcd845e5da50d39a818.setContent(html_c9e005e8538bffe1f1c79b0eef10edce);\n            \n        \n\n        circle_marker_5c8c63899708893968029b63ac8d874b.bindPopup(popup_365d3ce8448bebcd845e5da50d39a818)\n        ;\n\n        \n    \n    \n            var circle_marker_9d1a52bedf115c13f9bce8de0a8db44e = L.circleMarker(\n                [19.593801499999998, -155.42837009716908],\n                {&quot;bubblingMouseEvents&quot;: true, &quot;color&quot;: &quot;blue&quot;, &quot;dashArray&quot;: null, &quot;dashOffset&quot;: null, &quot;fill&quot;: true, &quot;fillColor&quot;: &quot;blue&quot;, &quot;fillOpacity&quot;: 0.7, &quot;fillRule&quot;: &quot;evenodd&quot;, &quot;lineCap&quot;: &quot;round&quot;, &quot;lineJoin&quot;: &quot;round&quot;, &quot;opacity&quot;: 1.0, &quot;radius&quot;: 5, &quot;stroke&quot;: true, &quot;weight&quot;: 3}\n            ).addTo(map_d4a0b3d6eb593dcc038ea13fe61b5139);\n        \n    \n        var popup_284c484e0631718a9805f73b1a4ea632 = L.popup({&quot;maxWidth&quot;: &quot;100%&quot;});\n\n        \n            \n                var html_f030b1e8573ba1963a2d6ed033becb1e = $(`&lt;div id=&quot;html_f030b1e8573ba1963a2d6ed033becb1e&quot; style=&quot;width: 100.0%; height: 100.0%;&quot;&gt;United States, Hawaii&lt;/div&gt;`)[0];\n                popup_284c484e0631718a9805f73b1a4ea632.setContent(html_f030b1e8573ba1963a2d6ed033becb1e);\n            \n        \n\n        circle_marker_9d1a52bedf115c13f9bce8de0a8db44e.bindPopup(popup_284c484e0631718a9805f73b1a4ea632)\n        ;\n\n        \n    \n    \n            var circle_marker_37d59a91db5a7f49fbed6d6e8e652c0d = L.circleMarker(\n                [61.0666922, -107.991707],\n                {&quot;bubblingMouseEvents&quot;: true, &quot;color&quot;: &quot;blue&quot;, &quot;dashArray&quot;: null, &quot;dashOffset&quot;: null, &quot;fill&quot;: true, &quot;fillColor&quot;: &quot;blue&quot;, &quot;fillOpacity&quot;: 0.7, &quot;fillRule&quot;: &quot;evenodd&quot;, &quot;lineCap&quot;: &quot;round&quot;, &quot;lineJoin&quot;: &quot;round&quot;, &quot;opacity&quot;: 1.0, &quot;radius&quot;: 5, &quot;stroke&quot;: true, &quot;weight&quot;: 3}\n            ).addTo(map_d4a0b3d6eb593dcc038ea13fe61b5139);\n        \n    \n        var popup_b33e9dc72d4b2ce41d9e0116cc221c24 = L.popup({&quot;maxWidth&quot;: &quot;100%&quot;});\n\n        \n            \n                var html_949bcee8b244ca1c9f8828cd296d8a27 = $(`&lt;div id=&quot;html_949bcee8b244ca1c9f8828cd296d8a27&quot; style=&quot;width: 100.0%; height: 100.0%;&quot;&gt;Canada&lt;/div&gt;`)[0];\n                popup_b33e9dc72d4b2ce41d9e0116cc221c24.setContent(html_949bcee8b244ca1c9f8828cd296d8a27);\n            \n        \n\n        circle_marker_37d59a91db5a7f49fbed6d6e8e652c0d.bindPopup(popup_b33e9dc72d4b2ce41d9e0116cc221c24)\n        ;\n\n        \n    \n    \n            var circle_marker_748c87c12cb6bbe96b27b988e7d7b63f = L.circleMarker(\n                [64.5731537, 11.52803643954819],\n                {&quot;bubblingMouseEvents&quot;: true, &quot;color&quot;: &quot;blue&quot;, &quot;dashArray&quot;: null, &quot;dashOffset&quot;: null, &quot;fill&quot;: true, &quot;fillColor&quot;: &quot;blue&quot;, &quot;fillOpacity&quot;: 0.7, &quot;fillRule&quot;: &quot;evenodd&quot;, &quot;lineCap&quot;: &quot;round&quot;, &quot;lineJoin&quot;: &quot;round&quot;, &quot;opacity&quot;: 1.0, &quot;radius&quot;: 5, &quot;stroke&quot;: true, &quot;weight&quot;: 3}\n            ).addTo(map_d4a0b3d6eb593dcc038ea13fe61b5139);\n        \n    \n        var popup_28d00efc39e8ac5d31a4d7c1d4d1d37e = L.popup({&quot;maxWidth&quot;: &quot;100%&quot;});\n\n        \n            \n                var html_b4ff80bfe012df8754b6558d7770925a = $(`&lt;div id=&quot;html_b4ff80bfe012df8754b6558d7770925a&quot; style=&quot;width: 100.0%; height: 100.0%;&quot;&gt;Norway&lt;/div&gt;`)[0];\n                popup_28d00efc39e8ac5d31a4d7c1d4d1d37e.setContent(html_b4ff80bfe012df8754b6558d7770925a);\n            \n        \n\n        circle_marker_748c87c12cb6bbe96b27b988e7d7b63f.bindPopup(popup_28d00efc39e8ac5d31a4d7c1d4d1d37e)\n        ;\n\n        \n    \n    \n            var circle_marker_6d91fce749fc87dd267417104383faaa = L.circleMarker(\n                [39.4225192, -111.714358],\n                {&quot;bubblingMouseEvents&quot;: true, &quot;color&quot;: &quot;blue&quot;, &quot;dashArray&quot;: null, &quot;dashOffset&quot;: null, &quot;fill&quot;: true, &quot;fillColor&quot;: &quot;blue&quot;, &quot;fillOpacity&quot;: 0.7, &quot;fillRule&quot;: &quot;evenodd&quot;, &quot;lineCap&quot;: &quot;round&quot;, &quot;lineJoin&quot;: &quot;round&quot;, &quot;opacity&quot;: 1.0, &quot;radius&quot;: 5, &quot;stroke&quot;: true, &quot;weight&quot;: 3}\n            ).addTo(map_d4a0b3d6eb593dcc038ea13fe61b5139);\n        \n    \n        var popup_54aafd3598eefe75ff0472afa1f85f43 = L.popup({&quot;maxWidth&quot;: &quot;100%&quot;});\n\n        \n            \n                var html_2c50295b97c08e8e266c8d7d2b11aeb5 = $(`&lt;div id=&quot;html_2c50295b97c08e8e266c8d7d2b11aeb5&quot; style=&quot;width: 100.0%; height: 100.0%;&quot;&gt;United States, Utah&lt;/div&gt;`)[0];\n                popup_54aafd3598eefe75ff0472afa1f85f43.setContent(html_2c50295b97c08e8e266c8d7d2b11aeb5);\n            \n        \n\n        circle_marker_6d91fce749fc87dd267417104383faaa.bindPopup(popup_54aafd3598eefe75ff0472afa1f85f43)\n        ;\n\n        \n    \n    \n            var circle_marker_53255ebf6bda4fb305a40b57a0c8a5a3 = L.circleMarker(\n                [32.9715285, -89.7348497],\n                {&quot;bubblingMouseEvents&quot;: true, &quot;color&quot;: &quot;blue&quot;, &quot;dashArray&quot;: null, &quot;dashOffset&quot;: null, &quot;fill&quot;: true, &quot;fillColor&quot;: &quot;blue&quot;, &quot;fillOpacity&quot;: 0.7, &quot;fillRule&quot;: &quot;evenodd&quot;, &quot;lineCap&quot;: &quot;round&quot;, &quot;lineJoin&quot;: &quot;round&quot;, &quot;opacity&quot;: 1.0, &quot;radius&quot;: 5, &quot;stroke&quot;: true, &quot;weight&quot;: 3}\n            ).addTo(map_d4a0b3d6eb593dcc038ea13fe61b5139);\n        \n    \n        var popup_ef47f5f9832afeec006ec25b7d01a569 = L.popup({&quot;maxWidth&quot;: &quot;100%&quot;});\n\n        \n            \n                var html_00a02945404d8b2d5fce3b110cc928b3 = $(`&lt;div id=&quot;html_00a02945404d8b2d5fce3b110cc928b3&quot; style=&quot;width: 100.0%; height: 100.0%;&quot;&gt;United States, Mississippi&lt;/div&gt;`)[0];\n                popup_ef47f5f9832afeec006ec25b7d01a569.setContent(html_00a02945404d8b2d5fce3b110cc928b3);\n            \n        \n\n        circle_marker_53255ebf6bda4fb305a40b57a0c8a5a3.bindPopup(popup_ef47f5f9832afeec006ec25b7d01a569)\n        ;\n\n        \n    \n    \n            var circle_marker_105ee012ee13b5134fa24b7d63fa6c50 = L.circleMarker(\n                [44.133435, -70.822678],\n                {&quot;bubblingMouseEvents&quot;: true, &quot;color&quot;: &quot;blue&quot;, &quot;dashArray&quot;: null, &quot;dashOffset&quot;: null, &quot;fill&quot;: true, &quot;fillColor&quot;: &quot;blue&quot;, &quot;fillOpacity&quot;: 0.7, &quot;fillRule&quot;: &quot;evenodd&quot;, &quot;lineCap&quot;: &quot;round&quot;, &quot;lineJoin&quot;: &quot;round&quot;, &quot;opacity&quot;: 1.0, &quot;radius&quot;: 5, &quot;stroke&quot;: true, &quot;weight&quot;: 3}\n            ).addTo(map_d4a0b3d6eb593dcc038ea13fe61b5139);\n        \n    \n        var popup_0362e7aa48240cdffe8422c1af2f1e20 = L.popup({&quot;maxWidth&quot;: &quot;100%&quot;});\n\n        \n            \n                var html_60f91895843a80810a46b11d3bff2395 = $(`&lt;div id=&quot;html_60f91895843a80810a46b11d3bff2395&quot; style=&quot;width: 100.0%; height: 100.0%;&quot;&gt;Sweden&lt;/div&gt;`)[0];\n                popup_0362e7aa48240cdffe8422c1af2f1e20.setContent(html_60f91895843a80810a46b11d3bff2395);\n            \n        \n\n        circle_marker_105ee012ee13b5134fa24b7d63fa6c50.bindPopup(popup_0362e7aa48240cdffe8422c1af2f1e20)\n        ;\n\n        \n    \n    \n            var circle_marker_6981ee0b2d6f97325a9fec3509b0d132 = L.circleMarker(\n                [50.6402809, 4.6667145],\n                {&quot;bubblingMouseEvents&quot;: true, &quot;color&quot;: &quot;blue&quot;, &quot;dashArray&quot;: null, &quot;dashOffset&quot;: null, &quot;fill&quot;: true, &quot;fillColor&quot;: &quot;blue&quot;, &quot;fillOpacity&quot;: 0.7, &quot;fillRule&quot;: &quot;evenodd&quot;, &quot;lineCap&quot;: &quot;round&quot;, &quot;lineJoin&quot;: &quot;round&quot;, &quot;opacity&quot;: 1.0, &quot;radius&quot;: 5, &quot;stroke&quot;: true, &quot;weight&quot;: 3}\n            ).addTo(map_d4a0b3d6eb593dcc038ea13fe61b5139);\n        \n    \n        var popup_e32d7cd1fe66a64f02e73fe7849ac448 = L.popup({&quot;maxWidth&quot;: &quot;100%&quot;});\n\n        \n            \n                var html_4b8a0e8d54e8593dec700b611b3b979c = $(`&lt;div id=&quot;html_4b8a0e8d54e8593dec700b611b3b979c&quot; style=&quot;width: 100.0%; height: 100.0%;&quot;&gt;Belgium&lt;/div&gt;`)[0];\n                popup_e32d7cd1fe66a64f02e73fe7849ac448.setContent(html_4b8a0e8d54e8593dec700b611b3b979c);\n            \n        \n\n        circle_marker_6981ee0b2d6f97325a9fec3509b0d132.bindPopup(popup_e32d7cd1fe66a64f02e73fe7849ac448)\n        ;\n\n        \n    \n    \n            var circle_marker_71383dffafa19846143b4a517c51d764 = L.circleMarker(\n                [-41.5000831, 172.8344077],\n                {&quot;bubblingMouseEvents&quot;: true, &quot;color&quot;: &quot;blue&quot;, &quot;dashArray&quot;: null, &quot;dashOffset&quot;: null, &quot;fill&quot;: true, &quot;fillColor&quot;: &quot;blue&quot;, &quot;fillOpacity&quot;: 0.7, &quot;fillRule&quot;: &quot;evenodd&quot;, &quot;lineCap&quot;: &quot;round&quot;, &quot;lineJoin&quot;: &quot;round&quot;, &quot;opacity&quot;: 1.0, &quot;radius&quot;: 5, &quot;stroke&quot;: true, &quot;weight&quot;: 3}\n            ).addTo(map_d4a0b3d6eb593dcc038ea13fe61b5139);\n        \n    \n        var popup_30474559c76a3325e8ee457d1e6b5ab9 = L.popup({&quot;maxWidth&quot;: &quot;100%&quot;});\n\n        \n            \n                var html_ffbca7c282614e3f40faad2dbdaa5403 = $(`&lt;div id=&quot;html_ffbca7c282614e3f40faad2dbdaa5403&quot; style=&quot;width: 100.0%; height: 100.0%;&quot;&gt;New Zealand&lt;/div&gt;`)[0];\n                popup_30474559c76a3325e8ee457d1e6b5ab9.setContent(html_ffbca7c282614e3f40faad2dbdaa5403);\n            \n        \n\n        circle_marker_71383dffafa19846143b4a517c51d764.bindPopup(popup_30474559c76a3325e8ee457d1e6b5ab9)\n        ;\n\n        \n    \n    \n            var circle_marker_74838e8904bd1bda0d3708efea7fa292 = L.circleMarker(\n                [52.865196, -7.9794599],\n                {&quot;bubblingMouseEvents&quot;: true, &quot;color&quot;: &quot;blue&quot;, &quot;dashArray&quot;: null, &quot;dashOffset&quot;: null, &quot;fill&quot;: true, &quot;fillColor&quot;: &quot;blue&quot;, &quot;fillOpacity&quot;: 0.7, &quot;fillRule&quot;: &quot;evenodd&quot;, &quot;lineCap&quot;: &quot;round&quot;, &quot;lineJoin&quot;: &quot;round&quot;, &quot;opacity&quot;: 1.0, &quot;radius&quot;: 5, &quot;stroke&quot;: true, &quot;weight&quot;: 3}\n            ).addTo(map_d4a0b3d6eb593dcc038ea13fe61b5139);\n        \n    \n        var popup_9dc54f5f3acfae08bfb5b9e77c0996f0 = L.popup({&quot;maxWidth&quot;: &quot;100%&quot;});\n\n        \n            \n                var html_8666f020a6c81265c4074dce29b94b41 = $(`&lt;div id=&quot;html_8666f020a6c81265c4074dce29b94b41&quot; style=&quot;width: 100.0%; height: 100.0%;&quot;&gt;Ireland&lt;/div&gt;`)[0];\n                popup_9dc54f5f3acfae08bfb5b9e77c0996f0.setContent(html_8666f020a6c81265c4074dce29b94b41);\n            \n        \n\n        circle_marker_74838e8904bd1bda0d3708efea7fa292.bindPopup(popup_9dc54f5f3acfae08bfb5b9e77c0996f0)\n        ;\n\n        \n    \n    \n            var circle_marker_ec65aec3d2f662cbd5f3db06c01ee1ee = L.circleMarker(\n                [63.2467777, 25.9209164],\n                {&quot;bubblingMouseEvents&quot;: true, &quot;color&quot;: &quot;blue&quot;, &quot;dashArray&quot;: null, &quot;dashOffset&quot;: null, &quot;fill&quot;: true, &quot;fillColor&quot;: &quot;blue&quot;, &quot;fillOpacity&quot;: 0.7, &quot;fillRule&quot;: &quot;evenodd&quot;, &quot;lineCap&quot;: &quot;round&quot;, &quot;lineJoin&quot;: &quot;round&quot;, &quot;opacity&quot;: 1.0, &quot;radius&quot;: 5, &quot;stroke&quot;: true, &quot;weight&quot;: 3}\n            ).addTo(map_d4a0b3d6eb593dcc038ea13fe61b5139);\n        \n    \n        var popup_b8f56d39f37c6e2ef74c2dc1740e5080 = L.popup({&quot;maxWidth&quot;: &quot;100%&quot;});\n\n        \n            \n                var html_28a8ff125505b490cfdfb664283eb4e6 = $(`&lt;div id=&quot;html_28a8ff125505b490cfdfb664283eb4e6&quot; style=&quot;width: 100.0%; height: 100.0%;&quot;&gt;Finland&lt;/div&gt;`)[0];\n                popup_b8f56d39f37c6e2ef74c2dc1740e5080.setContent(html_28a8ff125505b490cfdfb664283eb4e6);\n            \n        \n\n        circle_marker_ec65aec3d2f662cbd5f3db06c01ee1ee.bindPopup(popup_b8f56d39f37c6e2ef74c2dc1740e5080)\n        ;\n\n        \n    \n    \n            var circle_marker_cd5b40154d4156afeaa76fdb8f82c405 = L.circleMarker(\n                [56.7861112, -4.1140518],\n                {&quot;bubblingMouseEvents&quot;: true, &quot;color&quot;: &quot;blue&quot;, &quot;dashArray&quot;: null, &quot;dashOffset&quot;: null, &quot;fill&quot;: true, &quot;fillColor&quot;: &quot;blue&quot;, &quot;fillOpacity&quot;: 0.7, &quot;fillRule&quot;: &quot;evenodd&quot;, &quot;lineCap&quot;: &quot;round&quot;, &quot;lineJoin&quot;: &quot;round&quot;, &quot;opacity&quot;: 1.0, &quot;radius&quot;: 5, &quot;stroke&quot;: true, &quot;weight&quot;: 3}\n            ).addTo(map_d4a0b3d6eb593dcc038ea13fe61b5139);\n        \n    \n        var popup_54b1416b1a61651cb3e1af6910607694 = L.popup({&quot;maxWidth&quot;: &quot;100%&quot;});\n\n        \n            \n                var html_d6b5d2892017013e1c6689a2c40203ba = $(`&lt;div id=&quot;html_d6b5d2892017013e1c6689a2c40203ba&quot; style=&quot;width: 100.0%; height: 100.0%;&quot;&gt;Scotland&lt;/div&gt;`)[0];\n                popup_54b1416b1a61651cb3e1af6910607694.setContent(html_d6b5d2892017013e1c6689a2c40203ba);\n            \n        \n\n        circle_marker_cd5b40154d4156afeaa76fdb8f82c405.bindPopup(popup_54b1416b1a61651cb3e1af6910607694)\n        ;\n\n        \n    \n    \n            var circle_marker_9348a62613c3b81388c713e7e1c97fbc = L.circleMarker(\n                [-24.7761086, 134.755],\n                {&quot;bubblingMouseEvents&quot;: true, &quot;color&quot;: &quot;blue&quot;, &quot;dashArray&quot;: null, &quot;dashOffset&quot;: null, &quot;fill&quot;: true, &quot;fillColor&quot;: &quot;blue&quot;, &quot;fillOpacity&quot;: 0.7, &quot;fillRule&quot;: &quot;evenodd&quot;, &quot;lineCap&quot;: &quot;round&quot;, &quot;lineJoin&quot;: &quot;round&quot;, &quot;opacity&quot;: 1.0, &quot;radius&quot;: 5, &quot;stroke&quot;: true, &quot;weight&quot;: 3}\n            ).addTo(map_d4a0b3d6eb593dcc038ea13fe61b5139);\n        \n    \n        var popup_9b278bf580e4fba6b077584196d3132e = L.popup({&quot;maxWidth&quot;: &quot;100%&quot;});\n\n        \n            \n                var html_79154ea2299c5bf4936d64bc1e0b04b8 = $(`&lt;div id=&quot;html_79154ea2299c5bf4936d64bc1e0b04b8&quot; style=&quot;width: 100.0%; height: 100.0%;&quot;&gt;Australia&lt;/div&gt;`)[0];\n                popup_9b278bf580e4fba6b077584196d3132e.setContent(html_79154ea2299c5bf4936d64bc1e0b04b8);\n            \n        \n\n        circle_marker_9348a62613c3b81388c713e7e1c97fbc.bindPopup(popup_9b278bf580e4fba6b077584196d3132e)\n        ;\n\n        \n    \n    \n            var circle_marker_50c8b0346708372afd741daedafcd5cb = L.circleMarker(\n                [52.2434979, 5.6343227],\n                {&quot;bubblingMouseEvents&quot;: true, &quot;color&quot;: &quot;blue&quot;, &quot;dashArray&quot;: null, &quot;dashOffset&quot;: null, &quot;fill&quot;: true, &quot;fillColor&quot;: &quot;blue&quot;, &quot;fillOpacity&quot;: 0.7, &quot;fillRule&quot;: &quot;evenodd&quot;, &quot;lineCap&quot;: &quot;round&quot;, &quot;lineJoin&quot;: &quot;round&quot;, &quot;opacity&quot;: 1.0, &quot;radius&quot;: 5, &quot;stroke&quot;: true, &quot;weight&quot;: 3}\n            ).addTo(map_d4a0b3d6eb593dcc038ea13fe61b5139);\n        \n    \n        var popup_b06d3a917f0d72d3920b7e3dd1b3c397 = L.popup({&quot;maxWidth&quot;: &quot;100%&quot;});\n\n        \n            \n                var html_80596786e6601b1293dc0479c4e151d9 = $(`&lt;div id=&quot;html_80596786e6601b1293dc0479c4e151d9&quot; style=&quot;width: 100.0%; height: 100.0%;&quot;&gt;Netherlands&lt;/div&gt;`)[0];\n                popup_b06d3a917f0d72d3920b7e3dd1b3c397.setContent(html_80596786e6601b1293dc0479c4e151d9);\n            \n        \n\n        circle_marker_50c8b0346708372afd741daedafcd5cb.bindPopup(popup_b06d3a917f0d72d3920b7e3dd1b3c397)\n        ;\n\n        \n    \n    \n            var circle_marker_1033a1eda037ded8adb5ec8bac2e9087 = L.circleMarker(\n                [49.6112768, 6.129799],\n                {&quot;bubblingMouseEvents&quot;: true, &quot;color&quot;: &quot;blue&quot;, &quot;dashArray&quot;: null, &quot;dashOffset&quot;: null, &quot;fill&quot;: true, &quot;fillColor&quot;: &quot;blue&quot;, &quot;fillOpacity&quot;: 0.7, &quot;fillRule&quot;: &quot;evenodd&quot;, &quot;lineCap&quot;: &quot;round&quot;, &quot;lineJoin&quot;: &quot;round&quot;, &quot;opacity&quot;: 1.0, &quot;radius&quot;: 5, &quot;stroke&quot;: true, &quot;weight&quot;: 3}\n            ).addTo(map_d4a0b3d6eb593dcc038ea13fe61b5139);\n        \n    \n        var popup_39fab4a9d1178f0e7679d55c4515e787 = L.popup({&quot;maxWidth&quot;: &quot;100%&quot;});\n\n        \n            \n                var html_219e860feee08691b2fb405f8b3dd3d1 = $(`&lt;div id=&quot;html_219e860feee08691b2fb405f8b3dd3d1&quot; style=&quot;width: 100.0%; height: 100.0%;&quot;&gt;Luxembourg&lt;/div&gt;`)[0];\n                popup_39fab4a9d1178f0e7679d55c4515e787.setContent(html_219e860feee08691b2fb405f8b3dd3d1);\n            \n        \n\n        circle_marker_1033a1eda037ded8adb5ec8bac2e9087.bindPopup(popup_39fab4a9d1178f0e7679d55c4515e787)\n        ;\n\n        \n    \n    \n            var circle_marker_7fe0c931277cff49018f8e97f819b63b = L.circleMarker(\n                [52.5310214, -1.2649062],\n                {&quot;bubblingMouseEvents&quot;: true, &quot;color&quot;: &quot;blue&quot;, &quot;dashArray&quot;: null, &quot;dashOffset&quot;: null, &quot;fill&quot;: true, &quot;fillColor&quot;: &quot;blue&quot;, &quot;fillOpacity&quot;: 0.7, &quot;fillRule&quot;: &quot;evenodd&quot;, &quot;lineCap&quot;: &quot;round&quot;, &quot;lineJoin&quot;: &quot;round&quot;, &quot;opacity&quot;: 1.0, &quot;radius&quot;: 5, &quot;stroke&quot;: true, &quot;weight&quot;: 3}\n            ).addTo(map_d4a0b3d6eb593dcc038ea13fe61b5139);\n        \n    \n        var popup_5d8978ea267d6d49494046a730e840d5 = L.popup({&quot;maxWidth&quot;: &quot;100%&quot;});\n\n        \n            \n                var html_02a9c94777ac698380e2b00ec65c74ec = $(`&lt;div id=&quot;html_02a9c94777ac698380e2b00ec65c74ec&quot; style=&quot;width: 100.0%; height: 100.0%;&quot;&gt;England&lt;/div&gt;`)[0];\n                popup_5d8978ea267d6d49494046a730e840d5.setContent(html_02a9c94777ac698380e2b00ec65c74ec);\n            \n        \n\n        circle_marker_7fe0c931277cff49018f8e97f819b63b.bindPopup(popup_5d8978ea267d6d49494046a730e840d5)\n        ;\n\n        \n    \n    \n            var circle_marker_3df5afb94dce3d9dafd5f070069318e8 = L.circleMarker(\n                [52.215933, 19.134422],\n                {&quot;bubblingMouseEvents&quot;: true, &quot;color&quot;: &quot;blue&quot;, &quot;dashArray&quot;: null, &quot;dashOffset&quot;: null, &quot;fill&quot;: true, &quot;fillColor&quot;: &quot;blue&quot;, &quot;fillOpacity&quot;: 0.7, &quot;fillRule&quot;: &quot;evenodd&quot;, &quot;lineCap&quot;: &quot;round&quot;, &quot;lineJoin&quot;: &quot;round&quot;, &quot;opacity&quot;: 1.0, &quot;radius&quot;: 5, &quot;stroke&quot;: true, &quot;weight&quot;: 3}\n            ).addTo(map_d4a0b3d6eb593dcc038ea13fe61b5139);\n        \n    \n        var popup_389cf3e49a4074a988f042cf9bdc5cd5 = L.popup({&quot;maxWidth&quot;: &quot;100%&quot;});\n\n        \n            \n                var html_a996999b9124bc238de5a3a593b2c69e = $(`&lt;div id=&quot;html_a996999b9124bc238de5a3a593b2c69e&quot; style=&quot;width: 100.0%; height: 100.0%;&quot;&gt;Poland&lt;/div&gt;`)[0];\n                popup_389cf3e49a4074a988f042cf9bdc5cd5.setContent(html_a996999b9124bc238de5a3a593b2c69e);\n            \n        \n\n        circle_marker_3df5afb94dce3d9dafd5f070069318e8.bindPopup(popup_389cf3e49a4074a988f042cf9bdc5cd5)\n        ;\n\n        \n    \n    \n            var circle_marker_6c7b23708d2feba94f6011d28766714d = L.circleMarker(\n                [45.3658443, 15.6575209],\n                {&quot;bubblingMouseEvents&quot;: true, &quot;color&quot;: &quot;blue&quot;, &quot;dashArray&quot;: null, &quot;dashOffset&quot;: null, &quot;fill&quot;: true, &quot;fillColor&quot;: &quot;blue&quot;, &quot;fillOpacity&quot;: 0.7, &quot;fillRule&quot;: &quot;evenodd&quot;, &quot;lineCap&quot;: &quot;round&quot;, &quot;lineJoin&quot;: &quot;round&quot;, &quot;opacity&quot;: 1.0, &quot;radius&quot;: 5, &quot;stroke&quot;: true, &quot;weight&quot;: 3}\n            ).addTo(map_d4a0b3d6eb593dcc038ea13fe61b5139);\n        \n    \n        var popup_8cd261f811cff1620df834db8e5532c0 = L.popup({&quot;maxWidth&quot;: &quot;100%&quot;});\n\n        \n            \n                var html_36b7321c86a3450d04fcc1a79e23ee1c = $(`&lt;div id=&quot;html_36b7321c86a3450d04fcc1a79e23ee1c&quot; style=&quot;width: 100.0%; height: 100.0%;&quot;&gt;Croatia&lt;/div&gt;`)[0];\n                popup_8cd261f811cff1620df834db8e5532c0.setContent(html_36b7321c86a3450d04fcc1a79e23ee1c);\n            \n        \n\n        circle_marker_6c7b23708d2feba94f6011d28766714d.bindPopup(popup_8cd261f811cff1620df834db8e5532c0)\n        ;\n\n        \n    \n    \n            var circle_marker_e8e8092304e83178a6d70e6f196dfd3e = L.circleMarker(\n                [54.5859836, -6.9591554],\n                {&quot;bubblingMouseEvents&quot;: true, &quot;color&quot;: &quot;blue&quot;, &quot;dashArray&quot;: null, &quot;dashOffset&quot;: null, &quot;fill&quot;: true, &quot;fillColor&quot;: &quot;blue&quot;, &quot;fillOpacity&quot;: 0.7, &quot;fillRule&quot;: &quot;evenodd&quot;, &quot;lineCap&quot;: &quot;round&quot;, &quot;lineJoin&quot;: &quot;round&quot;, &quot;opacity&quot;: 1.0, &quot;radius&quot;: 5, &quot;stroke&quot;: true, &quot;weight&quot;: 3}\n            ).addTo(map_d4a0b3d6eb593dcc038ea13fe61b5139);\n        \n    \n        var popup_1b72d0273c8ff6c582626cc1b56359db = L.popup({&quot;maxWidth&quot;: &quot;100%&quot;});\n\n        \n            \n                var html_01a566d622c06ad66fecd2481972c811 = $(`&lt;div id=&quot;html_01a566d622c06ad66fecd2481972c811&quot; style=&quot;width: 100.0%; height: 100.0%;&quot;&gt;Northern Ireland&lt;/div&gt;`)[0];\n                popup_1b72d0273c8ff6c582626cc1b56359db.setContent(html_01a566d622c06ad66fecd2481972c811);\n            \n        \n\n        circle_marker_e8e8092304e83178a6d70e6f196dfd3e.bindPopup(popup_1b72d0273c8ff6c582626cc1b56359db)\n        ;\n\n        \n    \n    \n            var circle_marker_2bd73f03fc03df79ca979b8ae74f59ad = L.circleMarker(\n                [39.3260685, -4.8379791],\n                {&quot;bubblingMouseEvents&quot;: true, &quot;color&quot;: &quot;blue&quot;, &quot;dashArray&quot;: null, &quot;dashOffset&quot;: null, &quot;fill&quot;: true, &quot;fillColor&quot;: &quot;blue&quot;, &quot;fillOpacity&quot;: 0.7, &quot;fillRule&quot;: &quot;evenodd&quot;, &quot;lineCap&quot;: &quot;round&quot;, &quot;lineJoin&quot;: &quot;round&quot;, &quot;opacity&quot;: 1.0, &quot;radius&quot;: 5, &quot;stroke&quot;: true, &quot;weight&quot;: 3}\n            ).addTo(map_d4a0b3d6eb593dcc038ea13fe61b5139);\n        \n    \n        var popup_9144f4de9bfb93f3893d58f002fbdfd7 = L.popup({&quot;maxWidth&quot;: &quot;100%&quot;});\n\n        \n            \n                var html_c778ac608b8d32d3caf9a0ff42a889e2 = $(`&lt;div id=&quot;html_c778ac608b8d32d3caf9a0ff42a889e2&quot; style=&quot;width: 100.0%; height: 100.0%;&quot;&gt;Spain&lt;/div&gt;`)[0];\n                popup_9144f4de9bfb93f3893d58f002fbdfd7.setContent(html_c778ac608b8d32d3caf9a0ff42a889e2);\n            \n        \n\n        circle_marker_2bd73f03fc03df79ca979b8ae74f59ad.bindPopup(popup_9144f4de9bfb93f3893d58f002fbdfd7)\n        ;\n\n        \n    \n    \n            var circle_marker_428e4367467470f61217ce13fe7156e8 = L.circleMarker(\n                [42.6384261, 12.674297],\n                {&quot;bubblingMouseEvents&quot;: true, &quot;color&quot;: &quot;blue&quot;, &quot;dashArray&quot;: null, &quot;dashOffset&quot;: null, &quot;fill&quot;: true, &quot;fillColor&quot;: &quot;blue&quot;, &quot;fillOpacity&quot;: 0.7, &quot;fillRule&quot;: &quot;evenodd&quot;, &quot;lineCap&quot;: &quot;round&quot;, &quot;lineJoin&quot;: &quot;round&quot;, &quot;opacity&quot;: 1.0, &quot;radius&quot;: 5, &quot;stroke&quot;: true, &quot;weight&quot;: 3}\n            ).addTo(map_d4a0b3d6eb593dcc038ea13fe61b5139);\n        \n    \n        var popup_12630504ad0018c8a869e76a4afde7f9 = L.popup({&quot;maxWidth&quot;: &quot;100%&quot;});\n\n        \n            \n                var html_dc7ee0045b70d8ab685024333fe92a5f = $(`&lt;div id=&quot;html_dc7ee0045b70d8ab685024333fe92a5f&quot; style=&quot;width: 100.0%; height: 100.0%;&quot;&gt;Italy&lt;/div&gt;`)[0];\n                popup_12630504ad0018c8a869e76a4afde7f9.setContent(html_dc7ee0045b70d8ab685024333fe92a5f);\n            \n        \n\n        circle_marker_428e4367467470f61217ce13fe7156e8.bindPopup(popup_12630504ad0018c8a869e76a4afde7f9)\n        ;\n\n        \n    \n    \n            var circle_marker_6c1b8f00b1459f06a8d3955acacda27f = L.circleMarker(\n                [40.4203479, -79.1166983],\n                {&quot;bubblingMouseEvents&quot;: true, &quot;color&quot;: &quot;blue&quot;, &quot;dashArray&quot;: null, &quot;dashOffset&quot;: null, &quot;fill&quot;: true, &quot;fillColor&quot;: &quot;blue&quot;, &quot;fillOpacity&quot;: 0.7, &quot;fillRule&quot;: &quot;evenodd&quot;, &quot;lineCap&quot;: &quot;round&quot;, &quot;lineJoin&quot;: &quot;round&quot;, &quot;opacity&quot;: 1.0, &quot;radius&quot;: 5, &quot;stroke&quot;: true, &quot;weight&quot;: 3}\n            ).addTo(map_d4a0b3d6eb593dcc038ea13fe61b5139);\n        \n    \n        var popup_ab7a91ebfd0405d57545e34543cdf5de = L.popup({&quot;maxWidth&quot;: &quot;100%&quot;});\n\n        \n            \n                var html_7f742538cc4621b7271b73bfcb3546dd = $(`&lt;div id=&quot;html_7f742538cc4621b7271b73bfcb3546dd&quot; style=&quot;width: 100.0%; height: 100.0%;&quot;&gt;Germany&lt;/div&gt;`)[0];\n                popup_ab7a91ebfd0405d57545e34543cdf5de.setContent(html_7f742538cc4621b7271b73bfcb3546dd);\n            \n        \n\n        circle_marker_6c1b8f00b1459f06a8d3955acacda27f.bindPopup(popup_ab7a91ebfd0405d57545e34543cdf5de)\n        ;\n\n        \n    \n    \n            var circle_marker_5871dbd6e5091c70c94ed26f991ecefc = L.circleMarker(\n                [46.603354, 1.8883335],\n                {&quot;bubblingMouseEvents&quot;: true, &quot;color&quot;: &quot;blue&quot;, &quot;dashArray&quot;: null, &quot;dashOffset&quot;: null, &quot;fill&quot;: true, &quot;fillColor&quot;: &quot;blue&quot;, &quot;fillOpacity&quot;: 0.7, &quot;fillRule&quot;: &quot;evenodd&quot;, &quot;lineCap&quot;: &quot;round&quot;, &quot;lineJoin&quot;: &quot;round&quot;, &quot;opacity&quot;: 1.0, &quot;radius&quot;: 5, &quot;stroke&quot;: true, &quot;weight&quot;: 3}\n            ).addTo(map_d4a0b3d6eb593dcc038ea13fe61b5139);\n        \n    \n        var popup_64635e388201695171aa52e0940bff01 = L.popup({&quot;maxWidth&quot;: &quot;100%&quot;});\n\n        \n            \n                var html_65acea82a7472c580e1c69d7c11b6f43 = $(`&lt;div id=&quot;html_65acea82a7472c580e1c69d7c11b6f43&quot; style=&quot;width: 100.0%; height: 100.0%;&quot;&gt;France&lt;/div&gt;`)[0];\n                popup_64635e388201695171aa52e0940bff01.setContent(html_65acea82a7472c580e1c69d7c11b6f43);\n            \n        \n\n        circle_marker_5871dbd6e5091c70c94ed26f991ecefc.bindPopup(popup_64635e388201695171aa52e0940bff01)\n        ;\n\n        \n    \n    \n            var circle_marker_ca7a37fc6a1ee89dc7637e8855f2b883 = L.circleMarker(\n                [-10.3333333, -53.2],\n                {&quot;bubblingMouseEvents&quot;: true, &quot;color&quot;: &quot;blue&quot;, &quot;dashArray&quot;: null, &quot;dashOffset&quot;: null, &quot;fill&quot;: true, &quot;fillColor&quot;: &quot;blue&quot;, &quot;fillOpacity&quot;: 0.7, &quot;fillRule&quot;: &quot;evenodd&quot;, &quot;lineCap&quot;: &quot;round&quot;, &quot;lineJoin&quot;: &quot;round&quot;, &quot;opacity&quot;: 1.0, &quot;radius&quot;: 5, &quot;stroke&quot;: true, &quot;weight&quot;: 3}\n            ).addTo(map_d4a0b3d6eb593dcc038ea13fe61b5139);\n        \n    \n        var popup_6f014dd6ba21e1dc34110d14fb086733 = L.popup({&quot;maxWidth&quot;: &quot;100%&quot;});\n\n        \n            \n                var html_5d33db778f3fa18ea7c9d822db72c2d8 = $(`&lt;div id=&quot;html_5d33db778f3fa18ea7c9d822db72c2d8&quot; style=&quot;width: 100.0%; height: 100.0%;&quot;&gt;Brazil&lt;/div&gt;`)[0];\n                popup_6f014dd6ba21e1dc34110d14fb086733.setContent(html_5d33db778f3fa18ea7c9d822db72c2d8);\n            \n        \n\n        circle_marker_ca7a37fc6a1ee89dc7637e8855f2b883.bindPopup(popup_6f014dd6ba21e1dc34110d14fb086733)\n        ;\n\n        \n    \n&lt;/script&gt;\n&lt;/html&gt;\" style=\"position:absolute;width:100%;height:100%;left:0;top:0;border:none !important;\" allowfullscreen webkitallowfullscreen mozallowfullscreen></iframe></div></div>"
     },
     "metadata": {},
     "output_type": "display_data"
    }
   ],
   "source": [
    "map_center = [20,0]\n",
    "my_map = folium.Map(location = map_center, zoom_start = 1)\n",
    "\n",
    "for i, location in enumerate(all_locations):\n",
    "    folium.CircleMarker(location = location_latitudes_longitudes[i], radius = 5, color='blue', fill=True, fill_color='blue', fill_opacity = 0.7, popup = location).add_to(my_map)\n",
    "    \n",
    "display(my_map)"
   ],
   "metadata": {
    "collapsed": false,
    "ExecuteTime": {
     "end_time": "2023-11-17T10:16:16.532678100Z",
     "start_time": "2023-11-17T10:16:16.104445100Z"
    }
   },
   "id": "20cd55a59214b204"
  },
  {
   "cell_type": "markdown",
   "source": [
    "One can see that our set of locations are distributed such that they are mainly populated around North America and North Europe. However, we have also some outliers that are far away from these groups, such as New Zealand or Australia. Such a contrast could allow us to investigate and compare/contrast the trend behaviour among the neighbor locations as well as more separated ones."
   ],
   "metadata": {
    "collapsed": false
   },
   "id": "a76e91e97dbc595b"
  },
  {
   "cell_type": "code",
   "execution_count": 56,
   "outputs": [
    {
     "data": {
      "text/plain": "<folium.folium.Map at 0x1ae125ae6d0>",
      "text/html": "<div style=\"width:100%;\"><div style=\"position:relative;width:100%;height:0;padding-bottom:60%;\"><span style=\"color:#565656\">Make this Notebook Trusted to load map: File -> Trust Notebook</span><iframe srcdoc=\"&lt;!DOCTYPE html&gt;\n&lt;html&gt;\n&lt;head&gt;\n    \n    &lt;meta http-equiv=&quot;content-type&quot; content=&quot;text/html; charset=UTF-8&quot; /&gt;\n    \n        &lt;script&gt;\n            L_NO_TOUCH = false;\n            L_DISABLE_3D = false;\n        &lt;/script&gt;\n    \n    &lt;style&gt;html, body {width: 100%;height: 100%;margin: 0;padding: 0;}&lt;/style&gt;\n    &lt;style&gt;#map {position:absolute;top:0;bottom:0;right:0;left:0;}&lt;/style&gt;\n    &lt;script src=&quot;https://cdn.jsdelivr.net/npm/leaflet@1.9.3/dist/leaflet.js&quot;&gt;&lt;/script&gt;\n    &lt;script src=&quot;https://code.jquery.com/jquery-3.7.1.min.js&quot;&gt;&lt;/script&gt;\n    &lt;script src=&quot;https://cdn.jsdelivr.net/npm/bootstrap@5.2.2/dist/js/bootstrap.bundle.min.js&quot;&gt;&lt;/script&gt;\n    &lt;script src=&quot;https://cdnjs.cloudflare.com/ajax/libs/Leaflet.awesome-markers/2.0.2/leaflet.awesome-markers.js&quot;&gt;&lt;/script&gt;\n    &lt;link rel=&quot;stylesheet&quot; href=&quot;https://cdn.jsdelivr.net/npm/leaflet@1.9.3/dist/leaflet.css&quot;/&gt;\n    &lt;link rel=&quot;stylesheet&quot; href=&quot;https://cdn.jsdelivr.net/npm/bootstrap@5.2.2/dist/css/bootstrap.min.css&quot;/&gt;\n    &lt;link rel=&quot;stylesheet&quot; href=&quot;https://netdna.bootstrapcdn.com/bootstrap/3.0.0/css/bootstrap.min.css&quot;/&gt;\n    &lt;link rel=&quot;stylesheet&quot; href=&quot;https://cdn.jsdelivr.net/npm/@fortawesome/fontawesome-free@6.2.0/css/all.min.css&quot;/&gt;\n    &lt;link rel=&quot;stylesheet&quot; href=&quot;https://cdnjs.cloudflare.com/ajax/libs/Leaflet.awesome-markers/2.0.2/leaflet.awesome-markers.css&quot;/&gt;\n    &lt;link rel=&quot;stylesheet&quot; href=&quot;https://cdn.jsdelivr.net/gh/python-visualization/folium/folium/templates/leaflet.awesome.rotate.min.css&quot;/&gt;\n    \n            &lt;meta name=&quot;viewport&quot; content=&quot;width=device-width,\n                initial-scale=1.0, maximum-scale=1.0, user-scalable=no&quot; /&gt;\n            &lt;style&gt;\n                #map_b83c0b8e0175fc83e09a5e4d330f7d04 {\n                    position: relative;\n                    width: 100.0%;\n                    height: 100.0%;\n                    left: 0.0%;\n                    top: 0.0%;\n                }\n                .leaflet-container { font-size: 1rem; }\n            &lt;/style&gt;\n        \n    &lt;script src=&quot;https://cdn.jsdelivr.net/gh/python-visualization/folium@main/folium/templates/leaflet_heat.min.js&quot;&gt;&lt;/script&gt;\n&lt;/head&gt;\n&lt;body&gt;\n    \n    \n            &lt;div class=&quot;folium-map&quot; id=&quot;map_b83c0b8e0175fc83e09a5e4d330f7d04&quot; &gt;&lt;/div&gt;\n        \n&lt;/body&gt;\n&lt;script&gt;\n    \n    \n            var map_b83c0b8e0175fc83e09a5e4d330f7d04 = L.map(\n                &quot;map_b83c0b8e0175fc83e09a5e4d330f7d04&quot;,\n                {\n                    center: [20.0, 0.0],\n                    crs: L.CRS.EPSG3857,\n                    zoom: 3,\n                    zoomControl: true,\n                    preferCanvas: false,\n                }\n            );\n\n            \n\n        \n    \n            var tile_layer_9c48e2cd286d469d4b594214a66c3877 = L.tileLayer(\n                &quot;https://{s}.tile.openstreetmap.org/{z}/{x}/{y}.png&quot;,\n                {&quot;attribution&quot;: &quot;Data by \\u0026copy; \\u003ca target=\\&quot;_blank\\&quot; href=\\&quot;http://openstreetmap.org\\&quot;\\u003eOpenStreetMap\\u003c/a\\u003e, under \\u003ca target=\\&quot;_blank\\&quot; href=\\&quot;http://www.openstreetmap.org/copyright\\&quot;\\u003eODbL\\u003c/a\\u003e.&quot;, &quot;detectRetina&quot;: false, &quot;maxNativeZoom&quot;: 18, &quot;maxZoom&quot;: 18, &quot;minZoom&quot;: 0, &quot;noWrap&quot;: false, &quot;opacity&quot;: 1, &quot;subdomains&quot;: &quot;abc&quot;, &quot;tms&quot;: false}\n            );\n        \n    \n                tile_layer_9c48e2cd286d469d4b594214a66c3877.addTo(map_b83c0b8e0175fc83e09a5e4d330f7d04);\n    \n            var heat_map_e222173d6a2c408bcf1975a21596ec16 = L.heatLayer(\n                [[42.5717989, 2.9600905], [42.4858224, 74.714583], [3.9767059, -73.1493675], [24.0002488, 53.9994829], [42.3476344, 44.0979465], [48.7411522, 19.4528646], [53.4250605, 27.6971358], [13.4499943, 144.7651677], [-14.5189121, 27.5589884], [5.7499721, -9.3658524], [47.1416307, 9.5531527], [1.4419683, 38.4313975], [43.6447642, -114.015407], [47.6201461, -100.540737], [-34.9964963, -64.9672817], [55.3500003, 23.7499997], [-13.7693895, -172.12005], [-21.1309332, 55.5265771], [15.9266657, 107.9650855], [8.559559, -81.1308434], [42.6384261, 12.674297], [-1.3397668, -79.3666965], [12.1176488, -68.9309263], [-8.1801562, 115.1813459], [40.3270127, -86.1746933], [-4.6574977, 55.4540146], [61.0666922, -107.991707], [16.3700359, -2.2900239], [4.6125522, 13.1535811], [38.7251776, -105.607716], [-13.2687204, 33.9301963], [8.6400349, -11.8400269], [55.670249, 10.3333283], [41.1927739, -95.4256198], [40.375713, -76.4626118], [-18.4554963, 29.7468414], [46.500283, -66.750183], [50.000678, -86.000977], [10.7466905, -61.0840075], [-12.823048, 45.1520755], [38.7604815, -92.5617875], [22.1899448, 113.5380454], [15.6134137, 19.0156172], [-8.7443169, 126.063482], [47.2879608, 28.5670941], [39.6621648, -8.1353519], [56.7861112, -4.1140518], [15.2572432, -86.0755145], [39.4225192, -111.714358], [-19.302233, 34.9144977], [35.7730076, -86.2820081], [27.7567667, -81.4639835], [50.6402809, 4.6667145], [7.9897371, -5.5679458], [40.2338211, -84.4096729], [44.5990718, -72.5002608], [1.5333554, 32.2166578], [49.7439047, 15.3381061], [38.27312, -98.5821872], [12.167, -68.28764385602938], [49.4566233, -2.5822348], [4.1413025, -56.0771187], [23.0131338, -80.8328748], [14.4750607, -14.4529612], [39.3763807, 59.3924609], [36.7014631, -118.755997], [12.0753083, -1.6880314], [52.5310214, -1.2649062], [40.0796606, -89.4337288], [43.1500226, 41.2299786], [35.6729639, -79.0392919], [49.2214561, -2.1358386], [8.0018709, -66.1109318], [52.2928116, -3.73893], [-32.8755548, -56.0201525], [41.7962409, -71.5992372], [37.1232245, -78.4927721], [56.8406494, 24.7537645], [54.1936805, -4.5591148], [38.4758406, -80.8408415], [23.5983227, 120.83537694479215], [15.9500319, 37.9999668], [2.9368696, 115.4443356], [4.0039882, -52.999998], [49.4871968, 31.2718321], [46.603354, 1.8883335], [-6.4955532, 110.8440229], [53.8217327, -61.2295532], [22.0452303, 96.4514694], [32.3293809, -83.1137366], [9.6000359, 7.9999721], [46.1199444, 14.8153333], [55.5321257, -106.141224], [39.5158825, -116.853722], [13.470062, -15.4900464], [35.8681298, -90.9456751], [10.2116702, 38.6521203], [-51.9492937, -59.5383657], [1.613172, 10.5170357], [62.0448724, -7.0322972], [31.7621153, -95.6307891], [44.4308975, -89.6884637], [-23.2335499, 17.3231107], [55.001251, -115.002136], [-10.3333333, -53.2], [40.2253569, -82.6881395], [45.9852129, 24.6859225], [64.5731537, 11.52803643954819], [32.2937417, -64.7815286], [30.8703881, -92.007126], [41.9216734, -93.3122705], [18.4024395, -64.5661642], [35.8323648, 38.5414697], [0.9713095, 7.02255], [-0.8999695, 11.6899699], [30.8124247, 34.8594762], [46.7985624, 8.2319736], [33.6874388, -80.4363743], [-16.5255069, 168.1069154], [7.5554942, 80.7137847], [40.7127281, -74.0060152], [38.9597594, 34.9249653], [40.0757384, -74.4041622], [-23.3165935, -58.1693445], [36.1285933, -5.3474761], [38.8950368, -77.0365427], [40.3736611, 127.0870417], [12.7503486, 122.7312101], [-41.5000831, 172.8344077], [63.2467777, 25.9209164], [28.3347722, -10.371337908392647], [52.865196, -7.9794599], [31.2638905, -98.5456116], [52.2434979, 5.6343227], [-20.2759451, 57.5703566], [42.3788774, -72.032366], [32.3635964, 35.561242], [-11.8775768, 17.5691241], [34.5802074, -105.9960475], [1.2315264, -75.89204331320687], [-14.297124, -170.7131481], [18.1850507, -77.3947693], [1.357107, 103.8194992], [-23.1681782, 24.5928742], [52.4760892, -71.8258668], [4.8417097, -58.6416891], [-8.7053941, 159.1070693851845], [45.709097, -68.8590201], [13.8000382, -88.9140683], [10.7226226, -10.7083587], [-17.0243749, -144.6434898], [25.6242618, 42.3528328], [24.7736546, -78.0000547], [-6.5247123, 35.7878438], [48.1012954, 66.7780818], [44.6471761, -100.348761], [8.6062347, 151.832744331612], [36.638392, 127.6961188], [41.7370229, -99.5873816], [-6.8699697, -75.0458515], [42.5869578, 20.9021231], [16.8259793, -88.7600927], [37.5726028, -85.1551411], [34.9550817, -97.2684063], [22.350627, 114.1849161], [44.024322850000004, 21.07657433209902], [35.2245313, 33.6252379], [47.3752671, -109.638757], [46.7889169, 23.6184909], [64.4459613, -149.680909], [13.450125700000001, 144.75755102972062], [41.9767629, -72.7789842], [43.2097838, -77.6930602], [-19.99697155, -157.78587140620786], [56.7861112, -4.1140518], [45.3658443, 15.6575209], [12.1360374, -61.6904045], [43.6211955, -84.6824346], [33.0204804, 75.6458366], [49.6112768, 6.129799], [15.5855545, -90.345759], [47.59397, 14.12456], [71.81717990000001, -40.42628783678519], [7.8699431, 29.6667897], [54.5859836, -6.9591554], [18.2247706, -66.4858295], [32.9715285, -89.7348497], [-29.6039267, 28.3350193], [21.721746, -71.5527809], [-5.6816069, 144.2489081], [28.0000272, 2.9999825], [43.1700264, -107.568534], [35.8885993, 14.4476911], [14.6113732, -60.9620777], [55.001251, -125.002441], [-19.9160819, -175.202642], [-28.8166236, 24.991639], [19.0974031, -70.3028026], [45.9896587, -94.6113288], [52.215933, 19.134422], [19.4326296, -99.1331785], [12.90447, -61.2765569], [11.815215, -15.2351044], [-0.2864982, 36.0514231], [43.7323492, 7.4276832], [29.8556443, 90.8749807], [17.1184569, -61.8448509], [40.3936294, 47.7872508], [43.9382593, -79.2235563], [17.05552855, -25.172304911363636], [8.0300284, -1.0800271], [58.7523778, 25.3319078], [-17.0568696, -64.9912286], [44.3053476, 17.5961467], [26.8234472, 18.1236723], [-24.7761086, 134.755], [17.7289564, -64.75901597858353], [40.4203479, -79.1166983], [38.6281733, 70.8156541], [-18.9249604, 46.4416422], [9.536456900000001, -84.17566257468567], [-3.426449, 29.9324519], [12.6090157, -85.2936911], [43.9792797, -120.737257], [41.6500201, -72.7342163], [39.5162401, -76.9382069], [-29.0328038, 167.9483137], [12.5013629, -69.9618475], [44.133435, -70.822678], [19.593801499999998, -155.42837009716908], [43.4849133, -71.6553992], [64.9841821, -18.1059013], [13.8250489, -60.975036], [-2.4833826, 117.8902853], [32.3293809, -83.1137366], [16.2528827, -61.5686855], [25.029422, -77.36195598496681], [39.8079192, 46.6977209], [9.5293472, 2.2584408], [36.8002068, 10.1857757], [39.3260685, -4.8379791], [15.4113138, -61.3653618], [45.1960403, -63.1653789], [-2.9814344, 23.8222636], [30.047992, -94.3357433], [55.001251, -97.001038], [52.5310214, -1.2649062], [36.5748441, 139.2394179], [13.03876215, 101.70017611907599], [34.395342, -111.763275], [30.3308401, 71.247499], [35.2048883, -92.4479108], [-12.6998188, -38.3260762], [13.1500331, -59.5250305], [4.099917, -72.9088133], [-1.9646631, 30.0644358], [19.703182249999998, -79.9174627243246], [43.9458623, 12.458306], [-31.7613365, -71.3187697], [41.32373, 63.9528098], [-20.63784275, 161.21176261225781], [17.7356214, 9.3238432], [33.0955793, 44.1749775], [4.491976149999999, -75.74135085294314], [4.5693754, 102.2656823], [38.6920451, -75.4013315], [39.7837304, -100.445882], [-26.5624806, 31.3991317], [22.3511148, 78.6677428], [42.5407167, 1.5732033], [52.2928116, -3.73893], [8.7800265, 1.0199765], [38.8950368, -77.0365427], [7.0323598, 19.9981227], [40.499847, 37.670719], [33.2588817, -86.8295337], [34.9174159, 32.889902651331866], [40.9699889, -77.7278831], [19.1399952, -72.3570972]],\n                {&quot;blur&quot;: 15, &quot;maxZoom&quot;: 18, &quot;minOpacity&quot;: 0.5, &quot;radius&quot;: 25}\n            );\n        \n    \n                heat_map_e222173d6a2c408bcf1975a21596ec16.addTo(map_b83c0b8e0175fc83e09a5e4d330f7d04);\n&lt;/script&gt;\n&lt;/html&gt;\" style=\"position:absolute;width:100%;height:100%;left:0;top:0;border:none !important;\" allowfullscreen webkitallowfullscreen mozallowfullscreen></iframe></div></div>"
     },
     "metadata": {},
     "output_type": "display_data"
    }
   ],
   "source": [
    "#Using a function that returns the corresponding latitude and longitude of the input location name, we put all our brewery locations on the world map to visualize their geographical distribution.\n",
    "\n",
    "all_brewery_locations = breweries['location'].tolist()\n",
    "all_distinct_brewery_locations = list(set(all_brewery_locations))\n",
    "brewery_latitudes_longitudes = []\n",
    "my_map = folium.Map(location = [20, 0], zoom_start = 3)\n",
    "for location in all_distinct_brewery_locations:\n",
    "    res = geocode_location(location)\n",
    "    if res:\n",
    "        lat,long = res\n",
    "        brewery_latitudes_longitudes.append([lat, long])\n",
    " \n",
    "#Using a heatmap to better indicate the density of breweries per location:        \n",
    "HeatMap(brewery_latitudes_longitudes).add_to(my_map)\n",
    "display(my_map)"
   ],
   "metadata": {
    "collapsed": false,
    "ExecuteTime": {
     "end_time": "2023-11-17T10:51:11.241876400Z",
     "start_time": "2023-11-17T10:48:19.739682800Z"
    }
   },
   "id": "95d07f3993220078"
  },
  {
   "cell_type": "markdown",
   "source": [
    "PART 3.2: Popularity and Rating Trend Analysis"
   ],
   "metadata": {
    "collapsed": false
   },
   "id": "7bbc90188cab32df"
  },
  {
   "cell_type": "markdown",
   "source": [
    "PART 3.2.1: Initial Analysis of Style Trends by Location"
   ],
   "metadata": {
    "collapsed": false
   },
   "id": "2b732d7b8adc5d27"
  },
  {
   "cell_type": "code",
   "execution_count": 57,
   "outputs": [
    {
     "data": {
      "text/plain": "                                              2006                  2007  \\\nlocation                                                                   \nAustralia                               Pale Lager            Pale Lager   \nBelgium                         Belgian Strong Ale    Belgian Strong Ale   \nBrazil                                  Pale Lager            Pale Lager   \nCanada                                  Pale Lager            Pale Lager   \nCroatia                                 Pale Lager            Pale Lager   \n...                                            ...                   ...   \nUnited States, Virginia       India Pale Ale (IPA)  India Pale Ale (IPA)   \nUnited States, Washington     India Pale Ale (IPA)  India Pale Ale (IPA)   \nUnited States, West Virginia  India Pale Ale (IPA)            Pale Lager   \nUnited States, Wisconsin      India Pale Ale (IPA)            Pale Lager   \nUnited States, Wyoming        India Pale Ale (IPA)  India Pale Ale (IPA)   \n\n                                              2008                  2009  \\\nlocation                                                                   \nAustralia                               Pale Lager            Pale Lager   \nBelgium                         Belgian Strong Ale    Belgian Strong Ale   \nBrazil                                  Pale Lager            Pale Lager   \nCanada                                  Pale Lager            Pale Lager   \nCroatia                                 Pale Lager            Pale Lager   \n...                                            ...                   ...   \nUnited States, Virginia       India Pale Ale (IPA)  India Pale Ale (IPA)   \nUnited States, Washington     India Pale Ale (IPA)  India Pale Ale (IPA)   \nUnited States, West Virginia  India Pale Ale (IPA)  India Pale Ale (IPA)   \nUnited States, Wisconsin                Pale Lager  India Pale Ale (IPA)   \nUnited States, Wyoming                  Pale Lager            Pale Lager   \n\n                                              2010                  2011  \\\nlocation                                                                   \nAustralia                               Pale Lager            Pale Lager   \nBelgium                         Belgian Strong Ale    Belgian Strong Ale   \nBrazil                                  Pale Lager            Pale Lager   \nCanada                        India Pale Ale (IPA)  India Pale Ale (IPA)   \nCroatia                                   Pilsener            Pale Lager   \n...                                            ...                   ...   \nUnited States, Virginia       India Pale Ale (IPA)  India Pale Ale (IPA)   \nUnited States, Washington     India Pale Ale (IPA)  India Pale Ale (IPA)   \nUnited States, West Virginia  India Pale Ale (IPA)  India Pale Ale (IPA)   \nUnited States, Wisconsin      India Pale Ale (IPA)  India Pale Ale (IPA)   \nUnited States, Wyoming                  Pale Lager  India Pale Ale (IPA)   \n\n                                              2012                  2013  \\\nlocation                                                                   \nAustralia                     India Pale Ale (IPA)  India Pale Ale (IPA)   \nBelgium                         Belgian Strong Ale    Belgian Strong Ale   \nBrazil                                  Pale Lager  India Pale Ale (IPA)   \nCanada                        India Pale Ale (IPA)  India Pale Ale (IPA)   \nCroatia                                 Pale Lager            Pale Lager   \n...                                            ...                   ...   \nUnited States, Virginia       India Pale Ale (IPA)  India Pale Ale (IPA)   \nUnited States, Washington     India Pale Ale (IPA)  India Pale Ale (IPA)   \nUnited States, West Virginia  India Pale Ale (IPA)  India Pale Ale (IPA)   \nUnited States, Wisconsin      India Pale Ale (IPA)  India Pale Ale (IPA)   \nUnited States, Wyoming              Imperial Stout  India Pale Ale (IPA)   \n\n                                              2014                  2015  \\\nlocation                                                                   \nAustralia                     India Pale Ale (IPA)  India Pale Ale (IPA)   \nBelgium                                Belgian Ale           Belgian Ale   \nBrazil                        India Pale Ale (IPA)  India Pale Ale (IPA)   \nCanada                        India Pale Ale (IPA)  India Pale Ale (IPA)   \nCroatia                                 Pale Lager            Pale Lager   \n...                                            ...                   ...   \nUnited States, Virginia       India Pale Ale (IPA)  India Pale Ale (IPA)   \nUnited States, Washington     India Pale Ale (IPA)  India Pale Ale (IPA)   \nUnited States, West Virginia  India Pale Ale (IPA)  India Pale Ale (IPA)   \nUnited States, Wisconsin      India Pale Ale (IPA)  India Pale Ale (IPA)   \nUnited States, Wyoming        India Pale Ale (IPA)  India Pale Ale (IPA)   \n\n                                              2016                  2017  \nlocation                                                                  \nAustralia                     India Pale Ale (IPA)  India Pale Ale (IPA)  \nBelgium                       India Pale Ale (IPA)  India Pale Ale (IPA)  \nBrazil                        India Pale Ale (IPA)  India Pale Ale (IPA)  \nCanada                        India Pale Ale (IPA)  India Pale Ale (IPA)  \nCroatia                       India Pale Ale (IPA)  India Pale Ale (IPA)  \n...                                            ...                   ...  \nUnited States, Virginia       India Pale Ale (IPA)  India Pale Ale (IPA)  \nUnited States, Washington     India Pale Ale (IPA)  India Pale Ale (IPA)  \nUnited States, West Virginia  India Pale Ale (IPA)  India Pale Ale (IPA)  \nUnited States, Wisconsin      India Pale Ale (IPA)  India Pale Ale (IPA)  \nUnited States, Wyoming        India Pale Ale (IPA)  India Pale Ale (IPA)  \n\n[71 rows x 12 columns]",
      "text/html": "<div>\n<style scoped>\n    .dataframe tbody tr th:only-of-type {\n        vertical-align: middle;\n    }\n\n    .dataframe tbody tr th {\n        vertical-align: top;\n    }\n\n    .dataframe thead th {\n        text-align: right;\n    }\n</style>\n<table border=\"1\" class=\"dataframe\">\n  <thead>\n    <tr style=\"text-align: right;\">\n      <th></th>\n      <th>2006</th>\n      <th>2007</th>\n      <th>2008</th>\n      <th>2009</th>\n      <th>2010</th>\n      <th>2011</th>\n      <th>2012</th>\n      <th>2013</th>\n      <th>2014</th>\n      <th>2015</th>\n      <th>2016</th>\n      <th>2017</th>\n    </tr>\n    <tr>\n      <th>location</th>\n      <th></th>\n      <th></th>\n      <th></th>\n      <th></th>\n      <th></th>\n      <th></th>\n      <th></th>\n      <th></th>\n      <th></th>\n      <th></th>\n      <th></th>\n      <th></th>\n    </tr>\n  </thead>\n  <tbody>\n    <tr>\n      <th>Australia</th>\n      <td>Pale Lager</td>\n      <td>Pale Lager</td>\n      <td>Pale Lager</td>\n      <td>Pale Lager</td>\n      <td>Pale Lager</td>\n      <td>Pale Lager</td>\n      <td>India Pale Ale (IPA)</td>\n      <td>India Pale Ale (IPA)</td>\n      <td>India Pale Ale (IPA)</td>\n      <td>India Pale Ale (IPA)</td>\n      <td>India Pale Ale (IPA)</td>\n      <td>India Pale Ale (IPA)</td>\n    </tr>\n    <tr>\n      <th>Belgium</th>\n      <td>Belgian Strong Ale</td>\n      <td>Belgian Strong Ale</td>\n      <td>Belgian Strong Ale</td>\n      <td>Belgian Strong Ale</td>\n      <td>Belgian Strong Ale</td>\n      <td>Belgian Strong Ale</td>\n      <td>Belgian Strong Ale</td>\n      <td>Belgian Strong Ale</td>\n      <td>Belgian Ale</td>\n      <td>Belgian Ale</td>\n      <td>India Pale Ale (IPA)</td>\n      <td>India Pale Ale (IPA)</td>\n    </tr>\n    <tr>\n      <th>Brazil</th>\n      <td>Pale Lager</td>\n      <td>Pale Lager</td>\n      <td>Pale Lager</td>\n      <td>Pale Lager</td>\n      <td>Pale Lager</td>\n      <td>Pale Lager</td>\n      <td>Pale Lager</td>\n      <td>India Pale Ale (IPA)</td>\n      <td>India Pale Ale (IPA)</td>\n      <td>India Pale Ale (IPA)</td>\n      <td>India Pale Ale (IPA)</td>\n      <td>India Pale Ale (IPA)</td>\n    </tr>\n    <tr>\n      <th>Canada</th>\n      <td>Pale Lager</td>\n      <td>Pale Lager</td>\n      <td>Pale Lager</td>\n      <td>Pale Lager</td>\n      <td>India Pale Ale (IPA)</td>\n      <td>India Pale Ale (IPA)</td>\n      <td>India Pale Ale (IPA)</td>\n      <td>India Pale Ale (IPA)</td>\n      <td>India Pale Ale (IPA)</td>\n      <td>India Pale Ale (IPA)</td>\n      <td>India Pale Ale (IPA)</td>\n      <td>India Pale Ale (IPA)</td>\n    </tr>\n    <tr>\n      <th>Croatia</th>\n      <td>Pale Lager</td>\n      <td>Pale Lager</td>\n      <td>Pale Lager</td>\n      <td>Pale Lager</td>\n      <td>Pilsener</td>\n      <td>Pale Lager</td>\n      <td>Pale Lager</td>\n      <td>Pale Lager</td>\n      <td>Pale Lager</td>\n      <td>Pale Lager</td>\n      <td>India Pale Ale (IPA)</td>\n      <td>India Pale Ale (IPA)</td>\n    </tr>\n    <tr>\n      <th>...</th>\n      <td>...</td>\n      <td>...</td>\n      <td>...</td>\n      <td>...</td>\n      <td>...</td>\n      <td>...</td>\n      <td>...</td>\n      <td>...</td>\n      <td>...</td>\n      <td>...</td>\n      <td>...</td>\n      <td>...</td>\n    </tr>\n    <tr>\n      <th>United States, Virginia</th>\n      <td>India Pale Ale (IPA)</td>\n      <td>India Pale Ale (IPA)</td>\n      <td>India Pale Ale (IPA)</td>\n      <td>India Pale Ale (IPA)</td>\n      <td>India Pale Ale (IPA)</td>\n      <td>India Pale Ale (IPA)</td>\n      <td>India Pale Ale (IPA)</td>\n      <td>India Pale Ale (IPA)</td>\n      <td>India Pale Ale (IPA)</td>\n      <td>India Pale Ale (IPA)</td>\n      <td>India Pale Ale (IPA)</td>\n      <td>India Pale Ale (IPA)</td>\n    </tr>\n    <tr>\n      <th>United States, Washington</th>\n      <td>India Pale Ale (IPA)</td>\n      <td>India Pale Ale (IPA)</td>\n      <td>India Pale Ale (IPA)</td>\n      <td>India Pale Ale (IPA)</td>\n      <td>India Pale Ale (IPA)</td>\n      <td>India Pale Ale (IPA)</td>\n      <td>India Pale Ale (IPA)</td>\n      <td>India Pale Ale (IPA)</td>\n      <td>India Pale Ale (IPA)</td>\n      <td>India Pale Ale (IPA)</td>\n      <td>India Pale Ale (IPA)</td>\n      <td>India Pale Ale (IPA)</td>\n    </tr>\n    <tr>\n      <th>United States, West Virginia</th>\n      <td>India Pale Ale (IPA)</td>\n      <td>Pale Lager</td>\n      <td>India Pale Ale (IPA)</td>\n      <td>India Pale Ale (IPA)</td>\n      <td>India Pale Ale (IPA)</td>\n      <td>India Pale Ale (IPA)</td>\n      <td>India Pale Ale (IPA)</td>\n      <td>India Pale Ale (IPA)</td>\n      <td>India Pale Ale (IPA)</td>\n      <td>India Pale Ale (IPA)</td>\n      <td>India Pale Ale (IPA)</td>\n      <td>India Pale Ale (IPA)</td>\n    </tr>\n    <tr>\n      <th>United States, Wisconsin</th>\n      <td>India Pale Ale (IPA)</td>\n      <td>Pale Lager</td>\n      <td>Pale Lager</td>\n      <td>India Pale Ale (IPA)</td>\n      <td>India Pale Ale (IPA)</td>\n      <td>India Pale Ale (IPA)</td>\n      <td>India Pale Ale (IPA)</td>\n      <td>India Pale Ale (IPA)</td>\n      <td>India Pale Ale (IPA)</td>\n      <td>India Pale Ale (IPA)</td>\n      <td>India Pale Ale (IPA)</td>\n      <td>India Pale Ale (IPA)</td>\n    </tr>\n    <tr>\n      <th>United States, Wyoming</th>\n      <td>India Pale Ale (IPA)</td>\n      <td>India Pale Ale (IPA)</td>\n      <td>Pale Lager</td>\n      <td>Pale Lager</td>\n      <td>Pale Lager</td>\n      <td>India Pale Ale (IPA)</td>\n      <td>Imperial Stout</td>\n      <td>India Pale Ale (IPA)</td>\n      <td>India Pale Ale (IPA)</td>\n      <td>India Pale Ale (IPA)</td>\n      <td>India Pale Ale (IPA)</td>\n      <td>India Pale Ale (IPA)</td>\n    </tr>\n  </tbody>\n</table>\n<p>71 rows × 12 columns</p>\n</div>"
     },
     "execution_count": 57,
     "metadata": {},
     "output_type": "execute_result"
    }
   ],
   "source": [
    "#Extracting the most popular (in quantity) beer style for each location by looking at the total number of ratings by year. We also put a threshold of 5 that needs to be satisfied for a location-style pair to be considered in this analysis.\n",
    "\n",
    "years = np.arange(2006, 2018)\n",
    "style_popularities_by_year = pd.DataFrame()\n",
    "for year in years:\n",
    "    location_style = location_style_stats(ratings.copy(), users.copy(), year, 5)\n",
    "    location_style_groupedby_loc = location_style.groupby('location')\n",
    "    idx_most_popular = location_style_groupedby_loc['number'].idxmax()\n",
    "    most_popular_styles_by_location = location_style.loc[idx_most_popular]\n",
    "    most_popular_styles_by_location = most_popular_styles_by_location[['location', 'style']]\n",
    "    most_popular_styles_by_location.set_index('location', inplace = True)\n",
    "    most_popular_styles_by_location = most_popular_styles_by_location.rename(columns = {'style': str(year)})\n",
    "    style_popularities_by_year = pd.concat([style_popularities_by_year, most_popular_styles_by_location], axis = 1)\n",
    "\n",
    "style_popularities_by_year"
   ],
   "metadata": {
    "collapsed": false,
    "ExecuteTime": {
     "end_time": "2023-11-17T10:56:04.639679400Z",
     "start_time": "2023-11-17T10:54:03.661753300Z"
    }
   },
   "id": "e84debc5c1f05ba6"
  },
  {
   "cell_type": "code",
   "execution_count": 58,
   "outputs": [
    {
     "data": {
      "text/plain": "                                            2006                   2007  \\\nlocation                                                                  \nAustralia                          Abt/Quadrupel          Abt/Quadrupel   \nBelgium                            Abt/Quadrupel          Abt/Quadrupel   \nBrazil                        Belgian Strong Ale          Abt/Quadrupel   \nCanada                             Abt/Quadrupel          Abt/Quadrupel   \nCroatia                            Abt/Quadrupel          Abt/Quadrupel   \n...                                          ...                    ...   \nUnited States, Virginia            Abt/Quadrupel          Abt/Quadrupel   \nUnited States, Washington          Abt/Quadrupel          Abt/Quadrupel   \nUnited States, West Virginia       Baltic Porter         Imperial Stout   \nUnited States, Wisconsin           Sour/Wild Ale  Lambic Style - Gueuze   \nUnited States, Wyoming             Abt/Quadrupel         Imperial Stout   \n\n                                               2008                      2009  \\\nlocation                                                                        \nAustralia                             Abt/Quadrupel             Abt/Quadrupel   \nBelgium                               Abt/Quadrupel             Abt/Quadrupel   \nBrazil                                Abt/Quadrupel             Abt/Quadrupel   \nCanada                                Abt/Quadrupel             Abt/Quadrupel   \nCroatia                               Abt/Quadrupel            Imperial Stout   \n...                                             ...                       ...   \nUnited States, Virginia              Sour Red/Brown     Lambic Style - Gueuze   \nUnited States, Washington     Lambic Style - Gueuze            Sour Red/Brown   \nUnited States, West Virginia          Abt/Quadrupel             Abt/Quadrupel   \nUnited States, Wisconsin      Lambic Style - Gueuze  Lambic Style - Unblended   \nUnited States, Wyoming                    Dry Stout             Sour/Wild Ale   \n\n                                                  2010                   2011  \\\nlocation                                                                        \nAustralia                                Abt/Quadrupel          Abt/Quadrupel   \nBelgium                                  Abt/Quadrupel  Lambic Style - Gueuze   \nBrazil                                         Old Ale   Lambic Style - Fruit   \nCanada                                   Abt/Quadrupel          Abt/Quadrupel   \nCroatia                                 Imperial Stout         Imperial Stout   \n...                                                ...                    ...   \nUnited States, Virginia                  Sour/Wild Ale  Lambic Style - Gueuze   \nUnited States, Washington     Lambic Style - Unblended  Lambic Style - Gueuze   \nUnited States, West Virginia             Abt/Quadrupel          Abt/Quadrupel   \nUnited States, Wisconsin         Lambic Style - Gueuze  Lambic Style - Gueuze   \nUnited States, Wyoming                   Sour/Wild Ale            Weizen Bock   \n\n                                                  2012                   2013  \\\nlocation                                                                        \nAustralia                                Abt/Quadrupel                Eisbock   \nBelgium                                  Abt/Quadrupel         Imperial Stout   \nBrazil                                   Abt/Quadrupel          Abt/Quadrupel   \nCanada                           Lambic Style - Gueuze          Abt/Quadrupel   \nCroatia                                 Imperial Stout          Abt/Quadrupel   \n...                                                ...                    ...   \nUnited States, Virginia       Lambic Style - Unblended  Lambic Style - Gueuze   \nUnited States, Washington        Lambic Style - Gueuze  Lambic Style - Gueuze   \nUnited States, West Virginia             Abt/Quadrupel          Abt/Quadrupel   \nUnited States, Wisconsin         Lambic Style - Gueuze  Lambic Style - Gueuze   \nUnited States, Wyoming           Lambic Style - Gueuze   Lambic Style - Fruit   \n\n                                               2014  \\\nlocation                                              \nAustralia                             Abt/Quadrupel   \nBelgium                        American Strong Ale    \nBrazil                                Abt/Quadrupel   \nCanada                                Abt/Quadrupel   \nCroatia                              Imperial Stout   \n...                                             ...   \nUnited States, Virginia       Lambic Style - Gueuze   \nUnited States, Washington     Lambic Style - Gueuze   \nUnited States, West Virginia         Imperial Stout   \nUnited States, Wisconsin             Imperial Stout   \nUnited States, Wyoming               Sour Red/Brown   \n\n                                                      2015  \\\nlocation                                                     \nAustralia                     Sahti/Gotlandsdricke/Koduõlu   \nBelgium                                     Imperial Stout   \nBrazil                                             Eisbock   \nCanada                               Lambic Style - Gueuze   \nCroatia                                     Imperial Stout   \n...                                                    ...   \nUnited States, Virginia              Lambic Style - Gueuze   \nUnited States, Washington            Lambic Style - Gueuze   \nUnited States, West Virginia          Lambic Style - Fruit   \nUnited States, Wisconsin             Lambic Style - Gueuze   \nUnited States, Wyoming                      Imperial Stout   \n\n                                                  2016                   2017  \nlocation                                                                       \nAustralia                               Imperial Stout          Abt/Quadrupel  \nBelgium                                 Imperial Stout         Imperial Stout  \nBrazil                                         Eisbock           Abbey Tripel  \nCanada                           Lambic Style - Gueuze  Lambic Style - Gueuze  \nCroatia                                  Abt/Quadrupel   Lambic Style - Fruit  \n...                                                ...                    ...  \nUnited States, Virginia          Lambic Style - Gueuze  Lambic Style - Gueuze  \nUnited States, Washington        Lambic Style - Gueuze  Lambic Style - Gueuze  \nUnited States, West Virginia            Imperial Stout          Abt/Quadrupel  \nUnited States, Wisconsin      Lambic Style - Unblended  Lambic Style - Gueuze  \nUnited States, Wyoming                          Smoked         Imperial Stout  \n\n[71 rows x 12 columns]",
      "text/html": "<div>\n<style scoped>\n    .dataframe tbody tr th:only-of-type {\n        vertical-align: middle;\n    }\n\n    .dataframe tbody tr th {\n        vertical-align: top;\n    }\n\n    .dataframe thead th {\n        text-align: right;\n    }\n</style>\n<table border=\"1\" class=\"dataframe\">\n  <thead>\n    <tr style=\"text-align: right;\">\n      <th></th>\n      <th>2006</th>\n      <th>2007</th>\n      <th>2008</th>\n      <th>2009</th>\n      <th>2010</th>\n      <th>2011</th>\n      <th>2012</th>\n      <th>2013</th>\n      <th>2014</th>\n      <th>2015</th>\n      <th>2016</th>\n      <th>2017</th>\n    </tr>\n    <tr>\n      <th>location</th>\n      <th></th>\n      <th></th>\n      <th></th>\n      <th></th>\n      <th></th>\n      <th></th>\n      <th></th>\n      <th></th>\n      <th></th>\n      <th></th>\n      <th></th>\n      <th></th>\n    </tr>\n  </thead>\n  <tbody>\n    <tr>\n      <th>Australia</th>\n      <td>Abt/Quadrupel</td>\n      <td>Abt/Quadrupel</td>\n      <td>Abt/Quadrupel</td>\n      <td>Abt/Quadrupel</td>\n      <td>Abt/Quadrupel</td>\n      <td>Abt/Quadrupel</td>\n      <td>Abt/Quadrupel</td>\n      <td>Eisbock</td>\n      <td>Abt/Quadrupel</td>\n      <td>Sahti/Gotlandsdricke/Koduõlu</td>\n      <td>Imperial Stout</td>\n      <td>Abt/Quadrupel</td>\n    </tr>\n    <tr>\n      <th>Belgium</th>\n      <td>Abt/Quadrupel</td>\n      <td>Abt/Quadrupel</td>\n      <td>Abt/Quadrupel</td>\n      <td>Abt/Quadrupel</td>\n      <td>Abt/Quadrupel</td>\n      <td>Lambic Style - Gueuze</td>\n      <td>Abt/Quadrupel</td>\n      <td>Imperial Stout</td>\n      <td>American Strong Ale</td>\n      <td>Imperial Stout</td>\n      <td>Imperial Stout</td>\n      <td>Imperial Stout</td>\n    </tr>\n    <tr>\n      <th>Brazil</th>\n      <td>Belgian Strong Ale</td>\n      <td>Abt/Quadrupel</td>\n      <td>Abt/Quadrupel</td>\n      <td>Abt/Quadrupel</td>\n      <td>Old Ale</td>\n      <td>Lambic Style - Fruit</td>\n      <td>Abt/Quadrupel</td>\n      <td>Abt/Quadrupel</td>\n      <td>Abt/Quadrupel</td>\n      <td>Eisbock</td>\n      <td>Eisbock</td>\n      <td>Abbey Tripel</td>\n    </tr>\n    <tr>\n      <th>Canada</th>\n      <td>Abt/Quadrupel</td>\n      <td>Abt/Quadrupel</td>\n      <td>Abt/Quadrupel</td>\n      <td>Abt/Quadrupel</td>\n      <td>Abt/Quadrupel</td>\n      <td>Abt/Quadrupel</td>\n      <td>Lambic Style - Gueuze</td>\n      <td>Abt/Quadrupel</td>\n      <td>Abt/Quadrupel</td>\n      <td>Lambic Style - Gueuze</td>\n      <td>Lambic Style - Gueuze</td>\n      <td>Lambic Style - Gueuze</td>\n    </tr>\n    <tr>\n      <th>Croatia</th>\n      <td>Abt/Quadrupel</td>\n      <td>Abt/Quadrupel</td>\n      <td>Abt/Quadrupel</td>\n      <td>Imperial Stout</td>\n      <td>Imperial Stout</td>\n      <td>Imperial Stout</td>\n      <td>Imperial Stout</td>\n      <td>Abt/Quadrupel</td>\n      <td>Imperial Stout</td>\n      <td>Imperial Stout</td>\n      <td>Abt/Quadrupel</td>\n      <td>Lambic Style - Fruit</td>\n    </tr>\n    <tr>\n      <th>...</th>\n      <td>...</td>\n      <td>...</td>\n      <td>...</td>\n      <td>...</td>\n      <td>...</td>\n      <td>...</td>\n      <td>...</td>\n      <td>...</td>\n      <td>...</td>\n      <td>...</td>\n      <td>...</td>\n      <td>...</td>\n    </tr>\n    <tr>\n      <th>United States, Virginia</th>\n      <td>Abt/Quadrupel</td>\n      <td>Abt/Quadrupel</td>\n      <td>Sour Red/Brown</td>\n      <td>Lambic Style - Gueuze</td>\n      <td>Sour/Wild Ale</td>\n      <td>Lambic Style - Gueuze</td>\n      <td>Lambic Style - Unblended</td>\n      <td>Lambic Style - Gueuze</td>\n      <td>Lambic Style - Gueuze</td>\n      <td>Lambic Style - Gueuze</td>\n      <td>Lambic Style - Gueuze</td>\n      <td>Lambic Style - Gueuze</td>\n    </tr>\n    <tr>\n      <th>United States, Washington</th>\n      <td>Abt/Quadrupel</td>\n      <td>Abt/Quadrupel</td>\n      <td>Lambic Style - Gueuze</td>\n      <td>Sour Red/Brown</td>\n      <td>Lambic Style - Unblended</td>\n      <td>Lambic Style - Gueuze</td>\n      <td>Lambic Style - Gueuze</td>\n      <td>Lambic Style - Gueuze</td>\n      <td>Lambic Style - Gueuze</td>\n      <td>Lambic Style - Gueuze</td>\n      <td>Lambic Style - Gueuze</td>\n      <td>Lambic Style - Gueuze</td>\n    </tr>\n    <tr>\n      <th>United States, West Virginia</th>\n      <td>Baltic Porter</td>\n      <td>Imperial Stout</td>\n      <td>Abt/Quadrupel</td>\n      <td>Abt/Quadrupel</td>\n      <td>Abt/Quadrupel</td>\n      <td>Abt/Quadrupel</td>\n      <td>Abt/Quadrupel</td>\n      <td>Abt/Quadrupel</td>\n      <td>Imperial Stout</td>\n      <td>Lambic Style - Fruit</td>\n      <td>Imperial Stout</td>\n      <td>Abt/Quadrupel</td>\n    </tr>\n    <tr>\n      <th>United States, Wisconsin</th>\n      <td>Sour/Wild Ale</td>\n      <td>Lambic Style - Gueuze</td>\n      <td>Lambic Style - Gueuze</td>\n      <td>Lambic Style - Unblended</td>\n      <td>Lambic Style - Gueuze</td>\n      <td>Lambic Style - Gueuze</td>\n      <td>Lambic Style - Gueuze</td>\n      <td>Lambic Style - Gueuze</td>\n      <td>Imperial Stout</td>\n      <td>Lambic Style - Gueuze</td>\n      <td>Lambic Style - Unblended</td>\n      <td>Lambic Style - Gueuze</td>\n    </tr>\n    <tr>\n      <th>United States, Wyoming</th>\n      <td>Abt/Quadrupel</td>\n      <td>Imperial Stout</td>\n      <td>Dry Stout</td>\n      <td>Sour/Wild Ale</td>\n      <td>Sour/Wild Ale</td>\n      <td>Weizen Bock</td>\n      <td>Lambic Style - Gueuze</td>\n      <td>Lambic Style - Fruit</td>\n      <td>Sour Red/Brown</td>\n      <td>Imperial Stout</td>\n      <td>Smoked</td>\n      <td>Imperial Stout</td>\n    </tr>\n  </tbody>\n</table>\n<p>71 rows × 12 columns</p>\n</div>"
     },
     "execution_count": 58,
     "metadata": {},
     "output_type": "execute_result"
    }
   ],
   "source": [
    "#Extracting the highest rated beer style for each location by looking at the average rating by year. We also put a threshold of 5 that needs to be satisfied for a location-style pair to be considered in this analysis.\n",
    "\n",
    "years = np.arange(2006,2018)\n",
    "\n",
    "style_ratings_by_year = pd.DataFrame()\n",
    "for year in years:\n",
    "    location_style = location_style_stats(ratings.copy(), users.copy(), year, 5)\n",
    "    location_style_groupedby_loc = location_style.groupby('location')\n",
    "    idx_highest_rated = location_style_groupedby_loc['z_score'].idxmax()\n",
    "    highest_rated_styles_by_location = location_style.loc[idx_highest_rated]\n",
    "    highest_rated_styles_by_location = highest_rated_styles_by_location[['location', 'style']]\n",
    "    highest_rated_styles_by_location.set_index('location', inplace = True)\n",
    "    highest_rated_styles_by_location = highest_rated_styles_by_location.rename(columns = {'style': str(year)})\n",
    "    style_ratings_by_year = pd.concat([style_ratings_by_year, highest_rated_styles_by_location], axis = 1)\n",
    "\n",
    "style_ratings_by_year"
   ],
   "metadata": {
    "collapsed": false,
    "ExecuteTime": {
     "end_time": "2023-11-17T10:56:51.660336400Z",
     "start_time": "2023-11-17T10:56:04.616054900Z"
    }
   },
   "id": "ed7e184f0d3d0376"
  },
  {
   "cell_type": "markdown",
   "source": [
    "PART 3.2.2: Initial Analysis of Brewery Trends by Location"
   ],
   "metadata": {
    "collapsed": false
   },
   "id": "2fef64a02fccb19f"
  },
  {
   "cell_type": "code",
   "execution_count": 59,
   "outputs": [
    {
     "data": {
      "text/plain": "                                                     2006  \\\nlocation                                                    \nAustralia                                       Australia   \nBelgium                                           Belgium   \nBrazil                                             Brazil   \nCanada                                             Canada   \nCroatia                                           Belgium   \n...                                                   ...   \nUnited States, Virginia                           Belgium   \nUnited States, Washington       United States, California   \nUnited States, West Virginia  United States, Pennsylvania   \nUnited States, Wisconsin         United States, Wisconsin   \nUnited States, Wyoming            United States, Colorado   \n\n                                                     2007  \\\nlocation                                                    \nAustralia                                       Australia   \nBelgium                                           Belgium   \nBrazil                                            Belgium   \nCanada                                             Canada   \nCroatia                                           Belgium   \n...                                                   ...   \nUnited States, Virginia         United States, California   \nUnited States, Washington       United States, California   \nUnited States, West Virginia  United States, Pennsylvania   \nUnited States, Wisconsin         United States, Wisconsin   \nUnited States, Wyoming            United States, Colorado   \n\n                                                   2008  \\\nlocation                                                  \nAustralia                                     Australia   \nBelgium                                         Belgium   \nBrazil                                           Brazil   \nCanada                                           Canada   \nCroatia                                         Germany   \n...                                                 ...   \nUnited States, Virginia       United States, California   \nUnited States, Washington     United States, California   \nUnited States, West Virginia  United States, California   \nUnited States, Wisconsin       United States, Wisconsin   \nUnited States, Wyoming          United States, Missouri   \n\n                                                   2009  \\\nlocation                                                  \nAustralia                                     Australia   \nBelgium                                         Belgium   \nBrazil                                           Brazil   \nCanada                                           Canada   \nCroatia                                  Czech Republic   \n...                                                 ...   \nUnited States, Virginia       United States, California   \nUnited States, Washington     United States, California   \nUnited States, West Virginia    United States, New York   \nUnited States, Wisconsin       United States, Wisconsin   \nUnited States, Wyoming        United States, California   \n\n                                                   2010  \\\nlocation                                                  \nAustralia                                     Australia   \nBelgium                                         Belgium   \nBrazil                                           Brazil   \nCanada                                           Canada   \nCroatia                                         Germany   \n...                                                 ...   \nUnited States, Virginia       United States, California   \nUnited States, Washington     United States, California   \nUnited States, West Virginia  United States, California   \nUnited States, Wisconsin       United States, Wisconsin   \nUnited States, Wyoming          United States, Colorado   \n\n                                                   2011  \\\nlocation                                                  \nAustralia                                     Australia   \nBelgium                                         Belgium   \nBrazil                                           Brazil   \nCanada                                           Canada   \nCroatia                                         Germany   \n...                                                 ...   \nUnited States, Virginia       United States, California   \nUnited States, Washington     United States, California   \nUnited States, West Virginia  United States, California   \nUnited States, Wisconsin       United States, Wisconsin   \nUnited States, Wyoming        United States, California   \n\n                                                   2012  \\\nlocation                                                  \nAustralia                                     Australia   \nBelgium                                         Belgium   \nBrazil                                           Brazil   \nCanada                                           Canada   \nCroatia                                         Germany   \n...                                                 ...   \nUnited States, Virginia       United States, California   \nUnited States, Washington     United States, California   \nUnited States, West Virginia  United States, California   \nUnited States, Wisconsin       United States, Wisconsin   \nUnited States, Wyoming        United States, California   \n\n                                                   2013  \\\nlocation                                                  \nAustralia                                     Australia   \nBelgium                                         Belgium   \nBrazil                                           Brazil   \nCanada                                           Canada   \nCroatia                                         Germany   \n...                                                 ...   \nUnited States, Virginia       United States, California   \nUnited States, Washington     United States, California   \nUnited States, West Virginia  United States, California   \nUnited States, Wisconsin       United States, Wisconsin   \nUnited States, Wyoming        United States, California   \n\n                                                   2014  \\\nlocation                                                  \nAustralia                                     Australia   \nBelgium                                         Belgium   \nBrazil                                           Brazil   \nCanada                                           Canada   \nCroatia                                         Germany   \n...                                                 ...   \nUnited States, Virginia         United States, Virginia   \nUnited States, Washington     United States, California   \nUnited States, West Virginia  United States, California   \nUnited States, Wisconsin       United States, Wisconsin   \nUnited States, Wyoming        United States, California   \n\n                                                   2015  \\\nlocation                                                  \nAustralia                                     Australia   \nBelgium                                         Belgium   \nBrazil                                           Brazil   \nCanada                                           Canada   \nCroatia                                         Germany   \n...                                                 ...   \nUnited States, Virginia         United States, Virginia   \nUnited States, Washington     United States, Washington   \nUnited States, West Virginia  United States, California   \nUnited States, Wisconsin       United States, Wisconsin   \nUnited States, Wyoming        United States, California   \n\n                                                   2016  \\\nlocation                                                  \nAustralia                                     Australia   \nBelgium                                         Belgium   \nBrazil                                           Brazil   \nCanada                                           Canada   \nCroatia                                         Croatia   \n...                                                 ...   \nUnited States, Virginia         United States, Virginia   \nUnited States, Washington     United States, Washington   \nUnited States, West Virginia  United States, California   \nUnited States, Wisconsin       United States, Wisconsin   \nUnited States, Wyoming          United States, Colorado   \n\n                                                   2017  \nlocation                                                 \nAustralia                                     Australia  \nBelgium                                         Belgium  \nBrazil                                           Brazil  \nCanada                                           Canada  \nCroatia                                         Croatia  \n...                                                 ...  \nUnited States, Virginia         United States, Virginia  \nUnited States, Washington     United States, Washington  \nUnited States, West Virginia        United States, Ohio  \nUnited States, Wisconsin       United States, Wisconsin  \nUnited States, Wyoming          United States, Colorado  \n\n[71 rows x 12 columns]",
      "text/html": "<div>\n<style scoped>\n    .dataframe tbody tr th:only-of-type {\n        vertical-align: middle;\n    }\n\n    .dataframe tbody tr th {\n        vertical-align: top;\n    }\n\n    .dataframe thead th {\n        text-align: right;\n    }\n</style>\n<table border=\"1\" class=\"dataframe\">\n  <thead>\n    <tr style=\"text-align: right;\">\n      <th></th>\n      <th>2006</th>\n      <th>2007</th>\n      <th>2008</th>\n      <th>2009</th>\n      <th>2010</th>\n      <th>2011</th>\n      <th>2012</th>\n      <th>2013</th>\n      <th>2014</th>\n      <th>2015</th>\n      <th>2016</th>\n      <th>2017</th>\n    </tr>\n    <tr>\n      <th>location</th>\n      <th></th>\n      <th></th>\n      <th></th>\n      <th></th>\n      <th></th>\n      <th></th>\n      <th></th>\n      <th></th>\n      <th></th>\n      <th></th>\n      <th></th>\n      <th></th>\n    </tr>\n  </thead>\n  <tbody>\n    <tr>\n      <th>Australia</th>\n      <td>Australia</td>\n      <td>Australia</td>\n      <td>Australia</td>\n      <td>Australia</td>\n      <td>Australia</td>\n      <td>Australia</td>\n      <td>Australia</td>\n      <td>Australia</td>\n      <td>Australia</td>\n      <td>Australia</td>\n      <td>Australia</td>\n      <td>Australia</td>\n    </tr>\n    <tr>\n      <th>Belgium</th>\n      <td>Belgium</td>\n      <td>Belgium</td>\n      <td>Belgium</td>\n      <td>Belgium</td>\n      <td>Belgium</td>\n      <td>Belgium</td>\n      <td>Belgium</td>\n      <td>Belgium</td>\n      <td>Belgium</td>\n      <td>Belgium</td>\n      <td>Belgium</td>\n      <td>Belgium</td>\n    </tr>\n    <tr>\n      <th>Brazil</th>\n      <td>Brazil</td>\n      <td>Belgium</td>\n      <td>Brazil</td>\n      <td>Brazil</td>\n      <td>Brazil</td>\n      <td>Brazil</td>\n      <td>Brazil</td>\n      <td>Brazil</td>\n      <td>Brazil</td>\n      <td>Brazil</td>\n      <td>Brazil</td>\n      <td>Brazil</td>\n    </tr>\n    <tr>\n      <th>Canada</th>\n      <td>Canada</td>\n      <td>Canada</td>\n      <td>Canada</td>\n      <td>Canada</td>\n      <td>Canada</td>\n      <td>Canada</td>\n      <td>Canada</td>\n      <td>Canada</td>\n      <td>Canada</td>\n      <td>Canada</td>\n      <td>Canada</td>\n      <td>Canada</td>\n    </tr>\n    <tr>\n      <th>Croatia</th>\n      <td>Belgium</td>\n      <td>Belgium</td>\n      <td>Germany</td>\n      <td>Czech Republic</td>\n      <td>Germany</td>\n      <td>Germany</td>\n      <td>Germany</td>\n      <td>Germany</td>\n      <td>Germany</td>\n      <td>Germany</td>\n      <td>Croatia</td>\n      <td>Croatia</td>\n    </tr>\n    <tr>\n      <th>...</th>\n      <td>...</td>\n      <td>...</td>\n      <td>...</td>\n      <td>...</td>\n      <td>...</td>\n      <td>...</td>\n      <td>...</td>\n      <td>...</td>\n      <td>...</td>\n      <td>...</td>\n      <td>...</td>\n      <td>...</td>\n    </tr>\n    <tr>\n      <th>United States, Virginia</th>\n      <td>Belgium</td>\n      <td>United States, California</td>\n      <td>United States, California</td>\n      <td>United States, California</td>\n      <td>United States, California</td>\n      <td>United States, California</td>\n      <td>United States, California</td>\n      <td>United States, California</td>\n      <td>United States, Virginia</td>\n      <td>United States, Virginia</td>\n      <td>United States, Virginia</td>\n      <td>United States, Virginia</td>\n    </tr>\n    <tr>\n      <th>United States, Washington</th>\n      <td>United States, California</td>\n      <td>United States, California</td>\n      <td>United States, California</td>\n      <td>United States, California</td>\n      <td>United States, California</td>\n      <td>United States, California</td>\n      <td>United States, California</td>\n      <td>United States, California</td>\n      <td>United States, California</td>\n      <td>United States, Washington</td>\n      <td>United States, Washington</td>\n      <td>United States, Washington</td>\n    </tr>\n    <tr>\n      <th>United States, West Virginia</th>\n      <td>United States, Pennsylvania</td>\n      <td>United States, Pennsylvania</td>\n      <td>United States, California</td>\n      <td>United States, New York</td>\n      <td>United States, California</td>\n      <td>United States, California</td>\n      <td>United States, California</td>\n      <td>United States, California</td>\n      <td>United States, California</td>\n      <td>United States, California</td>\n      <td>United States, California</td>\n      <td>United States, Ohio</td>\n    </tr>\n    <tr>\n      <th>United States, Wisconsin</th>\n      <td>United States, Wisconsin</td>\n      <td>United States, Wisconsin</td>\n      <td>United States, Wisconsin</td>\n      <td>United States, Wisconsin</td>\n      <td>United States, Wisconsin</td>\n      <td>United States, Wisconsin</td>\n      <td>United States, Wisconsin</td>\n      <td>United States, Wisconsin</td>\n      <td>United States, Wisconsin</td>\n      <td>United States, Wisconsin</td>\n      <td>United States, Wisconsin</td>\n      <td>United States, Wisconsin</td>\n    </tr>\n    <tr>\n      <th>United States, Wyoming</th>\n      <td>United States, Colorado</td>\n      <td>United States, Colorado</td>\n      <td>United States, Missouri</td>\n      <td>United States, California</td>\n      <td>United States, Colorado</td>\n      <td>United States, California</td>\n      <td>United States, California</td>\n      <td>United States, California</td>\n      <td>United States, California</td>\n      <td>United States, California</td>\n      <td>United States, Colorado</td>\n      <td>United States, Colorado</td>\n    </tr>\n  </tbody>\n</table>\n<p>71 rows × 12 columns</p>\n</div>"
     },
     "execution_count": 59,
     "metadata": {},
     "output_type": "execute_result"
    }
   ],
   "source": [
    "#Extracting the most popular (in quantity) beer production place (brewery location) for each location by looking at the total number of ratings. We also put a threshold of 5 that needs to be satisfied for a location-brewery location pair to be considered in this analysis.\n",
    "\n",
    "years = np.arange(2006,2018)\n",
    "bc_popularities_by_year = pd.DataFrame()\n",
    "\n",
    "for year in years:\n",
    "    location_bc = location_brewery_country_stats(ratings.copy(), users.copy(), breweries.copy(), year, 5)\n",
    "    location_bc_gb_loc = location_bc.groupby('location')\n",
    "    idx_most_popular = location_bc_gb_loc['number'].idxmax()\n",
    "    most_popular_bc_by_location = location_bc.loc[idx_most_popular]\n",
    "    most_popular_bc_by_location = most_popular_bc_by_location[['location', 'brewery_location']]\n",
    "    most_popular_bc_by_location.set_index('location', inplace = True)\n",
    "    most_popular_bc_by_location = most_popular_bc_by_location.rename(columns = {'brewery_location': str(year)})\n",
    "    bc_popularities_by_year = pd.concat([bc_popularities_by_year, most_popular_bc_by_location], axis = 1)\n",
    "    \n",
    "bc_popularities_by_year"
   ],
   "metadata": {
    "collapsed": false,
    "ExecuteTime": {
     "end_time": "2023-11-17T10:57:42.884074Z",
     "start_time": "2023-11-17T10:56:51.660336400Z"
    }
   },
   "id": "5fc2643b8cdce675"
  },
  {
   "cell_type": "code",
   "execution_count": 60,
   "outputs": [
    {
     "data": {
      "text/plain": "                                                    2006  \\\nlocation                                                   \nAustralia                        United States, Maryland   \nBelgium                                           Norway   \nBrazil                                           Belgium   \nCanada                             United States, Alaska   \nCroatia                                           Canada   \n...                                                  ...   \nUnited States, Virginia       United States, Connecticut   \nUnited States, Washington     United States, Connecticut   \nUnited States, West Virginia      United States, Indiana   \nUnited States, Wisconsin                          Norway   \nUnited States, Wyoming                           Belgium   \n\n                                                   2007  \\\nlocation                                                  \nAustralia                         United States, Oregon   \nBelgium                       United States, California   \nBrazil                                           Canada   \nCanada                                           Norway   \nCroatia                                         Belgium   \n...                                                 ...   \nUnited States, Virginia                          Norway   \nUnited States, Washington                        Norway   \nUnited States, West Virginia        United States, Ohio   \nUnited States, Wisconsin                         Norway   \nUnited States, Wyoming                          England   \n\n                                                    2008  \\\nlocation                                                   \nAustralia                        United States, New York   \nBelgium                                           Norway   \nBrazil                         United States, California   \nCanada                           United States, Nebraska   \nCroatia                                         Scotland   \n...                                                  ...   \nUnited States, Virginia                           Norway   \nUnited States, Washington                         Norway   \nUnited States, West Virginia     United States, Michigan   \nUnited States, Wisconsin      United States, Connecticut   \nUnited States, Wyoming                           Belgium   \n\n                                                    2009  \\\nlocation                                                   \nAustralia                                         Norway   \nBelgium                            United States, Alaska   \nBrazil                                           Belgium   \nCanada                                            Norway   \nCroatia                        United States, California   \n...                                                  ...   \nUnited States, Virginia                           Norway   \nUnited States, Washington                         Norway   \nUnited States, West Virginia                     Belgium   \nUnited States, Wisconsin      United States, Connecticut   \nUnited States, Wyoming                           Belgium   \n\n                                                  2010  \\\nlocation                                                 \nAustralia                                       Norway   \nBelgium                          United States, Alaska   \nBrazil                                        Scotland   \nCanada                             Canada, Nova Scotia   \nCroatia                                          Italy   \n...                                                ...   \nUnited States, Virginia       United States, Minnesota   \nUnited States, Washington       United States, Indiana   \nUnited States, West Virginia                   Belgium   \nUnited States, Wisconsin                        Norway   \nUnited States, Wyoming         United States, New York   \n\n                                                     2011  \\\nlocation                                                    \nAustralia                        United States, Minnesota   \nBelgium                                            Norway   \nBrazil                                              Italy   \nCanada                                             Norway   \nCroatia                       United States, Pennsylvania   \n...                                                   ...   \nUnited States, Virginia             United States, Alaska   \nUnited States, Washington                     Switzerland   \nUnited States, West Virginia                      Belgium   \nUnited States, Wisconsin                           Norway   \nUnited States, Wyoming                            Germany   \n\n                                                      2012  \\\nlocation                                                     \nAustralia                            United States, Alaska   \nBelgium                               United States, Maine   \nBrazil                                             Belgium   \nCanada                              United States, Indiana   \nCroatia                                            Ireland   \n...                                                    ...   \nUnited States, Virginia              United States, Alaska   \nUnited States, Washington                          Iceland   \nUnited States, West Virginia       United States, Michigan   \nUnited States, Wisconsin      United States, Washington DC   \nUnited States, Wyoming                United States, Maine   \n\n                                                  2013  \\\nlocation                                                 \nAustralia                                       Norway   \nBelgium                         United States, Vermont   \nBrazil                        United States, Minnesota   \nCanada                             United States, Iowa   \nCroatia                                       Scotland   \n...                                                ...   \nUnited States, Virginia            United States, Iowa   \nUnited States, Washington          United States, Iowa   \nUnited States, West Virginia                   Belgium   \nUnited States, Wisconsin                        Sweden   \nUnited States, Wyoming         United States, Michigan   \n\n                                                 2014  \\\nlocation                                                \nAustralia                      United States, Vermont   \nBelgium                           United States, Iowa   \nBrazil                        United States, Illinois   \nCanada                         United States, Vermont   \nCroatia                                        Norway   \n...                                               ...   \nUnited States, Virginia           United States, Iowa   \nUnited States, Washington         United States, Iowa   \nUnited States, West Virginia  United States, Oklahoma   \nUnited States, Wisconsin          United States, Iowa   \nUnited States, Wyoming         United States, Indiana   \n\n                                                 2015  \\\nlocation                                                \nAustralia                     United States, Illinois   \nBelgium                           United States, Iowa   \nBrazil                        United States, Oklahoma   \nCanada                        United States, Oklahoma   \nCroatia                                        Norway   \n...                                               ...   \nUnited States, Virginia                        Norway   \nUnited States, Washington      United States, Vermont   \nUnited States, West Virginia   United States, Indiana   \nUnited States, Wisconsin          United States, Iowa   \nUnited States, Wyoming        United States, Delaware   \n\n                                                       2016  \\\nlocation                                                      \nAustralia                           United States, Oklahoma   \nBelgium                       United States, South Carolina   \nBrazil                               United States, Florida   \nCanada                                  United States, Iowa   \nCroatia                             United States, Oklahoma   \n...                                                     ...   \nUnited States, Virginia                         Switzerland   \nUnited States, Washington               United States, Iowa   \nUnited States, West Virginia        United States, Oklahoma   \nUnited States, Wisconsin                United States, Iowa   \nUnited States, Wyoming               United States, Vermont   \n\n                                                      2017  \nlocation                                                    \nAustralia                           United States, Florida  \nBelgium                                United States, Ohio  \nBrazil                        United States, Massachusetts  \nCanada                             United States, Oklahoma  \nCroatia                              United States, Oregon  \n...                                                    ...  \nUnited States, Virginia            United States, Oklahoma  \nUnited States, Washington                   Czech Republic  \nUnited States, West Virginia           United States, Iowa  \nUnited States, Wisconsin               United States, Iowa  \nUnited States, Wyoming                             Belgium  \n\n[71 rows x 12 columns]",
      "text/html": "<div>\n<style scoped>\n    .dataframe tbody tr th:only-of-type {\n        vertical-align: middle;\n    }\n\n    .dataframe tbody tr th {\n        vertical-align: top;\n    }\n\n    .dataframe thead th {\n        text-align: right;\n    }\n</style>\n<table border=\"1\" class=\"dataframe\">\n  <thead>\n    <tr style=\"text-align: right;\">\n      <th></th>\n      <th>2006</th>\n      <th>2007</th>\n      <th>2008</th>\n      <th>2009</th>\n      <th>2010</th>\n      <th>2011</th>\n      <th>2012</th>\n      <th>2013</th>\n      <th>2014</th>\n      <th>2015</th>\n      <th>2016</th>\n      <th>2017</th>\n    </tr>\n    <tr>\n      <th>location</th>\n      <th></th>\n      <th></th>\n      <th></th>\n      <th></th>\n      <th></th>\n      <th></th>\n      <th></th>\n      <th></th>\n      <th></th>\n      <th></th>\n      <th></th>\n      <th></th>\n    </tr>\n  </thead>\n  <tbody>\n    <tr>\n      <th>Australia</th>\n      <td>United States, Maryland</td>\n      <td>United States, Oregon</td>\n      <td>United States, New York</td>\n      <td>Norway</td>\n      <td>Norway</td>\n      <td>United States, Minnesota</td>\n      <td>United States, Alaska</td>\n      <td>Norway</td>\n      <td>United States, Vermont</td>\n      <td>United States, Illinois</td>\n      <td>United States, Oklahoma</td>\n      <td>United States, Florida</td>\n    </tr>\n    <tr>\n      <th>Belgium</th>\n      <td>Norway</td>\n      <td>United States, California</td>\n      <td>Norway</td>\n      <td>United States, Alaska</td>\n      <td>United States, Alaska</td>\n      <td>Norway</td>\n      <td>United States, Maine</td>\n      <td>United States, Vermont</td>\n      <td>United States, Iowa</td>\n      <td>United States, Iowa</td>\n      <td>United States, South Carolina</td>\n      <td>United States, Ohio</td>\n    </tr>\n    <tr>\n      <th>Brazil</th>\n      <td>Belgium</td>\n      <td>Canada</td>\n      <td>United States, California</td>\n      <td>Belgium</td>\n      <td>Scotland</td>\n      <td>Italy</td>\n      <td>Belgium</td>\n      <td>United States, Minnesota</td>\n      <td>United States, Illinois</td>\n      <td>United States, Oklahoma</td>\n      <td>United States, Florida</td>\n      <td>United States, Massachusetts</td>\n    </tr>\n    <tr>\n      <th>Canada</th>\n      <td>United States, Alaska</td>\n      <td>Norway</td>\n      <td>United States, Nebraska</td>\n      <td>Norway</td>\n      <td>Canada, Nova Scotia</td>\n      <td>Norway</td>\n      <td>United States, Indiana</td>\n      <td>United States, Iowa</td>\n      <td>United States, Vermont</td>\n      <td>United States, Oklahoma</td>\n      <td>United States, Iowa</td>\n      <td>United States, Oklahoma</td>\n    </tr>\n    <tr>\n      <th>Croatia</th>\n      <td>Canada</td>\n      <td>Belgium</td>\n      <td>Scotland</td>\n      <td>United States, California</td>\n      <td>Italy</td>\n      <td>United States, Pennsylvania</td>\n      <td>Ireland</td>\n      <td>Scotland</td>\n      <td>Norway</td>\n      <td>Norway</td>\n      <td>United States, Oklahoma</td>\n      <td>United States, Oregon</td>\n    </tr>\n    <tr>\n      <th>...</th>\n      <td>...</td>\n      <td>...</td>\n      <td>...</td>\n      <td>...</td>\n      <td>...</td>\n      <td>...</td>\n      <td>...</td>\n      <td>...</td>\n      <td>...</td>\n      <td>...</td>\n      <td>...</td>\n      <td>...</td>\n    </tr>\n    <tr>\n      <th>United States, Virginia</th>\n      <td>United States, Connecticut</td>\n      <td>Norway</td>\n      <td>Norway</td>\n      <td>Norway</td>\n      <td>United States, Minnesota</td>\n      <td>United States, Alaska</td>\n      <td>United States, Alaska</td>\n      <td>United States, Iowa</td>\n      <td>United States, Iowa</td>\n      <td>Norway</td>\n      <td>Switzerland</td>\n      <td>United States, Oklahoma</td>\n    </tr>\n    <tr>\n      <th>United States, Washington</th>\n      <td>United States, Connecticut</td>\n      <td>Norway</td>\n      <td>Norway</td>\n      <td>Norway</td>\n      <td>United States, Indiana</td>\n      <td>Switzerland</td>\n      <td>Iceland</td>\n      <td>United States, Iowa</td>\n      <td>United States, Iowa</td>\n      <td>United States, Vermont</td>\n      <td>United States, Iowa</td>\n      <td>Czech Republic</td>\n    </tr>\n    <tr>\n      <th>United States, West Virginia</th>\n      <td>United States, Indiana</td>\n      <td>United States, Ohio</td>\n      <td>United States, Michigan</td>\n      <td>Belgium</td>\n      <td>Belgium</td>\n      <td>Belgium</td>\n      <td>United States, Michigan</td>\n      <td>Belgium</td>\n      <td>United States, Oklahoma</td>\n      <td>United States, Indiana</td>\n      <td>United States, Oklahoma</td>\n      <td>United States, Iowa</td>\n    </tr>\n    <tr>\n      <th>United States, Wisconsin</th>\n      <td>Norway</td>\n      <td>Norway</td>\n      <td>United States, Connecticut</td>\n      <td>United States, Connecticut</td>\n      <td>Norway</td>\n      <td>Norway</td>\n      <td>United States, Washington DC</td>\n      <td>Sweden</td>\n      <td>United States, Iowa</td>\n      <td>United States, Iowa</td>\n      <td>United States, Iowa</td>\n      <td>United States, Iowa</td>\n    </tr>\n    <tr>\n      <th>United States, Wyoming</th>\n      <td>Belgium</td>\n      <td>England</td>\n      <td>Belgium</td>\n      <td>Belgium</td>\n      <td>United States, New York</td>\n      <td>Germany</td>\n      <td>United States, Maine</td>\n      <td>United States, Michigan</td>\n      <td>United States, Indiana</td>\n      <td>United States, Delaware</td>\n      <td>United States, Vermont</td>\n      <td>Belgium</td>\n    </tr>\n  </tbody>\n</table>\n<p>71 rows × 12 columns</p>\n</div>"
     },
     "execution_count": 60,
     "metadata": {},
     "output_type": "execute_result"
    }
   ],
   "source": [
    "#Extracting the highest rated beer production location for each location by looking at the average rating by year. We also put a threshold of 10 that needs to be satisfied for a location-brewery location pair to be considered in this analysis.\n",
    "\n",
    "years = np.arange(2006, 2018)\n",
    "bc_ratings_by_year = pd.DataFrame()\n",
    "\n",
    "for year in years:\n",
    "    location_bc = location_brewery_country_stats(ratings.copy(), users.copy(), breweries.copy(), year, 10)\n",
    "    location_bc_gb_loc = location_bc.groupby('location')\n",
    "    idx_highest_rated = location_bc_gb_loc['z_score'].idxmax()\n",
    "    highest_rated_bc_by_location = location_bc.loc[idx_highest_rated]\n",
    "    highest_rated_bc_by_location = highest_rated_bc_by_location[['location', 'brewery_location']]\n",
    "    highest_rated_bc_by_location.set_index('location', inplace=True)\n",
    "    highest_rated_bc_by_location = highest_rated_bc_by_location.rename(columns={'brewery_location': str(year)})\n",
    "    bc_ratings_by_year = pd.concat([bc_ratings_by_year, highest_rated_bc_by_location], axis=1)\n",
    "    \n",
    "bc_ratings_by_year"
   ],
   "metadata": {
    "collapsed": false,
    "ExecuteTime": {
     "end_time": "2023-11-17T10:58:36.531399300Z",
     "start_time": "2023-11-17T10:57:42.884074Z"
    }
   },
   "id": "d3e355244a40505f"
  },
  {
   "cell_type": "markdown",
   "source": [
    "PART 3.3: Example Distance Calculations"
   ],
   "metadata": {
    "collapsed": false
   },
   "id": "f316f36b4b2d7399"
  },
  {
   "cell_type": "code",
   "execution_count": 61,
   "outputs": [
    {
     "data": {
      "text/plain": "{'United States, Vermont': (44.5990718, -72.5002608),\n 'United States, Massachusetts': (42.3788774, -72.032366),\n 'United States, New Hampshire': (43.4849133, -71.6553992),\n 'United States, Connecticut': (41.6500201, -72.7342163),\n 'United States, Rhode Island': (41.7962409, -71.5992372),\n 'United States, Pennsylvania': (40.9699889, -77.7278831),\n 'United States, Maine': (45.709097, -68.8590201),\n 'United States, Minnesota': (45.9896587, -94.6113288),\n 'United States, Illinois': (40.0796606, -89.4337288),\n 'United States, Colorado': (38.7251776, -105.607716),\n 'United States, Delaware': (38.6920451, -75.4013315),\n 'United States, Washington': (38.8950368, -77.0365427),\n 'United States, Oregon': (43.9792797, -120.737257),\n 'United States, Wisconsin': (44.4308975, -89.6884637),\n 'United States, Michigan': (43.6211955, -84.6824346),\n 'United States, Virginia': (37.1232245, -78.4927721),\n 'United States, New Jersey': (40.0757384, -74.4041622),\n 'United States, Ohio': (40.2253569, -82.6881395),\n 'United States, Indiana': (40.3270127, -86.1746933),\n 'United States, Maryland': (39.5162401, -76.9382069),\n 'United States, New York': (40.7127281, -74.0060152),\n 'United States, Alaska': (64.4459613, -149.680909),\n 'United States, North Carolina': (35.6729639, -79.0392919),\n 'United States, Iowa': (41.9216734, -93.3122705),\n 'United States, Alabama': (33.2588817, -86.8295337),\n 'United States, California': (36.7014631, -118.755997),\n 'United States, Missouri': (38.7604815, -92.5617875),\n 'United States, Kansas': (38.27312, -98.5821872),\n 'United States, Georgia': (32.3293809, -83.1137366),\n 'United States, Kentucky': (37.5726028, -85.1551411),\n 'United States, Nebraska': (41.7370229, -99.5873816),\n 'United States, South Carolina': (33.6874388, -80.4363743),\n 'United States, Montana': (47.3752671, -109.638757),\n 'United States, North Dakota': (47.6201461, -100.540737),\n 'United States, Florida': (27.7567667, -81.4639835),\n 'United States, Texas': (31.2638905, -98.5456116),\n 'United States, Arizona': (34.395342, -111.763275),\n 'United States, Tennessee': (35.7730076, -86.2820081),\n 'United States, West Virginia': (38.4758406, -80.8408415),\n 'United States, Idaho': (43.6447642, -114.015407),\n 'United States, Oklahoma': (34.9550817, -97.2684063),\n 'United States, Wyoming': (43.1700264, -107.568534),\n 'United States, Nevada': (39.5158825, -116.853722),\n 'United States, New Mexico': (34.5802074, -105.9960475),\n 'Iceland': (64.9841821, -18.1059013),\n 'United States, Arkansas': (35.2048883, -92.4479108),\n 'Denmark': (55.670249, 10.3333283),\n 'United States, Louisiana': (30.8703881, -92.007126),\n 'United States, Hawaii': (19.593801499999998, -155.42837009716908),\n 'Canada': (61.0666922, -107.991707),\n 'Norway': (64.5731537, 11.52803643954819),\n 'United States, Utah': (39.4225192, -111.714358),\n 'United States, Mississippi': (32.9715285, -89.7348497),\n 'Sweden': (44.133435, -70.822678),\n 'Belgium': (50.6402809, 4.6667145),\n 'New Zealand': (-41.5000831, 172.8344077),\n 'Ireland': (52.865196, -7.9794599),\n 'Finland': (63.2467777, 25.9209164),\n 'Scotland': (56.7861112, -4.1140518),\n 'Australia': (-24.7761086, 134.755),\n 'Netherlands': (52.2434979, 5.6343227),\n 'Luxembourg': (49.6112768, 6.129799),\n 'England': (52.5310214, -1.2649062),\n 'Poland': (52.215933, 19.134422),\n 'Croatia': (45.3658443, 15.6575209),\n 'Northern Ireland': (54.5859836, -6.9591554),\n 'Spain': (39.3260685, -4.8379791),\n 'Italy': (42.6384261, 12.674297),\n 'Germany': (40.4203479, -79.1166983),\n 'France': (46.603354, 1.8883335),\n 'Brazil': (-10.3333333, -53.2)}"
     },
     "execution_count": 61,
     "metadata": {},
     "output_type": "execute_result"
    }
   ],
   "source": [
    "ll_dict = dict(zip(all_locations, location_latitudes_longitudes_tuples))\n",
    "ll_dict"
   ],
   "metadata": {
    "collapsed": false,
    "ExecuteTime": {
     "end_time": "2023-11-17T10:58:36.829502200Z",
     "start_time": "2023-11-17T10:58:36.515813500Z"
    }
   },
   "id": "a6e0aa5f93f071a9"
  },
  {
   "cell_type": "code",
   "execution_count": 62,
   "outputs": [
    {
     "name": "stdout",
     "output_type": "stream",
     "text": [
      "Distance between New York and Ohio is 737.99 kilometers.\n",
      "Distance between Brazil and Germany is 6220.65 kilometers.\n",
      "Distance between Iceland and New Zealand is 17300.14 kilometers.\n"
     ]
    }
   ],
   "source": [
    "#Printing examples of distances between three location pairs using geodesic() function:\n",
    "\n",
    "print(f\"Distance between New York and Ohio is {geodesic(ll_dict['United States, New York'], ll_dict['United States, Ohio']).kilometers:.2f} kilometers.\")\n",
    "\n",
    "print(f\"Distance between Brazil and Germany is {geodesic(ll_dict['Brazil'], ll_dict['Germany']).kilometers:.2f} kilometers.\")\n",
    "\n",
    "print(f\"Distance between Iceland and New Zealand is {geodesic(ll_dict['Iceland'], ll_dict['New Zealand']).kilometers:.2f} kilometers.\")"
   ],
   "metadata": {
    "collapsed": false,
    "ExecuteTime": {
     "end_time": "2023-11-17T10:58:37.304553100Z",
     "start_time": "2023-11-17T10:58:36.656819400Z"
    }
   },
   "id": "d9f404c972ab4703"
  },
  {
   "cell_type": "markdown",
   "source": [
    "PART 3.4: Initial Regression and Correlation Analysis"
   ],
   "metadata": {
    "collapsed": false
   },
   "id": "529e500e144ea087"
  },
  {
   "cell_type": "code",
   "execution_count": 63,
   "outputs": [
    {
     "name": "stdout",
     "output_type": "stream",
     "text": [
      "                            OLS Regression Results                            \n",
      "==============================================================================\n",
      "Dep. Variable:                 rating   R-squared:                       0.962\n",
      "Model:                            OLS   Adj. R-squared:                  0.962\n",
      "Method:                 Least Squares   F-statistic:                 6.109e+07\n",
      "Date:                Fri, 17 Nov 2023   Prob (F-statistic):               0.00\n",
      "Time:                        11:58:44   Log-Likelihood:             2.3252e+06\n",
      "No. Observations:             9651112   AIC:                        -4.650e+06\n",
      "Df Residuals:                 9651107   BIC:                        -4.650e+06\n",
      "Df Model:                           4                                         \n",
      "Covariance Type:            nonrobust                                         \n",
      "==============================================================================\n",
      "                 coef    std err          t      P>|t|      [0.025      0.975]\n",
      "------------------------------------------------------------------------------\n",
      "Intercept      0.0006   6.12e-05     10.523      0.000       0.001       0.001\n",
      "appearance     0.1062   7.96e-05   1335.483      0.000       0.106       0.106\n",
      "aroma          0.3033      0.000   2964.834      0.000       0.303       0.303\n",
      "palate         0.1678   9.32e-05   1800.190      0.000       0.168       0.168\n",
      "taste          0.5130      0.000   4582.419      0.000       0.513       0.513\n",
      "==============================================================================\n",
      "Omnibus:                  1215589.108   Durbin-Watson:                   1.780\n",
      "Prob(Omnibus):                  0.000   Jarque-Bera (JB):         12544019.513\n",
      "Skew:                          -0.211   Prob(JB):                         0.00\n",
      "Kurtosis:                       8.569   Cond. No.                         3.84\n",
      "==============================================================================\n",
      "\n",
      "Notes:\n",
      "[1] Standard Errors assume that the covariance matrix of the errors is correctly specified.\n"
     ]
    }
   ],
   "source": [
    "#Linear regression of the rating suing the features \"appearance\", \"arome\", \"palate\" and \"taste\".\n",
    "\n",
    "mod = smf.ols(formula = 'rating ~ appearance + aroma + palate + taste', data = ratings)\n",
    "np.random.seed(2)\n",
    "res = mod.fit()\n",
    "print(res.summary())"
   ],
   "metadata": {
    "collapsed": false,
    "ExecuteTime": {
     "end_time": "2023-11-17T10:58:44.914127300Z",
     "start_time": "2023-11-17T10:58:36.798252200Z"
    }
   },
   "id": "5142f62073eeaa95"
  },
  {
   "cell_type": "markdown",
   "source": [
    "The results suggest that the taste property is the most important and the appearance property is the least important factor for a beer to receive a higher rating. Furthermore, p-values for all the coefficients are 0.000 and explained variance (R-squared) is 0.962. This shows that the rating is highly correlated and explainable with the given features, as expected."
   ],
   "metadata": {
    "collapsed": false
   },
   "id": "356ea07dd34edabf"
  },
  {
   "cell_type": "code",
   "execution_count": 64,
   "outputs": [
    {
     "name": "stdout",
     "output_type": "stream",
     "text": [
      "Pearson correlation between alcohol by volume and rating is 0.350 with a p value of 0.000.\n"
     ]
    }
   ],
   "source": [
    "corr, p_value = stats.pearsonr(ratings['abv'], ratings['rating'])\n",
    "\n",
    "print(f\"Pearson correlation between alcohol by volume and rating is {corr:.3f} with a p value of {p_value:.3f}.\")"
   ],
   "metadata": {
    "collapsed": false,
    "ExecuteTime": {
     "end_time": "2023-11-17T10:58:45.912277600Z",
     "start_time": "2023-11-17T10:58:44.914127300Z"
    }
   },
   "id": "5d3497e6a74e8801"
  },
  {
   "cell_type": "markdown",
   "source": [
    "We see that alcohol by volume is significantly correlated with higher ratings, with a pearson correlation coefficient of 0.350. Furthermore, p_value is given as 0.000, meaning that having no actual correlation between them but still observing the data we have is almost impossible. This is a rather surprising and remarkable finding to have in mind for our future analysis."
   ],
   "metadata": {
    "collapsed": false
   },
   "id": "4c0c26502b7e6880"
  },
  {
   "cell_type": "markdown",
   "source": [],
   "metadata": {
    "collapsed": false
   },
   "id": "336882af0ceb334b"
  }
 ],
 "metadata": {
  "kernelspec": {
   "display_name": "Python 3",
   "language": "python",
   "name": "python3"
  },
  "language_info": {
   "codemirror_mode": {
    "name": "ipython",
    "version": 2
   },
   "file_extension": ".py",
   "mimetype": "text/x-python",
   "name": "python",
   "nbconvert_exporter": "python",
   "pygments_lexer": "ipython2",
   "version": "2.7.6"
  }
 },
 "nbformat": 4,
 "nbformat_minor": 5
}
