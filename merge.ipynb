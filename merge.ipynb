{
 "cells": [
  {
   "cell_type": "code",
   "execution_count": 1,
   "id": "initial_id",
   "metadata": {
    "collapsed": true,
    "ExecuteTime": {
     "end_time": "2023-11-13T22:25:07.496869600Z",
     "start_time": "2023-11-13T22:25:06.527532700Z"
    }
   },
   "outputs": [],
   "source": [
    "import pandas as pd\n",
    "import numpy as np"
   ]
  },
  {
   "cell_type": "code",
   "execution_count": 2,
   "outputs": [
    {
     "name": "stderr",
     "output_type": "stream",
     "text": [
      "C:\\Users\\User\\AppData\\Local\\Temp\\ipykernel_6840\\3015418705.py:3: DtypeWarning: Columns (0,1,2,3,4,5,8,10,11,12,13,15,16,17,18,19,20,23,25,26,27,29,30,31,32) have mixed types. Specify dtype option on import or set low_memory=False.\n",
      "  beers_matched = pd.read_csv(\"dataset/MatchedData/beers.csv\")\n"
     ]
    }
   ],
   "source": [
    "beers_rb = pd.read_csv(\"dataset/RateBeer/beers.csv\")\n",
    "beers_ba = pd.read_csv(\"dataset/BeerAdvocate/beers.csv\")\n",
    "beers_matched = pd.read_csv(\"dataset/MatchedData/beers.csv\")"
   ],
   "metadata": {
    "collapsed": false,
    "ExecuteTime": {
     "end_time": "2023-11-13T22:25:09.621560800Z",
     "start_time": "2023-11-13T22:25:07.500859700Z"
    }
   },
   "id": "f434393123b0c09c"
  },
  {
   "cell_type": "code",
   "execution_count": 3,
   "outputs": [],
   "source": [
    "users_rb = pd.read_csv(\"dataset/RateBeer/users.csv\")\n",
    "users_ba = pd.read_csv(\"dataset/BeerAdvocate/users.csv\")\n",
    "users_matched = pd.read_csv(\"dataset/MatchedData/users.csv\")"
   ],
   "metadata": {
    "collapsed": false,
    "ExecuteTime": {
     "end_time": "2023-11-13T22:25:09.966453Z",
     "start_time": "2023-11-13T22:25:09.624560200Z"
    }
   },
   "id": "3c22286c46677d8f"
  },
  {
   "cell_type": "code",
   "execution_count": 4,
   "outputs": [
    {
     "name": "stderr",
     "output_type": "stream",
     "text": [
      "C:\\Users\\User\\AppData\\Local\\Temp\\ipykernel_6840\\3451628320.py:3: DtypeWarning: Columns (0,1,2,3,5,7,8,9,10,11,13,17,18,19,20,22,24,25,26,27,29,31) have mixed types. Specify dtype option on import or set low_memory=False.\n",
      "  ratings_matched = pd.read_csv(\"dataset/MatchedData/ratings.csv\")\n"
     ]
    }
   ],
   "source": [
    "ratings_rb = pd.read_csv(\"dataset/RateBeer/ratings.csv\")\n",
    "ratings_ba = pd.read_csv(\"dataset/BeerAdvocate/ratings.csv\")\n",
    "ratings_matched = pd.read_csv(\"dataset/MatchedData/ratings.csv\")"
   ],
   "metadata": {
    "collapsed": false,
    "ExecuteTime": {
     "end_time": "2023-11-13T22:26:35.561899400Z",
     "start_time": "2023-11-13T22:25:09.968449Z"
    }
   },
   "id": "a5ef51f08d503665"
  },
  {
   "cell_type": "code",
   "execution_count": 5,
   "outputs": [],
   "source": [
    "brewery_rb = pd.read_csv(\"dataset/RateBeer/breweries.csv\")\n",
    "brewery_ba = pd.read_csv(\"dataset/BeerAdvocate/breweries.csv\")\n",
    "brewery_matched = pd.read_csv(\"dataset/MatchedData/breweries.csv\")"
   ],
   "metadata": {
    "collapsed": false,
    "ExecuteTime": {
     "end_time": "2023-11-13T22:26:35.655659500Z",
     "start_time": "2023-11-13T22:26:35.564894200Z"
    }
   },
   "id": "32e836f966ded56f"
  },
  {
   "cell_type": "code",
   "execution_count": 6,
   "outputs": [],
   "source": [
    "# ID's of the beers should be unique after the merge operation. That's why we add 1000000 to\n",
    "# id's of the beer advocate beers.\n",
    "\n",
    "ba_id = beers_ba['beer_id'].values\n",
    "rb_id = beers_rb['beer_id'].values\n",
    "ba_id = ba_id + 1000000\n",
    "if np.intersect1d(ba_id, rb_id).size > 0:\n",
    "    print(np.intersect1d(ba_id, rb_id).size)\n",
    "    \n",
    "beers_ba['beer_id'] = beers_ba['beer_id'] + 1000000\n",
    "ratings_ba['beer_id'] = ratings_ba['beer_id'] + 1000000\n",
    "beers_matched['ba.5'][1:] = beers_matched['ba.5'][1:].astype(int) + 1000000\n",
    "beers_matched['rb.4'][1:] = beers_matched['rb.4'][1:].astype(int)"
   ],
   "metadata": {
    "collapsed": false,
    "ExecuteTime": {
     "end_time": "2023-11-13T22:26:35.753405500Z",
     "start_time": "2023-11-13T22:26:35.661634300Z"
    }
   },
   "id": "b1f2ce4373c6ff8c"
  },
  {
   "cell_type": "code",
   "execution_count": 7,
   "outputs": [],
   "source": [
    "# ID's of the breweries should be unique after the merge operation. That's why we add 1000000 to\n",
    "# id's of the beer advocate breweries.\n",
    "\n",
    "ba_id = brewery_ba['id'].values\n",
    "rb_id = brewery_rb['id'].values\n",
    "ba_id = ba_id + 1000000\n",
    "if np.intersect1d(ba_id, rb_id).size > 0:\n",
    "    print(np.intersect1d(ba_id, rb_id).size)\n",
    "\n",
    "brewery_ba['id'] = brewery_ba['id'] + 1000000\n",
    "beers_ba['brewery_id'] = beers_ba['brewery_id'] + 1000000\n",
    "ratings_ba['brewery_id'] = ratings_ba['brewery_id'] + 1000000\n",
    "brewery_matched['ba'][1:] = brewery_matched['ba'][1:].astype(int) + 1000000\n",
    "brewery_matched['rb'][1:] = brewery_matched['rb'][1:].astype(int)\n"
   ],
   "metadata": {
    "collapsed": false,
    "ExecuteTime": {
     "end_time": "2023-11-13T22:26:35.846141500Z",
     "start_time": "2023-11-13T22:26:35.758374500Z"
    }
   },
   "id": "425e50b5920fab4b"
  },
  {
   "cell_type": "code",
   "execution_count": 8,
   "outputs": [],
   "source": [
    "matched_rb_beers = beers_matched['rb.12'].unique()\n",
    "all_rb_beers = beers_rb['style'].unique()\n",
    "\n",
    "elements_not_in_matched = [element for element in all_rb_beers if element not in matched_rb_beers]\n",
    "\n",
    "beers_rb = beers_rb[~beers_rb['style'].isin(elements_not_in_matched)]"
   ],
   "metadata": {
    "collapsed": false,
    "ExecuteTime": {
     "end_time": "2023-11-13T22:26:35.955845500Z",
     "start_time": "2023-11-13T22:26:35.851127600Z"
    }
   },
   "id": "994ad78132e53f68"
  },
  {
   "cell_type": "code",
   "execution_count": 9,
   "outputs": [],
   "source": [
    "ba_to_rb = []\n",
    "for style_value in beers_matched['ba.14'].unique():\n",
    "    # Filter the DataFrame for rows where 'style_column1' matches the current value\n",
    "    filtered_rows = beers_matched[beers_matched['ba.14'] == style_value]\n",
    "    \n",
    "    # Find the most frequent match in 'style_column2'\n",
    "    most_frequent_match = filtered_rows['rb.12'].mode().iloc[0]\n",
    "    \n",
    "    # Count the occurrences of the most frequent match\n",
    "    match_count = filtered_rows[filtered_rows['rb.12'] == most_frequent_match].shape[0]\n",
    "    \n",
    "    # Append the results to the result DataFrame\n",
    "    ba_to_rb.append({'style_column1': style_value,\n",
    "                                  'most_frequent_match': most_frequent_match,\n",
    "                                  'match_count': match_count})\n",
    "ba_to_rb.pop(0)\n",
    "ba_to_rb_df = pd.DataFrame(ba_to_rb)"
   ],
   "metadata": {
    "collapsed": false,
    "ExecuteTime": {
     "end_time": "2023-11-13T22:26:36.413099200Z",
     "start_time": "2023-11-13T22:26:35.960833600Z"
    }
   },
   "id": "7a0ff370e25970b3"
  },
  {
   "cell_type": "code",
   "execution_count": 10,
   "outputs": [],
   "source": [
    "rb_to_ba_styles = ba_to_rb_df.most_frequent_match.unique()\n",
    "matched_rb_styles = beers_matched['rb.12'].unique()\n",
    "elements_not_in_ba = [element for element in matched_rb_styles if element not in rb_to_ba_styles]"
   ],
   "metadata": {
    "collapsed": false,
    "ExecuteTime": {
     "end_time": "2023-11-13T22:26:36.428143700Z",
     "start_time": "2023-11-13T22:26:36.417080300Z"
    }
   },
   "id": "f0603ef900b530e7"
  },
  {
   "cell_type": "code",
   "execution_count": 11,
   "outputs": [],
   "source": [
    "rb_to_ba_df = []\n",
    "for style_value in elements_not_in_ba:\n",
    "    # Filter the DataFrame for rows where 'style_column1' matches the current value\n",
    "    filtered_rows = beers_matched[beers_matched['rb.12'] == style_value]\n",
    "    \n",
    "    # Find the most frequent match in 'style_column2'\n",
    "    most_frequent_match = filtered_rows['ba.14'].mode().iloc[0]\n",
    "    \n",
    "    # Count the occurrences of the most frequent match\n",
    "    match_count = filtered_rows[filtered_rows['ba.14'] == most_frequent_match].shape[0]\n",
    "    \n",
    "    # Append the results to the result DataFrame\n",
    "    rb_to_ba_df.append({'style_column1': style_value,\n",
    "                                  'most_frequent_match': most_frequent_match,\n",
    "                                  'match_count': match_count})\n",
    "rb_to_ba_df = pd.DataFrame(rb_to_ba_df)"
   ],
   "metadata": {
    "collapsed": false,
    "ExecuteTime": {
     "end_time": "2023-11-13T22:26:36.490663100Z",
     "start_time": "2023-11-13T22:26:36.433164300Z"
    }
   },
   "id": "107882c51c50ca40"
  },
  {
   "cell_type": "code",
   "execution_count": 12,
   "outputs": [],
   "source": [
    "rb_to_ba_dict = dict(zip(rb_to_ba_df['style_column1'], rb_to_ba_df['most_frequent_match']))\n",
    "beers_matched['rb.12'] = beers_matched['rb.12'].replace(rb_to_ba_dict)\n",
    "beers_rb['style'] = beers_rb['style'].replace(rb_to_ba_dict)"
   ],
   "metadata": {
    "collapsed": false,
    "ExecuteTime": {
     "end_time": "2023-11-13T22:26:36.664197700Z",
     "start_time": "2023-11-13T22:26:36.492657900Z"
    }
   },
   "id": "159a4dd6278015e7"
  },
  {
   "cell_type": "code",
   "execution_count": 13,
   "outputs": [],
   "source": [
    "ba_to_rb_dict = dict(zip(ba_to_rb_df['style_column1'], ba_to_rb_df['most_frequent_match']))\n",
    "beers_ba['style'] = beers_ba['style'].replace(ba_to_rb_dict)\n",
    "beers_matched['rb.12'] = beers_matched['rb.12'].replace(ba_to_rb_dict)\n",
    "beers_rb['style'] = beers_rb['style'].replace(ba_to_rb_dict)"
   ],
   "metadata": {
    "collapsed": false,
    "ExecuteTime": {
     "end_time": "2023-11-13T22:26:38.589993400Z",
     "start_time": "2023-11-13T22:26:36.668300Z"
    }
   },
   "id": "88db5533dbfd3813"
  },
  {
   "cell_type": "code",
   "execution_count": 14,
   "outputs": [],
   "source": [
    "matched_rb_ids = beers_matched['rb.4'][1:]\n",
    "matched_ba_ids = beers_matched['ba.5'][1:]"
   ],
   "metadata": {
    "collapsed": false,
    "ExecuteTime": {
     "end_time": "2023-11-13T22:26:38.604298700Z",
     "start_time": "2023-11-13T22:26:38.594979700Z"
    }
   },
   "id": "a516e6c6976da5df"
  },
  {
   "cell_type": "code",
   "execution_count": 15,
   "outputs": [],
   "source": [
    "rb_without_matched = beers_rb[~beers_rb['beer_id'].isin(matched_rb_ids)]\n",
    "ba_without_matched = beers_ba[~beers_ba['beer_id'].isin(matched_ba_ids)]"
   ],
   "metadata": {
    "collapsed": false,
    "ExecuteTime": {
     "end_time": "2023-11-13T22:26:38.747702400Z",
     "start_time": "2023-11-13T22:26:38.607272Z"
    }
   },
   "id": "946efe9e6ed43b2f"
  },
  {
   "cell_type": "code",
   "execution_count": 16,
   "outputs": [],
   "source": [
    "columns_to_take = ['beer_id', 'beer_name', 'brewery_id', 'brewery_name', 'style', 'abv']\n",
    "column_name_mapping = {'rb.4': 'beer_id', 'rb.5': 'beer_name', 'rb.7': 'brewery_id', 'rb.8': 'brewery_name', 'rb.12': 'style', 'rb': 'abv'}\n",
    "beers_matched.rename(columns = column_name_mapping, inplace = True)\n",
    "\n",
    "merged_beers = pd.concat([rb_without_matched[columns_to_take], ba_without_matched[columns_to_take]], axis=0, ignore_index = True)\n",
    "merged_beers = pd.concat([merged_beers, beers_matched.iloc[1:][columns_to_take]], axis=0, ignore_index = True)\n",
    "\n",
    "merged_beers.to_csv(\"dataset/MergedData/beers.csv\", index = False)\n"
   ],
   "metadata": {
    "collapsed": false,
    "ExecuteTime": {
     "end_time": "2023-11-13T22:26:40.978195600Z",
     "start_time": "2023-11-13T22:26:38.749698200Z"
    }
   },
   "id": "856a1992d2ddba7b"
  },
  {
   "cell_type": "code",
   "execution_count": 30,
   "outputs": [],
   "source": [
    "matched_ba_ids = brewery_matched['ba'][1:]\n",
    "ba_without_matched = brewery_ba[~brewery_ba['id'].isin(matched_ba_ids)]\n",
    "merged_breweries = pd.concat([brewery_rb, ba_without_matched], axis = 0, ignore_index = True)\n",
    "merged_breweries.to_csv(\"dataset/MergedData/breweries.csv\", index = False)"
   ],
   "metadata": {
    "collapsed": false,
    "ExecuteTime": {
     "end_time": "2023-11-13T23:28:07.227971500Z",
     "start_time": "2023-11-13T23:28:07.140175400Z"
    }
   },
   "id": "529ae795ab13f6cc"
  },
  {
   "cell_type": "code",
   "execution_count": 49,
   "outputs": [],
   "source": [
    "matched_ba_ids = users_matched['ba.4'][1:]\n",
    "ba_without_matched = users_ba[~users_ba['user_id'].isin(matched_ba_ids)]\n",
    "merged_users = pd.concat([users_rb, ba_without_matched], axis = 0, ignore_index = True)\n",
    "merged_users.to_csv(\"dataset/MergedData/users.csv\", index = False)"
   ],
   "metadata": {
    "collapsed": false,
    "ExecuteTime": {
     "end_time": "2023-11-14T00:24:37.940105900Z",
     "start_time": "2023-11-14T00:24:36.955764100Z"
    }
   },
   "id": "2ea49d18ba1e4d8e"
  },
  {
   "cell_type": "code",
   "execution_count": null,
   "outputs": [],
   "source": [],
   "metadata": {
    "collapsed": false
   },
   "id": "bf6700ce368da67b"
  }
 ],
 "metadata": {
  "kernelspec": {
   "display_name": "Python 3",
   "language": "python",
   "name": "python3"
  },
  "language_info": {
   "codemirror_mode": {
    "name": "ipython",
    "version": 2
   },
   "file_extension": ".py",
   "mimetype": "text/x-python",
   "name": "python",
   "nbconvert_exporter": "python",
   "pygments_lexer": "ipython2",
   "version": "2.7.6"
  }
 },
 "nbformat": 4,
 "nbformat_minor": 5
}
