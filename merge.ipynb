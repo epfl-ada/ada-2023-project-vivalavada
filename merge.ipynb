{
 "cells": [
  {
   "cell_type": "code",
   "execution_count": 1,
   "id": "initial_id",
   "metadata": {
    "collapsed": true,
    "ExecuteTime": {
     "end_time": "2023-11-14T15:20:19.047861700Z",
     "start_time": "2023-11-14T15:20:19.036647300Z"
    }
   },
   "outputs": [],
   "source": [
    "import pandas as pd\n",
    "import numpy as np"
   ]
  },
  {
   "cell_type": "code",
   "execution_count": 2,
   "outputs": [
    {
     "name": "stderr",
     "output_type": "stream",
     "text": [
      "C:\\Users\\User\\AppData\\Local\\Temp\\ipykernel_3628\\3015418705.py:3: DtypeWarning: Columns (0,1,2,3,4,5,8,10,11,12,13,15,16,17,18,19,20,23,25,26,27,29,30,31,32) have mixed types. Specify dtype option on import or set low_memory=False.\n",
      "  beers_matched = pd.read_csv(\"dataset/MatchedData/beers.csv\")\n"
     ]
    }
   ],
   "source": [
    "beers_rb = pd.read_csv(\"dataset/RateBeer/beers.csv\")\n",
    "beers_ba = pd.read_csv(\"dataset/BeerAdvocate/beers.csv\")\n",
    "beers_matched = pd.read_csv(\"dataset/MatchedData/beers.csv\")"
   ],
   "metadata": {
    "collapsed": false,
    "ExecuteTime": {
     "end_time": "2023-11-14T15:20:20.833947300Z",
     "start_time": "2023-11-14T15:20:19.052821100Z"
    }
   },
   "id": "f434393123b0c09c"
  },
  {
   "cell_type": "code",
   "execution_count": 3,
   "outputs": [],
   "source": [
    "users_rb = pd.read_csv(\"dataset/RateBeer/users.csv\")\n",
    "users_ba = pd.read_csv(\"dataset/BeerAdvocate/users.csv\")\n",
    "users_matched = pd.read_csv(\"dataset/MatchedData/users.csv\")"
   ],
   "metadata": {
    "collapsed": false,
    "ExecuteTime": {
     "end_time": "2023-11-14T15:20:21.169006500Z",
     "start_time": "2023-11-14T15:20:20.839080100Z"
    }
   },
   "id": "3c22286c46677d8f"
  },
  {
   "cell_type": "code",
   "execution_count": 108,
   "outputs": [
    {
     "name": "stderr",
     "output_type": "stream",
     "text": [
      "C:\\Users\\User\\AppData\\Local\\Temp\\ipykernel_3628\\3451628320.py:3: DtypeWarning: Columns (0,1,2,3,5,7,8,9,10,11,13,17,18,19,20,22,24,25,26,27,29,31) have mixed types. Specify dtype option on import or set low_memory=False.\n",
      "  ratings_matched = pd.read_csv(\"dataset/MatchedData/ratings.csv\")\n"
     ]
    }
   ],
   "source": [
    "ratings_rb = pd.read_csv(\"dataset/RateBeer/ratings.csv\")\n",
    "ratings_ba = pd.read_csv(\"dataset/BeerAdvocate/ratings.csv\")\n",
    "ratings_matched = pd.read_csv(\"dataset/MatchedData/ratings.csv\")"
   ],
   "metadata": {
    "collapsed": false,
    "ExecuteTime": {
     "end_time": "2023-11-14T17:59:51.021791900Z",
     "start_time": "2023-11-14T17:56:58.078683100Z"
    }
   },
   "id": "a5ef51f08d503665"
  },
  {
   "cell_type": "code",
   "execution_count": 109,
   "outputs": [],
   "source": [
    "ratings_matched_copy = ratings_matched.copy()\n",
    "ratings_ba_copy = ratings_ba.copy()\n",
    "ratings_rb_copy = ratings_rb.copy()"
   ],
   "metadata": {
    "collapsed": false,
    "ExecuteTime": {
     "end_time": "2023-11-14T18:00:46.285354200Z",
     "start_time": "2023-11-14T18:00:25.003917400Z"
    }
   },
   "id": "6d883bb35a78486a"
  },
  {
   "cell_type": "code",
   "execution_count": 5,
   "outputs": [],
   "source": [
    "brewery_rb = pd.read_csv(\"dataset/RateBeer/breweries.csv\")\n",
    "brewery_ba = pd.read_csv(\"dataset/BeerAdvocate/breweries.csv\")\n",
    "brewery_matched = pd.read_csv(\"dataset/MatchedData/breweries.csv\")"
   ],
   "metadata": {
    "collapsed": false,
    "ExecuteTime": {
     "end_time": "2023-11-14T15:21:51.947317100Z",
     "start_time": "2023-11-14T15:21:51.862349800Z"
    }
   },
   "id": "32e836f966ded56f"
  },
  {
   "cell_type": "code",
   "execution_count": 6,
   "outputs": [],
   "source": [
    "# ID's of the beers should be unique after the merge operation. That's why we add 1000000 to\n",
    "# id's of the beer advocate beers.\n",
    "\n",
    "ba_id = beers_ba['beer_id'].values\n",
    "rb_id = beers_rb['beer_id'].values\n",
    "ba_id = ba_id + 1000000\n",
    "if np.intersect1d(ba_id, rb_id).size > 0:\n",
    "    print(np.intersect1d(ba_id, rb_id).size)\n",
    "    \n",
    "beers_ba['beer_id'] = beers_ba['beer_id'] + 1000000\n",
    "ratings_ba['beer_id'] = ratings_ba['beer_id'] + 1000000\n",
    "beers_matched['ba.5'][1:] = beers_matched['ba.5'][1:].astype(int) + 1000000\n",
    "beers_matched['rb.4'][1:] = beers_matched['rb.4'][1:].astype(int)\n",
    "\n",
    "ba_to_rb_beer_id_dict = dict(zip(beers_matched['ba.5'], beers_matched['rb.4']))"
   ],
   "metadata": {
    "collapsed": false,
    "ExecuteTime": {
     "end_time": "2023-11-14T15:21:52.162459200Z",
     "start_time": "2023-11-14T15:21:51.955269500Z"
    }
   },
   "id": "b1f2ce4373c6ff8c"
  },
  {
   "cell_type": "code",
   "execution_count": 7,
   "outputs": [],
   "source": [
    "# ID's of the breweries should be unique after the merge operation. That's why we add 1000000 to\n",
    "# id's of the beer advocate breweries.\n",
    "\n",
    "ba_id = brewery_ba['id'].values\n",
    "rb_id = brewery_rb['id'].values\n",
    "ba_id = ba_id + 1000000\n",
    "if np.intersect1d(ba_id, rb_id).size > 0:\n",
    "    print(np.intersect1d(ba_id, rb_id).size)\n",
    "\n",
    "brewery_ba['id'] = brewery_ba['id'] + 1000000\n",
    "beers_ba['brewery_id'] = beers_ba['brewery_id'] + 1000000\n",
    "ratings_ba['brewery_id'] = ratings_ba['brewery_id'] + 1000000\n",
    "brewery_matched['ba'][1:] = brewery_matched['ba'][1:].astype(int) + 1000000\n",
    "brewery_matched['rb'][1:] = brewery_matched['rb'][1:].astype(int)\n",
    "\n",
    "ba_to_rb_brewery_id_dict = dict(zip(brewery_matched['ba'], brewery_matched['rb']))"
   ],
   "metadata": {
    "collapsed": false,
    "ExecuteTime": {
     "end_time": "2023-11-14T15:21:52.271141100Z",
     "start_time": "2023-11-14T15:21:52.164455800Z"
    }
   },
   "id": "425e50b5920fab4b"
  },
  {
   "cell_type": "code",
   "execution_count": 127,
   "outputs": [],
   "source": [
    "ba_id = users_ba['user_id'].values\n",
    "rb_id = users_rb['user_id'].astype(str).values\n",
    "if np.intersect1d(ba_id, rb_id).size > 0:\n",
    "    print(np.intersect1d(ba_id, rb_id).size)\n",
    "    \n",
    "ba_to_rb_user_id_dict = dict(zip(users_matched['ba.4'], users_matched['rb.3']))"
   ],
   "metadata": {
    "collapsed": false,
    "ExecuteTime": {
     "end_time": "2023-11-14T18:11:50.235961700Z",
     "start_time": "2023-11-14T18:11:49.304460Z"
    }
   },
   "id": "e92dbeba7b321f37"
  },
  {
   "cell_type": "code",
   "execution_count": 9,
   "outputs": [],
   "source": [
    "matched_rb_beers = beers_matched['rb.12'].unique()\n",
    "all_rb_beers = beers_rb['style'].unique()\n",
    "\n",
    "elements_not_in_matched = [element for element in all_rb_beers if element not in matched_rb_beers]\n",
    "\n",
    "beers_rb = beers_rb[~beers_rb['style'].isin(elements_not_in_matched)]\n",
    "ratings_rb = ratings_rb[~ratings_rb['style'].isin(elements_not_in_matched)]"
   ],
   "metadata": {
    "collapsed": false,
    "ExecuteTime": {
     "end_time": "2023-11-14T15:21:53.008977300Z",
     "start_time": "2023-11-14T15:21:52.748519200Z"
    }
   },
   "id": "994ad78132e53f68"
  },
  {
   "cell_type": "code",
   "execution_count": 10,
   "outputs": [],
   "source": [
    "ba_to_rb = []\n",
    "for style_value in beers_matched['ba.14'].unique():\n",
    "    # Filter the DataFrame for rows where 'style_column1' matches the current value\n",
    "    filtered_rows = beers_matched[beers_matched['ba.14'] == style_value]\n",
    "    \n",
    "    # Find the most frequent match in 'style_column2'\n",
    "    most_frequent_match = filtered_rows['rb.12'].mode().iloc[0]\n",
    "    \n",
    "    # Count the occurrences of the most frequent match\n",
    "    match_count = filtered_rows[filtered_rows['rb.12'] == most_frequent_match].shape[0]\n",
    "    \n",
    "    # Append the results to the result DataFrame\n",
    "    # \n",
    "    ba_to_rb.append({'style_column1': style_value,\n",
    "                                  'most_frequent_match': most_frequent_match,\n",
    "                                  'match_count': match_count})\n",
    "ba_to_rb.pop(0)\n",
    "ba_to_rb_df = pd.DataFrame(ba_to_rb)"
   ],
   "metadata": {
    "collapsed": false,
    "ExecuteTime": {
     "end_time": "2023-11-14T15:21:53.577114400Z",
     "start_time": "2023-11-14T15:21:53.009973200Z"
    }
   },
   "id": "7a0ff370e25970b3"
  },
  {
   "cell_type": "code",
   "execution_count": 11,
   "outputs": [],
   "source": [
    "rb_to_ba_styles = ba_to_rb_df.most_frequent_match.unique()\n",
    "matched_rb_styles = beers_matched['rb.12'].unique()\n",
    "elements_not_in_ba = [element for element in matched_rb_styles if element not in rb_to_ba_styles]"
   ],
   "metadata": {
    "collapsed": false,
    "ExecuteTime": {
     "end_time": "2023-11-14T15:21:53.593336200Z",
     "start_time": "2023-11-14T15:21:53.581104500Z"
    }
   },
   "id": "f0603ef900b530e7"
  },
  {
   "cell_type": "code",
   "execution_count": 12,
   "outputs": [],
   "source": [
    "rb_to_ba_df = []\n",
    "for style_value in elements_not_in_ba:\n",
    "    # Filter the DataFrame for rows where 'style_column1' matches the current value\n",
    "    filtered_rows = beers_matched[beers_matched['rb.12'] == style_value]\n",
    "    \n",
    "    # Find the most frequent match in 'style_column2'\n",
    "    most_frequent_match = filtered_rows['ba.14'].mode().iloc[0]\n",
    "    \n",
    "    # Count the occurrences of the most frequent match\n",
    "    match_count = filtered_rows[filtered_rows['ba.14'] == most_frequent_match].shape[0]\n",
    "    \n",
    "    # Append the results to the result DataFrame\n",
    "    rb_to_ba_df.append({'style_column1': style_value,\n",
    "                                  'most_frequent_match': most_frequent_match,\n",
    "                                  'match_count': match_count})\n",
    "rb_to_ba_df = pd.DataFrame(rb_to_ba_df)"
   ],
   "metadata": {
    "collapsed": false,
    "ExecuteTime": {
     "end_time": "2023-11-14T15:21:53.654381400Z",
     "start_time": "2023-11-14T15:21:53.600536500Z"
    }
   },
   "id": "107882c51c50ca40"
  },
  {
   "cell_type": "code",
   "execution_count": 13,
   "outputs": [],
   "source": [
    "rb_to_ba_dict = dict(zip(rb_to_ba_df['style_column1'], rb_to_ba_df['most_frequent_match']))\n",
    "beers_matched['rb.12'] = beers_matched['rb.12'].replace(rb_to_ba_dict)\n",
    "beers_rb['style'] = beers_rb['style'].replace(rb_to_ba_dict)\n",
    "ratings_rb['style'] = ratings_rb['style'].replace(rb_to_ba_dict)"
   ],
   "metadata": {
    "collapsed": false,
    "ExecuteTime": {
     "end_time": "2023-11-14T15:21:56.724648Z",
     "start_time": "2023-11-14T15:21:53.655554100Z"
    }
   },
   "id": "159a4dd6278015e7"
  },
  {
   "cell_type": "code",
   "execution_count": 14,
   "outputs": [],
   "source": [
    "ba_to_rb_dict = dict(zip(ba_to_rb_df['style_column1'], ba_to_rb_df['most_frequent_match']))\n",
    "beers_ba['style'] = beers_ba['style'].replace(ba_to_rb_dict)\n",
    "beers_matched['rb.12'] = beers_matched['rb.12'].replace(ba_to_rb_dict)\n",
    "beers_rb['style'] = beers_rb['style'].replace(ba_to_rb_dict)\n",
    "ratings_rb['style'] = ratings_rb['style'].replace(ba_to_rb_dict)"
   ],
   "metadata": {
    "collapsed": false,
    "ExecuteTime": {
     "end_time": "2023-11-14T15:22:21.581093200Z",
     "start_time": "2023-11-14T15:21:56.730769100Z"
    }
   },
   "id": "88db5533dbfd3813"
  },
  {
   "cell_type": "code",
   "execution_count": 15,
   "outputs": [],
   "source": [
    "matched_rb_ids = beers_matched['rb.4'][1:]\n",
    "matched_ba_ids = beers_matched['ba.5'][1:]"
   ],
   "metadata": {
    "collapsed": false,
    "ExecuteTime": {
     "end_time": "2023-11-14T15:22:21.597366400Z",
     "start_time": "2023-11-14T15:22:21.585076400Z"
    }
   },
   "id": "a516e6c6976da5df"
  },
  {
   "cell_type": "code",
   "execution_count": 16,
   "outputs": [],
   "source": [
    "rb_without_matched = beers_rb[~beers_rb['beer_id'].isin(matched_rb_ids)]\n",
    "ba_without_matched = beers_ba[~beers_ba['beer_id'].isin(matched_ba_ids)]"
   ],
   "metadata": {
    "collapsed": false,
    "ExecuteTime": {
     "end_time": "2023-11-14T15:22:21.814100200Z",
     "start_time": "2023-11-14T15:22:21.598364100Z"
    }
   },
   "id": "946efe9e6ed43b2f"
  },
  {
   "cell_type": "code",
   "execution_count": 17,
   "outputs": [],
   "source": [
    "columns_to_take = ['beer_id', 'beer_name', 'brewery_id', 'brewery_name', 'style', 'abv']\n",
    "column_name_mapping = {'rb.4': 'beer_id', 'rb.5': 'beer_name', 'rb.7': 'brewery_id', 'rb.8': 'brewery_name', 'rb.12': 'style', 'rb': 'abv'}\n",
    "beers_matched.rename(columns = column_name_mapping, inplace = True)\n",
    "\n",
    "merged_beers = pd.concat([rb_without_matched[columns_to_take], ba_without_matched[columns_to_take]], axis=0, ignore_index = True)\n",
    "merged_beers = pd.concat([merged_beers, beers_matched.iloc[1:][columns_to_take]], axis=0, ignore_index = True)\n",
    "\n",
    "merged_beers.to_csv(\"dataset/MergedData/beers.csv\", index = False)\n"
   ],
   "metadata": {
    "collapsed": false,
    "ExecuteTime": {
     "end_time": "2023-11-14T15:22:23.859148800Z",
     "start_time": "2023-11-14T15:22:21.816254500Z"
    }
   },
   "id": "856a1992d2ddba7b"
  },
  {
   "cell_type": "code",
   "execution_count": 18,
   "outputs": [],
   "source": [
    "matched_ba_ids = brewery_matched['ba'][1:]\n",
    "ba_without_matched = brewery_ba[~brewery_ba['id'].isin(matched_ba_ids)]\n",
    "merged_breweries = pd.concat([brewery_rb, ba_without_matched], axis = 0, ignore_index = True)\n",
    "merged_breweries.to_csv(\"dataset/MergedData/breweries.csv\", index = False)"
   ],
   "metadata": {
    "collapsed": false,
    "ExecuteTime": {
     "end_time": "2023-11-14T15:22:23.950707400Z",
     "start_time": "2023-11-14T15:22:23.861135800Z"
    }
   },
   "id": "529ae795ab13f6cc"
  },
  {
   "cell_type": "code",
   "execution_count": 19,
   "outputs": [],
   "source": [
    "matched_ba_ids = users_matched['ba.4'][1:]\n",
    "ba_without_matched = users_ba[~users_ba['user_id'].isin(matched_ba_ids)]\n",
    "merged_users = pd.concat([users_rb, ba_without_matched], axis = 0, ignore_index = True)\n",
    "merged_users['user_id'] = merged_users['user_id'].astype(str)\n",
    "merged_users.to_csv(\"dataset/MergedData/users.csv\", index = False)"
   ],
   "metadata": {
    "collapsed": false,
    "ExecuteTime": {
     "end_time": "2023-11-14T15:22:24.650095Z",
     "start_time": "2023-11-14T15:22:23.954696600Z"
    }
   },
   "id": "2ea49d18ba1e4d8e"
  },
  {
   "cell_type": "code",
   "execution_count": 20,
   "outputs": [],
   "source": [
    "ratings_ba['style'] = ratings_ba['style'].replace(ba_to_rb_dict)\n",
    "ratings_ba['user_id'] = ratings_ba['user_id'].replace(ba_to_rb_user_id_dict)\n",
    "ratings_ba['beer_id'] = ratings_ba['beer_id'].replace(ba_to_rb_beer_id_dict)\n",
    "ratings_ba['brewery_id'] = ratings_ba['brewery_id'].replace(ba_to_rb_brewery_id_dict)"
   ],
   "metadata": {
    "collapsed": false,
    "ExecuteTime": {
     "end_time": "2023-11-14T16:31:13.059213600Z",
     "start_time": "2023-11-14T15:22:24.651093500Z"
    }
   },
   "id": "9794733fceb481f6"
  },
  {
   "cell_type": "code",
   "execution_count": 66,
   "outputs": [
    {
     "name": "stderr",
     "output_type": "stream",
     "text": [
      "C:\\Users\\User\\AppData\\Local\\Temp\\ipykernel_3628\\1304826571.py:3: SettingWithCopyWarning: \n",
      "A value is trying to be set on a copy of a slice from a DataFrame.\n",
      "Try using .loc[row_indexer,col_indexer] = value instead\n",
      "\n",
      "See the caveats in the documentation: https://pandas.pydata.org/pandas-docs/stable/user_guide/indexing.html#returning-a-view-versus-a-copy\n",
      "  ratings_matched['ba.7'] = ratings_matched['ba.7'].astype(np.int64)\n",
      "C:\\Users\\User\\AppData\\Local\\Temp\\ipykernel_3628\\1304826571.py:4: SettingWithCopyWarning: \n",
      "A value is trying to be set on a copy of a slice from a DataFrame.\n",
      "Try using .loc[row_indexer,col_indexer] = value instead\n",
      "\n",
      "See the caveats in the documentation: https://pandas.pydata.org/pandas-docs/stable/user_guide/indexing.html#returning-a-view-versus-a-copy\n",
      "  ratings_matched['ba.3'] = ratings_matched['ba.3'].astype(np.int64)\n",
      "C:\\Users\\User\\AppData\\Local\\Temp\\ipykernel_3628\\1304826571.py:6: SettingWithCopyWarning: \n",
      "A value is trying to be set on a copy of a slice from a DataFrame.\n",
      "Try using .loc[row_indexer,col_indexer] = value instead\n",
      "\n",
      "See the caveats in the documentation: https://pandas.pydata.org/pandas-docs/stable/user_guide/indexing.html#returning-a-view-versus-a-copy\n",
      "  ratings_matched['rb.7'] = ratings_matched['rb.7'].astype(np.int64)\n",
      "C:\\Users\\User\\AppData\\Local\\Temp\\ipykernel_3628\\1304826571.py:7: SettingWithCopyWarning: \n",
      "A value is trying to be set on a copy of a slice from a DataFrame.\n",
      "Try using .loc[row_indexer,col_indexer] = value instead\n",
      "\n",
      "See the caveats in the documentation: https://pandas.pydata.org/pandas-docs/stable/user_guide/indexing.html#returning-a-view-versus-a-copy\n",
      "  ratings_matched['rb.3'] = ratings_matched['rb.3'].astype(np.int64)\n",
      "C:\\Users\\User\\AppData\\Local\\Temp\\ipykernel_3628\\1304826571.py:35: SettingWithCopyWarning: \n",
      "A value is trying to be set on a copy of a slice from a DataFrame.\n",
      "Try using .loc[row_indexer,col_indexer] = value instead\n",
      "\n",
      "See the caveats in the documentation: https://pandas.pydata.org/pandas-docs/stable/user_guide/indexing.html#returning-a-view-versus-a-copy\n",
      "  df_rb_removed['website'] = 0\n"
     ]
    }
   ],
   "source": [
    "ratings_matched = ratings_matched.iloc[1:]\n",
    "\n",
    "ratings_matched['ba.15'] = ratings_matched['ba.15'].astype(str)\n",
    "ratings_matched['ba.7'] = ratings_matched['ba.7'].astype(np.int64)\n",
    "ratings_matched['ba.3'] = ratings_matched['ba.3'].astype(np.int64)\n",
    "\n",
    "ratings_matched['rb.14'] = ratings_matched['rb.14'].astype(str)\n",
    "ratings_matched['rb.7'] = ratings_matched['rb.7'].astype(np.int64)\n",
    "ratings_matched['rb.3'] = ratings_matched['rb.3'].astype(np.int64)\n",
    "\n",
    "# List of usernames present in both websites, using BA information\n",
    "\n",
    "listed_ba_user= list(ratings_matched['ba.15'])\n",
    "listed_ba_date = list(ratings_matched['ba.7'])\n",
    "listed_ba_beer = list(ratings_matched['ba.3'])\n",
    "\n",
    "# List of usernames present in both websites, using RB information\n",
    "\n",
    "listed_rb_user=list(ratings_matched['rb.14'])\n",
    "listed_rb_date = list(ratings_matched['rb.7'])\n",
    "listed_rb_beer = list(ratings_matched['rb.3'])\n",
    "\n",
    "# Create a tuple, to be able to compare the three corresponding columns to the right combination\n",
    "couple_ba=list(zip(listed_rb_user, listed_ba_date, listed_rb_beer))\n",
    "couple_rb=list(zip(listed_rb_user, listed_rb_date, listed_rb_beer))\n",
    "\n",
    "# Select only the rows that don't match the pairs for BA, drop review column and add new column to \n",
    "# indicate the website for z-score calculations\n",
    "ratings_ba['user_id'] = ratings_ba['user_id'].astype(str)\n",
    "ratings_ba['date'] = ratings_ba['date'].astype(np.int64)\n",
    "ratings_ba['beer_id'] = ratings_ba['beer_id'].astype(np.int64)\n",
    "df_ba_removed = ratings_ba[~ratings_ba.set_index(['user_id', 'date', 'beer_id']).index.isin(couple_ba)]\n",
    "df_ba_removed = df_ba_removed.drop('review', axis = 1)\n",
    "df_ba_removed['website'] = 1\n",
    "\n",
    "# Select only the rows that don't match the pairs for RB and add new column to \n",
    "# indicate the website for z-score calculations\n",
    "ratings_rb['user_id'] = ratings_rb['user_id'].astype(str)\n",
    "ratings_rb['date'] = ratings_rb['date'].astype(np.int64)\n",
    "ratings_rb['beer_id'] = ratings_rb['beer_id'].astype(np.int64)\n",
    "df_rb_removed = ratings_rb[~ratings_rb.set_index(['user_id', 'date', 'beer_id']).index.isin(couple_rb)]\n",
    "df_rb_removed['website'] = 0\n",
    "\n",
    "merged_ratings = pd.concat([df_ba_removed, df_rb_removed], axis = 0, ignore_index=True)\n",
    "\n",
    "merged_ratings.to_csv(\"dataset/MergedData/ratings.csv\", index = False)"
   ],
   "metadata": {
    "collapsed": false,
    "ExecuteTime": {
     "end_time": "2023-11-14T17:37:49.687601800Z",
     "start_time": "2023-11-14T17:32:56.289542900Z"
    }
   },
   "id": "2d9024eb80654814"
  },
  {
   "cell_type": "code",
   "execution_count": null,
   "outputs": [],
   "source": [],
   "metadata": {
    "collapsed": false
   },
   "id": "b14db6909a698bf2"
  }
 ],
 "metadata": {
  "kernelspec": {
   "display_name": "Python 3",
   "language": "python",
   "name": "python3"
  },
  "language_info": {
   "codemirror_mode": {
    "name": "ipython",
    "version": 2
   },
   "file_extension": ".py",
   "mimetype": "text/x-python",
   "name": "python",
   "nbconvert_exporter": "python",
   "pygments_lexer": "ipython2",
   "version": "2.7.6"
  }
 },
 "nbformat": 4,
 "nbformat_minor": 5
}
