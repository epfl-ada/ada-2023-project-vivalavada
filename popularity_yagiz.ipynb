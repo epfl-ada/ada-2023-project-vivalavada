{
 "cells": [
  {
   "cell_type": "code",
   "execution_count": 18,
   "id": "initial_id",
   "metadata": {
    "collapsed": true,
    "ExecuteTime": {
     "end_time": "2023-11-09T14:57:43.594675Z",
     "start_time": "2023-11-09T14:57:43.516355200Z"
    }
   },
   "outputs": [
    {
     "name": "stdout",
     "output_type": "stream",
     "text": [
      "The autoreload extension is already loaded. To reload it, use:\n",
      "  %reload_ext autoreload\n"
     ]
    }
   ],
   "source": [
    "import pandas as pd\n",
    "import datetime\n",
    "import pickle\n",
    "from helpers import *\n",
    "%load_ext autoreload\n",
    "%autoreload 2"
   ]
  },
  {
   "cell_type": "code",
   "execution_count": 11,
   "outputs": [],
   "source": [
    "with open(\"data\\RateBeer\\\\ratings_reviews.pickle\", \"rb\") as file:\n",
    "    ratings_reviews = pickle.load(file)"
   ],
   "metadata": {
    "collapsed": false,
    "ExecuteTime": {
     "end_time": "2023-11-09T14:51:08.875328500Z",
     "start_time": "2023-11-09T14:51:01.212045300Z"
    }
   },
   "id": "29d3fb9176567f70"
  },
  {
   "cell_type": "code",
   "execution_count": 12,
   "outputs": [
    {
     "data": {
      "text/plain": "                                             beer_name  beer_id  \\\n3162797                       Mammoth Double Nut Brown    10542   \n6349585  Bogotá Beer Company (BBC) Policarpa La Fuerte   103859   \n541404                    Toccalmatto Fumè du Sanglier   101137   \n3321897                     Social Kitchen SKB Pilsner   184789   \n3870591                                    Coors Light      707   \n3960225                         Left Hand Sawtooth Ale     6894   \n1495966                            Fosters Premium Ale    92787   \n1507868              Little Rivers European Dark Lager   304135   \n2251285                               Walhöll Valkyria   351611   \n202945                                 Molson Canadian      237   \n\n                                        brewery_name  brewery_id  \\\n3162797                      Mammoth Brewing Company        1931   \n6349585               Bogotá Beer Company (AB InBev)        5381   \n541404                        Birrificio Toccalmatto        9870   \n3321897                     Social Kitchen & Brewery       11543   \n3870591  Coors Brewing Company &#40;MillerCoors&#41;         113   \n3960225                    Left Hand Brewing Company          78   \n1495966                        Fosters Brewing (CUB)          38   \n1507868                Little Rivers Brewing Company       21571   \n2251285                             Walhöll Brygghus       23952   \n202945        Molson Breweries &#40;MolsonCoors&#41;          49   \n\n                      style  abv        date     user_name  user_id  \\\n3162797              Porter  5.5  1204887600      3fourths     6533   \n6349585  Belgian Strong Ale  8.0  1343383200         TBone    10233   \n541404               Smoked  6.0  1449918000       teorn88    81829   \n3321897            Pilsener  5.2  1408442400  slowrunner77    88036   \n3870591          Pale Lager  4.0  1036062000         Rhino     5934   \n3960225  Premium Bitter/ESB  5.3  1141815600      MoreHead    29211   \n1495966    English Pale Ale  5.5  1211277600  NJBeerman013     2207   \n1507868  Amber Lager/Vienna  4.5  1418641200        mkel07    82398   \n2251285   California Common  5.5  1438768800      Nisse666    95853   \n202945           Pale Lager  5.0  1331722800      edgallow   133209   \n\n         appearance  aroma  palate  taste  overall  rating  \\\n3162797           3      6       3      6       13     3.1   \n6349585           2      5       3      6       12     2.8   \n541404            3      6       3      7       15     3.4   \n3321897           3      7       3      7       12     3.2   \n3870591           1      2       1      3        4     1.1   \n3960225           3      6       4      7       13     3.3   \n1495966           4      4       2      3        7     2.0   \n1507868           3      6       3      7       15     3.4   \n2251285           3      5       4      6       13     3.1   \n202945            2      3       3      3        5     1.6   \n\n                                                      text  \n3162797  12oz bottle.  Strange nutty bran and dog food ...  \n6349585  Bottled 330ml (PBF, BB 01/2012)Clear golden co...  \n541404   Backlog rating. 75cl bottle from Grand Cru, Ri...  \n3321897  \"A by the books pilsner, which is both good an...  \n3870591  This beer is bad.  The only people that drink ...  \n3960225  poured a clear dark amber with average head an...  \n1495966  Oil Can.  Pours a decent shade of copper with ...  \n1507868  Bottle from Cellarbratins Sandy Bay 151214. Th...  \n2251285  Bottle from web SB cons 2015-08-05 GÃ¶teborg, ...  \n202945   12 oz bottle pours golden with a white head.  ...  ",
      "text/html": "<div>\n<style scoped>\n    .dataframe tbody tr th:only-of-type {\n        vertical-align: middle;\n    }\n\n    .dataframe tbody tr th {\n        vertical-align: top;\n    }\n\n    .dataframe thead th {\n        text-align: right;\n    }\n</style>\n<table border=\"1\" class=\"dataframe\">\n  <thead>\n    <tr style=\"text-align: right;\">\n      <th></th>\n      <th>beer_name</th>\n      <th>beer_id</th>\n      <th>brewery_name</th>\n      <th>brewery_id</th>\n      <th>style</th>\n      <th>abv</th>\n      <th>date</th>\n      <th>user_name</th>\n      <th>user_id</th>\n      <th>appearance</th>\n      <th>aroma</th>\n      <th>palate</th>\n      <th>taste</th>\n      <th>overall</th>\n      <th>rating</th>\n      <th>text</th>\n    </tr>\n  </thead>\n  <tbody>\n    <tr>\n      <th>3162797</th>\n      <td>Mammoth Double Nut Brown</td>\n      <td>10542</td>\n      <td>Mammoth Brewing Company</td>\n      <td>1931</td>\n      <td>Porter</td>\n      <td>5.5</td>\n      <td>1204887600</td>\n      <td>3fourths</td>\n      <td>6533</td>\n      <td>3</td>\n      <td>6</td>\n      <td>3</td>\n      <td>6</td>\n      <td>13</td>\n      <td>3.1</td>\n      <td>12oz bottle.  Strange nutty bran and dog food ...</td>\n    </tr>\n    <tr>\n      <th>6349585</th>\n      <td>Bogotá Beer Company (BBC) Policarpa La Fuerte</td>\n      <td>103859</td>\n      <td>Bogotá Beer Company (AB InBev)</td>\n      <td>5381</td>\n      <td>Belgian Strong Ale</td>\n      <td>8.0</td>\n      <td>1343383200</td>\n      <td>TBone</td>\n      <td>10233</td>\n      <td>2</td>\n      <td>5</td>\n      <td>3</td>\n      <td>6</td>\n      <td>12</td>\n      <td>2.8</td>\n      <td>Bottled 330ml (PBF, BB 01/2012)Clear golden co...</td>\n    </tr>\n    <tr>\n      <th>541404</th>\n      <td>Toccalmatto Fumè du Sanglier</td>\n      <td>101137</td>\n      <td>Birrificio Toccalmatto</td>\n      <td>9870</td>\n      <td>Smoked</td>\n      <td>6.0</td>\n      <td>1449918000</td>\n      <td>teorn88</td>\n      <td>81829</td>\n      <td>3</td>\n      <td>6</td>\n      <td>3</td>\n      <td>7</td>\n      <td>15</td>\n      <td>3.4</td>\n      <td>Backlog rating. 75cl bottle from Grand Cru, Ri...</td>\n    </tr>\n    <tr>\n      <th>3321897</th>\n      <td>Social Kitchen SKB Pilsner</td>\n      <td>184789</td>\n      <td>Social Kitchen &amp; Brewery</td>\n      <td>11543</td>\n      <td>Pilsener</td>\n      <td>5.2</td>\n      <td>1408442400</td>\n      <td>slowrunner77</td>\n      <td>88036</td>\n      <td>3</td>\n      <td>7</td>\n      <td>3</td>\n      <td>7</td>\n      <td>12</td>\n      <td>3.2</td>\n      <td>\"A by the books pilsner, which is both good an...</td>\n    </tr>\n    <tr>\n      <th>3870591</th>\n      <td>Coors Light</td>\n      <td>707</td>\n      <td>Coors Brewing Company &amp;#40;MillerCoors&amp;#41;</td>\n      <td>113</td>\n      <td>Pale Lager</td>\n      <td>4.0</td>\n      <td>1036062000</td>\n      <td>Rhino</td>\n      <td>5934</td>\n      <td>1</td>\n      <td>2</td>\n      <td>1</td>\n      <td>3</td>\n      <td>4</td>\n      <td>1.1</td>\n      <td>This beer is bad.  The only people that drink ...</td>\n    </tr>\n    <tr>\n      <th>3960225</th>\n      <td>Left Hand Sawtooth Ale</td>\n      <td>6894</td>\n      <td>Left Hand Brewing Company</td>\n      <td>78</td>\n      <td>Premium Bitter/ESB</td>\n      <td>5.3</td>\n      <td>1141815600</td>\n      <td>MoreHead</td>\n      <td>29211</td>\n      <td>3</td>\n      <td>6</td>\n      <td>4</td>\n      <td>7</td>\n      <td>13</td>\n      <td>3.3</td>\n      <td>poured a clear dark amber with average head an...</td>\n    </tr>\n    <tr>\n      <th>1495966</th>\n      <td>Fosters Premium Ale</td>\n      <td>92787</td>\n      <td>Fosters Brewing (CUB)</td>\n      <td>38</td>\n      <td>English Pale Ale</td>\n      <td>5.5</td>\n      <td>1211277600</td>\n      <td>NJBeerman013</td>\n      <td>2207</td>\n      <td>4</td>\n      <td>4</td>\n      <td>2</td>\n      <td>3</td>\n      <td>7</td>\n      <td>2.0</td>\n      <td>Oil Can.  Pours a decent shade of copper with ...</td>\n    </tr>\n    <tr>\n      <th>1507868</th>\n      <td>Little Rivers European Dark Lager</td>\n      <td>304135</td>\n      <td>Little Rivers Brewing Company</td>\n      <td>21571</td>\n      <td>Amber Lager/Vienna</td>\n      <td>4.5</td>\n      <td>1418641200</td>\n      <td>mkel07</td>\n      <td>82398</td>\n      <td>3</td>\n      <td>6</td>\n      <td>3</td>\n      <td>7</td>\n      <td>15</td>\n      <td>3.4</td>\n      <td>Bottle from Cellarbratins Sandy Bay 151214. Th...</td>\n    </tr>\n    <tr>\n      <th>2251285</th>\n      <td>Walhöll Valkyria</td>\n      <td>351611</td>\n      <td>Walhöll Brygghus</td>\n      <td>23952</td>\n      <td>California Common</td>\n      <td>5.5</td>\n      <td>1438768800</td>\n      <td>Nisse666</td>\n      <td>95853</td>\n      <td>3</td>\n      <td>5</td>\n      <td>4</td>\n      <td>6</td>\n      <td>13</td>\n      <td>3.1</td>\n      <td>Bottle from web SB cons 2015-08-05 GÃ¶teborg, ...</td>\n    </tr>\n    <tr>\n      <th>202945</th>\n      <td>Molson Canadian</td>\n      <td>237</td>\n      <td>Molson Breweries &amp;#40;MolsonCoors&amp;#41;</td>\n      <td>49</td>\n      <td>Pale Lager</td>\n      <td>5.0</td>\n      <td>1331722800</td>\n      <td>edgallow</td>\n      <td>133209</td>\n      <td>2</td>\n      <td>3</td>\n      <td>3</td>\n      <td>3</td>\n      <td>5</td>\n      <td>1.6</td>\n      <td>12 oz bottle pours golden with a white head.  ...</td>\n    </tr>\n  </tbody>\n</table>\n</div>"
     },
     "execution_count": 12,
     "metadata": {},
     "output_type": "execute_result"
    }
   ],
   "source": [
    "ratings_reviews.sample(10)"
   ],
   "metadata": {
    "collapsed": false,
    "ExecuteTime": {
     "end_time": "2023-11-09T14:51:13.025124400Z",
     "start_time": "2023-11-09T14:51:12.557169Z"
    }
   },
   "id": "38a4e9575ad59cca"
  },
  {
   "cell_type": "code",
   "execution_count": 19,
   "outputs": [],
   "source": [
    "converted_dates = ratings_reviews.sample(10)['date'].apply(convert_unix_timestamp)"
   ],
   "metadata": {
    "collapsed": false,
    "ExecuteTime": {
     "end_time": "2023-11-09T14:57:47.323812500Z",
     "start_time": "2023-11-09T14:57:46.854158200Z"
    }
   },
   "id": "ed40bdef7812f9e"
  },
  {
   "cell_type": "code",
   "execution_count": 20,
   "outputs": [
    {
     "data": {
      "text/plain": "2194262   2017-04-20 10:00:00\n1552957   2016-05-01 10:00:00\n778950    2011-08-08 10:00:00\n3635616   2009-08-19 10:00:00\n4784676   2013-06-01 10:00:00\n470759    2004-08-12 10:00:00\n4827283   2008-05-18 10:00:00\n100273    2015-05-15 10:00:00\n1376259   2010-01-15 11:00:00\n1321953   2015-07-31 10:00:00\nName: date, dtype: datetime64[ns]"
     },
     "execution_count": 20,
     "metadata": {},
     "output_type": "execute_result"
    }
   ],
   "source": [
    "converted_dates"
   ],
   "metadata": {
    "collapsed": false,
    "ExecuteTime": {
     "end_time": "2023-11-09T14:57:53.148421900Z",
     "start_time": "2023-11-09T14:57:53.070282600Z"
    }
   },
   "id": "11efa242407f1ebc"
  }
 ],
 "metadata": {
  "kernelspec": {
   "display_name": "Python 3",
   "language": "python",
   "name": "python3"
  },
  "language_info": {
   "codemirror_mode": {
    "name": "ipython",
    "version": 2
   },
   "file_extension": ".py",
   "mimetype": "text/x-python",
   "name": "python",
   "nbconvert_exporter": "python",
   "pygments_lexer": "ipython2",
   "version": "2.7.6"
  }
 },
 "nbformat": 4,
 "nbformat_minor": 5
}
