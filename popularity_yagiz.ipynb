{
 "cells": [
  {
   "cell_type": "code",
   "execution_count": 46,
   "id": "initial_id",
   "metadata": {
    "collapsed": true,
    "ExecuteTime": {
     "end_time": "2023-11-09T15:31:12.761185500Z",
     "start_time": "2023-11-09T15:31:11.935165800Z"
    }
   },
   "outputs": [
    {
     "name": "stdout",
     "output_type": "stream",
     "text": [
      "The autoreload extension is already loaded. To reload it, use:\n",
      "  %reload_ext autoreload\n"
     ]
    }
   ],
   "source": [
    "import pandas as pd\n",
    "import datetime\n",
    "import matplotlib.pyplot as plt\n",
    "import pickle\n",
    "from helpers import *\n",
    "%load_ext autoreload\n",
    "%autoreload 2\n"
   ]
  },
  {
   "cell_type": "code",
   "execution_count": 11,
   "outputs": [],
   "source": [
    "users = pd.read_csv(\"data\\RateBeer\\\\users.csv\")\n",
    "with open(\"data\\RateBeer\\\\ratings_reviews.pickle\", \"rb\") as file:\n",
    "    ratings_reviews = pickle.load(file)"
   ],
   "metadata": {
    "collapsed": false,
    "ExecuteTime": {
     "end_time": "2023-11-09T14:51:08.875328500Z",
     "start_time": "2023-11-09T14:51:01.212045300Z"
    }
   },
   "id": "29d3fb9176567f70"
  },
  {
   "cell_type": "code",
   "execution_count": 21,
   "outputs": [],
   "source": [
    "ratings_reviews['date'] = ratings_reviews['date'].apply(convert_unix_timestamp)"
   ],
   "metadata": {
    "collapsed": false,
    "ExecuteTime": {
     "end_time": "2023-11-09T15:01:49.633969Z",
     "start_time": "2023-11-09T15:01:43.428057800Z"
    }
   },
   "id": "ed40bdef7812f9e"
  },
  {
   "cell_type": "code",
   "execution_count": 31,
   "outputs": [],
   "source": [
    "year_list = [2010, 2011, 2012]\n",
    "year_filter = ratings_reviews['date'].dt.year.isin(year_list)\n",
    "ratings_reviews_2010_2012 = ratings_reviews.loc[year_filter]"
   ],
   "metadata": {
    "collapsed": false,
    "ExecuteTime": {
     "end_time": "2023-11-09T15:12:04.385421600Z",
     "start_time": "2023-11-09T15:12:03.478750500Z"
    }
   },
   "id": "fe57b3b7f27e6897"
  },
  {
   "cell_type": "code",
   "execution_count": 37,
   "outputs": [
    {
     "data": {
      "text/plain": "                              beer_name  beer_id              brewery_name  \\\n5627919  Caledonian Deuchars IPA (Cask)    44837  Caledonian (Heineken UK)   \n3665044          Ellicottville Pale Ale   122234     Ellicottville Brewing   \n\n         brewery_id              style  abv                date user_name  \\\n5627919         168             Bitter  3.8 2012-10-09 10:00:00  Splitenz   \n3665044        1952  American Pale Ale  5.5 2011-07-20 10:00:00  crhensel   \n\n         user_id  appearance  aroma  palate  taste  overall  rating  \\\n5627919   155015           4      7       4      7       16     3.8   \n3665044    95371           3      6       3      6       14     3.2   \n\n                                                      text  \n5627919  Ah, my dear gateway IPA. I had this several ti...  \n3665044  Bottle into pint glass (5/24/10)Poured a clear...  ",
      "text/html": "<div>\n<style scoped>\n    .dataframe tbody tr th:only-of-type {\n        vertical-align: middle;\n    }\n\n    .dataframe tbody tr th {\n        vertical-align: top;\n    }\n\n    .dataframe thead th {\n        text-align: right;\n    }\n</style>\n<table border=\"1\" class=\"dataframe\">\n  <thead>\n    <tr style=\"text-align: right;\">\n      <th></th>\n      <th>beer_name</th>\n      <th>beer_id</th>\n      <th>brewery_name</th>\n      <th>brewery_id</th>\n      <th>style</th>\n      <th>abv</th>\n      <th>date</th>\n      <th>user_name</th>\n      <th>user_id</th>\n      <th>appearance</th>\n      <th>aroma</th>\n      <th>palate</th>\n      <th>taste</th>\n      <th>overall</th>\n      <th>rating</th>\n      <th>text</th>\n    </tr>\n  </thead>\n  <tbody>\n    <tr>\n      <th>5627919</th>\n      <td>Caledonian Deuchars IPA (Cask)</td>\n      <td>44837</td>\n      <td>Caledonian (Heineken UK)</td>\n      <td>168</td>\n      <td>Bitter</td>\n      <td>3.8</td>\n      <td>2012-10-09 10:00:00</td>\n      <td>Splitenz</td>\n      <td>155015</td>\n      <td>4</td>\n      <td>7</td>\n      <td>4</td>\n      <td>7</td>\n      <td>16</td>\n      <td>3.8</td>\n      <td>Ah, my dear gateway IPA. I had this several ti...</td>\n    </tr>\n    <tr>\n      <th>3665044</th>\n      <td>Ellicottville Pale Ale</td>\n      <td>122234</td>\n      <td>Ellicottville Brewing</td>\n      <td>1952</td>\n      <td>American Pale Ale</td>\n      <td>5.5</td>\n      <td>2011-07-20 10:00:00</td>\n      <td>crhensel</td>\n      <td>95371</td>\n      <td>3</td>\n      <td>6</td>\n      <td>3</td>\n      <td>6</td>\n      <td>14</td>\n      <td>3.2</td>\n      <td>Bottle into pint glass (5/24/10)Poured a clear...</td>\n    </tr>\n  </tbody>\n</table>\n</div>"
     },
     "execution_count": 37,
     "metadata": {},
     "output_type": "execute_result"
    }
   ],
   "source": [
    "ratings_reviews_2010_2012.sample(2)"
   ],
   "metadata": {
    "collapsed": false,
    "ExecuteTime": {
     "end_time": "2023-11-09T15:18:02.356279600Z",
     "start_time": "2023-11-09T15:18:02.255804600Z"
    }
   },
   "id": "76c884f5ef4c931a"
  },
  {
   "cell_type": "code",
   "execution_count": 38,
   "outputs": [
    {
     "data": {
      "text/plain": "       nbr_ratings  user_id      user_name        joined location\n8879            64   159307  Janek_Poducha  1.329822e+09   Poland\n38595           48    99084        swong17  1.261480e+09      NaN",
      "text/html": "<div>\n<style scoped>\n    .dataframe tbody tr th:only-of-type {\n        vertical-align: middle;\n    }\n\n    .dataframe tbody tr th {\n        vertical-align: top;\n    }\n\n    .dataframe thead th {\n        text-align: right;\n    }\n</style>\n<table border=\"1\" class=\"dataframe\">\n  <thead>\n    <tr style=\"text-align: right;\">\n      <th></th>\n      <th>nbr_ratings</th>\n      <th>user_id</th>\n      <th>user_name</th>\n      <th>joined</th>\n      <th>location</th>\n    </tr>\n  </thead>\n  <tbody>\n    <tr>\n      <th>8879</th>\n      <td>64</td>\n      <td>159307</td>\n      <td>Janek_Poducha</td>\n      <td>1.329822e+09</td>\n      <td>Poland</td>\n    </tr>\n    <tr>\n      <th>38595</th>\n      <td>48</td>\n      <td>99084</td>\n      <td>swong17</td>\n      <td>1.261480e+09</td>\n      <td>NaN</td>\n    </tr>\n  </tbody>\n</table>\n</div>"
     },
     "execution_count": 38,
     "metadata": {},
     "output_type": "execute_result"
    }
   ],
   "source": [
    "users.sample(2)"
   ],
   "metadata": {
    "collapsed": false,
    "ExecuteTime": {
     "end_time": "2023-11-09T15:18:04.273425800Z",
     "start_time": "2023-11-09T15:18:04.195145900Z"
    }
   },
   "id": "d8afd9d5088cc3ff"
  },
  {
   "cell_type": "code",
   "execution_count": 40,
   "outputs": [],
   "source": [
    "ratings_reviews_2010_2012 = pd.merge(ratings_reviews_2010_2012, users[['user_id', 'nbr_ratings', 'location']], on = 'user_id', how = 'inner')"
   ],
   "metadata": {
    "collapsed": false,
    "ExecuteTime": {
     "end_time": "2023-11-09T15:28:49.471431Z",
     "start_time": "2023-11-09T15:28:48.192431700Z"
    }
   },
   "id": "5bbc36e87b8999ed"
  },
  {
   "cell_type": "code",
   "execution_count": 41,
   "outputs": [
    {
     "data": {
      "text/plain": "                                         beer_name  beer_id  \\\n0                                            Régab    19445   \n1            Clanconnel #4 McGraths Irish Red Ale   130301   \n2        Clanconnel #6 McGraths Irish Black Stout   132596   \n3                    Hilden Cathedral Quarter Beer   130299   \n4                         Whitewater Belfast Black   123611   \n...                                            ...      ...   \n1436910                Londoner Pride Cream Bitter    16781   \n1436911                                 Chang Beer    59123   \n1436912                                 Chang Beer    59123   \n1436913                            Chang Beer 6.4%     2245   \n1436914                               Chang Export   166447   \n\n              brewery_name  brewery_id                            style  abv  \\\n0                  Sobraga        3198                       Pale Lager  4.5   \n1               Clanconnel       12090                        Irish Ale  4.3   \n2               Clanconnel       12090                        Dry Stout  4.3   \n3                   Hilden        2099                        Irish Ale  5.3   \n4               Whitewater        4347                        Dry Stout  4.5   \n...                    ...         ...                              ...  ...   \n1436910  Londoner Brew Pub        2846               Premium Bitter/ESB  5.0   \n1436911     Thai Beverages         391                       Pale Lager  5.0   \n1436912     Thai Beverages         391                       Pale Lager  5.0   \n1436913     Thai Beverages         391  Imperial Pils/Strong Pale Lager  6.4   \n1436914     Thai Beverages         391                       Pale Lager  5.0   \n\n                       date    user_name  user_id  appearance  aroma  palate  \\\n0       2012-11-12 11:00:00      fonefan    38926           2      3       2   \n1       2011-11-24 11:00:00      fonefan    38926           4      6       3   \n2       2011-08-19 10:00:00      fonefan    38926           2      7       3   \n3       2011-11-16 11:00:00      fonefan    38926           3      6       3   \n4       2011-11-27 11:00:00      fonefan    38926           4      6       3   \n...                     ...          ...      ...         ...    ...     ...   \n1436910 2011-12-20 11:00:00      Delikat    51723           1      2       1   \n1436911 2012-06-16 10:00:00      HaraldS   181614           3      6       3   \n1436912 2010-07-21 10:00:00        Baldo   110300           5      6       4   \n1436913 2011-09-05 10:00:00  stamfordbus   134893           4      9       5   \n1436914 2012-06-16 10:00:00       junkin   183139           5      8       5   \n\n         taste  overall  rating  \\\n0            4        7     1.8   \n1            7       14     3.4   \n2            7       15     3.4   \n3            7       14     3.3   \n4            6       12     3.1   \n...        ...      ...     ...   \n1436910      3        5     1.2   \n1436911      7       12     3.1   \n1436912      9       16     4.0   \n1436913      9       20     4.7   \n1436914     10       20     4.8   \n\n                                                      text  nbr_ratings  \\\n0        Bottle. [ As my country rating # 134 on ratebe...        46749   \n1        Bottle 500ml.Clear medium to dark red amber co...        46749   \n2        Cask (handpump) @ GBBF 2011, Great British Bee...        46749   \n3        Bottle 500ml.Clear medium amber colour with a ...        46749   \n4        Bottle 500ml.Clear medium to dark red brown co...        46749   \n...                                                    ...          ...   \n1436910  Muddy brown/red color. Somewhat transparent be...            1   \n1436911  Was eating some strong sushi with lots of wasa...            1   \n1436912  floral, citrus, golden, sparkling, white foam,...            1   \n1436913  Best beer in Thailand for price and taste, sha...            1   \n1436914  I really really love this Thailand local beer....            1   \n\n        location  \n0        Denmark  \n1        Denmark  \n2        Denmark  \n3        Denmark  \n4        Denmark  \n...          ...  \n1436910   Sweden  \n1436911   Norway  \n1436912      NaN  \n1436913  England  \n1436914      NaN  \n\n[1436915 rows x 18 columns]",
      "text/html": "<div>\n<style scoped>\n    .dataframe tbody tr th:only-of-type {\n        vertical-align: middle;\n    }\n\n    .dataframe tbody tr th {\n        vertical-align: top;\n    }\n\n    .dataframe thead th {\n        text-align: right;\n    }\n</style>\n<table border=\"1\" class=\"dataframe\">\n  <thead>\n    <tr style=\"text-align: right;\">\n      <th></th>\n      <th>beer_name</th>\n      <th>beer_id</th>\n      <th>brewery_name</th>\n      <th>brewery_id</th>\n      <th>style</th>\n      <th>abv</th>\n      <th>date</th>\n      <th>user_name</th>\n      <th>user_id</th>\n      <th>appearance</th>\n      <th>aroma</th>\n      <th>palate</th>\n      <th>taste</th>\n      <th>overall</th>\n      <th>rating</th>\n      <th>text</th>\n      <th>nbr_ratings</th>\n      <th>location</th>\n    </tr>\n  </thead>\n  <tbody>\n    <tr>\n      <th>0</th>\n      <td>Régab</td>\n      <td>19445</td>\n      <td>Sobraga</td>\n      <td>3198</td>\n      <td>Pale Lager</td>\n      <td>4.5</td>\n      <td>2012-11-12 11:00:00</td>\n      <td>fonefan</td>\n      <td>38926</td>\n      <td>2</td>\n      <td>3</td>\n      <td>2</td>\n      <td>4</td>\n      <td>7</td>\n      <td>1.8</td>\n      <td>Bottle. [ As my country rating # 134 on ratebe...</td>\n      <td>46749</td>\n      <td>Denmark</td>\n    </tr>\n    <tr>\n      <th>1</th>\n      <td>Clanconnel #4 McGraths Irish Red Ale</td>\n      <td>130301</td>\n      <td>Clanconnel</td>\n      <td>12090</td>\n      <td>Irish Ale</td>\n      <td>4.3</td>\n      <td>2011-11-24 11:00:00</td>\n      <td>fonefan</td>\n      <td>38926</td>\n      <td>4</td>\n      <td>6</td>\n      <td>3</td>\n      <td>7</td>\n      <td>14</td>\n      <td>3.4</td>\n      <td>Bottle 500ml.Clear medium to dark red amber co...</td>\n      <td>46749</td>\n      <td>Denmark</td>\n    </tr>\n    <tr>\n      <th>2</th>\n      <td>Clanconnel #6 McGraths Irish Black Stout</td>\n      <td>132596</td>\n      <td>Clanconnel</td>\n      <td>12090</td>\n      <td>Dry Stout</td>\n      <td>4.3</td>\n      <td>2011-08-19 10:00:00</td>\n      <td>fonefan</td>\n      <td>38926</td>\n      <td>2</td>\n      <td>7</td>\n      <td>3</td>\n      <td>7</td>\n      <td>15</td>\n      <td>3.4</td>\n      <td>Cask (handpump) @ GBBF 2011, Great British Bee...</td>\n      <td>46749</td>\n      <td>Denmark</td>\n    </tr>\n    <tr>\n      <th>3</th>\n      <td>Hilden Cathedral Quarter Beer</td>\n      <td>130299</td>\n      <td>Hilden</td>\n      <td>2099</td>\n      <td>Irish Ale</td>\n      <td>5.3</td>\n      <td>2011-11-16 11:00:00</td>\n      <td>fonefan</td>\n      <td>38926</td>\n      <td>3</td>\n      <td>6</td>\n      <td>3</td>\n      <td>7</td>\n      <td>14</td>\n      <td>3.3</td>\n      <td>Bottle 500ml.Clear medium amber colour with a ...</td>\n      <td>46749</td>\n      <td>Denmark</td>\n    </tr>\n    <tr>\n      <th>4</th>\n      <td>Whitewater Belfast Black</td>\n      <td>123611</td>\n      <td>Whitewater</td>\n      <td>4347</td>\n      <td>Dry Stout</td>\n      <td>4.5</td>\n      <td>2011-11-27 11:00:00</td>\n      <td>fonefan</td>\n      <td>38926</td>\n      <td>4</td>\n      <td>6</td>\n      <td>3</td>\n      <td>6</td>\n      <td>12</td>\n      <td>3.1</td>\n      <td>Bottle 500ml.Clear medium to dark red brown co...</td>\n      <td>46749</td>\n      <td>Denmark</td>\n    </tr>\n    <tr>\n      <th>...</th>\n      <td>...</td>\n      <td>...</td>\n      <td>...</td>\n      <td>...</td>\n      <td>...</td>\n      <td>...</td>\n      <td>...</td>\n      <td>...</td>\n      <td>...</td>\n      <td>...</td>\n      <td>...</td>\n      <td>...</td>\n      <td>...</td>\n      <td>...</td>\n      <td>...</td>\n      <td>...</td>\n      <td>...</td>\n      <td>...</td>\n    </tr>\n    <tr>\n      <th>1436910</th>\n      <td>Londoner Pride Cream Bitter</td>\n      <td>16781</td>\n      <td>Londoner Brew Pub</td>\n      <td>2846</td>\n      <td>Premium Bitter/ESB</td>\n      <td>5.0</td>\n      <td>2011-12-20 11:00:00</td>\n      <td>Delikat</td>\n      <td>51723</td>\n      <td>1</td>\n      <td>2</td>\n      <td>1</td>\n      <td>3</td>\n      <td>5</td>\n      <td>1.2</td>\n      <td>Muddy brown/red color. Somewhat transparent be...</td>\n      <td>1</td>\n      <td>Sweden</td>\n    </tr>\n    <tr>\n      <th>1436911</th>\n      <td>Chang Beer</td>\n      <td>59123</td>\n      <td>Thai Beverages</td>\n      <td>391</td>\n      <td>Pale Lager</td>\n      <td>5.0</td>\n      <td>2012-06-16 10:00:00</td>\n      <td>HaraldS</td>\n      <td>181614</td>\n      <td>3</td>\n      <td>6</td>\n      <td>3</td>\n      <td>7</td>\n      <td>12</td>\n      <td>3.1</td>\n      <td>Was eating some strong sushi with lots of wasa...</td>\n      <td>1</td>\n      <td>Norway</td>\n    </tr>\n    <tr>\n      <th>1436912</th>\n      <td>Chang Beer</td>\n      <td>59123</td>\n      <td>Thai Beverages</td>\n      <td>391</td>\n      <td>Pale Lager</td>\n      <td>5.0</td>\n      <td>2010-07-21 10:00:00</td>\n      <td>Baldo</td>\n      <td>110300</td>\n      <td>5</td>\n      <td>6</td>\n      <td>4</td>\n      <td>9</td>\n      <td>16</td>\n      <td>4.0</td>\n      <td>floral, citrus, golden, sparkling, white foam,...</td>\n      <td>1</td>\n      <td>NaN</td>\n    </tr>\n    <tr>\n      <th>1436913</th>\n      <td>Chang Beer 6.4%</td>\n      <td>2245</td>\n      <td>Thai Beverages</td>\n      <td>391</td>\n      <td>Imperial Pils/Strong Pale Lager</td>\n      <td>6.4</td>\n      <td>2011-09-05 10:00:00</td>\n      <td>stamfordbus</td>\n      <td>134893</td>\n      <td>4</td>\n      <td>9</td>\n      <td>5</td>\n      <td>9</td>\n      <td>20</td>\n      <td>4.7</td>\n      <td>Best beer in Thailand for price and taste, sha...</td>\n      <td>1</td>\n      <td>England</td>\n    </tr>\n    <tr>\n      <th>1436914</th>\n      <td>Chang Export</td>\n      <td>166447</td>\n      <td>Thai Beverages</td>\n      <td>391</td>\n      <td>Pale Lager</td>\n      <td>5.0</td>\n      <td>2012-06-16 10:00:00</td>\n      <td>junkin</td>\n      <td>183139</td>\n      <td>5</td>\n      <td>8</td>\n      <td>5</td>\n      <td>10</td>\n      <td>20</td>\n      <td>4.8</td>\n      <td>I really really love this Thailand local beer....</td>\n      <td>1</td>\n      <td>NaN</td>\n    </tr>\n  </tbody>\n</table>\n<p>1436915 rows × 18 columns</p>\n</div>"
     },
     "execution_count": 41,
     "metadata": {},
     "output_type": "execute_result"
    }
   ],
   "source": [
    "ratings_reviews_2010_2012"
   ],
   "metadata": {
    "collapsed": false,
    "ExecuteTime": {
     "end_time": "2023-11-09T15:28:54.308597700Z",
     "start_time": "2023-11-09T15:28:54.199227600Z"
    }
   },
   "id": "d5a71213e97fc8e4"
  },
  {
   "cell_type": "code",
   "execution_count": 51,
   "outputs": [
    {
     "data": {
      "text/plain": "<Figure size 640x480 with 1 Axes>",
      "image/png": "[encoded data removed]"
     },
     "metadata": {},
     "output_type": "display_data"
    }
   ],
   "source": [
    "plt.hist(ratings_reviews_2010_2012['nbr_ratings'].unique(), 50)\n",
    "plt.yscale('log')"
   ],
   "metadata": {
    "collapsed": false,
    "ExecuteTime": {
     "end_time": "2023-11-09T15:38:08.418609800Z",
     "start_time": "2023-11-09T15:38:07.926616400Z"
    }
   },
   "id": "33ffa4dedd6c59f3"
  },
  {
   "cell_type": "code",
   "execution_count": 62,
   "outputs": [],
   "source": [
    "ratings_reviews_groupedby_loc_style = ratings_reviews_2010_2012.groupby(['location', 'style'])"
   ],
   "metadata": {
    "collapsed": false,
    "ExecuteTime": {
     "end_time": "2023-11-09T15:51:57.492845300Z",
     "start_time": "2023-11-09T15:51:57.417824200Z"
    }
   },
   "id": "a64f0f2702ece61c"
  },
  {
   "cell_type": "code",
   "execution_count": 63,
   "outputs": [],
   "source": [
    "location_style = ratings_reviews_groupedby_loc_style.size().reset_index(name = 'number')"
   ],
   "metadata": {
    "collapsed": false,
    "ExecuteTime": {
     "end_time": "2023-11-09T15:51:59.414212400Z",
     "start_time": "2023-11-09T15:51:59.081300600Z"
    }
   },
   "id": "d880cd0cb084b1d9"
  },
  {
   "cell_type": "code",
   "execution_count": 64,
   "outputs": [
    {
     "data": {
      "text/plain": "                  location  total_loc_number\n0                 Abkhazia                 2\n1              Afghanistan                 3\n2                  Albania                 1\n3                  Andorra                25\n4                Argentina                83\n..                     ...               ...\n164                Uruguay                81\n165              Venezuela              1156\n166                Vietnam                13\n167  Virgin Islands (U.S.)                 5\n168                  Wales               325\n\n[169 rows x 2 columns]",
      "text/html": "<div>\n<style scoped>\n    .dataframe tbody tr th:only-of-type {\n        vertical-align: middle;\n    }\n\n    .dataframe tbody tr th {\n        vertical-align: top;\n    }\n\n    .dataframe thead th {\n        text-align: right;\n    }\n</style>\n<table border=\"1\" class=\"dataframe\">\n  <thead>\n    <tr style=\"text-align: right;\">\n      <th></th>\n      <th>location</th>\n      <th>total_loc_number</th>\n    </tr>\n  </thead>\n  <tbody>\n    <tr>\n      <th>0</th>\n      <td>Abkhazia</td>\n      <td>2</td>\n    </tr>\n    <tr>\n      <th>1</th>\n      <td>Afghanistan</td>\n      <td>3</td>\n    </tr>\n    <tr>\n      <th>2</th>\n      <td>Albania</td>\n      <td>1</td>\n    </tr>\n    <tr>\n      <th>3</th>\n      <td>Andorra</td>\n      <td>25</td>\n    </tr>\n    <tr>\n      <th>4</th>\n      <td>Argentina</td>\n      <td>83</td>\n    </tr>\n    <tr>\n      <th>...</th>\n      <td>...</td>\n      <td>...</td>\n    </tr>\n    <tr>\n      <th>164</th>\n      <td>Uruguay</td>\n      <td>81</td>\n    </tr>\n    <tr>\n      <th>165</th>\n      <td>Venezuela</td>\n      <td>1156</td>\n    </tr>\n    <tr>\n      <th>166</th>\n      <td>Vietnam</td>\n      <td>13</td>\n    </tr>\n    <tr>\n      <th>167</th>\n      <td>Virgin Islands (U.S.)</td>\n      <td>5</td>\n    </tr>\n    <tr>\n      <th>168</th>\n      <td>Wales</td>\n      <td>325</td>\n    </tr>\n  </tbody>\n</table>\n<p>169 rows × 2 columns</p>\n</div>"
     },
     "execution_count": 64,
     "metadata": {},
     "output_type": "execute_result"
    }
   ],
   "source": [
    "ratings_reviews_groupedby_loc = ratings_reviews_2010_2012.groupby('location').size().reset_index(name = 'total_loc_number')\n",
    "ratings_reviews_groupedby_loc"
   ],
   "metadata": {
    "collapsed": false,
    "ExecuteTime": {
     "end_time": "2023-11-09T15:52:01.759318900Z",
     "start_time": "2023-11-09T15:52:01.602572900Z"
    }
   },
   "id": "b41b9253d1dd0a72"
  },
  {
   "cell_type": "code",
   "execution_count": 65,
   "outputs": [],
   "source": [
    "location_style = pd.merge(location_style, ratings_reviews_groupedby_loc, on = 'location', how = 'inner')"
   ],
   "metadata": {
    "collapsed": false,
    "ExecuteTime": {
     "end_time": "2023-11-09T15:52:05.412729400Z",
     "start_time": "2023-11-09T15:52:05.319257800Z"
    }
   },
   "id": "1bd0bb93335e182e"
  },
  {
   "cell_type": "code",
   "execution_count": 67,
   "outputs": [],
   "source": [
    "location_style['popularity_percentage'] = 100* (location_style['number'] / location_style['total_loc_number'])"
   ],
   "metadata": {
    "collapsed": false,
    "ExecuteTime": {
     "end_time": "2023-11-09T15:53:21.902617600Z",
     "start_time": "2023-11-09T15:53:21.822909600Z"
    }
   },
   "id": "214654dd204f295e"
  },
  {
   "cell_type": "code",
   "execution_count": 68,
   "outputs": [
    {
     "data": {
      "text/plain": "         location                    style  number  total_loc_number  \\\n0        Abkhazia        German Hefeweizen       1                 2   \n1        Abkhazia  Zwickel/Keller/Landbier       1                 2   \n2     Afghanistan              Barley Wine       1                 3   \n3     Afghanistan       Belgian Strong Ale       1                 3   \n4     Afghanistan           Imperial Stout       1                 3   \n...           ...                      ...     ...               ...   \n8264        Wales     Spice/Herb/Vegetable       3               325   \n8265        Wales                    Stout      15               325   \n8266        Wales                Wheat Ale       2               325   \n8267        Wales                  Witbier       7               325   \n8268        Wales  Zwickel/Keller/Landbier       1               325   \n\n      popularity_percentage  \n0                 50.000000  \n1                 50.000000  \n2                 33.333333  \n3                 33.333333  \n4                 33.333333  \n...                     ...  \n8264               0.923077  \n8265               4.615385  \n8266               0.615385  \n8267               2.153846  \n8268               0.307692  \n\n[8269 rows x 5 columns]",
      "text/html": "<div>\n<style scoped>\n    .dataframe tbody tr th:only-of-type {\n        vertical-align: middle;\n    }\n\n    .dataframe tbody tr th {\n        vertical-align: top;\n    }\n\n    .dataframe thead th {\n        text-align: right;\n    }\n</style>\n<table border=\"1\" class=\"dataframe\">\n  <thead>\n    <tr style=\"text-align: right;\">\n      <th></th>\n      <th>location</th>\n      <th>style</th>\n      <th>number</th>\n      <th>total_loc_number</th>\n      <th>popularity_percentage</th>\n    </tr>\n  </thead>\n  <tbody>\n    <tr>\n      <th>0</th>\n      <td>Abkhazia</td>\n      <td>German Hefeweizen</td>\n      <td>1</td>\n      <td>2</td>\n      <td>50.000000</td>\n    </tr>\n    <tr>\n      <th>1</th>\n      <td>Abkhazia</td>\n      <td>Zwickel/Keller/Landbier</td>\n      <td>1</td>\n      <td>2</td>\n      <td>50.000000</td>\n    </tr>\n    <tr>\n      <th>2</th>\n      <td>Afghanistan</td>\n      <td>Barley Wine</td>\n      <td>1</td>\n      <td>3</td>\n      <td>33.333333</td>\n    </tr>\n    <tr>\n      <th>3</th>\n      <td>Afghanistan</td>\n      <td>Belgian Strong Ale</td>\n      <td>1</td>\n      <td>3</td>\n      <td>33.333333</td>\n    </tr>\n    <tr>\n      <th>4</th>\n      <td>Afghanistan</td>\n      <td>Imperial Stout</td>\n      <td>1</td>\n      <td>3</td>\n      <td>33.333333</td>\n    </tr>\n    <tr>\n      <th>...</th>\n      <td>...</td>\n      <td>...</td>\n      <td>...</td>\n      <td>...</td>\n      <td>...</td>\n    </tr>\n    <tr>\n      <th>8264</th>\n      <td>Wales</td>\n      <td>Spice/Herb/Vegetable</td>\n      <td>3</td>\n      <td>325</td>\n      <td>0.923077</td>\n    </tr>\n    <tr>\n      <th>8265</th>\n      <td>Wales</td>\n      <td>Stout</td>\n      <td>15</td>\n      <td>325</td>\n      <td>4.615385</td>\n    </tr>\n    <tr>\n      <th>8266</th>\n      <td>Wales</td>\n      <td>Wheat Ale</td>\n      <td>2</td>\n      <td>325</td>\n      <td>0.615385</td>\n    </tr>\n    <tr>\n      <th>8267</th>\n      <td>Wales</td>\n      <td>Witbier</td>\n      <td>7</td>\n      <td>325</td>\n      <td>2.153846</td>\n    </tr>\n    <tr>\n      <th>8268</th>\n      <td>Wales</td>\n      <td>Zwickel/Keller/Landbier</td>\n      <td>1</td>\n      <td>325</td>\n      <td>0.307692</td>\n    </tr>\n  </tbody>\n</table>\n<p>8269 rows × 5 columns</p>\n</div>"
     },
     "execution_count": 68,
     "metadata": {},
     "output_type": "execute_result"
    }
   ],
   "source": [
    "location_style"
   ],
   "metadata": {
    "collapsed": false,
    "ExecuteTime": {
     "end_time": "2023-11-09T15:53:26.444323100Z",
     "start_time": "2023-11-09T15:53:26.351888400Z"
    }
   },
   "id": "a61fd9088ca5b451"
  },
  {
   "cell_type": "code",
   "execution_count": 72,
   "outputs": [
    {
     "data": {
      "text/plain": "<Figure size 640x480 with 1 Axes>",
      "image/png": "[encoded data removed]"
     },
     "metadata": {},
     "output_type": "display_data"
    }
   ],
   "source": [
    "plt.hist(location_style['total_loc_number'].unique(), 50)\n",
    "plt.yscale('log')"
   ],
   "metadata": {
    "collapsed": false,
    "ExecuteTime": {
     "end_time": "2023-11-09T15:59:31.231680500Z",
     "start_time": "2023-11-09T15:59:30.814840800Z"
    }
   },
   "id": "e85d56077232d348"
  },
  {
   "cell_type": "code",
   "execution_count": 77,
   "outputs": [],
   "source": [
    "loc_num_filt = location_style['total_loc_number'] >= 5000\n",
    "location_style_filtered = location_style.loc[loc_num_filt]"
   ],
   "metadata": {
    "collapsed": false,
    "ExecuteTime": {
     "end_time": "2023-11-09T16:02:52.818664Z",
     "start_time": "2023-11-09T16:02:52.755278300Z"
    }
   },
   "id": "bc8b11ff487610be"
  },
  {
   "cell_type": "code",
   "execution_count": 80,
   "outputs": [
    {
     "data": {
      "text/plain": "array(['Australia', 'Belgium', 'Canada', 'Denmark', 'England', 'Estonia',\n       'Finland', 'Germany', 'Hungary', 'Italy', 'Japan', 'Netherlands',\n       'New Zealand', 'Norway', 'Poland', 'Scotland', 'Spain', 'Sweden',\n       'Switzerland', 'United States, Arizona',\n       'United States, California', 'United States, Colorado',\n       'United States, Connecticut', 'United States, Florida',\n       'United States, Georgia', 'United States, Idaho',\n       'United States, Illinois', 'United States, Indiana',\n       'United States, Iowa', 'United States, Kentucky',\n       'United States, Maryland', 'United States, Massachusetts',\n       'United States, Michigan', 'United States, Minnesota',\n       'United States, Missouri', 'United States, New Hampshire',\n       'United States, New Jersey', 'United States, New York',\n       'United States, North Carolina', 'United States, Ohio',\n       'United States, Oregon', 'United States, Pennsylvania',\n       'United States, Tennessee', 'United States, Texas',\n       'United States, Virginia', 'United States, Washington',\n       'United States, Wisconsin'], dtype=object)"
     },
     "execution_count": 80,
     "metadata": {},
     "output_type": "execute_result"
    }
   ],
   "source": [
    "location_style_filtered['location'].unique()"
   ],
   "metadata": {
    "collapsed": false,
    "ExecuteTime": {
     "end_time": "2023-11-09T16:03:41.770622700Z",
     "start_time": "2023-11-09T16:03:41.693017100Z"
    }
   },
   "id": "7babd5acd97a6e3a"
  }
 ],
 "metadata": {
  "kernelspec": {
   "display_name": "Python 3",
   "language": "python",
   "name": "python3"
  },
  "language_info": {
   "codemirror_mode": {
    "name": "ipython",
    "version": 2
   },
   "file_extension": ".py",
   "mimetype": "text/x-python",
   "name": "python",
   "nbconvert_exporter": "python",
   "pygments_lexer": "ipython2",
   "version": "2.7.6"
  }
 },
 "nbformat": 4,
 "nbformat_minor": 5
}
