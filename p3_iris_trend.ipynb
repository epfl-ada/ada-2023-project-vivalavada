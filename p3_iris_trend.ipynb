{
 "cells": [
  {
   "cell_type": "code",
   "execution_count": null,
   "metadata": {},
   "outputs": [],
   "source": [
    "import pandas as pd\n",
    "import numpy as np\n",
    "from helpers import *\n",
    "import seaborn as sns\n",
    "import matplotlib.pyplot as plt\n",
    "%matplotlib inline\n",
    "from matplotlib.ticker import MaxNLocator\n",
    "from geopy.geocoders import Nominatim\n",
    "import folium\n",
    "from folium.plugins import HeatMap\n",
    "from IPython.display import display\n",
    "from geopy.distance import geodesic\n",
    "import math\n",
    "from statsmodels.stats import diagnostic\n",
    "from scipy import stats\n",
    "import statsmodels.api as sm\n",
    "import statsmodels.formula.api as smf\n",
    "%load_ext autoreload\n",
    "%autoreload 2"
   ]
  },
  {
   "cell_type": "code",
   "execution_count": null,
   "metadata": {},
   "outputs": [],
   "source": [
    "ratings = pd.read_csv('dataset/FilteredData/ratings.csv')\n",
    "users = pd.read_csv('dataset/FilteredData/users.csv')"
   ]
  },
  {
   "cell_type": "code",
   "execution_count": null,
   "metadata": {},
   "outputs": [],
   "source": [
    "#Changed this helper function to get the difference with global mean (ratings and percentage)\n",
    "\n",
    "def location_style_stats(ratings, users, year):\n",
    "    year_filter = ratings['year'] == year\n",
    "    ratings = ratings.loc[year_filter]\n",
    "    \n",
    "    ratings = pd.merge(ratings, users[['user_id', 'nbr_ratings', 'location']], on='user_id', how='inner')\n",
    "\n",
    "    ratings_groupedby_loc_style = ratings.groupby(['location', 'style'])\n",
    "    ratings_style = ratings.groupby(\"style\")\n",
    "    total_nb = len(ratings)\n",
    "    \n",
    "    location_style = ratings_groupedby_loc_style.size().reset_index(name='number')\n",
    "    ratings_groupedby_loc = ratings.groupby('location')\n",
    "    ratings_loc = ratings_groupedby_loc.size().reset_index(name='total_loc_number')\n",
    "\n",
    "    #Get the counts for each style globally\n",
    "    \n",
    "    style_counts = ratings['style'].value_counts()\n",
    "    global_style = pd.DataFrame({'style': style_counts.index, 'total_number': style_counts.values})\n",
    "    print(global_style)\n",
    "    global_style['percentage'] = 100* (global_style['total_number'] / total_nb)\n",
    "    print(global_style)\n",
    "    ratings_loc['location_mean'] = ratings_groupedby_loc['rating'].mean().reset_index(name='location_mean')[\n",
    "        'location_mean']\n",
    "    ratings_loc['location_std'] = ratings_groupedby_loc['rating'].std().reset_index(name='location_std')[\n",
    "        'location_std']\n",
    "    ratings_loc['location_std'] = ratings_loc['location_std'].fillna(1)\n",
    "    \n",
    "    ratings_global = pd.DataFrame()\n",
    "    ratings_global['global_mean'] = ratings_style['rating'].mean()\n",
    "    ratings_global = ratings_global.reset_index()\n",
    "   \n",
    "    \n",
    "    ratings_loc['normalized_rating'] = ratings.apply(lambda row: abs(row['rating'] - ratings_global.loc[(ratings_global['style'] == row['style'])]['global_mean'].values[0]), axis = 1)\n",
    "    \n",
    "    location_style = pd.merge(location_style, ratings_loc, on='location', how='inner')\n",
    "\n",
    "    location_style['popularity_percentage'] = 100 * (location_style['number'] / location_style['total_loc_number'])\n",
    "\n",
    "    print(ratings_global)\n",
    "    location_style['difference_percentage'] = location_style.apply(lambda row: abs(row['popularity_percentage'] - global_style.loc[(global_style['style'] == row['style'])]['percentage'].values[0]), axis = 1)\n",
    "    \n",
    "    location_style['mean_rating'] = ratings_groupedby_loc_style['rating'].mean().reset_index(name='mean_rating')['mean_rating']\n",
    "    location_style = location_style[\n",
    "        ['location', 'style', 'number', 'total_loc_number', 'popularity_percentage', 'mean_rating', 'location_mean',\n",
    "         'location_std', 'difference_percentage', 'normalized_rating']]\n",
    "    location_style['z_score'] = (location_style['mean_rating'] - location_style['location_mean']) / location_style[\n",
    "        'location_std']\n",
    "    #location_style = location_style[location_style['number'] >= loc_style_threshold]\n",
    "\n",
    "    return location_style"
   ]
  },
  {
   "cell_type": "code",
   "execution_count": null,
   "metadata": {},
   "outputs": [],
   "source": [
    "loc = location_style_stats(ratings, users, 2011)"
   ]
  },
  {
   "cell_type": "code",
   "execution_count": null,
   "metadata": {},
   "outputs": [],
   "source": [
    "years = np.arange(2006, 2018)\n",
    "print(years)\n",
    "style_popularities_by_year = pd.DataFrame()\n",
    "for year in years:\n",
    "    print(year)\n",
    "    location_style = location_style_stats(ratings.copy(), users.copy(), year)\n",
    "    location_style_groupedby_loc = location_style.groupby('location')\n",
    "    idx_most_popular = location_style_groupedby_loc['difference_percentage'].idxmax()\n",
    "    most_popular_styles_by_location = location_style.loc[idx_most_popular]\n",
    "    most_popular_styles_by_location = most_popular_styles_by_location[['location', 'style']]\n",
    "    most_popular_styles_by_location.set_index('location', inplace = True)\n",
    "    most_popular_styles_by_location = most_popular_styles_by_location.rename(columns = {'style': str(year)})\n",
    "    style_popularities_by_year = pd.concat([style_popularities_by_year, most_popular_styles_by_location], axis = 1)\n",
    "\n"
   ]
  }
 ],
 "metadata": {
  "language_info": {
   "name": "python"
  }
 },
 "nbformat": 4,
 "nbformat_minor": 2
}
